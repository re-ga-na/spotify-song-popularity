{
 "cells": [
  {
   "cell_type": "code",
   "execution_count": 11,
   "metadata": {},
   "outputs": [
    {
     "name": "stderr",
     "output_type": "stream",
     "text": [
      "C:\\Users\\Irisi\\Anaconda3\\lib\\site-packages\\ipykernel_launcher.py:4: ParserWarning: Falling back to the 'python' engine because the 'c' engine does not support regex separators (separators > 1 char and different from '\\s+' are interpreted as regex); you can avoid this warning by specifying engine='python'.\n",
      "  after removing the cwd from sys.path.\n"
     ]
    }
   ],
   "source": [
    "import pandas as pd\n",
    "import requests\n",
    "\n",
    "df = pd.read_csv(\"subset_unique_tracks.txt\",delimiter='<SEP>')\n",
    "df.to_csv('Demo1.csv')"
   ]
  },
  {
   "cell_type": "code",
   "execution_count": 12,
   "metadata": {},
   "outputs": [
    {
     "data": {
      "text/plain": [
       "Index(['Id', 'id2', 'ArtistName', 'SongTitle'], dtype='object')"
      ]
     },
     "execution_count": 12,
     "metadata": {},
     "output_type": "execute_result"
    }
   ],
   "source": [
    "df.columns"
   ]
  },
  {
   "cell_type": "code",
   "execution_count": 13,
   "metadata": {},
   "outputs": [
    {
     "data": {
      "text/html": [
       "<div>\n",
       "<style scoped>\n",
       "    .dataframe tbody tr th:only-of-type {\n",
       "        vertical-align: middle;\n",
       "    }\n",
       "\n",
       "    .dataframe tbody tr th {\n",
       "        vertical-align: top;\n",
       "    }\n",
       "\n",
       "    .dataframe thead th {\n",
       "        text-align: right;\n",
       "    }\n",
       "</style>\n",
       "<table border=\"1\" class=\"dataframe\">\n",
       "  <thead>\n",
       "    <tr style=\"text-align: right;\">\n",
       "      <th></th>\n",
       "      <th>ArtistName</th>\n",
       "      <th>SongTitle</th>\n",
       "    </tr>\n",
       "  </thead>\n",
       "  <tbody>\n",
       "    <tr>\n",
       "      <td>0</td>\n",
       "      <td>Casual</td>\n",
       "      <td>I Didn't Mean To</td>\n",
       "    </tr>\n",
       "    <tr>\n",
       "      <td>1</td>\n",
       "      <td>The Box Tops</td>\n",
       "      <td>Soul Deep</td>\n",
       "    </tr>\n",
       "    <tr>\n",
       "      <td>2</td>\n",
       "      <td>Sonora Santanera</td>\n",
       "      <td>Amor De Cabaret</td>\n",
       "    </tr>\n",
       "    <tr>\n",
       "      <td>3</td>\n",
       "      <td>Adam Ant</td>\n",
       "      <td>Something Girls</td>\n",
       "    </tr>\n",
       "    <tr>\n",
       "      <td>4</td>\n",
       "      <td>Gob</td>\n",
       "      <td>Face the Ashes</td>\n",
       "    </tr>\n",
       "    <tr>\n",
       "      <td>...</td>\n",
       "      <td>...</td>\n",
       "      <td>...</td>\n",
       "    </tr>\n",
       "    <tr>\n",
       "      <td>9995</td>\n",
       "      <td>Moonspell</td>\n",
       "      <td>The Hanged Man</td>\n",
       "    </tr>\n",
       "    <tr>\n",
       "      <td>9996</td>\n",
       "      <td>Danny Williams</td>\n",
       "      <td>The Wonderful World Of The Young</td>\n",
       "    </tr>\n",
       "    <tr>\n",
       "      <td>9997</td>\n",
       "      <td>Winston Reedy</td>\n",
       "      <td>Sentimental Man</td>\n",
       "    </tr>\n",
       "    <tr>\n",
       "      <td>9998</td>\n",
       "      <td>Myrick \"Freeze\" Guillory</td>\n",
       "      <td>Zydeco In D-Minor</td>\n",
       "    </tr>\n",
       "    <tr>\n",
       "      <td>9999</td>\n",
       "      <td>Seventh Day Slumber</td>\n",
       "      <td>Shattered Life</td>\n",
       "    </tr>\n",
       "  </tbody>\n",
       "</table>\n",
       "<p>10000 rows × 2 columns</p>\n",
       "</div>"
      ],
      "text/plain": [
       "                    ArtistName                         SongTitle\n",
       "0                       Casual                  I Didn't Mean To\n",
       "1                 The Box Tops                         Soul Deep\n",
       "2             Sonora Santanera                   Amor De Cabaret\n",
       "3                     Adam Ant                   Something Girls\n",
       "4                          Gob                    Face the Ashes\n",
       "...                        ...                               ...\n",
       "9995                 Moonspell                    The Hanged Man\n",
       "9996            Danny Williams  The Wonderful World Of The Young\n",
       "9997             Winston Reedy                   Sentimental Man\n",
       "9998  Myrick \"Freeze\" Guillory                 Zydeco In D-Minor\n",
       "9999       Seventh Day Slumber                    Shattered Life\n",
       "\n",
       "[10000 rows x 2 columns]"
      ]
     },
     "execution_count": 13,
     "metadata": {},
     "output_type": "execute_result"
    }
   ],
   "source": [
    "df.drop(columns=['Id', 'id2'])\n"
   ]
  },
  {
   "cell_type": "code",
   "execution_count": null,
   "metadata": {},
   "outputs": [],
   "source": []
  },
  {
   "cell_type": "code",
   "execution_count": 15,
   "metadata": {},
   "outputs": [],
   "source": [
    "import sys\n",
    "from spotipy.oauth2 import SpotifyClientCredentials\n",
    "import spotipy\n",
    "import pprint\n",
    "\n",
    "#setting up link to spotify api w spotipy\n",
    "client_id = \"5028c957611248149d8c04007258f254\"\n",
    "client_secret = \"aa56a507cb944f488f8835062a94115c\"\n",
    "client_credentials_manager = SpotifyClientCredentials(client_id=client_id, client_secret=client_secret)\n",
    "sp = spotipy.Spotify(client_credentials_manager=client_credentials_manager)"
   ]
  },
  {
   "cell_type": "code",
   "execution_count": 16,
   "metadata": {},
   "outputs": [],
   "source": [
    "artistname=\"casual\"\n",
    "search_str = \"I Didn't Mean To\"\n",
    "\n",
    "#Search just by track name\n",
    "#result = sp.search(search_str,type=\"track\")\n",
    "#result"
   ]
  },
  {
   "cell_type": "code",
   "execution_count": 17,
   "metadata": {},
   "outputs": [
    {
     "data": {
      "text/plain": [
       "{'artists': {'href': 'https://api.spotify.com/v1/search?query=I+Didn%27t+Mean+To%3Acasual&type=artist&offset=0&limit=10',\n",
       "  'items': [],\n",
       "  'limit': 10,\n",
       "  'next': None,\n",
       "  'offset': 0,\n",
       "  'previous': None,\n",
       "  'total': 0},\n",
       " 'tracks': {'href': 'https://api.spotify.com/v1/search?query=I+Didn%27t+Mean+To%3Acasual&type=track&offset=0&limit=10',\n",
       "  'items': [{'album': {'album_type': 'album',\n",
       "     'artists': [{'external_urls': {'spotify': 'https://open.spotify.com/artist/4OpQJMrOpOEYgYoU0Ihku3'},\n",
       "       'href': 'https://api.spotify.com/v1/artists/4OpQJMrOpOEYgYoU0Ihku3',\n",
       "       'id': '4OpQJMrOpOEYgYoU0Ihku3',\n",
       "       'name': 'Casual',\n",
       "       'type': 'artist',\n",
       "       'uri': 'spotify:artist:4OpQJMrOpOEYgYoU0Ihku3'}],\n",
       "     'available_markets': ['AD',\n",
       "      'AE',\n",
       "      'AR',\n",
       "      'AT',\n",
       "      'AU',\n",
       "      'BE',\n",
       "      'BG',\n",
       "      'BH',\n",
       "      'BO',\n",
       "      'BR',\n",
       "      'CH',\n",
       "      'CL',\n",
       "      'CO',\n",
       "      'CR',\n",
       "      'CY',\n",
       "      'CZ',\n",
       "      'DE',\n",
       "      'DK',\n",
       "      'DO',\n",
       "      'DZ',\n",
       "      'EC',\n",
       "      'EE',\n",
       "      'EG',\n",
       "      'ES',\n",
       "      'FI',\n",
       "      'FR',\n",
       "      'GB',\n",
       "      'GR',\n",
       "      'GT',\n",
       "      'HK',\n",
       "      'HN',\n",
       "      'HU',\n",
       "      'ID',\n",
       "      'IE',\n",
       "      'IL',\n",
       "      'IN',\n",
       "      'IS',\n",
       "      'IT',\n",
       "      'JO',\n",
       "      'JP',\n",
       "      'KW',\n",
       "      'LB',\n",
       "      'LI',\n",
       "      'LT',\n",
       "      'LU',\n",
       "      'LV',\n",
       "      'MA',\n",
       "      'MC',\n",
       "      'MT',\n",
       "      'MX',\n",
       "      'MY',\n",
       "      'NI',\n",
       "      'NL',\n",
       "      'NO',\n",
       "      'NZ',\n",
       "      'OM',\n",
       "      'PA',\n",
       "      'PE',\n",
       "      'PH',\n",
       "      'PL',\n",
       "      'PS',\n",
       "      'PT',\n",
       "      'PY',\n",
       "      'QA',\n",
       "      'RO',\n",
       "      'SA',\n",
       "      'SE',\n",
       "      'SG',\n",
       "      'SK',\n",
       "      'SV',\n",
       "      'TH',\n",
       "      'TN',\n",
       "      'TR',\n",
       "      'TW',\n",
       "      'US',\n",
       "      'UY',\n",
       "      'VN',\n",
       "      'ZA'],\n",
       "     'external_urls': {'spotify': 'https://open.spotify.com/album/08h9ZxS1TeDpGk6Zbg2m0l'},\n",
       "     'href': 'https://api.spotify.com/v1/albums/08h9ZxS1TeDpGk6Zbg2m0l',\n",
       "     'id': '08h9ZxS1TeDpGk6Zbg2m0l',\n",
       "     'images': [{'height': 640,\n",
       "       'url': 'https://i.scdn.co/image/ab67616d0000b273e7679b4cf78e01642bd08758',\n",
       "       'width': 640},\n",
       "      {'height': 300,\n",
       "       'url': 'https://i.scdn.co/image/ab67616d00001e02e7679b4cf78e01642bd08758',\n",
       "       'width': 300},\n",
       "      {'height': 64,\n",
       "       'url': 'https://i.scdn.co/image/ab67616d00004851e7679b4cf78e01642bd08758',\n",
       "       'width': 64}],\n",
       "     'name': 'Fear Itself',\n",
       "     'release_date': '1994-07-08',\n",
       "     'release_date_precision': 'day',\n",
       "     'total_tracks': 16,\n",
       "     'type': 'album',\n",
       "     'uri': 'spotify:album:08h9ZxS1TeDpGk6Zbg2m0l'},\n",
       "    'artists': [{'external_urls': {'spotify': 'https://open.spotify.com/artist/4OpQJMrOpOEYgYoU0Ihku3'},\n",
       "      'href': 'https://api.spotify.com/v1/artists/4OpQJMrOpOEYgYoU0Ihku3',\n",
       "      'id': '4OpQJMrOpOEYgYoU0Ihku3',\n",
       "      'name': 'Casual',\n",
       "      'type': 'artist',\n",
       "      'uri': 'spotify:artist:4OpQJMrOpOEYgYoU0Ihku3'}],\n",
       "    'available_markets': ['AD',\n",
       "     'AE',\n",
       "     'AR',\n",
       "     'AT',\n",
       "     'AU',\n",
       "     'BE',\n",
       "     'BG',\n",
       "     'BH',\n",
       "     'BO',\n",
       "     'BR',\n",
       "     'CH',\n",
       "     'CL',\n",
       "     'CO',\n",
       "     'CR',\n",
       "     'CY',\n",
       "     'CZ',\n",
       "     'DE',\n",
       "     'DK',\n",
       "     'DO',\n",
       "     'DZ',\n",
       "     'EC',\n",
       "     'EE',\n",
       "     'EG',\n",
       "     'ES',\n",
       "     'FI',\n",
       "     'FR',\n",
       "     'GB',\n",
       "     'GR',\n",
       "     'GT',\n",
       "     'HK',\n",
       "     'HN',\n",
       "     'HU',\n",
       "     'ID',\n",
       "     'IE',\n",
       "     'IL',\n",
       "     'IN',\n",
       "     'IS',\n",
       "     'IT',\n",
       "     'JO',\n",
       "     'JP',\n",
       "     'KW',\n",
       "     'LB',\n",
       "     'LI',\n",
       "     'LT',\n",
       "     'LU',\n",
       "     'LV',\n",
       "     'MA',\n",
       "     'MC',\n",
       "     'MT',\n",
       "     'MX',\n",
       "     'MY',\n",
       "     'NI',\n",
       "     'NL',\n",
       "     'NO',\n",
       "     'NZ',\n",
       "     'OM',\n",
       "     'PA',\n",
       "     'PE',\n",
       "     'PH',\n",
       "     'PL',\n",
       "     'PS',\n",
       "     'PT',\n",
       "     'PY',\n",
       "     'QA',\n",
       "     'RO',\n",
       "     'SA',\n",
       "     'SE',\n",
       "     'SG',\n",
       "     'SK',\n",
       "     'SV',\n",
       "     'TH',\n",
       "     'TN',\n",
       "     'TR',\n",
       "     'TW',\n",
       "     'US',\n",
       "     'UY',\n",
       "     'VN',\n",
       "     'ZA'],\n",
       "    'disc_number': 1,\n",
       "    'duration_ms': 218933,\n",
       "    'explicit': True,\n",
       "    'external_ids': {'isrc': 'USJI10300668'},\n",
       "    'external_urls': {'spotify': 'https://open.spotify.com/track/01TR6aAKrA2cI3Z0gnCOsu'},\n",
       "    'href': 'https://api.spotify.com/v1/tracks/01TR6aAKrA2cI3Z0gnCOsu',\n",
       "    'id': '01TR6aAKrA2cI3Z0gnCOsu',\n",
       "    'is_local': False,\n",
       "    'name': \"I Didn't Mean To\",\n",
       "    'popularity': 21,\n",
       "    'preview_url': 'https://p.scdn.co/mp3-preview/410ed376e5ef600aaa8c886558f040d454765e21?cid=5028c957611248149d8c04007258f254',\n",
       "    'track_number': 9,\n",
       "    'type': 'track',\n",
       "    'uri': 'spotify:track:01TR6aAKrA2cI3Z0gnCOsu'}],\n",
       "  'limit': 10,\n",
       "  'next': None,\n",
       "  'offset': 0,\n",
       "  'previous': None,\n",
       "  'total': 1}}"
      ]
     },
     "execution_count": 17,
     "metadata": {},
     "output_type": "execute_result"
    }
   ],
   "source": [
    "#search by track name and artist name\n",
    "result= sp.search(search_str+\":\"+artistname,type=\"track,artist\")\n",
    "result"
   ]
  },
  {
   "cell_type": "code",
   "execution_count": 18,
   "metadata": {},
   "outputs": [
    {
     "data": {
      "text/plain": [
       "'01TR6aAKrA2cI3Z0gnCOsu'"
      ]
     },
     "execution_count": 18,
     "metadata": {},
     "output_type": "execute_result"
    }
   ],
   "source": [
    "#pulling out spotify song id\n",
    "spotifyid = result[\"tracks\"][\"items\"][0][\"id\"]\n",
    "spotifyid"
   ]
  },
  {
   "cell_type": "code",
   "execution_count": 19,
   "metadata": {},
   "outputs": [
    {
     "name": "stdout",
     "output_type": "stream",
     "text": [
      "[{'danceability': 0.751, 'energy': 0.549, 'key': 6, 'loudness': -10.508, 'mode': 0, 'speechiness': 0.429, 'acousticness': 0.063, 'instrumentalness': 2.47e-05, 'liveness': 0.106, 'valence': 0.553, 'tempo': 92.224, 'type': 'audio_features', 'id': '01TR6aAKrA2cI3Z0gnCOsu', 'uri': 'spotify:track:01TR6aAKrA2cI3Z0gnCOsu', 'track_href': 'https://api.spotify.com/v1/tracks/01TR6aAKrA2cI3Z0gnCOsu', 'analysis_url': 'https://api.spotify.com/v1/audio-analysis/01TR6aAKrA2cI3Z0gnCOsu', 'duration_ms': 218933, 'time_signature': 4}]\n"
     ]
    }
   ],
   "source": [
    "#testing that spotifyid prints out audio features\n",
    "print(sp.audio_features(\"01TR6aAKrA2cI3Z0gnCOsu\"))"
   ]
  },
  {
   "cell_type": "code",
   "execution_count": 20,
   "metadata": {},
   "outputs": [
    {
     "data": {
      "text/plain": [
       "21"
      ]
     },
     "execution_count": 20,
     "metadata": {},
     "output_type": "execute_result"
    }
   ],
   "source": [
    "#songs popularity score\n",
    "sp.track(\"01TR6aAKrA2cI3Z0gnCOsu\")[\"popularity\"]"
   ]
  },
  {
   "cell_type": "code",
   "execution_count": 28,
   "metadata": {},
   "outputs": [],
   "source": [
    "#next steps = make a loop to iterate through each row of the dataframe\n",
    "#save each song's id, audio features, and popularity score in a column\n",
    "#if desired, we can make the dataset bigger"
   ]
  }
 ],
 "metadata": {
  "kernelspec": {
   "display_name": "Python 3",
   "language": "python",
   "name": "python3"
  },
  "language_info": {
   "codemirror_mode": {
    "name": "ipython",
    "version": 3
   },
   "file_extension": ".py",
   "mimetype": "text/x-python",
   "name": "python",
   "nbconvert_exporter": "python",
   "pygments_lexer": "ipython3",
   "version": "3.7.4"
  }
 },
 "nbformat": 4,
 "nbformat_minor": 2
}
