{
 "cells": [
  {
   "cell_type": "code",
   "execution_count": 1,
   "metadata": {},
   "outputs": [],
   "source": [
    "import matplotlib.pyplot as plt\n",
    "import pandas as pd\n",
    "import numpy as np\n",
    "import seaborn as sns\n",
    "import time\n",
    "import seaborn as sns\n",
    "import numpy as np\n",
    "from scipy.stats import norm\n",
    "from sklearn.preprocessing import StandardScaler\n",
    "from scipy import stats\n",
    "import statsmodels.formula.api as sm\n",
    "import statsmodels.regression.linear_model as lm\n",
    "import sys\n",
    "sys.path.append('C:\\\\Users\\\\rcalde1\\\\Python_Columbia\\\\Final_project')\n",
    "import exp\n",
    "\n",
    "\n",
    "#to perform the train test split of the data, the train test split function is imported from sklearn\n",
    "from sklearn.model_selection import train_test_split\n",
    "#the given problem is a classificaton problem. Hence linear regression is used for ML algorithm\n",
    "from sklearn.linear_model import LinearRegression"
   ]
  },
  {
   "cell_type": "code",
   "execution_count": 2,
   "metadata": {},
   "outputs": [
    {
     "data": {
      "text/html": [
       "<div>\n",
       "<style scoped>\n",
       "    .dataframe tbody tr th:only-of-type {\n",
       "        vertical-align: middle;\n",
       "    }\n",
       "\n",
       "    .dataframe tbody tr th {\n",
       "        vertical-align: top;\n",
       "    }\n",
       "\n",
       "    .dataframe thead th {\n",
       "        text-align: right;\n",
       "    }\n",
       "</style>\n",
       "<table border=\"1\" class=\"dataframe\">\n",
       "  <thead>\n",
       "    <tr style=\"text-align: right;\">\n",
       "      <th></th>\n",
       "      <th>Artist</th>\n",
       "      <th>Track</th>\n",
       "      <th>popularity</th>\n",
       "      <th>acousticness</th>\n",
       "      <th>danceability</th>\n",
       "      <th>duration_ms</th>\n",
       "      <th>energy</th>\n",
       "      <th>instrumentalness</th>\n",
       "      <th>key</th>\n",
       "      <th>liveness</th>\n",
       "      <th>loudness</th>\n",
       "      <th>mode</th>\n",
       "      <th>speechiness</th>\n",
       "      <th>tempo</th>\n",
       "      <th>time_signature</th>\n",
       "      <th>valence</th>\n",
       "    </tr>\n",
       "  </thead>\n",
       "  <tbody>\n",
       "    <tr>\n",
       "      <th>0</th>\n",
       "      <td>casual</td>\n",
       "      <td>I Didn't Mean To</td>\n",
       "      <td>21</td>\n",
       "      <td>0.063</td>\n",
       "      <td>0.751</td>\n",
       "      <td>218933</td>\n",
       "      <td>0.549</td>\n",
       "      <td>0.000025</td>\n",
       "      <td>6</td>\n",
       "      <td>0.1060</td>\n",
       "      <td>-10.508</td>\n",
       "      <td>0</td>\n",
       "      <td>0.4290</td>\n",
       "      <td>92.224</td>\n",
       "      <td>4</td>\n",
       "      <td>0.553</td>\n",
       "    </tr>\n",
       "    <tr>\n",
       "      <th>1</th>\n",
       "      <td>Casual</td>\n",
       "      <td>I Didn't Mean To</td>\n",
       "      <td>21</td>\n",
       "      <td>0.063</td>\n",
       "      <td>0.751</td>\n",
       "      <td>218933</td>\n",
       "      <td>0.549</td>\n",
       "      <td>0.000025</td>\n",
       "      <td>6</td>\n",
       "      <td>0.1060</td>\n",
       "      <td>-10.508</td>\n",
       "      <td>0</td>\n",
       "      <td>0.4290</td>\n",
       "      <td>92.224</td>\n",
       "      <td>4</td>\n",
       "      <td>0.553</td>\n",
       "    </tr>\n",
       "    <tr>\n",
       "      <th>2</th>\n",
       "      <td>The Box Tops</td>\n",
       "      <td>Soul Deep</td>\n",
       "      <td>37</td>\n",
       "      <td>0.195</td>\n",
       "      <td>0.749</td>\n",
       "      <td>147760</td>\n",
       "      <td>0.530</td>\n",
       "      <td>0.000035</td>\n",
       "      <td>9</td>\n",
       "      <td>0.0748</td>\n",
       "      <td>-12.940</td>\n",
       "      <td>1</td>\n",
       "      <td>0.0326</td>\n",
       "      <td>121.395</td>\n",
       "      <td>4</td>\n",
       "      <td>0.966</td>\n",
       "    </tr>\n",
       "    <tr>\n",
       "      <th>3</th>\n",
       "      <td>Sonora Santanera</td>\n",
       "      <td>Amor De Cabaret</td>\n",
       "      <td>50</td>\n",
       "      <td>0.689</td>\n",
       "      <td>0.699</td>\n",
       "      <td>183027</td>\n",
       "      <td>0.519</td>\n",
       "      <td>0.000471</td>\n",
       "      <td>8</td>\n",
       "      <td>0.9350</td>\n",
       "      <td>-6.422</td>\n",
       "      <td>1</td>\n",
       "      <td>0.0290</td>\n",
       "      <td>102.463</td>\n",
       "      <td>4</td>\n",
       "      <td>0.676</td>\n",
       "    </tr>\n",
       "    <tr>\n",
       "      <th>4</th>\n",
       "      <td>Adam Ant</td>\n",
       "      <td>Something Girls</td>\n",
       "      <td>19</td>\n",
       "      <td>0.218</td>\n",
       "      <td>0.606</td>\n",
       "      <td>232107</td>\n",
       "      <td>0.937</td>\n",
       "      <td>0.005870</td>\n",
       "      <td>0</td>\n",
       "      <td>0.1630</td>\n",
       "      <td>-3.808</td>\n",
       "      <td>1</td>\n",
       "      <td>0.0443</td>\n",
       "      <td>120.135</td>\n",
       "      <td>4</td>\n",
       "      <td>0.853</td>\n",
       "    </tr>\n",
       "  </tbody>\n",
       "</table>\n",
       "</div>"
      ],
      "text/plain": [
       "             Artist             Track  popularity  acousticness  danceability  \\\n",
       "0            casual  I Didn't Mean To          21         0.063         0.751   \n",
       "1            Casual  I Didn't Mean To          21         0.063         0.751   \n",
       "2      The Box Tops         Soul Deep          37         0.195         0.749   \n",
       "3  Sonora Santanera   Amor De Cabaret          50         0.689         0.699   \n",
       "4          Adam Ant   Something Girls          19         0.218         0.606   \n",
       "\n",
       "   duration_ms  energy  instrumentalness  key  liveness  loudness  mode  \\\n",
       "0       218933   0.549          0.000025    6    0.1060   -10.508     0   \n",
       "1       218933   0.549          0.000025    6    0.1060   -10.508     0   \n",
       "2       147760   0.530          0.000035    9    0.0748   -12.940     1   \n",
       "3       183027   0.519          0.000471    8    0.9350    -6.422     1   \n",
       "4       232107   0.937          0.005870    0    0.1630    -3.808     1   \n",
       "\n",
       "   speechiness    tempo  time_signature  valence  \n",
       "0       0.4290   92.224               4    0.553  \n",
       "1       0.4290   92.224               4    0.553  \n",
       "2       0.0326  121.395               4    0.966  \n",
       "3       0.0290  102.463               4    0.676  \n",
       "4       0.0443  120.135               4    0.853  "
      ]
     },
     "execution_count": 2,
     "metadata": {},
     "output_type": "execute_result"
    }
   ],
   "source": [
    "file = \"dataset_10K.csv\"\n",
    "tds1 = pd.read_csv(file)\n",
    "tds1 = tds1[['Artist', 'Track','popularity','acousticness', 'danceability', 'duration_ms', 'energy',\n",
    "       'instrumentalness', 'key', 'liveness', 'loudness', 'mode',\n",
    "       'speechiness', 'tempo', 'time_signature', 'valence']]\n",
    "tds1.head()"
   ]
  },
  {
   "cell_type": "code",
   "execution_count": 3,
   "metadata": {},
   "outputs": [
    {
     "data": {
      "text/plain": [
       "(6850, 16)"
      ]
     },
     "execution_count": 3,
     "metadata": {},
     "output_type": "execute_result"
    }
   ],
   "source": [
    "#tds1 = tds1.head(5000)\n",
    "tds1.shape"
   ]
  },
  {
   "cell_type": "markdown",
   "metadata": {},
   "source": [
    "# Linear Regression"
   ]
  },
  {
   "cell_type": "markdown",
   "metadata": {},
   "source": [
    "## Define Datasets "
   ]
  },
  {
   "cell_type": "code",
   "execution_count": 4,
   "metadata": {},
   "outputs": [
    {
     "data": {
      "text/html": [
       "<div>\n",
       "<style scoped>\n",
       "    .dataframe tbody tr th:only-of-type {\n",
       "        vertical-align: middle;\n",
       "    }\n",
       "\n",
       "    .dataframe tbody tr th {\n",
       "        vertical-align: top;\n",
       "    }\n",
       "\n",
       "    .dataframe thead th {\n",
       "        text-align: right;\n",
       "    }\n",
       "</style>\n",
       "<table border=\"1\" class=\"dataframe\">\n",
       "  <thead>\n",
       "    <tr style=\"text-align: right;\">\n",
       "      <th></th>\n",
       "      <th>acousticness</th>\n",
       "      <th>danceability</th>\n",
       "      <th>duration_ms</th>\n",
       "      <th>energy</th>\n",
       "      <th>instrumentalness</th>\n",
       "      <th>key</th>\n",
       "      <th>liveness</th>\n",
       "      <th>loudness</th>\n",
       "      <th>mode</th>\n",
       "      <th>speechiness</th>\n",
       "      <th>tempo</th>\n",
       "      <th>time_signature</th>\n",
       "      <th>valence</th>\n",
       "    </tr>\n",
       "  </thead>\n",
       "  <tbody>\n",
       "    <tr>\n",
       "      <th>0</th>\n",
       "      <td>0.063</td>\n",
       "      <td>0.751</td>\n",
       "      <td>218933</td>\n",
       "      <td>0.549</td>\n",
       "      <td>0.000025</td>\n",
       "      <td>6</td>\n",
       "      <td>0.1060</td>\n",
       "      <td>-10.508</td>\n",
       "      <td>0</td>\n",
       "      <td>0.4290</td>\n",
       "      <td>92.224</td>\n",
       "      <td>4</td>\n",
       "      <td>0.553</td>\n",
       "    </tr>\n",
       "    <tr>\n",
       "      <th>1</th>\n",
       "      <td>0.063</td>\n",
       "      <td>0.751</td>\n",
       "      <td>218933</td>\n",
       "      <td>0.549</td>\n",
       "      <td>0.000025</td>\n",
       "      <td>6</td>\n",
       "      <td>0.1060</td>\n",
       "      <td>-10.508</td>\n",
       "      <td>0</td>\n",
       "      <td>0.4290</td>\n",
       "      <td>92.224</td>\n",
       "      <td>4</td>\n",
       "      <td>0.553</td>\n",
       "    </tr>\n",
       "    <tr>\n",
       "      <th>2</th>\n",
       "      <td>0.195</td>\n",
       "      <td>0.749</td>\n",
       "      <td>147760</td>\n",
       "      <td>0.530</td>\n",
       "      <td>0.000035</td>\n",
       "      <td>9</td>\n",
       "      <td>0.0748</td>\n",
       "      <td>-12.940</td>\n",
       "      <td>1</td>\n",
       "      <td>0.0326</td>\n",
       "      <td>121.395</td>\n",
       "      <td>4</td>\n",
       "      <td>0.966</td>\n",
       "    </tr>\n",
       "    <tr>\n",
       "      <th>3</th>\n",
       "      <td>0.689</td>\n",
       "      <td>0.699</td>\n",
       "      <td>183027</td>\n",
       "      <td>0.519</td>\n",
       "      <td>0.000471</td>\n",
       "      <td>8</td>\n",
       "      <td>0.9350</td>\n",
       "      <td>-6.422</td>\n",
       "      <td>1</td>\n",
       "      <td>0.0290</td>\n",
       "      <td>102.463</td>\n",
       "      <td>4</td>\n",
       "      <td>0.676</td>\n",
       "    </tr>\n",
       "    <tr>\n",
       "      <th>4</th>\n",
       "      <td>0.218</td>\n",
       "      <td>0.606</td>\n",
       "      <td>232107</td>\n",
       "      <td>0.937</td>\n",
       "      <td>0.005870</td>\n",
       "      <td>0</td>\n",
       "      <td>0.1630</td>\n",
       "      <td>-3.808</td>\n",
       "      <td>1</td>\n",
       "      <td>0.0443</td>\n",
       "      <td>120.135</td>\n",
       "      <td>4</td>\n",
       "      <td>0.853</td>\n",
       "    </tr>\n",
       "  </tbody>\n",
       "</table>\n",
       "</div>"
      ],
      "text/plain": [
       "   acousticness  danceability  duration_ms  energy  instrumentalness  key  \\\n",
       "0         0.063         0.751       218933   0.549          0.000025    6   \n",
       "1         0.063         0.751       218933   0.549          0.000025    6   \n",
       "2         0.195         0.749       147760   0.530          0.000035    9   \n",
       "3         0.689         0.699       183027   0.519          0.000471    8   \n",
       "4         0.218         0.606       232107   0.937          0.005870    0   \n",
       "\n",
       "   liveness  loudness  mode  speechiness    tempo  time_signature  valence  \n",
       "0    0.1060   -10.508     0       0.4290   92.224               4    0.553  \n",
       "1    0.1060   -10.508     0       0.4290   92.224               4    0.553  \n",
       "2    0.0748   -12.940     1       0.0326  121.395               4    0.966  \n",
       "3    0.9350    -6.422     1       0.0290  102.463               4    0.676  \n",
       "4    0.1630    -3.808     1       0.0443  120.135               4    0.853  "
      ]
     },
     "execution_count": 4,
     "metadata": {},
     "output_type": "execute_result"
    }
   ],
   "source": [
    "#Combined Dataset\n",
    "dfcombine = tds1\n",
    "#dfcombine = dfcombine.reset_index(inplace=True, drop=True)\n",
    "\n",
    "#Target Dataset\n",
    "dfy = pd.DataFrame(tds1[\"popularity\"])\n",
    "\n",
    "#all the independant variables/predictors are named as dfx\n",
    "dfx = dfcombine.drop(columns=['Artist', 'Track','popularity'])\n",
    "dfx.head()"
   ]
  },
  {
   "cell_type": "code",
   "execution_count": 5,
   "metadata": {},
   "outputs": [
    {
     "data": {
      "text/plain": [
       "(6850, 1)"
      ]
     },
     "execution_count": 5,
     "metadata": {},
     "output_type": "execute_result"
    }
   ],
   "source": [
    "dfy.shape"
   ]
  },
  {
   "cell_type": "markdown",
   "metadata": {},
   "source": [
    "## Train Set  - Linear Regression "
   ]
  },
  {
   "cell_type": "code",
   "execution_count": 6,
   "metadata": {},
   "outputs": [
    {
     "data": {
      "text/plain": [
       "(6850, 1)"
      ]
     },
     "execution_count": 6,
     "metadata": {},
     "output_type": "execute_result"
    }
   ],
   "source": [
    "dfx.reset_index(inplace=True, drop=True)\n",
    "dfy.reset_index(inplace=True, drop=True)\n",
    "dfy.shape"
   ]
  },
  {
   "cell_type": "code",
   "execution_count": 6,
   "metadata": {},
   "outputs": [],
   "source": [
    "#Copy the code from Brooklyn 4.0 to set up the model as far as possible...."
   ]
  },
  {
   "cell_type": "code",
   "execution_count": 7,
   "metadata": {},
   "outputs": [],
   "source": [
    "#to perform the train test split of the data, the train test split function is imported from sklearn\n",
    "from sklearn.model_selection import train_test_split\n",
    "#the percentage of the split is taken as 30%. SO the percentage of training is 70%\n",
    "X_train, X_test, y_train, y_test = train_test_split(dfx, dfy, test_size=0.3, random_state=42)"
   ]
  },
  {
   "cell_type": "code",
   "execution_count": null,
   "metadata": {},
   "outputs": [],
   "source": []
  },
  {
   "cell_type": "code",
   "execution_count": 22,
   "metadata": {},
   "outputs": [
    {
     "data": {
      "text/plain": [
       "LinearRegression(copy_X=True, fit_intercept=True, n_jobs=None, normalize=False)"
      ]
     },
     "execution_count": 22,
     "metadata": {},
     "output_type": "execute_result"
    }
   ],
   "source": [
    "# linear regression \n",
    "from sklearn.linear_model import LinearRegression\n",
    "linR = LinearRegression()\n",
    "linR.fit(X_train, y_train)"
   ]
  },
  {
   "cell_type": "code",
   "execution_count": 21,
   "metadata": {},
   "outputs": [
    {
     "data": {
      "text/plain": [
       "0.05751988909164396"
      ]
     },
     "execution_count": 21,
     "metadata": {},
     "output_type": "execute_result"
    }
   ],
   "source": [
    "#the target is predicted for the test dataset\n",
    "predictions = linR.predict(X_test)\n",
    "#the accuracy of the prediction is found to be.... \n",
    "linR.score(X_test,y_test)"
   ]
  },
  {
   "cell_type": "code",
   "execution_count": 18,
   "metadata": {},
   "outputs": [
    {
     "data": {
      "text/plain": [
       "0.05751988909164396"
      ]
     },
     "execution_count": 18,
     "metadata": {},
     "output_type": "execute_result"
    }
   ],
   "source": [
    "from sklearn.metrics import r2_score\n",
    "r2_score(y_test, predictions)"
   ]
  },
  {
   "cell_type": "code",
   "execution_count": 25,
   "metadata": {},
   "outputs": [
    {
     "data": {
      "text/plain": [
       "<matplotlib.axes._subplots.AxesSubplot at 0xd2d5966a20>"
      ]
     },
     "execution_count": 25,
     "metadata": {},
     "output_type": "execute_result"
    },
    {
     "data": {
      "image/png": "[encoded data removed]",
      "text/plain": [
       "<Figure size 432x288 with 1 Axes>"
      ]
     },
     "metadata": {
      "needs_background": "light"
     },
     "output_type": "display_data"
    }
   ],
   "source": [
    "error = y_test - predictions\n",
    "#the error is calculated for the above test predictions and a distribution plot is plotted.\n",
    "sns.distplot(error)"
   ]
  },
  {
   "cell_type": "code",
   "execution_count": 51,
   "metadata": {},
   "outputs": [
    {
     "data": {
      "text/plain": [
       "(6850, 13)"
      ]
     },
     "execution_count": 51,
     "metadata": {},
     "output_type": "execute_result"
    }
   ],
   "source": [
    "dfx.shape"
   ]
  },
  {
   "cell_type": "markdown",
   "metadata": {},
   "source": [
    "## RMSE Model with Plot"
   ]
  },
  {
   "cell_type": "code",
   "execution_count": 17,
   "metadata": {},
   "outputs": [],
   "source": [
    "from sklearn.model_selection import cross_val_score, train_test_split\n",
    "from sklearn.preprocessing import StandardScaler\n",
    "from sklearn.linear_model import LinearRegression, RidgeCV, LassoCV, ElasticNetCV\n",
    "from sklearn.metrics import mean_squared_error, make_scorer\n",
    "\n",
    "# Define error measure for official scoring : RMSE\n",
    "scorer = make_scorer(mean_squared_error, greater_is_better = False)\n",
    "\n",
    "def rmse_cv_train(model):\n",
    "    rmse= np.sqrt(-cross_val_score(model, X_train, y_train, scoring = scorer, cv = 10))\n",
    "    return(rmse)\n",
    "\n",
    "def rmse_cv_test(model):\n",
    "    rmse= np.sqrt(-cross_val_score(model, X_test, y_test, scoring = scorer, cv = 10))\n",
    "    return(rmse)"
   ]
  },
  {
   "cell_type": "code",
   "execution_count": 23,
   "metadata": {},
   "outputs": [
    {
     "name": "stdout",
     "output_type": "stream",
     "text": [
      "RMSE on Training set : 15.601851375360496\n",
      "RMSE on Test set : 15.152430746345013\n"
     ]
    },
    {
     "data": {
      "image/png": "[encoded data removed]",
      "text/plain": [
       "<Figure size 432x288 with 1 Axes>"
      ]
     },
     "metadata": {
      "needs_background": "light"
     },
     "output_type": "display_data"
    },
    {
     "data": {
      "image/png": "[encoded data removed]",
      "text/plain": [
       "<Figure size 432x288 with 1 Axes>"
      ]
     },
     "metadata": {
      "needs_background": "light"
     },
     "output_type": "display_data"
    }
   ],
   "source": [
    "# Linear Regression\n",
    "lr = LinearRegression()\n",
    "lr.fit(X_train, y_train)\n",
    "\n",
    "# Look at predictions on training and validation set\n",
    "print(\"RMSE on Training set :\", rmse_cv_train(lr).mean())\n",
    "print(\"RMSE on Test set :\", rmse_cv_test(lr).mean())\n",
    "y_train_pred = lr.predict(X_train)\n",
    "y_test_pred = lr.predict(X_test)\n",
    "\n",
    "# Plot residuals\n",
    "plt.scatter(y_train_pred, y_train_pred - y_train, c = \"blue\", marker = \"s\", label = \"Training data\")\n",
    "plt.scatter(y_test_pred, y_test_pred - y_test, c = \"lightgreen\", marker = \"s\", label = \"Validation data\")\n",
    "plt.title(\"Linear regression\")\n",
    "plt.xlabel(\"Predicted values\")\n",
    "plt.ylabel(\"Residuals\")\n",
    "plt.legend(loc = \"upper left\")\n",
    "plt.hlines(y = 0, xmin = 10.5, xmax = 13.5, color = \"red\")\n",
    "plt.show()\n",
    "\n",
    "# Plot predictions\n",
    "plt.scatter(y_train_pred, y_train, c = \"blue\", marker = \"s\", label = \"Training data\")\n",
    "plt.scatter(y_test_pred, y_test, c = \"lightgreen\", marker = \"s\", label = \"Validation data\")\n",
    "plt.title(\"Linear regression\")\n",
    "plt.xlabel(\"Predicted values\")\n",
    "plt.ylabel(\"Real values\")\n",
    "plt.legend(loc = \"upper left\")\n",
    "plt.plot([10.5, 13.5], [10.5, 13.5], c = \"red\")\n",
    "plt.show()"
   ]
  },
  {
   "cell_type": "code",
   "execution_count": 24,
   "metadata": {},
   "outputs": [
    {
     "name": "stdout",
     "output_type": "stream",
     "text": [
      "Coefficients: \n",
      "                    0             1\n",
      "0       acousticness -5.141153e+00\n",
      "1       danceability  2.558767e+00\n",
      "2        duration_ms -1.710630e-07\n",
      "3             energy  6.953742e-01\n",
      "4   instrumentalness -7.554758e+00\n",
      "5                key  4.390571e-02\n",
      "6           liveness -8.102752e-01\n",
      "7           loudness  2.359647e-01\n",
      "8               mode -1.075520e+00\n",
      "9        speechiness -5.786829e+00\n",
      "10             tempo -3.914631e-03\n",
      "11    time_signature  8.744914e-01\n",
      "12           valence -4.352769e+00\n"
     ]
    }
   ],
   "source": [
    "\n",
    "print('Coefficients: \\n', pd.DataFrame(zip(list(X_train.columns), linR.coef_[0]))) "
   ]
  },
  {
   "cell_type": "markdown",
   "metadata": {},
   "source": [
    "## Once More Run - with fewer variables"
   ]
  },
  {
   "cell_type": "code",
   "execution_count": 9,
   "metadata": {},
   "outputs": [
    {
     "data": {
      "text/html": [
       "<table class=\"simpletable\">\n",
       "<caption>OLS Regression Results</caption>\n",
       "<tr>\n",
       "  <th>Dep. Variable:</th>       <td>popularity</td>    <th>  R-squared (uncentered):</th>      <td>   0.449</td> \n",
       "</tr>\n",
       "<tr>\n",
       "  <th>Model:</th>                   <td>OLS</td>       <th>  Adj. R-squared (uncentered):</th> <td>   0.448</td> \n",
       "</tr>\n",
       "<tr>\n",
       "  <th>Method:</th>             <td>Least Squares</td>  <th>  F-statistic:       </th>          <td>   299.8</td> \n",
       "</tr>\n",
       "<tr>\n",
       "  <th>Date:</th>             <td>Sat, 11 Apr 2020</td> <th>  Prob (F-statistic):</th>           <td>  0.00</td>  \n",
       "</tr>\n",
       "<tr>\n",
       "  <th>Time:</th>                 <td>13:01:50</td>     <th>  Log-Likelihood:    </th>          <td> -19989.</td> \n",
       "</tr>\n",
       "<tr>\n",
       "  <th>No. Observations:</th>      <td>  4795</td>      <th>  AIC:               </th>          <td>4.000e+04</td>\n",
       "</tr>\n",
       "<tr>\n",
       "  <th>Df Residuals:</th>          <td>  4782</td>      <th>  BIC:               </th>          <td>4.009e+04</td>\n",
       "</tr>\n",
       "<tr>\n",
       "  <th>Df Model:</th>              <td>    13</td>      <th>                     </th>              <td> </td>    \n",
       "</tr>\n",
       "<tr>\n",
       "  <th>Covariance Type:</th>      <td>nonrobust</td>    <th>                     </th>              <td> </td>    \n",
       "</tr>\n",
       "</table>\n",
       "<table class=\"simpletable\">\n",
       "<tr>\n",
       "          <td></td>            <th>coef</th>     <th>std err</th>      <th>t</th>      <th>P>|t|</th>  <th>[0.025</th>    <th>0.975]</th>  \n",
       "</tr>\n",
       "<tr>\n",
       "  <th>acousticness</th>     <td>   -2.7039</td> <td>    0.886</td> <td>   -3.052</td> <td> 0.002</td> <td>   -4.441</td> <td>   -0.967</td>\n",
       "</tr>\n",
       "<tr>\n",
       "  <th>danceability</th>     <td>    5.2031</td> <td>    1.561</td> <td>    3.333</td> <td> 0.001</td> <td>    2.143</td> <td>    8.263</td>\n",
       "</tr>\n",
       "<tr>\n",
       "  <th>duration_ms</th>      <td> 1.727e-06</td> <td> 2.12e-06</td> <td>    0.815</td> <td> 0.415</td> <td>-2.43e-06</td> <td> 5.88e-06</td>\n",
       "</tr>\n",
       "<tr>\n",
       "  <th>energy</th>           <td>    6.0844</td> <td>    1.480</td> <td>    4.111</td> <td> 0.000</td> <td>    3.183</td> <td>    8.986</td>\n",
       "</tr>\n",
       "<tr>\n",
       "  <th>instrumentalness</th> <td>   -7.9394</td> <td>    0.777</td> <td>  -10.223</td> <td> 0.000</td> <td>   -9.462</td> <td>   -6.417</td>\n",
       "</tr>\n",
       "<tr>\n",
       "  <th>key</th>              <td>    0.0933</td> <td>    0.065</td> <td>    1.439</td> <td> 0.150</td> <td>   -0.034</td> <td>    0.220</td>\n",
       "</tr>\n",
       "<tr>\n",
       "  <th>liveness</th>         <td>   -0.4071</td> <td>    1.211</td> <td>   -0.336</td> <td> 0.737</td> <td>   -2.780</td> <td>    1.966</td>\n",
       "</tr>\n",
       "<tr>\n",
       "  <th>loudness</th>         <td>    0.0179</td> <td>    0.064</td> <td>    0.280</td> <td> 0.780</td> <td>   -0.108</td> <td>    0.144</td>\n",
       "</tr>\n",
       "<tr>\n",
       "  <th>mode</th>             <td>   -0.6174</td> <td>    0.495</td> <td>   -1.247</td> <td> 0.213</td> <td>   -1.588</td> <td>    0.353</td>\n",
       "</tr>\n",
       "<tr>\n",
       "  <th>speechiness</th>      <td>   -6.5613</td> <td>    1.887</td> <td>   -3.476</td> <td> 0.001</td> <td>  -10.262</td> <td>   -2.861</td>\n",
       "</tr>\n",
       "<tr>\n",
       "  <th>tempo</th>            <td>    0.0117</td> <td>    0.007</td> <td>    1.596</td> <td> 0.110</td> <td>   -0.003</td> <td>    0.026</td>\n",
       "</tr>\n",
       "<tr>\n",
       "  <th>time_signature</th>   <td>    2.9000</td> <td>    0.408</td> <td>    7.113</td> <td> 0.000</td> <td>    2.101</td> <td>    3.699</td>\n",
       "</tr>\n",
       "<tr>\n",
       "  <th>valence</th>          <td>   -5.2200</td> <td>    1.121</td> <td>   -4.656</td> <td> 0.000</td> <td>   -7.418</td> <td>   -3.022</td>\n",
       "</tr>\n",
       "</table>\n",
       "<table class=\"simpletable\">\n",
       "<tr>\n",
       "  <th>Omnibus:</th>       <td>960.937</td> <th>  Durbin-Watson:     </th> <td>   2.011</td>\n",
       "</tr>\n",
       "<tr>\n",
       "  <th>Prob(Omnibus):</th> <td> 0.000</td>  <th>  Jarque-Bera (JB):  </th> <td>1687.450</td>\n",
       "</tr>\n",
       "<tr>\n",
       "  <th>Skew:</th>          <td> 1.294</td>  <th>  Prob(JB):          </th> <td>    0.00</td>\n",
       "</tr>\n",
       "<tr>\n",
       "  <th>Kurtosis:</th>      <td> 4.324</td>  <th>  Cond. No.          </th> <td>2.40e+06</td>\n",
       "</tr>\n",
       "</table><br/><br/>Warnings:<br/>[1] Standard Errors assume that the covariance matrix of the errors is correctly specified.<br/>[2] The condition number is large, 2.4e+06. This might indicate that there are<br/>strong multicollinearity or other numerical problems."
      ],
      "text/plain": [
       "<class 'statsmodels.iolib.summary.Summary'>\n",
       "\"\"\"\n",
       "                                 OLS Regression Results                                \n",
       "=======================================================================================\n",
       "Dep. Variable:             popularity   R-squared (uncentered):                   0.449\n",
       "Model:                            OLS   Adj. R-squared (uncentered):              0.448\n",
       "Method:                 Least Squares   F-statistic:                              299.8\n",
       "Date:                Sat, 11 Apr 2020   Prob (F-statistic):                        0.00\n",
       "Time:                        13:01:50   Log-Likelihood:                         -19989.\n",
       "No. Observations:                4795   AIC:                                  4.000e+04\n",
       "Df Residuals:                    4782   BIC:                                  4.009e+04\n",
       "Df Model:                          13                                                  \n",
       "Covariance Type:            nonrobust                                                  \n",
       "====================================================================================\n",
       "                       coef    std err          t      P>|t|      [0.025      0.975]\n",
       "------------------------------------------------------------------------------------\n",
       "acousticness        -2.7039      0.886     -3.052      0.002      -4.441      -0.967\n",
       "danceability         5.2031      1.561      3.333      0.001       2.143       8.263\n",
       "duration_ms       1.727e-06   2.12e-06      0.815      0.415   -2.43e-06    5.88e-06\n",
       "energy               6.0844      1.480      4.111      0.000       3.183       8.986\n",
       "instrumentalness    -7.9394      0.777    -10.223      0.000      -9.462      -6.417\n",
       "key                  0.0933      0.065      1.439      0.150      -0.034       0.220\n",
       "liveness            -0.4071      1.211     -0.336      0.737      -2.780       1.966\n",
       "loudness             0.0179      0.064      0.280      0.780      -0.108       0.144\n",
       "mode                -0.6174      0.495     -1.247      0.213      -1.588       0.353\n",
       "speechiness         -6.5613      1.887     -3.476      0.001     -10.262      -2.861\n",
       "tempo                0.0117      0.007      1.596      0.110      -0.003       0.026\n",
       "time_signature       2.9000      0.408      7.113      0.000       2.101       3.699\n",
       "valence             -5.2200      1.121     -4.656      0.000      -7.418      -3.022\n",
       "==============================================================================\n",
       "Omnibus:                      960.937   Durbin-Watson:                   2.011\n",
       "Prob(Omnibus):                  0.000   Jarque-Bera (JB):             1687.450\n",
       "Skew:                           1.294   Prob(JB):                         0.00\n",
       "Kurtosis:                       4.324   Cond. No.                     2.40e+06\n",
       "==============================================================================\n",
       "\n",
       "Warnings:\n",
       "[1] Standard Errors assume that the covariance matrix of the errors is correctly specified.\n",
       "[2] The condition number is large, 2.4e+06. This might indicate that there are\n",
       "strong multicollinearity or other numerical problems.\n",
       "\"\"\""
      ]
     },
     "execution_count": 9,
     "metadata": {},
     "output_type": "execute_result"
    }
   ],
   "source": [
    "## Without a constant\n",
    "\n",
    "import statsmodels.api as sm\n",
    "\n",
    "X = X_train\n",
    "y = y_train\n",
    "\n",
    "# Note the difference in argument order\n",
    "model = sm.OLS(y, X).fit()\n",
    "predictions = model.predict(X_test) # make the predictions by the model\n",
    "\n",
    "# Print out the statistics\n",
    "model.summary()"
   ]
  },
  {
   "cell_type": "code",
   "execution_count": null,
   "metadata": {},
   "outputs": [],
   "source": []
  }
 ],
 "metadata": {
  "kernelspec": {
   "display_name": "Python 3",
   "language": "python",
   "name": "python3"
  },
  "language_info": {
   "codemirror_mode": {
    "name": "ipython",
    "version": 3
   },
   "file_extension": ".py",
   "mimetype": "text/x-python",
   "name": "python",
   "nbconvert_exporter": "python",
   "pygments_lexer": "ipython3",
   "version": "3.7.3"
  }
 },
 "nbformat": 4,
 "nbformat_minor": 2
}
