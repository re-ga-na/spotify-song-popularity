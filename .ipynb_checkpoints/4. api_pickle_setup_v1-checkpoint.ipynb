{
 "cells": [
  {
   "cell_type": "code",
   "execution_count": 1,
   "metadata": {},
   "outputs": [],
   "source": [
    "import spotipy\n",
    "from spotipy.oauth2 import SpotifyClientCredentials\n",
    "import pandas as pd\n"
   ]
  },
  {
   "cell_type": "markdown",
   "metadata": {},
   "source": [
    "# Pickle Stuff\n"
   ]
  },
  {
   "cell_type": "code",
   "execution_count": 2,
   "metadata": {},
   "outputs": [
    {
     "data": {
      "text/plain": [
       "LinearRegression(copy_X=True, fit_intercept=True, n_jobs=None, normalize=False)"
      ]
     },
     "execution_count": 2,
     "metadata": {},
     "output_type": "execute_result"
    }
   ],
   "source": [
    "# Import pickle Package\n",
    "import pickle\n",
    "\n",
    "pkl_filename = \"Resources/pickle/pickle_45.pkl\"  \n",
    "# Load the Model back from file\n",
    "with open(pkl_filename, 'rb') as file:  \n",
    "    Pickled_LR_Model = pickle.load(file)\n",
    "Pickled_LR_Model"
   ]
  },
  {
   "cell_type": "markdown",
   "metadata": {},
   "source": [
    "# API Call \n"
   ]
  },
  {
   "cell_type": "code",
   "execution_count": 3,
   "metadata": {},
   "outputs": [],
   "source": [
    "#set up API authonatication\n",
    "client_id = \"5028c957611248149d8c04007258f254\"\n",
    "client_secret = \"aa56a507cb944f488f8835062a94115c\"\n",
    "client_credentials_manager = SpotifyClientCredentials(client_id=client_id, client_secret=client_secret)\n",
    "sp = spotipy.Spotify(client_credentials_manager=client_credentials_manager)"
   ]
  },
  {
   "cell_type": "code",
   "execution_count": 4,
   "metadata": {},
   "outputs": [],
   "source": [
    "Artist=\"Lionel Richie\"\n",
    "Track=\"Tonight Will Be Alright\"\n"
   ]
  },
  {
   "cell_type": "code",
   "execution_count": 5,
   "metadata": {},
   "outputs": [],
   "source": [
    "#test tracks - 1. Red Hot Chili Peppers,By The Way ; \n",
    "#Artist=\"Green Day\" Track=\"Boulevard of Broken Dreams\"; \n",
    "# Artist=\"Lionel Richie\" Track=\"Tonight Will Be Alright\"\n"
   ]
  },
  {
   "cell_type": "code",
   "execution_count": 6,
   "metadata": {},
   "outputs": [
    {
     "data": {
      "text/plain": [
       "<bound method NDFrame.head of Empty DataFrame\n",
       "Columns: [0, Artist, Track, Unnamed: 0, acousticness, danceability, duration_ms, energy, followers, instrumentalness, key, liveness, loudness, mode, popularity, speechiness, tempo, time_signature, valence]\n",
       "Index: []>"
      ]
     },
     "execution_count": 6,
     "metadata": {},
     "output_type": "execute_result"
    }
   ],
   "source": [
    "file3 = \"Resources/features/features_blank.csv\"\n",
    "features = pd.read_csv(file3)\n",
    "features.head"
   ]
  },
  {
   "cell_type": "code",
   "execution_count": 7,
   "metadata": {},
   "outputs": [
    {
     "name": "stdout",
     "output_type": "stream",
     "text": [
      "Lionel Richie,Tonight Will Be Alright\n",
      "2Jr12fpsMdIM6weoUDMf9u\n"
     ]
    },
    {
     "name": "stderr",
     "output_type": "stream",
     "text": [
      "C:\\ProgramData\\Anaconda3\\lib\\site-packages\\pandas\\core\\frame.py:6692: FutureWarning: Sorting because non-concatenation axis is not aligned. A future version\n",
      "of pandas will change to not sort by default.\n",
      "\n",
      "To accept the future behavior, pass 'sort=False'.\n",
      "\n",
      "To retain the current behavior and silence the warning, pass 'sort=True'.\n",
      "\n",
      "  sort=sort)\n"
     ]
    }
   ],
   "source": [
    "try: \n",
    "        artistname= Artist\n",
    "        search_str =  Track\n",
    "        print(artistname+ \",\"+ search_str )\n",
    "        result= sp.search(search_str+\":\"+artistname,type=\"track,artist\")\n",
    "        print(result[\"tracks\"][\"items\"][0][\"id\"])\n",
    "        \n",
    "        track_id = result[\"tracks\"][\"items\"][0][\"id\"]\n",
    "        artist_id = result['tracks']['items'][0][\"album\"]['artists'][0]['id']\n",
    "        \n",
    "        features_i = sp.audio_features(track_id)\n",
    "        features_i = pd.DataFrame(features_i)\n",
    "        \n",
    "        #features[\"genres\"] = sp.artist(artist_id)['genres']\n",
    "        features_i[\"followers\"] = sp.artist(artist_id)['followers']['total']\n",
    "        features_i[\"tempo\"] = sp.audio_analysis(track_id)['track']['tempo']\n",
    "        features_i[\"popularity\"] = sp.track(track_id)[\"popularity\"]\n",
    "        features_i[\"Artist\"] = artistname\n",
    "        features_i[\"Track\"] = search_str\n",
    "        features = features.append(features_i)\n",
    "        \n",
    "except: \n",
    "        print ('data not found')"
   ]
  },
  {
   "cell_type": "code",
   "execution_count": 8,
   "metadata": {},
   "outputs": [],
   "source": [
    "features = features[['Artist', 'Track', 'followers','instrumentalness','popularity','acousticness', 'danceability', 'duration_ms', 'energy', 'key', 'liveness', 'loudness', 'mode',\n",
    "       'speechiness', 'tempo', 'time_signature', 'valence']]"
   ]
  },
  {
   "cell_type": "code",
   "execution_count": 9,
   "metadata": {},
   "outputs": [
    {
     "data": {
      "text/html": [
       "<div>\n",
       "<style scoped>\n",
       "    .dataframe tbody tr th:only-of-type {\n",
       "        vertical-align: middle;\n",
       "    }\n",
       "\n",
       "    .dataframe tbody tr th {\n",
       "        vertical-align: top;\n",
       "    }\n",
       "\n",
       "    .dataframe thead th {\n",
       "        text-align: right;\n",
       "    }\n",
       "</style>\n",
       "<table border=\"1\" class=\"dataframe\">\n",
       "  <thead>\n",
       "    <tr style=\"text-align: right;\">\n",
       "      <th></th>\n",
       "      <th>Artist</th>\n",
       "      <th>Track</th>\n",
       "      <th>followers</th>\n",
       "      <th>instrumentalness</th>\n",
       "      <th>popularity</th>\n",
       "      <th>acousticness</th>\n",
       "      <th>danceability</th>\n",
       "      <th>duration_ms</th>\n",
       "      <th>energy</th>\n",
       "      <th>key</th>\n",
       "      <th>liveness</th>\n",
       "      <th>loudness</th>\n",
       "      <th>mode</th>\n",
       "      <th>speechiness</th>\n",
       "      <th>tempo</th>\n",
       "      <th>time_signature</th>\n",
       "      <th>valence</th>\n",
       "    </tr>\n",
       "  </thead>\n",
       "  <tbody>\n",
       "    <tr>\n",
       "      <th>0</th>\n",
       "      <td>Lionel Richie</td>\n",
       "      <td>Tonight Will Be Alright</td>\n",
       "      <td>1645239</td>\n",
       "      <td>0.0141</td>\n",
       "      <td>38</td>\n",
       "      <td>0.0591</td>\n",
       "      <td>0.646</td>\n",
       "      <td>307413</td>\n",
       "      <td>0.84</td>\n",
       "      <td>8</td>\n",
       "      <td>0.0516</td>\n",
       "      <td>-8.213</td>\n",
       "      <td>1</td>\n",
       "      <td>0.0283</td>\n",
       "      <td>125.188</td>\n",
       "      <td>4</td>\n",
       "      <td>0.716</td>\n",
       "    </tr>\n",
       "  </tbody>\n",
       "</table>\n",
       "</div>"
      ],
      "text/plain": [
       "          Artist                    Track followers  instrumentalness  \\\n",
       "0  Lionel Richie  Tonight Will Be Alright   1645239            0.0141   \n",
       "\n",
       "  popularity  acousticness  danceability duration_ms  energy key  liveness  \\\n",
       "0         38        0.0591         0.646      307413    0.84   8    0.0516   \n",
       "\n",
       "   loudness mode  speechiness    tempo time_signature  valence  \n",
       "0    -8.213    1       0.0283  125.188              4    0.716  "
      ]
     },
     "execution_count": 9,
     "metadata": {},
     "output_type": "execute_result"
    }
   ],
   "source": [
    "features"
   ]
  },
  {
   "cell_type": "code",
   "execution_count": 10,
   "metadata": {},
   "outputs": [],
   "source": [
    "features_x = features[['followers','instrumentalness','acousticness', 'danceability', 'duration_ms', 'energy', 'key', 'liveness', 'loudness', 'mode',\n",
    "       'speechiness', 'tempo', 'time_signature', 'valence']]"
   ]
  },
  {
   "cell_type": "code",
   "execution_count": 11,
   "metadata": {},
   "outputs": [
    {
     "name": "stdout",
     "output_type": "stream",
     "text": [
      "(1, 14)\n"
     ]
    }
   ],
   "source": [
    "print(features_x.shape)"
   ]
  },
  {
   "cell_type": "markdown",
   "metadata": {},
   "source": [
    "# API Predict\n"
   ]
  },
  {
   "cell_type": "code",
   "execution_count": 12,
   "metadata": {},
   "outputs": [
    {
     "data": {
      "text/plain": [
       "array([[43.2698901]])"
      ]
     },
     "execution_count": 12,
     "metadata": {},
     "output_type": "execute_result"
    }
   ],
   "source": [
    "# Predict the Labels using the reloaded Model\n",
    "Y_predict2 = Pickled_LR_Model.predict(features_x)  \n",
    "Y_predict2"
   ]
  },
  {
   "cell_type": "code",
   "execution_count": 13,
   "metadata": {},
   "outputs": [
    {
     "name": "stdout",
     "output_type": "stream",
     "text": [
      "0    38\n",
      "Name: popularity, dtype: object\n"
     ]
    }
   ],
   "source": [
    "features_y = features[['popularity']]\n",
    "print(features_y['popularity'])\n"
   ]
  },
  {
   "cell_type": "code",
   "execution_count": 14,
   "metadata": {},
   "outputs": [
    {
     "name": "stdout",
     "output_type": "stream",
     "text": [
      "Spotify song poularity: 0    38\n",
      "Name: popularity, dtype: object\n",
      "Model predicted popularity: [[43.2698901]]\n"
     ]
    }
   ],
   "source": [
    "print(f\"Spotify song poularity: {features['popularity']}\") \n",
    "print(f\"Model predicted popularity: {Y_predict2}\")       "
   ]
  },
  {
   "cell_type": "code",
   "execution_count": null,
   "metadata": {},
   "outputs": [],
   "source": []
  },
  {
   "cell_type": "code",
   "execution_count": null,
   "metadata": {},
   "outputs": [],
   "source": []
  },
  {
   "cell_type": "code",
   "execution_count": null,
   "metadata": {},
   "outputs": [],
   "source": []
  }
 ],
 "metadata": {
  "kernelspec": {
   "display_name": "Python 3",
   "language": "python",
   "name": "python3"
  },
  "language_info": {
   "codemirror_mode": {
    "name": "ipython",
    "version": 3
   },
   "file_extension": ".py",
   "mimetype": "text/x-python",
   "name": "python",
   "nbconvert_exporter": "python",
   "pygments_lexer": "ipython3",
   "version": "3.7.3"
  }
 },
 "nbformat": 4,
 "nbformat_minor": 2
}
