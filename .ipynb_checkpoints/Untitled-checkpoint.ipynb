{
 "cells": [
  {
   "cell_type": "code",
   "execution_count": 11,
   "metadata": {},
   "outputs": [],
   "source": [
    "import matplotlib.pyplot as plt\n",
    "import pandas as pd\n",
    "import numpy as np\n",
    "import seaborn as sns\n",
    "import numpy as np\n",
    "from scipy.stats import norm\n",
    "from sklearn.preprocessing import StandardScaler\n",
    "from scipy import stats\n",
    "import sys\n",
    "sys.path.append('C:\\\\Users\\\\Suhaib Kiani\\\\Desktop')\n",
    "import exp\n"
   ]
  },
  {
   "cell_type": "code",
   "execution_count": 15,
   "metadata": {},
   "outputs": [
    {
     "data": {
      "text/plain": [
       "Index(['acousticness', 'danceability', 'duration_ms', 'energy',\n",
       "       'instrumentalness', 'key', 'liveness', 'loudness', 'mode',\n",
       "       'speechiness', 'tempo', 'time_signature', 'valence', 'popularity',\n",
       "       'Artist', 'Track'],\n",
       "      dtype='object')"
      ]
     },
     "execution_count": 15,
     "metadata": {},
     "output_type": "execute_result"
    }
   ],
   "source": [
    "file = \"test_dataset.csv\"\n",
    "tds1 = pd.read_csv(file)\n",
    "#tds1.head()\n",
    "tds1.columns"
   ]
  },
  {
   "cell_type": "code",
   "execution_count": 19,
   "metadata": {},
   "outputs": [],
   "source": [
    "tds1 = tds1[['Artist', 'Track','popularity','acousticness', 'danceability', 'duration_ms', 'energy',\n",
    "       'instrumentalness', 'key', 'liveness', 'loudness', 'mode',\n",
    "       'speechiness', 'tempo', 'time_signature', 'valence']]"
   ]
  },
  {
   "cell_type": "code",
   "execution_count": 20,
   "metadata": {},
   "outputs": [
    {
     "data": {
      "text/html": [
       "<div>\n",
       "<style scoped>\n",
       "    .dataframe tbody tr th:only-of-type {\n",
       "        vertical-align: middle;\n",
       "    }\n",
       "\n",
       "    .dataframe tbody tr th {\n",
       "        vertical-align: top;\n",
       "    }\n",
       "\n",
       "    .dataframe thead th {\n",
       "        text-align: right;\n",
       "    }\n",
       "</style>\n",
       "<table border=\"1\" class=\"dataframe\">\n",
       "  <thead>\n",
       "    <tr style=\"text-align: right;\">\n",
       "      <th></th>\n",
       "      <th>Artist</th>\n",
       "      <th>Track</th>\n",
       "      <th>popularity</th>\n",
       "      <th>acousticness</th>\n",
       "      <th>danceability</th>\n",
       "      <th>duration_ms</th>\n",
       "      <th>energy</th>\n",
       "      <th>instrumentalness</th>\n",
       "      <th>key</th>\n",
       "      <th>liveness</th>\n",
       "      <th>loudness</th>\n",
       "      <th>mode</th>\n",
       "      <th>speechiness</th>\n",
       "      <th>tempo</th>\n",
       "      <th>time_signature</th>\n",
       "      <th>valence</th>\n",
       "    </tr>\n",
       "  </thead>\n",
       "  <tbody>\n",
       "    <tr>\n",
       "      <th>0</th>\n",
       "      <td>casual</td>\n",
       "      <td>I Didn't Mean To</td>\n",
       "      <td>21</td>\n",
       "      <td>0.063</td>\n",
       "      <td>0.751</td>\n",
       "      <td>218933</td>\n",
       "      <td>0.549</td>\n",
       "      <td>0.000025</td>\n",
       "      <td>6</td>\n",
       "      <td>0.1060</td>\n",
       "      <td>-10.508</td>\n",
       "      <td>0</td>\n",
       "      <td>0.4290</td>\n",
       "      <td>92.224</td>\n",
       "      <td>4</td>\n",
       "      <td>0.553</td>\n",
       "    </tr>\n",
       "    <tr>\n",
       "      <th>1</th>\n",
       "      <td>Casual</td>\n",
       "      <td>I Didn't Mean To</td>\n",
       "      <td>21</td>\n",
       "      <td>0.063</td>\n",
       "      <td>0.751</td>\n",
       "      <td>218933</td>\n",
       "      <td>0.549</td>\n",
       "      <td>0.000025</td>\n",
       "      <td>6</td>\n",
       "      <td>0.1060</td>\n",
       "      <td>-10.508</td>\n",
       "      <td>0</td>\n",
       "      <td>0.4290</td>\n",
       "      <td>92.224</td>\n",
       "      <td>4</td>\n",
       "      <td>0.553</td>\n",
       "    </tr>\n",
       "    <tr>\n",
       "      <th>2</th>\n",
       "      <td>The Box Tops</td>\n",
       "      <td>Soul Deep</td>\n",
       "      <td>37</td>\n",
       "      <td>0.195</td>\n",
       "      <td>0.749</td>\n",
       "      <td>147760</td>\n",
       "      <td>0.530</td>\n",
       "      <td>0.000035</td>\n",
       "      <td>9</td>\n",
       "      <td>0.0748</td>\n",
       "      <td>-12.940</td>\n",
       "      <td>1</td>\n",
       "      <td>0.0326</td>\n",
       "      <td>121.395</td>\n",
       "      <td>4</td>\n",
       "      <td>0.966</td>\n",
       "    </tr>\n",
       "    <tr>\n",
       "      <th>3</th>\n",
       "      <td>Sonora Santanera</td>\n",
       "      <td>Amor De Cabaret</td>\n",
       "      <td>50</td>\n",
       "      <td>0.689</td>\n",
       "      <td>0.699</td>\n",
       "      <td>183027</td>\n",
       "      <td>0.519</td>\n",
       "      <td>0.000471</td>\n",
       "      <td>8</td>\n",
       "      <td>0.9350</td>\n",
       "      <td>-6.422</td>\n",
       "      <td>1</td>\n",
       "      <td>0.0290</td>\n",
       "      <td>102.463</td>\n",
       "      <td>4</td>\n",
       "      <td>0.676</td>\n",
       "    </tr>\n",
       "    <tr>\n",
       "      <th>4</th>\n",
       "      <td>Adam Ant</td>\n",
       "      <td>Something Girls</td>\n",
       "      <td>19</td>\n",
       "      <td>0.218</td>\n",
       "      <td>0.606</td>\n",
       "      <td>232107</td>\n",
       "      <td>0.937</td>\n",
       "      <td>0.005870</td>\n",
       "      <td>0</td>\n",
       "      <td>0.1630</td>\n",
       "      <td>-3.808</td>\n",
       "      <td>1</td>\n",
       "      <td>0.0443</td>\n",
       "      <td>120.135</td>\n",
       "      <td>4</td>\n",
       "      <td>0.853</td>\n",
       "    </tr>\n",
       "  </tbody>\n",
       "</table>\n",
       "</div>"
      ],
      "text/plain": [
       "             Artist             Track  popularity  acousticness  danceability  \\\n",
       "0            casual  I Didn't Mean To          21         0.063         0.751   \n",
       "1            Casual  I Didn't Mean To          21         0.063         0.751   \n",
       "2      The Box Tops         Soul Deep          37         0.195         0.749   \n",
       "3  Sonora Santanera   Amor De Cabaret          50         0.689         0.699   \n",
       "4          Adam Ant   Something Girls          19         0.218         0.606   \n",
       "\n",
       "   duration_ms  energy  instrumentalness  key  liveness  loudness  mode  \\\n",
       "0       218933   0.549          0.000025    6    0.1060   -10.508     0   \n",
       "1       218933   0.549          0.000025    6    0.1060   -10.508     0   \n",
       "2       147760   0.530          0.000035    9    0.0748   -12.940     1   \n",
       "3       183027   0.519          0.000471    8    0.9350    -6.422     1   \n",
       "4       232107   0.937          0.005870    0    0.1630    -3.808     1   \n",
       "\n",
       "   speechiness    tempo  time_signature  valence  \n",
       "0       0.4290   92.224               4    0.553  \n",
       "1       0.4290   92.224               4    0.553  \n",
       "2       0.0326  121.395               4    0.966  \n",
       "3       0.0290  102.463               4    0.676  \n",
       "4       0.0443  120.135               4    0.853  "
      ]
     },
     "execution_count": 20,
     "metadata": {},
     "output_type": "execute_result"
    }
   ],
   "source": [
    "tds1.head()"
   ]
  },
  {
   "cell_type": "markdown",
   "metadata": {},
   "source": [
    "# Data Analysis & Visualization"
   ]
  },
  {
   "cell_type": "markdown",
   "metadata": {},
   "source": [
    "## Scatter Plots"
   ]
  },
  {
   "cell_type": "code",
   "execution_count": 21,
   "metadata": {},
   "outputs": [
    {
     "data": {
      "text/plain": [
       "<matplotlib.legend.Legend at 0x10dc1e90b8>"
      ]
     },
     "execution_count": 21,
     "metadata": {},
     "output_type": "execute_result"
    },
    {
     "data": {
      "image/png": "[encoded data removed]",
      "text/plain": [
       "<Figure size 1440x576 with 1 Axes>"
      ]
     },
     "metadata": {
      "needs_background": "light"
     },
     "output_type": "display_data"
    }
   ],
   "source": [
    "exp.plot_bivariate(tds1, 'popularity', 'acousticness', hue='key', alpha=1.0)\n",
    "plt.legend(bbox_to_anchor=(1.0, 1), loc='upper left', borderaxespad=0.)\n",
    "#plt.savefig('scatter1.png')"
   ]
  },
  {
   "cell_type": "code",
   "execution_count": null,
   "metadata": {},
   "outputs": [],
   "source": []
  },
  {
   "cell_type": "markdown",
   "metadata": {},
   "source": [
    "## The Big Picture"
   ]
  },
  {
   "cell_type": "code",
   "execution_count": null,
   "metadata": {},
   "outputs": [],
   "source": [
    "#Please change the code to create graphic(s) similar to Brooklyn reference..\n",
    "sns.set()\n",
    "cols = ['sale_price', 'gross_sqft', \n",
    "        'SchoolDist', 'LotArea', 'NumFloors', 'year_built']\n",
    "sns.pairplot(one_fam_3years[cols], size = 2.5)\n",
    "plt.show();\n",
    "plt.savefig('Big_picture.png')"
   ]
  },
  {
   "cell_type": "markdown",
   "metadata": {},
   "source": [
    "## Box Plots "
   ]
  },
  {
   "cell_type": "code",
   "execution_count": null,
   "metadata": {},
   "outputs": [],
   "source": [
    "#Please change the code to create graphic(s) similar to Brooklyn reference..\n",
    "var = one_fam_3years[\"ZipCode\"]\n",
    "SP = one_fam_3years[\"sale_price\"]\n",
    "data = pd.concat([SP, var], axis=1)\n",
    "f, ax = plt.subplots(figsize=(20, 6))\n",
    "fig = sns.boxplot(x=var, y=SP, data=data)\n",
    "fig.axis(ymin=0, ymax=5000000);"
   ]
  },
  {
   "cell_type": "markdown",
   "metadata": {},
   "source": [
    "## Heat Maps "
   ]
  },
  {
   "cell_type": "code",
   "execution_count": null,
   "metadata": {},
   "outputs": [],
   "source": [
    "#correlation matrix\n",
    "corrmat = one_fam_3years.corr()\n",
    "f, ax = plt.subplots(figsize=(12, 9))\n",
    "sns.heatmap(corrmat, vmax=.8, square=True);\n",
    "#plt.savefig('Heat1.png')"
   ]
  },
  {
   "cell_type": "code",
   "execution_count": null,
   "metadata": {},
   "outputs": [],
   "source": [
    "#one_fam_3years_f = one_fam_3years.astype(float)\n",
    "exp.plot_correlations(one_fam_3years, 'sale_price', limit=10, annot=True)"
   ]
  },
  {
   "cell_type": "code",
   "execution_count": null,
   "metadata": {},
   "outputs": [],
   "source": [
    "print(\"Find most important features relative to target\")\n",
    "corr = one_fam_3years.corr()\n",
    "corr.sort_values([\"sale_price\"], ascending = False, inplace = True)\n",
    "print(corr.sale_price)"
   ]
  }
 ],
 "metadata": {
  "kernelspec": {
   "display_name": "Python 3",
   "language": "python",
   "name": "python3"
  },
  "language_info": {
   "codemirror_mode": {
    "name": "ipython",
    "version": 3
   },
   "file_extension": ".py",
   "mimetype": "text/x-python",
   "name": "python",
   "nbconvert_exporter": "python",
   "pygments_lexer": "ipython3",
   "version": "3.7.3"
  }
 },
 "nbformat": 4,
 "nbformat_minor": 2
}
