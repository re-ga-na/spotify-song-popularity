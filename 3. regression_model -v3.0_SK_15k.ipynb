{
 "cells": [
  {
   "cell_type": "code",
   "execution_count": 2,
   "metadata": {},
   "outputs": [],
   "source": [
    "import matplotlib.pyplot as plt\n",
    "import pandas as pd\n",
    "import numpy as np\n",
    "import seaborn as sns\n",
    "import time\n",
    "import seaborn as sns\n",
    "import numpy as np\n",
    "from scipy.stats import norm\n",
    "from sklearn.preprocessing import StandardScaler\n",
    "from scipy import stats\n",
    "import statsmodels.formula.api as sm\n",
    "import statsmodels.regression.linear_model as lm\n",
    "import sys\n",
    "sys.path.append('C:\\\\Users\\\\Irisi\\\\spotify-song-popularity')\n",
    "import exp\n",
    "\n",
    "\n",
    "#to perform the train test split of the data, the train test split function is imported from sklearn\n",
    "from sklearn.model_selection import train_test_split\n",
    "#the given problem is a classificaton problem. Hence linear regression is used for ML algorithm\n",
    "from sklearn.linear_model import LinearRegression"
   ]
  },
  {
   "cell_type": "code",
   "execution_count": 4,
   "metadata": {},
   "outputs": [
    {
     "data": {
      "text/html": [
       "<div>\n",
       "<style scoped>\n",
       "    .dataframe tbody tr th:only-of-type {\n",
       "        vertical-align: middle;\n",
       "    }\n",
       "\n",
       "    .dataframe tbody tr th {\n",
       "        vertical-align: top;\n",
       "    }\n",
       "\n",
       "    .dataframe thead th {\n",
       "        text-align: right;\n",
       "    }\n",
       "</style>\n",
       "<table border=\"1\" class=\"dataframe\">\n",
       "  <thead>\n",
       "    <tr style=\"text-align: right;\">\n",
       "      <th></th>\n",
       "      <th>Artist</th>\n",
       "      <th>Track</th>\n",
       "      <th>followers</th>\n",
       "      <th>popularity</th>\n",
       "      <th>acousticness</th>\n",
       "      <th>danceability</th>\n",
       "      <th>duration_ms</th>\n",
       "      <th>energy</th>\n",
       "      <th>instrumentalness</th>\n",
       "      <th>key</th>\n",
       "      <th>liveness</th>\n",
       "      <th>loudness</th>\n",
       "      <th>mode</th>\n",
       "      <th>speechiness</th>\n",
       "      <th>tempo</th>\n",
       "      <th>time_signature</th>\n",
       "      <th>valence</th>\n",
       "    </tr>\n",
       "  </thead>\n",
       "  <tbody>\n",
       "    <tr>\n",
       "      <td>0</td>\n",
       "      <td>Lionel Richie</td>\n",
       "      <td>Tonight Will Be Alright</td>\n",
       "      <td>1627956</td>\n",
       "      <td>38</td>\n",
       "      <td>0.05910</td>\n",
       "      <td>0.646</td>\n",
       "      <td>307413</td>\n",
       "      <td>0.840</td>\n",
       "      <td>0.014100</td>\n",
       "      <td>8</td>\n",
       "      <td>0.0516</td>\n",
       "      <td>-8.213</td>\n",
       "      <td>1</td>\n",
       "      <td>0.0283</td>\n",
       "      <td>125.187</td>\n",
       "      <td>4</td>\n",
       "      <td>0.716</td>\n",
       "    </tr>\n",
       "    <tr>\n",
       "      <td>1</td>\n",
       "      <td>Course Of Nature</td>\n",
       "      <td>The Window</td>\n",
       "      <td>10469</td>\n",
       "      <td>11</td>\n",
       "      <td>0.00119</td>\n",
       "      <td>0.496</td>\n",
       "      <td>191160</td>\n",
       "      <td>0.928</td>\n",
       "      <td>0.000035</td>\n",
       "      <td>1</td>\n",
       "      <td>0.0988</td>\n",
       "      <td>-2.367</td>\n",
       "      <td>0</td>\n",
       "      <td>0.0469</td>\n",
       "      <td>144.932</td>\n",
       "      <td>4</td>\n",
       "      <td>0.561</td>\n",
       "    </tr>\n",
       "    <tr>\n",
       "      <td>2</td>\n",
       "      <td>Mariah Carey</td>\n",
       "      <td>Inseparable</td>\n",
       "      <td>5505368</td>\n",
       "      <td>31</td>\n",
       "      <td>0.09090</td>\n",
       "      <td>0.586</td>\n",
       "      <td>213720</td>\n",
       "      <td>0.692</td>\n",
       "      <td>0.000000</td>\n",
       "      <td>8</td>\n",
       "      <td>0.0567</td>\n",
       "      <td>-5.143</td>\n",
       "      <td>1</td>\n",
       "      <td>0.1770</td>\n",
       "      <td>158.041</td>\n",
       "      <td>4</td>\n",
       "      <td>0.457</td>\n",
       "    </tr>\n",
       "    <tr>\n",
       "      <td>3</td>\n",
       "      <td>Extra Virgin</td>\n",
       "      <td>One Night</td>\n",
       "      <td>880039</td>\n",
       "      <td>0</td>\n",
       "      <td>0.00361</td>\n",
       "      <td>0.643</td>\n",
       "      <td>210667</td>\n",
       "      <td>0.896</td>\n",
       "      <td>0.002050</td>\n",
       "      <td>0</td>\n",
       "      <td>0.9010</td>\n",
       "      <td>-6.662</td>\n",
       "      <td>1</td>\n",
       "      <td>0.0359</td>\n",
       "      <td>130.011</td>\n",
       "      <td>4</td>\n",
       "      <td>0.338</td>\n",
       "    </tr>\n",
       "    <tr>\n",
       "      <td>4</td>\n",
       "      <td>Joe and Will Ask?</td>\n",
       "      <td>Claymore</td>\n",
       "      <td>13</td>\n",
       "      <td>2</td>\n",
       "      <td>0.00328</td>\n",
       "      <td>0.699</td>\n",
       "      <td>119053</td>\n",
       "      <td>0.974</td>\n",
       "      <td>0.776000</td>\n",
       "      <td>9</td>\n",
       "      <td>0.2900</td>\n",
       "      <td>-5.576</td>\n",
       "      <td>0</td>\n",
       "      <td>0.1500</td>\n",
       "      <td>125.934</td>\n",
       "      <td>4</td>\n",
       "      <td>0.443</td>\n",
       "    </tr>\n",
       "  </tbody>\n",
       "</table>\n",
       "</div>"
      ],
      "text/plain": [
       "              Artist                    Track  followers  popularity  \\\n",
       "0      Lionel Richie  Tonight Will Be Alright    1627956          38   \n",
       "1   Course Of Nature               The Window      10469          11   \n",
       "2       Mariah Carey              Inseparable    5505368          31   \n",
       "3       Extra Virgin                One Night     880039           0   \n",
       "4  Joe and Will Ask?                 Claymore         13           2   \n",
       "\n",
       "   acousticness  danceability  duration_ms  energy  instrumentalness  key  \\\n",
       "0       0.05910         0.646       307413   0.840          0.014100    8   \n",
       "1       0.00119         0.496       191160   0.928          0.000035    1   \n",
       "2       0.09090         0.586       213720   0.692          0.000000    8   \n",
       "3       0.00361         0.643       210667   0.896          0.002050    0   \n",
       "4       0.00328         0.699       119053   0.974          0.776000    9   \n",
       "\n",
       "   liveness  loudness  mode  speechiness    tempo  time_signature  valence  \n",
       "0    0.0516    -8.213     1       0.0283  125.187               4    0.716  \n",
       "1    0.0988    -2.367     0       0.0469  144.932               4    0.561  \n",
       "2    0.0567    -5.143     1       0.1770  158.041               4    0.457  \n",
       "3    0.9010    -6.662     1       0.0359  130.011               4    0.338  \n",
       "4    0.2900    -5.576     0       0.1500  125.934               4    0.443  "
      ]
     },
     "execution_count": 4,
     "metadata": {},
     "output_type": "execute_result"
    }
   ],
   "source": [
    "file = \"features_15K.csv\"\n",
    "tds1 = pd.read_csv(file)\n",
    "tds1 = tds1[['Artist', 'Track', 'followers','popularity','acousticness', 'danceability', 'duration_ms', 'energy',\n",
    "       'instrumentalness', 'key', 'liveness', 'loudness', 'mode',\n",
    "       'speechiness', 'tempo', 'time_signature', 'valence']]\n",
    "tds1.head()"
   ]
  },
  {
   "cell_type": "code",
   "execution_count": 64,
   "metadata": {},
   "outputs": [
    {
     "data": {
      "text/plain": [
       "(12064, 17)"
      ]
     },
     "execution_count": 64,
     "metadata": {},
     "output_type": "execute_result"
    }
   ],
   "source": [
    "#tds1 = tds1.head(5000)\n",
    "tds1.shape"
   ]
  },
  {
   "cell_type": "markdown",
   "metadata": {},
   "source": [
    "# Linear Regression"
   ]
  },
  {
   "cell_type": "markdown",
   "metadata": {},
   "source": [
    "## Define Datasets "
   ]
  },
  {
   "cell_type": "code",
   "execution_count": 65,
   "metadata": {},
   "outputs": [
    {
     "data": {
      "text/html": [
       "<div>\n",
       "<style scoped>\n",
       "    .dataframe tbody tr th:only-of-type {\n",
       "        vertical-align: middle;\n",
       "    }\n",
       "\n",
       "    .dataframe tbody tr th {\n",
       "        vertical-align: top;\n",
       "    }\n",
       "\n",
       "    .dataframe thead th {\n",
       "        text-align: right;\n",
       "    }\n",
       "</style>\n",
       "<table border=\"1\" class=\"dataframe\">\n",
       "  <thead>\n",
       "    <tr style=\"text-align: right;\">\n",
       "      <th></th>\n",
       "      <th>followers</th>\n",
       "      <th>acousticness</th>\n",
       "      <th>danceability</th>\n",
       "      <th>duration_ms</th>\n",
       "      <th>energy</th>\n",
       "      <th>instrumentalness</th>\n",
       "      <th>key</th>\n",
       "      <th>liveness</th>\n",
       "      <th>loudness</th>\n",
       "      <th>mode</th>\n",
       "      <th>speechiness</th>\n",
       "      <th>tempo</th>\n",
       "      <th>time_signature</th>\n",
       "      <th>valence</th>\n",
       "    </tr>\n",
       "  </thead>\n",
       "  <tbody>\n",
       "    <tr>\n",
       "      <th>0</th>\n",
       "      <td>1627956</td>\n",
       "      <td>0.05910</td>\n",
       "      <td>0.646</td>\n",
       "      <td>307413</td>\n",
       "      <td>0.840</td>\n",
       "      <td>0.014100</td>\n",
       "      <td>8</td>\n",
       "      <td>0.0516</td>\n",
       "      <td>-8.213</td>\n",
       "      <td>1</td>\n",
       "      <td>0.0283</td>\n",
       "      <td>125.187</td>\n",
       "      <td>4</td>\n",
       "      <td>0.716</td>\n",
       "    </tr>\n",
       "    <tr>\n",
       "      <th>1</th>\n",
       "      <td>10469</td>\n",
       "      <td>0.00119</td>\n",
       "      <td>0.496</td>\n",
       "      <td>191160</td>\n",
       "      <td>0.928</td>\n",
       "      <td>0.000035</td>\n",
       "      <td>1</td>\n",
       "      <td>0.0988</td>\n",
       "      <td>-2.367</td>\n",
       "      <td>0</td>\n",
       "      <td>0.0469</td>\n",
       "      <td>144.932</td>\n",
       "      <td>4</td>\n",
       "      <td>0.561</td>\n",
       "    </tr>\n",
       "    <tr>\n",
       "      <th>2</th>\n",
       "      <td>5505368</td>\n",
       "      <td>0.09090</td>\n",
       "      <td>0.586</td>\n",
       "      <td>213720</td>\n",
       "      <td>0.692</td>\n",
       "      <td>0.000000</td>\n",
       "      <td>8</td>\n",
       "      <td>0.0567</td>\n",
       "      <td>-5.143</td>\n",
       "      <td>1</td>\n",
       "      <td>0.1770</td>\n",
       "      <td>158.041</td>\n",
       "      <td>4</td>\n",
       "      <td>0.457</td>\n",
       "    </tr>\n",
       "    <tr>\n",
       "      <th>3</th>\n",
       "      <td>880039</td>\n",
       "      <td>0.00361</td>\n",
       "      <td>0.643</td>\n",
       "      <td>210667</td>\n",
       "      <td>0.896</td>\n",
       "      <td>0.002050</td>\n",
       "      <td>0</td>\n",
       "      <td>0.9010</td>\n",
       "      <td>-6.662</td>\n",
       "      <td>1</td>\n",
       "      <td>0.0359</td>\n",
       "      <td>130.011</td>\n",
       "      <td>4</td>\n",
       "      <td>0.338</td>\n",
       "    </tr>\n",
       "    <tr>\n",
       "      <th>4</th>\n",
       "      <td>13</td>\n",
       "      <td>0.00328</td>\n",
       "      <td>0.699</td>\n",
       "      <td>119053</td>\n",
       "      <td>0.974</td>\n",
       "      <td>0.776000</td>\n",
       "      <td>9</td>\n",
       "      <td>0.2900</td>\n",
       "      <td>-5.576</td>\n",
       "      <td>0</td>\n",
       "      <td>0.1500</td>\n",
       "      <td>125.934</td>\n",
       "      <td>4</td>\n",
       "      <td>0.443</td>\n",
       "    </tr>\n",
       "  </tbody>\n",
       "</table>\n",
       "</div>"
      ],
      "text/plain": [
       "   followers  acousticness  danceability  duration_ms  energy  \\\n",
       "0    1627956       0.05910         0.646       307413   0.840   \n",
       "1      10469       0.00119         0.496       191160   0.928   \n",
       "2    5505368       0.09090         0.586       213720   0.692   \n",
       "3     880039       0.00361         0.643       210667   0.896   \n",
       "4         13       0.00328         0.699       119053   0.974   \n",
       "\n",
       "   instrumentalness  key  liveness  loudness  mode  speechiness    tempo  \\\n",
       "0          0.014100    8    0.0516    -8.213     1       0.0283  125.187   \n",
       "1          0.000035    1    0.0988    -2.367     0       0.0469  144.932   \n",
       "2          0.000000    8    0.0567    -5.143     1       0.1770  158.041   \n",
       "3          0.002050    0    0.9010    -6.662     1       0.0359  130.011   \n",
       "4          0.776000    9    0.2900    -5.576     0       0.1500  125.934   \n",
       "\n",
       "   time_signature  valence  \n",
       "0               4    0.716  \n",
       "1               4    0.561  \n",
       "2               4    0.457  \n",
       "3               4    0.338  \n",
       "4               4    0.443  "
      ]
     },
     "execution_count": 65,
     "metadata": {},
     "output_type": "execute_result"
    }
   ],
   "source": [
    "#Combined Dataset\n",
    "dfcombine = tds1\n",
    "#dfcombine = dfcombine.reset_index(inplace=True, drop=True)\n",
    "\n",
    "#Target Dataset\n",
    "dfy = pd.DataFrame(tds1[\"popularity\"])\n",
    "\n",
    "#all the independant variables/predictors are named as dfx\n",
    "dfx = dfcombine.drop(columns=['Artist', 'Track','popularity'])\n",
    "dfx.head()"
   ]
  },
  {
   "cell_type": "code",
   "execution_count": 66,
   "metadata": {},
   "outputs": [
    {
     "data": {
      "text/html": [
       "<div>\n",
       "<style scoped>\n",
       "    .dataframe tbody tr th:only-of-type {\n",
       "        vertical-align: middle;\n",
       "    }\n",
       "\n",
       "    .dataframe tbody tr th {\n",
       "        vertical-align: top;\n",
       "    }\n",
       "\n",
       "    .dataframe thead th {\n",
       "        text-align: right;\n",
       "    }\n",
       "</style>\n",
       "<table border=\"1\" class=\"dataframe\">\n",
       "  <thead>\n",
       "    <tr style=\"text-align: right;\">\n",
       "      <th></th>\n",
       "      <th>popularity</th>\n",
       "    </tr>\n",
       "  </thead>\n",
       "  <tbody>\n",
       "    <tr>\n",
       "      <th>0</th>\n",
       "      <td>38</td>\n",
       "    </tr>\n",
       "    <tr>\n",
       "      <th>1</th>\n",
       "      <td>11</td>\n",
       "    </tr>\n",
       "    <tr>\n",
       "      <th>2</th>\n",
       "      <td>31</td>\n",
       "    </tr>\n",
       "    <tr>\n",
       "      <th>3</th>\n",
       "      <td>0</td>\n",
       "    </tr>\n",
       "    <tr>\n",
       "      <th>4</th>\n",
       "      <td>2</td>\n",
       "    </tr>\n",
       "  </tbody>\n",
       "</table>\n",
       "</div>"
      ],
      "text/plain": [
       "   popularity\n",
       "0          38\n",
       "1          11\n",
       "2          31\n",
       "3           0\n",
       "4           2"
      ]
     },
     "execution_count": 66,
     "metadata": {},
     "output_type": "execute_result"
    }
   ],
   "source": [
    "dfy.head()"
   ]
  },
  {
   "cell_type": "code",
   "execution_count": 67,
   "metadata": {},
   "outputs": [],
   "source": [
    "#trying to get rid of >ValueError: Input contains NaN, infinity or a value too large for dtype('float64').\n",
    "np.where(dfx.values >= np.finfo(np.float64).max)\n",
    "np.isnan(dfx.values.any())\n",
    "dfx.replace([np.inf, -np.inf], np.nan, inplace=True)"
   ]
  },
  {
   "cell_type": "code",
   "execution_count": 7,
   "metadata": {},
   "outputs": [],
   "source": [
    "#trying to get rid of >ValueError: Input contains NaN, infinity or a value too large for dtype('float64').\n",
    "np.where(dfy.values >= np.finfo(np.float64).max)\n",
    "np.isnan(dfy.values.any())\n",
    "dfy.replace([np.inf, -np.inf], np.nan, inplace=True)"
   ]
  },
  {
   "cell_type": "markdown",
   "metadata": {},
   "source": [
    "## Train Set  - Linear Regression "
   ]
  },
  {
   "cell_type": "code",
   "execution_count": 68,
   "metadata": {},
   "outputs": [
    {
     "data": {
      "text/html": [
       "<div>\n",
       "<style scoped>\n",
       "    .dataframe tbody tr th:only-of-type {\n",
       "        vertical-align: middle;\n",
       "    }\n",
       "\n",
       "    .dataframe tbody tr th {\n",
       "        vertical-align: top;\n",
       "    }\n",
       "\n",
       "    .dataframe thead th {\n",
       "        text-align: right;\n",
       "    }\n",
       "</style>\n",
       "<table border=\"1\" class=\"dataframe\">\n",
       "  <thead>\n",
       "    <tr style=\"text-align: right;\">\n",
       "      <th></th>\n",
       "      <th>popularity</th>\n",
       "    </tr>\n",
       "  </thead>\n",
       "  <tbody>\n",
       "    <tr>\n",
       "      <th>0</th>\n",
       "      <td>38</td>\n",
       "    </tr>\n",
       "    <tr>\n",
       "      <th>1</th>\n",
       "      <td>11</td>\n",
       "    </tr>\n",
       "    <tr>\n",
       "      <th>2</th>\n",
       "      <td>31</td>\n",
       "    </tr>\n",
       "    <tr>\n",
       "      <th>3</th>\n",
       "      <td>0</td>\n",
       "    </tr>\n",
       "    <tr>\n",
       "      <th>4</th>\n",
       "      <td>2</td>\n",
       "    </tr>\n",
       "  </tbody>\n",
       "</table>\n",
       "</div>"
      ],
      "text/plain": [
       "   popularity\n",
       "0          38\n",
       "1          11\n",
       "2          31\n",
       "3           0\n",
       "4           2"
      ]
     },
     "execution_count": 68,
     "metadata": {},
     "output_type": "execute_result"
    }
   ],
   "source": [
    "dfx.reset_index(inplace=True, drop=True)\n",
    "dfy.reset_index(inplace=True, drop=True)\n",
    "dfy.head()"
   ]
  },
  {
   "cell_type": "code",
   "execution_count": 6,
   "metadata": {},
   "outputs": [],
   "source": [
    "#Copy the code from Brooklyn 4.0 to set up the model as far as possible...."
   ]
  },
  {
   "cell_type": "code",
   "execution_count": 69,
   "metadata": {},
   "outputs": [],
   "source": [
    "#to perform the train test split of the data, the train test split function is imported from sklearn\n",
    "from sklearn.model_selection import train_test_split\n",
    "#the percentage of the split is taken as 30%. SO the percentage of training is 70%\n",
    "X_train, X_test, y_train, y_test = train_test_split(dfx, dfy, test_size=0.3, random_state=42)"
   ]
  },
  {
   "cell_type": "code",
   "execution_count": 70,
   "metadata": {},
   "outputs": [
    {
     "data": {
      "text/plain": [
       "LinearRegression(copy_X=True, fit_intercept=True, n_jobs=None, normalize=False)"
      ]
     },
     "execution_count": 70,
     "metadata": {},
     "output_type": "execute_result"
    }
   ],
   "source": [
    "# linear regression \n",
    "from sklearn.linear_model import LinearRegression\n",
    "linR = LinearRegression()\n",
    "linR.fit(X_train, y_train)"
   ]
  },
  {
   "cell_type": "code",
   "execution_count": 71,
   "metadata": {},
   "outputs": [
    {
     "data": {
      "text/plain": [
       "0.2967684602526257"
      ]
     },
     "execution_count": 71,
     "metadata": {},
     "output_type": "execute_result"
    }
   ],
   "source": [
    "#the target is predicted for the test dataset\n",
    "predictions = linR.predict(X_test)\n",
    "#the accuracy of the prediction is found to be.... \n",
    "linR.score(X_test,y_test)"
   ]
  },
  {
   "cell_type": "code",
   "execution_count": 90,
   "metadata": {},
   "outputs": [],
   "source": [
    "from sklearn.metrics import accuracy_score\n"
   ]
  },
  {
   "cell_type": "code",
   "execution_count": 12,
   "metadata": {},
   "outputs": [
    {
     "data": {
      "text/plain": [
       "<matplotlib.axes._subplots.AxesSubplot at 0x5c3cb0ccf8>"
      ]
     },
     "execution_count": 12,
     "metadata": {},
     "output_type": "execute_result"
    },
    {
     "data": {
      "image/png": "[encoded data removed]",
      "text/plain": [
       "<Figure size 432x288 with 1 Axes>"
      ]
     },
     "metadata": {
      "needs_background": "light"
     },
     "output_type": "display_data"
    }
   ],
   "source": [
    "error = y_test - predictions\n",
    "#the error is calculated for the above test predictions and a distribution plot is plotted.\n",
    "sns.distplot(error)"
   ]
  },
  {
   "cell_type": "code",
   "execution_count": 13,
   "metadata": {},
   "outputs": [
    {
     "data": {
      "text/plain": [
       "(12064, 14)"
      ]
     },
     "execution_count": 13,
     "metadata": {},
     "output_type": "execute_result"
    }
   ],
   "source": [
    "dfx.shape"
   ]
  },
  {
   "cell_type": "code",
   "execution_count": 21,
   "metadata": {},
   "outputs": [
    {
     "data": {
      "text/html": [
       "<div>\n",
       "<style scoped>\n",
       "    .dataframe tbody tr th:only-of-type {\n",
       "        vertical-align: middle;\n",
       "    }\n",
       "\n",
       "    .dataframe tbody tr th {\n",
       "        vertical-align: top;\n",
       "    }\n",
       "\n",
       "    .dataframe thead th {\n",
       "        text-align: right;\n",
       "    }\n",
       "</style>\n",
       "<table border=\"1\" class=\"dataframe\">\n",
       "  <thead>\n",
       "    <tr style=\"text-align: right;\">\n",
       "      <th></th>\n",
       "      <th>ones</th>\n",
       "      <th>followers</th>\n",
       "      <th>acousticness</th>\n",
       "      <th>danceability</th>\n",
       "      <th>duration_ms</th>\n",
       "      <th>energy</th>\n",
       "      <th>instrumentalness</th>\n",
       "      <th>key</th>\n",
       "      <th>liveness</th>\n",
       "      <th>loudness</th>\n",
       "      <th>mode</th>\n",
       "      <th>speechiness</th>\n",
       "      <th>tempo</th>\n",
       "      <th>time_signature</th>\n",
       "      <th>valence</th>\n",
       "    </tr>\n",
       "  </thead>\n",
       "  <tbody>\n",
       "    <tr>\n",
       "      <th>0</th>\n",
       "      <td>1</td>\n",
       "      <td>1627956</td>\n",
       "      <td>0.05910</td>\n",
       "      <td>0.646</td>\n",
       "      <td>307413</td>\n",
       "      <td>0.840</td>\n",
       "      <td>0.014100</td>\n",
       "      <td>8</td>\n",
       "      <td>0.0516</td>\n",
       "      <td>-8.213</td>\n",
       "      <td>1</td>\n",
       "      <td>0.0283</td>\n",
       "      <td>125.187</td>\n",
       "      <td>4</td>\n",
       "      <td>0.716</td>\n",
       "    </tr>\n",
       "    <tr>\n",
       "      <th>1</th>\n",
       "      <td>1</td>\n",
       "      <td>10469</td>\n",
       "      <td>0.00119</td>\n",
       "      <td>0.496</td>\n",
       "      <td>191160</td>\n",
       "      <td>0.928</td>\n",
       "      <td>0.000035</td>\n",
       "      <td>1</td>\n",
       "      <td>0.0988</td>\n",
       "      <td>-2.367</td>\n",
       "      <td>0</td>\n",
       "      <td>0.0469</td>\n",
       "      <td>144.932</td>\n",
       "      <td>4</td>\n",
       "      <td>0.561</td>\n",
       "    </tr>\n",
       "    <tr>\n",
       "      <th>2</th>\n",
       "      <td>1</td>\n",
       "      <td>5505368</td>\n",
       "      <td>0.09090</td>\n",
       "      <td>0.586</td>\n",
       "      <td>213720</td>\n",
       "      <td>0.692</td>\n",
       "      <td>0.000000</td>\n",
       "      <td>8</td>\n",
       "      <td>0.0567</td>\n",
       "      <td>-5.143</td>\n",
       "      <td>1</td>\n",
       "      <td>0.1770</td>\n",
       "      <td>158.041</td>\n",
       "      <td>4</td>\n",
       "      <td>0.457</td>\n",
       "    </tr>\n",
       "    <tr>\n",
       "      <th>3</th>\n",
       "      <td>1</td>\n",
       "      <td>880039</td>\n",
       "      <td>0.00361</td>\n",
       "      <td>0.643</td>\n",
       "      <td>210667</td>\n",
       "      <td>0.896</td>\n",
       "      <td>0.002050</td>\n",
       "      <td>0</td>\n",
       "      <td>0.9010</td>\n",
       "      <td>-6.662</td>\n",
       "      <td>1</td>\n",
       "      <td>0.0359</td>\n",
       "      <td>130.011</td>\n",
       "      <td>4</td>\n",
       "      <td>0.338</td>\n",
       "    </tr>\n",
       "    <tr>\n",
       "      <th>4</th>\n",
       "      <td>1</td>\n",
       "      <td>13</td>\n",
       "      <td>0.00328</td>\n",
       "      <td>0.699</td>\n",
       "      <td>119053</td>\n",
       "      <td>0.974</td>\n",
       "      <td>0.776000</td>\n",
       "      <td>9</td>\n",
       "      <td>0.2900</td>\n",
       "      <td>-5.576</td>\n",
       "      <td>0</td>\n",
       "      <td>0.1500</td>\n",
       "      <td>125.934</td>\n",
       "      <td>4</td>\n",
       "      <td>0.443</td>\n",
       "    </tr>\n",
       "  </tbody>\n",
       "</table>\n",
       "</div>"
      ],
      "text/plain": [
       "   ones  followers  acousticness  danceability  duration_ms  energy  \\\n",
       "0     1    1627956       0.05910         0.646       307413   0.840   \n",
       "1     1      10469       0.00119         0.496       191160   0.928   \n",
       "2     1    5505368       0.09090         0.586       213720   0.692   \n",
       "3     1     880039       0.00361         0.643       210667   0.896   \n",
       "4     1         13       0.00328         0.699       119053   0.974   \n",
       "\n",
       "   instrumentalness  key  liveness  loudness  mode  speechiness    tempo  \\\n",
       "0          0.014100    8    0.0516    -8.213     1       0.0283  125.187   \n",
       "1          0.000035    1    0.0988    -2.367     0       0.0469  144.932   \n",
       "2          0.000000    8    0.0567    -5.143     1       0.1770  158.041   \n",
       "3          0.002050    0    0.9010    -6.662     1       0.0359  130.011   \n",
       "4          0.776000    9    0.2900    -5.576     0       0.1500  125.934   \n",
       "\n",
       "   time_signature  valence  \n",
       "0               4    0.716  \n",
       "1               4    0.561  \n",
       "2               4    0.457  \n",
       "3               4    0.338  \n",
       "4               4    0.443  "
      ]
     },
     "execution_count": 21,
     "metadata": {},
     "output_type": "execute_result"
    }
   ],
   "source": [
    "oness = np.ones((12064,1),dtype = int)\n",
    "dfone = pd.DataFrame(oness, columns = ['ones'])\n",
    "dfxnew = dfone.join(dfx)\n",
    "dfxnew.head()\n"
   ]
  },
  {
   "cell_type": "code",
   "execution_count": 22,
   "metadata": {},
   "outputs": [
    {
     "name": "stdout",
     "output_type": "stream",
     "text": [
      "(12064, 1)\n",
      "(12064, 15)\n"
     ]
    }
   ],
   "source": [
    "dfxnew.reset_index(inplace=True, drop=True)\n",
    "dfy.reset_index(inplace=True, drop=True)\n",
    "print(dfy.shape)\n",
    "print(dfxnew.shape)"
   ]
  },
  {
   "cell_type": "code",
   "execution_count": 15,
   "metadata": {},
   "outputs": [],
   "source": [
    "import statsmodels.formula.api as sm\n",
    "import statsmodels.regression.linear_model as lm"
   ]
  },
  {
   "cell_type": "code",
   "execution_count": 23,
   "metadata": {},
   "outputs": [
    {
     "data": {
      "text/html": [
       "<table class=\"simpletable\">\n",
       "<caption>OLS Regression Results</caption>\n",
       "<tr>\n",
       "  <th>Dep. Variable:</th>       <td>popularity</td>    <th>  R-squared:         </th> <td>   0.298</td> \n",
       "</tr>\n",
       "<tr>\n",
       "  <th>Model:</th>                   <td>OLS</td>       <th>  Adj. R-squared:    </th> <td>   0.297</td> \n",
       "</tr>\n",
       "<tr>\n",
       "  <th>Method:</th>             <td>Least Squares</td>  <th>  F-statistic:       </th> <td>   365.1</td> \n",
       "</tr>\n",
       "<tr>\n",
       "  <th>Date:</th>             <td>Wed, 15 Apr 2020</td> <th>  Prob (F-statistic):</th>  <td>  0.00</td>  \n",
       "</tr>\n",
       "<tr>\n",
       "  <th>Time:</th>                 <td>00:38:54</td>     <th>  Log-Likelihood:    </th> <td> -53434.</td> \n",
       "</tr>\n",
       "<tr>\n",
       "  <th>No. Observations:</th>      <td> 12064</td>      <th>  AIC:               </th> <td>1.069e+05</td>\n",
       "</tr>\n",
       "<tr>\n",
       "  <th>Df Residuals:</th>          <td> 12049</td>      <th>  BIC:               </th> <td>1.070e+05</td>\n",
       "</tr>\n",
       "<tr>\n",
       "  <th>Df Model:</th>              <td>    14</td>      <th>                     </th>     <td> </td>    \n",
       "</tr>\n",
       "<tr>\n",
       "  <th>Covariance Type:</th>      <td>nonrobust</td>    <th>                     </th>     <td> </td>    \n",
       "</tr>\n",
       "</table>\n",
       "<table class=\"simpletable\">\n",
       "<tr>\n",
       "          <td></td>            <th>coef</th>     <th>std err</th>      <th>t</th>      <th>P>|t|</th>  <th>[0.025</th>    <th>0.975]</th>  \n",
       "</tr>\n",
       "<tr>\n",
       "  <th>ones</th>             <td>    6.5709</td> <td>    2.655</td> <td>    2.475</td> <td> 0.013</td> <td>    1.366</td> <td>   11.775</td>\n",
       "</tr>\n",
       "<tr>\n",
       "  <th>followers</th>        <td> 2.176e-06</td> <td> 5.05e-08</td> <td>   43.060</td> <td> 0.000</td> <td> 2.08e-06</td> <td> 2.27e-06</td>\n",
       "</tr>\n",
       "<tr>\n",
       "  <th>acousticness</th>     <td>   -1.6461</td> <td>    0.894</td> <td>   -1.841</td> <td> 0.066</td> <td>   -3.399</td> <td>    0.107</td>\n",
       "</tr>\n",
       "<tr>\n",
       "  <th>danceability</th>     <td>   11.9009</td> <td>    1.356</td> <td>    8.775</td> <td> 0.000</td> <td>    9.243</td> <td>   14.559</td>\n",
       "</tr>\n",
       "<tr>\n",
       "  <th>duration_ms</th>      <td> 6.164e-06</td> <td> 2.05e-06</td> <td>    3.007</td> <td> 0.003</td> <td> 2.15e-06</td> <td> 1.02e-05</td>\n",
       "</tr>\n",
       "<tr>\n",
       "  <th>energy</th>           <td>   -2.3782</td> <td>    1.516</td> <td>   -1.569</td> <td> 0.117</td> <td>   -5.350</td> <td>    0.593</td>\n",
       "</tr>\n",
       "<tr>\n",
       "  <th>instrumentalness</th> <td>  -23.8400</td> <td>    0.673</td> <td>  -35.411</td> <td> 0.000</td> <td>  -25.160</td> <td>  -22.520</td>\n",
       "</tr>\n",
       "<tr>\n",
       "  <th>key</th>              <td>   -0.0353</td> <td>    0.052</td> <td>   -0.677</td> <td> 0.499</td> <td>   -0.138</td> <td>    0.067</td>\n",
       "</tr>\n",
       "<tr>\n",
       "  <th>liveness</th>         <td>   -6.1980</td> <td>    1.139</td> <td>   -5.443</td> <td> 0.000</td> <td>   -8.430</td> <td>   -3.966</td>\n",
       "</tr>\n",
       "<tr>\n",
       "  <th>loudness</th>         <td>   -0.5015</td> <td>    0.073</td> <td>   -6.841</td> <td> 0.000</td> <td>   -0.645</td> <td>   -0.358</td>\n",
       "</tr>\n",
       "<tr>\n",
       "  <th>mode</th>             <td>    1.8445</td> <td>    0.401</td> <td>    4.596</td> <td> 0.000</td> <td>    1.058</td> <td>    2.631</td>\n",
       "</tr>\n",
       "<tr>\n",
       "  <th>speechiness</th>      <td>  -25.0214</td> <td>    2.163</td> <td>  -11.565</td> <td> 0.000</td> <td>  -29.262</td> <td>  -20.781</td>\n",
       "</tr>\n",
       "<tr>\n",
       "  <th>tempo</th>            <td>   -0.0155</td> <td>    0.007</td> <td>   -2.266</td> <td> 0.023</td> <td>   -0.029</td> <td>   -0.002</td>\n",
       "</tr>\n",
       "<tr>\n",
       "  <th>time_signature</th>   <td>    2.5198</td> <td>    0.501</td> <td>    5.028</td> <td> 0.000</td> <td>    1.538</td> <td>    3.502</td>\n",
       "</tr>\n",
       "<tr>\n",
       "  <th>valence</th>          <td>   11.3908</td> <td>    0.919</td> <td>   12.401</td> <td> 0.000</td> <td>    9.590</td> <td>   13.191</td>\n",
       "</tr>\n",
       "</table>\n",
       "<table class=\"simpletable\">\n",
       "<tr>\n",
       "  <th>Omnibus:</th>       <td>640.033</td> <th>  Durbin-Watson:     </th> <td>   1.274</td>\n",
       "</tr>\n",
       "<tr>\n",
       "  <th>Prob(Omnibus):</th> <td> 0.000</td>  <th>  Jarque-Bera (JB):  </th> <td> 323.964</td>\n",
       "</tr>\n",
       "<tr>\n",
       "  <th>Skew:</th>          <td> 0.223</td>  <th>  Prob(JB):          </th> <td>4.49e-71</td>\n",
       "</tr>\n",
       "<tr>\n",
       "  <th>Kurtosis:</th>      <td> 2.333</td>  <th>  Cond. No.          </th> <td>6.00e+07</td>\n",
       "</tr>\n",
       "</table><br/><br/>Warnings:<br/>[1] Standard Errors assume that the covariance matrix of the errors is correctly specified.<br/>[2] The condition number is large,  6e+07. This might indicate that there are<br/>strong multicollinearity or other numerical problems."
      ],
      "text/plain": [
       "<class 'statsmodels.iolib.summary.Summary'>\n",
       "\"\"\"\n",
       "                            OLS Regression Results                            \n",
       "==============================================================================\n",
       "Dep. Variable:             popularity   R-squared:                       0.298\n",
       "Model:                            OLS   Adj. R-squared:                  0.297\n",
       "Method:                 Least Squares   F-statistic:                     365.1\n",
       "Date:                Wed, 15 Apr 2020   Prob (F-statistic):               0.00\n",
       "Time:                        00:38:54   Log-Likelihood:                -53434.\n",
       "No. Observations:               12064   AIC:                         1.069e+05\n",
       "Df Residuals:                   12049   BIC:                         1.070e+05\n",
       "Df Model:                          14                                         \n",
       "Covariance Type:            nonrobust                                         \n",
       "====================================================================================\n",
       "                       coef    std err          t      P>|t|      [0.025      0.975]\n",
       "------------------------------------------------------------------------------------\n",
       "ones                 6.5709      2.655      2.475      0.013       1.366      11.775\n",
       "followers         2.176e-06   5.05e-08     43.060      0.000    2.08e-06    2.27e-06\n",
       "acousticness        -1.6461      0.894     -1.841      0.066      -3.399       0.107\n",
       "danceability        11.9009      1.356      8.775      0.000       9.243      14.559\n",
       "duration_ms       6.164e-06   2.05e-06      3.007      0.003    2.15e-06    1.02e-05\n",
       "energy              -2.3782      1.516     -1.569      0.117      -5.350       0.593\n",
       "instrumentalness   -23.8400      0.673    -35.411      0.000     -25.160     -22.520\n",
       "key                 -0.0353      0.052     -0.677      0.499      -0.138       0.067\n",
       "liveness            -6.1980      1.139     -5.443      0.000      -8.430      -3.966\n",
       "loudness            -0.5015      0.073     -6.841      0.000      -0.645      -0.358\n",
       "mode                 1.8445      0.401      4.596      0.000       1.058       2.631\n",
       "speechiness        -25.0214      2.163    -11.565      0.000     -29.262     -20.781\n",
       "tempo               -0.0155      0.007     -2.266      0.023      -0.029      -0.002\n",
       "time_signature       2.5198      0.501      5.028      0.000       1.538       3.502\n",
       "valence             11.3908      0.919     12.401      0.000       9.590      13.191\n",
       "==============================================================================\n",
       "Omnibus:                      640.033   Durbin-Watson:                   1.274\n",
       "Prob(Omnibus):                  0.000   Jarque-Bera (JB):              323.964\n",
       "Skew:                           0.223   Prob(JB):                     4.49e-71\n",
       "Kurtosis:                       2.333   Cond. No.                     6.00e+07\n",
       "==============================================================================\n",
       "\n",
       "Warnings:\n",
       "[1] Standard Errors assume that the covariance matrix of the errors is correctly specified.\n",
       "[2] The condition number is large,  6e+07. This might indicate that there are\n",
       "strong multicollinearity or other numerical problems.\n",
       "\"\"\""
      ]
     },
     "execution_count": 23,
     "metadata": {},
     "output_type": "execute_result"
    }
   ],
   "source": [
    "#OLS Regression - ,\n",
    "lir_ols = lm.OLS(endog = dfy, exog = dfxnew).fit()\n",
    "lir_ols.summary()"
   ]
  },
  {
   "cell_type": "markdown",
   "metadata": {},
   "source": [
    "## RMSE Model with Plot"
   ]
  },
  {
   "cell_type": "code",
   "execution_count": 24,
   "metadata": {},
   "outputs": [],
   "source": [
    "from sklearn.model_selection import cross_val_score, train_test_split\n",
    "from sklearn.preprocessing import StandardScaler\n",
    "from sklearn.linear_model import LinearRegression, RidgeCV, LassoCV, ElasticNetCV\n",
    "from sklearn.metrics import mean_squared_error, make_scorer\n",
    "\n",
    "# Define error measure for official scoring : RMSE\n",
    "scorer = make_scorer(mean_squared_error, greater_is_better = False)\n",
    "\n",
    "def rmse_cv_train(model):\n",
    "    rmse= np.sqrt(-cross_val_score(model, X_train, y_train, scoring = scorer, cv = 10))\n",
    "    return(rmse)\n",
    "\n",
    "def rmse_cv_test(model):\n",
    "    rmse= np.sqrt(-cross_val_score(model, X_test, y_test, scoring = scorer, cv = 10))\n",
    "    return(rmse)"
   ]
  },
  {
   "cell_type": "code",
   "execution_count": 25,
   "metadata": {},
   "outputs": [
    {
     "name": "stdout",
     "output_type": "stream",
     "text": [
      "RMSE on Training set : 20.313038647604227\n",
      "RMSE on Test set : 20.364728714471937\n"
     ]
    },
    {
     "data": {
      "image/png": "[encoded data removed]",
      "text/plain": [
       "<Figure size 432x288 with 1 Axes>"
      ]
     },
     "metadata": {
      "needs_background": "light"
     },
     "output_type": "display_data"
    },
    {
     "data": {
      "image/png": "[encoded data removed]",
      "text/plain": [
       "<Figure size 432x288 with 1 Axes>"
      ]
     },
     "metadata": {
      "needs_background": "light"
     },
     "output_type": "display_data"
    }
   ],
   "source": [
    "# Linear Regression\n",
    "lr = LinearRegression()\n",
    "lr.fit(X_train, y_train)\n",
    "\n",
    "# Look at predictions on training and validation set\n",
    "print(\"RMSE on Training set :\", rmse_cv_train(lr).mean())\n",
    "print(\"RMSE on Test set :\", rmse_cv_test(lr).mean())\n",
    "y_train_pred = lr.predict(X_train)\n",
    "y_test_pred = lr.predict(X_test)\n",
    "\n",
    "# Plot residuals\n",
    "plt.scatter(y_train_pred, y_train_pred - y_train, c = \"blue\", marker = \"s\", label = \"Training data\")\n",
    "plt.scatter(y_test_pred, y_test_pred - y_test, c = \"lightgreen\", marker = \"s\", label = \"Validation data\")\n",
    "plt.title(\"Linear regression\")\n",
    "plt.xlabel(\"Predicted values\")\n",
    "plt.ylabel(\"Residuals\")\n",
    "plt.legend(loc = \"upper left\")\n",
    "plt.hlines(y = 0, xmin = 10.5, xmax = 13.5, color = \"red\")\n",
    "plt.show()\n",
    "\n",
    "# Plot predictions\n",
    "plt.scatter(y_train_pred, y_train, c = \"blue\", marker = \"s\", label = \"Training data\")\n",
    "plt.scatter(y_test_pred, y_test, c = \"lightgreen\", marker = \"s\", label = \"Validation data\")\n",
    "plt.title(\"Linear regression\")\n",
    "plt.xlabel(\"Predicted values\")\n",
    "plt.ylabel(\"Real values\")\n",
    "plt.legend(loc = \"upper left\")\n",
    "plt.plot([10.5, 13.5], [10.5, 13.5], c = \"red\")\n",
    "plt.show()"
   ]
  },
  {
   "cell_type": "markdown",
   "metadata": {},
   "source": [
    "## Once More Run - with fewer variables"
   ]
  },
  {
   "cell_type": "code",
   "execution_count": 28,
   "metadata": {},
   "outputs": [
    {
     "data": {
      "text/html": [
       "<div>\n",
       "<style scoped>\n",
       "    .dataframe tbody tr th:only-of-type {\n",
       "        vertical-align: middle;\n",
       "    }\n",
       "\n",
       "    .dataframe tbody tr th {\n",
       "        vertical-align: top;\n",
       "    }\n",
       "\n",
       "    .dataframe thead th {\n",
       "        text-align: right;\n",
       "    }\n",
       "</style>\n",
       "<table border=\"1\" class=\"dataframe\">\n",
       "  <thead>\n",
       "    <tr style=\"text-align: right;\">\n",
       "      <th></th>\n",
       "      <th>ones</th>\n",
       "      <th>followers</th>\n",
       "      <th>acousticness</th>\n",
       "      <th>danceability</th>\n",
       "      <th>duration_ms</th>\n",
       "      <th>energy</th>\n",
       "      <th>instrumentalness</th>\n",
       "      <th>liveness</th>\n",
       "      <th>loudness</th>\n",
       "      <th>speechiness</th>\n",
       "      <th>tempo</th>\n",
       "      <th>valence</th>\n",
       "    </tr>\n",
       "  </thead>\n",
       "  <tbody>\n",
       "    <tr>\n",
       "      <th>0</th>\n",
       "      <td>1</td>\n",
       "      <td>1627956</td>\n",
       "      <td>0.05910</td>\n",
       "      <td>0.646</td>\n",
       "      <td>307413</td>\n",
       "      <td>0.840</td>\n",
       "      <td>0.014100</td>\n",
       "      <td>0.0516</td>\n",
       "      <td>-8.213</td>\n",
       "      <td>0.0283</td>\n",
       "      <td>125.187</td>\n",
       "      <td>0.716</td>\n",
       "    </tr>\n",
       "    <tr>\n",
       "      <th>1</th>\n",
       "      <td>1</td>\n",
       "      <td>10469</td>\n",
       "      <td>0.00119</td>\n",
       "      <td>0.496</td>\n",
       "      <td>191160</td>\n",
       "      <td>0.928</td>\n",
       "      <td>0.000035</td>\n",
       "      <td>0.0988</td>\n",
       "      <td>-2.367</td>\n",
       "      <td>0.0469</td>\n",
       "      <td>144.932</td>\n",
       "      <td>0.561</td>\n",
       "    </tr>\n",
       "    <tr>\n",
       "      <th>2</th>\n",
       "      <td>1</td>\n",
       "      <td>5505368</td>\n",
       "      <td>0.09090</td>\n",
       "      <td>0.586</td>\n",
       "      <td>213720</td>\n",
       "      <td>0.692</td>\n",
       "      <td>0.000000</td>\n",
       "      <td>0.0567</td>\n",
       "      <td>-5.143</td>\n",
       "      <td>0.1770</td>\n",
       "      <td>158.041</td>\n",
       "      <td>0.457</td>\n",
       "    </tr>\n",
       "    <tr>\n",
       "      <th>3</th>\n",
       "      <td>1</td>\n",
       "      <td>880039</td>\n",
       "      <td>0.00361</td>\n",
       "      <td>0.643</td>\n",
       "      <td>210667</td>\n",
       "      <td>0.896</td>\n",
       "      <td>0.002050</td>\n",
       "      <td>0.9010</td>\n",
       "      <td>-6.662</td>\n",
       "      <td>0.0359</td>\n",
       "      <td>130.011</td>\n",
       "      <td>0.338</td>\n",
       "    </tr>\n",
       "    <tr>\n",
       "      <th>4</th>\n",
       "      <td>1</td>\n",
       "      <td>13</td>\n",
       "      <td>0.00328</td>\n",
       "      <td>0.699</td>\n",
       "      <td>119053</td>\n",
       "      <td>0.974</td>\n",
       "      <td>0.776000</td>\n",
       "      <td>0.2900</td>\n",
       "      <td>-5.576</td>\n",
       "      <td>0.1500</td>\n",
       "      <td>125.934</td>\n",
       "      <td>0.443</td>\n",
       "    </tr>\n",
       "  </tbody>\n",
       "</table>\n",
       "</div>"
      ],
      "text/plain": [
       "   ones  followers  acousticness  danceability  duration_ms  energy  \\\n",
       "0     1    1627956       0.05910         0.646       307413   0.840   \n",
       "1     1      10469       0.00119         0.496       191160   0.928   \n",
       "2     1    5505368       0.09090         0.586       213720   0.692   \n",
       "3     1     880039       0.00361         0.643       210667   0.896   \n",
       "4     1         13       0.00328         0.699       119053   0.974   \n",
       "\n",
       "   instrumentalness  liveness  loudness  speechiness    tempo  valence  \n",
       "0          0.014100    0.0516    -8.213       0.0283  125.187    0.716  \n",
       "1          0.000035    0.0988    -2.367       0.0469  144.932    0.561  \n",
       "2          0.000000    0.0567    -5.143       0.1770  158.041    0.457  \n",
       "3          0.002050    0.9010    -6.662       0.0359  130.011    0.338  \n",
       "4          0.776000    0.2900    -5.576       0.1500  125.934    0.443  "
      ]
     },
     "execution_count": 28,
     "metadata": {},
     "output_type": "execute_result"
    }
   ],
   "source": [
    "dfx2 = dfxnew.drop(['time_signature','key','mode'], axis = 1)\n",
    "dfx2.head()"
   ]
  },
  {
   "cell_type": "code",
   "execution_count": 29,
   "metadata": {},
   "outputs": [
    {
     "data": {
      "text/html": [
       "<table class=\"simpletable\">\n",
       "<caption>OLS Regression Results</caption>\n",
       "<tr>\n",
       "  <th>Dep. Variable:</th>       <td>popularity</td>    <th>  R-squared:         </th> <td>   0.295</td> \n",
       "</tr>\n",
       "<tr>\n",
       "  <th>Model:</th>                   <td>OLS</td>       <th>  Adj. R-squared:    </th> <td>   0.294</td> \n",
       "</tr>\n",
       "<tr>\n",
       "  <th>Method:</th>             <td>Least Squares</td>  <th>  F-statistic:       </th> <td>   458.5</td> \n",
       "</tr>\n",
       "<tr>\n",
       "  <th>Date:</th>             <td>Wed, 15 Apr 2020</td> <th>  Prob (F-statistic):</th>  <td>  0.00</td>  \n",
       "</tr>\n",
       "<tr>\n",
       "  <th>Time:</th>                 <td>00:41:36</td>     <th>  Log-Likelihood:    </th> <td> -53459.</td> \n",
       "</tr>\n",
       "<tr>\n",
       "  <th>No. Observations:</th>      <td> 12064</td>      <th>  AIC:               </th> <td>1.069e+05</td>\n",
       "</tr>\n",
       "<tr>\n",
       "  <th>Df Residuals:</th>          <td> 12052</td>      <th>  BIC:               </th> <td>1.070e+05</td>\n",
       "</tr>\n",
       "<tr>\n",
       "  <th>Df Model:</th>              <td>    11</td>      <th>                     </th>     <td> </td>    \n",
       "</tr>\n",
       "<tr>\n",
       "  <th>Covariance Type:</th>      <td>nonrobust</td>    <th>                     </th>     <td> </td>    \n",
       "</tr>\n",
       "</table>\n",
       "<table class=\"simpletable\">\n",
       "<tr>\n",
       "          <td></td>            <th>coef</th>     <th>std err</th>      <th>t</th>      <th>P>|t|</th>  <th>[0.025</th>    <th>0.975]</th>  \n",
       "</tr>\n",
       "<tr>\n",
       "  <th>ones</th>             <td>   16.9643</td> <td>    1.920</td> <td>    8.838</td> <td> 0.000</td> <td>   13.202</td> <td>   20.727</td>\n",
       "</tr>\n",
       "<tr>\n",
       "  <th>followers</th>        <td> 2.175e-06</td> <td> 5.06e-08</td> <td>   42.980</td> <td> 0.000</td> <td> 2.08e-06</td> <td> 2.27e-06</td>\n",
       "</tr>\n",
       "<tr>\n",
       "  <th>acousticness</th>     <td>   -1.6508</td> <td>    0.895</td> <td>   -1.844</td> <td> 0.065</td> <td>   -3.406</td> <td>    0.104</td>\n",
       "</tr>\n",
       "<tr>\n",
       "  <th>danceability</th>     <td>   12.3820</td> <td>    1.344</td> <td>    9.211</td> <td> 0.000</td> <td>    9.747</td> <td>   15.017</td>\n",
       "</tr>\n",
       "<tr>\n",
       "  <th>duration_ms</th>      <td> 6.086e-06</td> <td> 2.05e-06</td> <td>    2.969</td> <td> 0.003</td> <td> 2.07e-06</td> <td> 1.01e-05</td>\n",
       "</tr>\n",
       "<tr>\n",
       "  <th>energy</th>           <td>   -2.0857</td> <td>    1.516</td> <td>   -1.376</td> <td> 0.169</td> <td>   -5.058</td> <td>    0.886</td>\n",
       "</tr>\n",
       "<tr>\n",
       "  <th>instrumentalness</th> <td>  -24.1271</td> <td>    0.673</td> <td>  -35.849</td> <td> 0.000</td> <td>  -25.446</td> <td>  -22.808</td>\n",
       "</tr>\n",
       "<tr>\n",
       "  <th>liveness</th>         <td>   -6.1647</td> <td>    1.141</td> <td>   -5.404</td> <td> 0.000</td> <td>   -8.401</td> <td>   -3.929</td>\n",
       "</tr>\n",
       "<tr>\n",
       "  <th>loudness</th>         <td>   -0.5006</td> <td>    0.073</td> <td>   -6.817</td> <td> 0.000</td> <td>   -0.645</td> <td>   -0.357</td>\n",
       "</tr>\n",
       "<tr>\n",
       "  <th>speechiness</th>      <td>  -25.9203</td> <td>    2.164</td> <td>  -11.979</td> <td> 0.000</td> <td>  -30.162</td> <td>  -21.679</td>\n",
       "</tr>\n",
       "<tr>\n",
       "  <th>tempo</th>            <td>   -0.0141</td> <td>    0.007</td> <td>   -2.067</td> <td> 0.039</td> <td>   -0.027</td> <td>   -0.001</td>\n",
       "</tr>\n",
       "<tr>\n",
       "  <th>valence</th>          <td>   11.4565</td> <td>    0.920</td> <td>   12.451</td> <td> 0.000</td> <td>    9.653</td> <td>   13.260</td>\n",
       "</tr>\n",
       "</table>\n",
       "<table class=\"simpletable\">\n",
       "<tr>\n",
       "  <th>Omnibus:</th>       <td>643.964</td> <th>  Durbin-Watson:     </th> <td>   1.266</td>\n",
       "</tr>\n",
       "<tr>\n",
       "  <th>Prob(Omnibus):</th> <td> 0.000</td>  <th>  Jarque-Bera (JB):  </th> <td> 327.810</td>\n",
       "</tr>\n",
       "<tr>\n",
       "  <th>Skew:</th>          <td> 0.228</td>  <th>  Prob(JB):          </th> <td>6.56e-72</td>\n",
       "</tr>\n",
       "<tr>\n",
       "  <th>Kurtosis:</th>      <td> 2.333</td>  <th>  Cond. No.          </th> <td>5.21e+07</td>\n",
       "</tr>\n",
       "</table><br/><br/>Warnings:<br/>[1] Standard Errors assume that the covariance matrix of the errors is correctly specified.<br/>[2] The condition number is large, 5.21e+07. This might indicate that there are<br/>strong multicollinearity or other numerical problems."
      ],
      "text/plain": [
       "<class 'statsmodels.iolib.summary.Summary'>\n",
       "\"\"\"\n",
       "                            OLS Regression Results                            \n",
       "==============================================================================\n",
       "Dep. Variable:             popularity   R-squared:                       0.295\n",
       "Model:                            OLS   Adj. R-squared:                  0.294\n",
       "Method:                 Least Squares   F-statistic:                     458.5\n",
       "Date:                Wed, 15 Apr 2020   Prob (F-statistic):               0.00\n",
       "Time:                        00:41:36   Log-Likelihood:                -53459.\n",
       "No. Observations:               12064   AIC:                         1.069e+05\n",
       "Df Residuals:                   12052   BIC:                         1.070e+05\n",
       "Df Model:                          11                                         \n",
       "Covariance Type:            nonrobust                                         \n",
       "====================================================================================\n",
       "                       coef    std err          t      P>|t|      [0.025      0.975]\n",
       "------------------------------------------------------------------------------------\n",
       "ones                16.9643      1.920      8.838      0.000      13.202      20.727\n",
       "followers         2.175e-06   5.06e-08     42.980      0.000    2.08e-06    2.27e-06\n",
       "acousticness        -1.6508      0.895     -1.844      0.065      -3.406       0.104\n",
       "danceability        12.3820      1.344      9.211      0.000       9.747      15.017\n",
       "duration_ms       6.086e-06   2.05e-06      2.969      0.003    2.07e-06    1.01e-05\n",
       "energy              -2.0857      1.516     -1.376      0.169      -5.058       0.886\n",
       "instrumentalness   -24.1271      0.673    -35.849      0.000     -25.446     -22.808\n",
       "liveness            -6.1647      1.141     -5.404      0.000      -8.401      -3.929\n",
       "loudness            -0.5006      0.073     -6.817      0.000      -0.645      -0.357\n",
       "speechiness        -25.9203      2.164    -11.979      0.000     -30.162     -21.679\n",
       "tempo               -0.0141      0.007     -2.067      0.039      -0.027      -0.001\n",
       "valence             11.4565      0.920     12.451      0.000       9.653      13.260\n",
       "==============================================================================\n",
       "Omnibus:                      643.964   Durbin-Watson:                   1.266\n",
       "Prob(Omnibus):                  0.000   Jarque-Bera (JB):              327.810\n",
       "Skew:                           0.228   Prob(JB):                     6.56e-72\n",
       "Kurtosis:                       2.333   Cond. No.                     5.21e+07\n",
       "==============================================================================\n",
       "\n",
       "Warnings:\n",
       "[1] Standard Errors assume that the covariance matrix of the errors is correctly specified.\n",
       "[2] The condition number is large, 5.21e+07. This might indicate that there are\n",
       "strong multicollinearity or other numerical problems.\n",
       "\"\"\""
      ]
     },
     "execution_count": 29,
     "metadata": {},
     "output_type": "execute_result"
    }
   ],
   "source": [
    "#OLS Regression\n",
    "lir_ols = lm.OLS(endog = dfy, exog = dfx2).fit()\n",
    "lir_ols.summary()"
   ]
  },
  {
   "cell_type": "code",
   "execution_count": 30,
   "metadata": {},
   "outputs": [
    {
     "data": {
      "text/plain": [
       "LinearRegression(copy_X=True, fit_intercept=True, n_jobs=None, normalize=False)"
      ]
     },
     "execution_count": 30,
     "metadata": {},
     "output_type": "execute_result"
    }
   ],
   "source": [
    "#the percentage of the split is taken as 30%. SO the percentage of training is 70%\n",
    "X_train2, X_test2, y_train2, y_test2 = train_test_split(dfx2, dfy, test_size=0.3, random_state=42)\n",
    "linR2 = LinearRegression()\n",
    "linR2.fit(X_train2, y_train2)"
   ]
  },
  {
   "cell_type": "code",
   "execution_count": 31,
   "metadata": {},
   "outputs": [
    {
     "data": {
      "text/plain": [
       "0.29593585633171704"
      ]
     },
     "execution_count": 31,
     "metadata": {},
     "output_type": "execute_result"
    }
   ],
   "source": [
    "#the target is predicted for the test dataset\n",
    "predictions = linR2.predict(X_test2)\n",
    "#the accuracy of the prediction is found to be.... \n",
    "linR2.score(X_test2,y_test2)"
   ]
  },
  {
   "cell_type": "markdown",
   "metadata": {},
   "source": [
    "## Next Steps - Normalisation"
   ]
  },
  {
   "cell_type": "code",
   "execution_count": 32,
   "metadata": {},
   "outputs": [
    {
     "data": {
      "image/png": "[encoded data removed]",
      "text/plain": [
       "<Figure size 432x288 with 1 Axes>"
      ]
     },
     "metadata": {
      "needs_background": "light"
     },
     "output_type": "display_data"
    },
    {
     "data": {
      "image/png": "[encoded data removed]",
      "text/plain": [
       "<Figure size 432x288 with 1 Axes>"
      ]
     },
     "metadata": {
      "needs_background": "light"
     },
     "output_type": "display_data"
    }
   ],
   "source": [
    "#histogram and normal probability plot\n",
    "sns.distplot(tds1['popularity'], fit=norm);\n",
    "fig = plt.figure()\n",
    "res = stats.probplot(tds1['popularity'], plot=plt)"
   ]
  },
  {
   "cell_type": "code",
   "execution_count": 5,
   "metadata": {},
   "outputs": [
    {
     "name": "stderr",
     "output_type": "stream",
     "text": [
      "C:\\Users\\Irisi\\Anaconda3\\lib\\site-packages\\pandas\\core\\series.py:853: RuntimeWarning: divide by zero encountered in log\n",
      "  result = getattr(ufunc, method)(*inputs, **kwargs)\n"
     ]
    },
    {
     "ename": "OverflowError",
     "evalue": "cannot convert float infinity to integer",
     "output_type": "error",
     "traceback": [
      "\u001b[1;31m---------------------------------------------------------------------------\u001b[0m",
      "\u001b[1;31mOverflowError\u001b[0m                             Traceback (most recent call last)",
      "\u001b[1;32m<ipython-input-5-95ce9d9c5a5f>\u001b[0m in \u001b[0;36m<module>\u001b[1;34m\u001b[0m\n\u001b[0;32m      3\u001b[0m \u001b[1;33m\u001b[0m\u001b[0m\n\u001b[0;32m      4\u001b[0m \u001b[1;31m#transformed histogram and normal probability plot\u001b[0m\u001b[1;33m\u001b[0m\u001b[1;33m\u001b[0m\u001b[1;33m\u001b[0m\u001b[0m\n\u001b[1;32m----> 5\u001b[1;33m \u001b[0msns\u001b[0m\u001b[1;33m.\u001b[0m\u001b[0mdistplot\u001b[0m\u001b[1;33m(\u001b[0m\u001b[0my_lg\u001b[0m\u001b[1;33m,\u001b[0m \u001b[0mfit\u001b[0m\u001b[1;33m=\u001b[0m\u001b[0mnorm\u001b[0m\u001b[1;33m)\u001b[0m\u001b[1;33m;\u001b[0m\u001b[1;33m\u001b[0m\u001b[1;33m\u001b[0m\u001b[0m\n\u001b[0m\u001b[0;32m      6\u001b[0m \u001b[0mfig\u001b[0m \u001b[1;33m=\u001b[0m \u001b[0mplt\u001b[0m\u001b[1;33m.\u001b[0m\u001b[0mfigure\u001b[0m\u001b[1;33m(\u001b[0m\u001b[1;33m)\u001b[0m\u001b[1;33m\u001b[0m\u001b[1;33m\u001b[0m\u001b[0m\n\u001b[0;32m      7\u001b[0m \u001b[0mres\u001b[0m \u001b[1;33m=\u001b[0m \u001b[0mstats\u001b[0m\u001b[1;33m.\u001b[0m\u001b[0mprobplot\u001b[0m\u001b[1;33m(\u001b[0m\u001b[0my_lg\u001b[0m\u001b[1;33m,\u001b[0m \u001b[0mplot\u001b[0m\u001b[1;33m=\u001b[0m\u001b[0mplt\u001b[0m\u001b[1;33m)\u001b[0m\u001b[1;33m\u001b[0m\u001b[1;33m\u001b[0m\u001b[0m\n",
      "\u001b[1;32m~\\Anaconda3\\lib\\site-packages\\seaborn\\distributions.py\u001b[0m in \u001b[0;36mdistplot\u001b[1;34m(a, bins, hist, kde, rug, fit, hist_kws, kde_kws, rug_kws, fit_kws, color, vertical, norm_hist, axlabel, label, ax)\u001b[0m\n\u001b[0;32m    213\u001b[0m     \u001b[1;32mif\u001b[0m \u001b[0mhist\u001b[0m\u001b[1;33m:\u001b[0m\u001b[1;33m\u001b[0m\u001b[1;33m\u001b[0m\u001b[0m\n\u001b[0;32m    214\u001b[0m         \u001b[1;32mif\u001b[0m \u001b[0mbins\u001b[0m \u001b[1;32mis\u001b[0m \u001b[1;32mNone\u001b[0m\u001b[1;33m:\u001b[0m\u001b[1;33m\u001b[0m\u001b[1;33m\u001b[0m\u001b[0m\n\u001b[1;32m--> 215\u001b[1;33m             \u001b[0mbins\u001b[0m \u001b[1;33m=\u001b[0m \u001b[0mmin\u001b[0m\u001b[1;33m(\u001b[0m\u001b[0m_freedman_diaconis_bins\u001b[0m\u001b[1;33m(\u001b[0m\u001b[0ma\u001b[0m\u001b[1;33m)\u001b[0m\u001b[1;33m,\u001b[0m \u001b[1;36m50\u001b[0m\u001b[1;33m)\u001b[0m\u001b[1;33m\u001b[0m\u001b[1;33m\u001b[0m\u001b[0m\n\u001b[0m\u001b[0;32m    216\u001b[0m         \u001b[0mhist_kws\u001b[0m\u001b[1;33m.\u001b[0m\u001b[0msetdefault\u001b[0m\u001b[1;33m(\u001b[0m\u001b[1;34m\"alpha\"\u001b[0m\u001b[1;33m,\u001b[0m \u001b[1;36m0.4\u001b[0m\u001b[1;33m)\u001b[0m\u001b[1;33m\u001b[0m\u001b[1;33m\u001b[0m\u001b[0m\n\u001b[0;32m    217\u001b[0m         \u001b[1;32mif\u001b[0m \u001b[0mLooseVersion\u001b[0m\u001b[1;33m(\u001b[0m\u001b[0mmpl\u001b[0m\u001b[1;33m.\u001b[0m\u001b[0m__version__\u001b[0m\u001b[1;33m)\u001b[0m \u001b[1;33m<\u001b[0m \u001b[0mLooseVersion\u001b[0m\u001b[1;33m(\u001b[0m\u001b[1;34m\"2.2\"\u001b[0m\u001b[1;33m)\u001b[0m\u001b[1;33m:\u001b[0m\u001b[1;33m\u001b[0m\u001b[1;33m\u001b[0m\u001b[0m\n",
      "\u001b[1;32m~\\Anaconda3\\lib\\site-packages\\seaborn\\distributions.py\u001b[0m in \u001b[0;36m_freedman_diaconis_bins\u001b[1;34m(a)\u001b[0m\n\u001b[0;32m     37\u001b[0m         \u001b[1;32mreturn\u001b[0m \u001b[0mint\u001b[0m\u001b[1;33m(\u001b[0m\u001b[0mnp\u001b[0m\u001b[1;33m.\u001b[0m\u001b[0msqrt\u001b[0m\u001b[1;33m(\u001b[0m\u001b[0ma\u001b[0m\u001b[1;33m.\u001b[0m\u001b[0msize\u001b[0m\u001b[1;33m)\u001b[0m\u001b[1;33m)\u001b[0m\u001b[1;33m\u001b[0m\u001b[1;33m\u001b[0m\u001b[0m\n\u001b[0;32m     38\u001b[0m     \u001b[1;32melse\u001b[0m\u001b[1;33m:\u001b[0m\u001b[1;33m\u001b[0m\u001b[1;33m\u001b[0m\u001b[0m\n\u001b[1;32m---> 39\u001b[1;33m         \u001b[1;32mreturn\u001b[0m \u001b[0mint\u001b[0m\u001b[1;33m(\u001b[0m\u001b[0mnp\u001b[0m\u001b[1;33m.\u001b[0m\u001b[0mceil\u001b[0m\u001b[1;33m(\u001b[0m\u001b[1;33m(\u001b[0m\u001b[0ma\u001b[0m\u001b[1;33m.\u001b[0m\u001b[0mmax\u001b[0m\u001b[1;33m(\u001b[0m\u001b[1;33m)\u001b[0m \u001b[1;33m-\u001b[0m \u001b[0ma\u001b[0m\u001b[1;33m.\u001b[0m\u001b[0mmin\u001b[0m\u001b[1;33m(\u001b[0m\u001b[1;33m)\u001b[0m\u001b[1;33m)\u001b[0m \u001b[1;33m/\u001b[0m \u001b[0mh\u001b[0m\u001b[1;33m)\u001b[0m\u001b[1;33m)\u001b[0m\u001b[1;33m\u001b[0m\u001b[1;33m\u001b[0m\u001b[0m\n\u001b[0m\u001b[0;32m     40\u001b[0m \u001b[1;33m\u001b[0m\u001b[0m\n\u001b[0;32m     41\u001b[0m \u001b[1;33m\u001b[0m\u001b[0m\n",
      "\u001b[1;31mOverflowError\u001b[0m: cannot convert float infinity to integer"
     ]
    },
    {
     "data": {
      "image/png": "[encoded data removed]",
      "text/plain": [
       "<Figure size 432x288 with 1 Axes>"
      ]
     },
     "metadata": {
      "needs_background": "light"
     },
     "output_type": "display_data"
    }
   ],
   "source": [
    "#applying log transformation\n",
    "y_lg = np.log(tds1['popularity'])\n",
    "\n",
    "#transformed histogram and normal probability plot\n",
    "sns.distplot(y_lg, fit=norm);\n",
    "fig = plt.figure()\n",
    "res = stats.probplot(y_lg, plot=plt)\n",
    "fig"
   ]
  },
  {
   "cell_type": "markdown",
   "metadata": {},
   "source": [
    "# Classification Models "
   ]
  },
  {
   "cell_type": "code",
   "execution_count": 59,
   "metadata": {},
   "outputs": [],
   "source": [
    "from sklearn.linear_model import LogisticRegression\n",
    "from sklearn.ensemble import RandomForestClassifier\n",
    "from sklearn.neighbors import KNeighborsClassifier\n",
    "from sklearn.tree import DecisionTreeClassifier\n",
    "from sklearn.svm import SVC, LinearSVC\n",
    "from xgboost import XGBClassifier\n",
    "\n",
    "from sklearn.metrics import make_scorer, accuracy_score, roc_auc_score \n",
    "from sklearn.model_selection import GridSearchCV\n",
    "from sklearn.model_selection import train_test_split"
   ]
  },
  {
   "cell_type": "markdown",
   "metadata": {},
   "source": [
    "##  Dataframe & Feature Set-up "
   ]
  },
  {
   "cell_type": "code",
   "execution_count": 74,
   "metadata": {},
   "outputs": [
    {
     "data": {
      "text/plain": [
       "(12064, 17)"
      ]
     },
     "execution_count": 74,
     "metadata": {},
     "output_type": "execute_result"
    }
   ],
   "source": [
    "dataframe = tds1\n",
    "dataframe.shape\n"
   ]
  },
  {
   "cell_type": "code",
   "execution_count": 75,
   "metadata": {},
   "outputs": [
    {
     "data": {
      "text/plain": [
       "Text(0.5, 1.0, 'Popularity Distribution')"
      ]
     },
     "execution_count": 75,
     "metadata": {},
     "output_type": "execute_result"
    },
    {
     "data": {
      "image/png": "[encoded data removed]",
      "text/plain": [
       "<Figure size 432x288 with 1 Axes>"
      ]
     },
     "metadata": {},
     "output_type": "display_data"
    }
   ],
   "source": [
    "sns.distplot(dataframe['popularity']).set_title('Popularity Distribution')"
   ]
  },
  {
   "cell_type": "code",
   "execution_count": 76,
   "metadata": {},
   "outputs": [
    {
     "data": {
      "text/plain": [
       "(12064, 17)"
      ]
     },
     "execution_count": 76,
     "metadata": {},
     "output_type": "execute_result"
    }
   ],
   "source": [
    "dataframe.loc[dataframe['popularity'] == 0]\n",
    "dataframe.shape"
   ]
  },
  {
   "cell_type": "code",
   "execution_count": 77,
   "metadata": {},
   "outputs": [
    {
     "name": "stderr",
     "output_type": "stream",
     "text": [
      "'c' argument looks like a single numeric RGB or RGBA sequence, which should be avoided as value-mapping will have precedence in case its length matches with 'x' & 'y'.  Please use a 2-D array with a single row if you really want to specify the same RGB or RGBA value for all points.\n"
     ]
    },
    {
     "data": {
      "image/png": "[encoded data removed]",
      "text/plain": [
       "<Figure size 432x288 with 1 Axes>"
      ]
     },
     "metadata": {},
     "output_type": "display_data"
    }
   ],
   "source": [
    "import seaborn as sns\n",
    "\n",
    "sns.set(style=\"whitegrid\")\n",
    "\n",
    "tips = sns.load_dataset(\"tips\")\n",
    "\n",
    "ax = sns.boxenplot(x=dataframe['popularity'])"
   ]
  },
  {
   "cell_type": "code",
   "execution_count": 78,
   "metadata": {},
   "outputs": [],
   "source": [
    "#Convert popularity to binary varible. \n",
    "#we will define above 20 as \"popular\" since that's the border of the top 25% of songs and encode that as 1,\n",
    "#and below 75 as \"not popular\" and encode that as 0.\n",
    "\n",
    "dataframe.loc[dataframe['popularity'] < 35, 'popularity'] = 0 \n",
    "dataframe.loc[dataframe['popularity'] >= 35, 'popularity'] = 1\n",
    "#dataframe.loc[dataframe['popularity'] == 0]\n"
   ]
  },
  {
   "cell_type": "code",
   "execution_count": 79,
   "metadata": {},
   "outputs": [
    {
     "data": {
      "text/plain": [
       "0    7596\n",
       "1    4468\n",
       "Name: popularity, dtype: int64"
      ]
     },
     "execution_count": 79,
     "metadata": {},
     "output_type": "execute_result"
    }
   ],
   "source": [
    "dataframe['popularity'].value_counts()"
   ]
  },
  {
   "cell_type": "code",
   "execution_count": 80,
   "metadata": {},
   "outputs": [],
   "source": [
    "features = [\"danceability\", \"energy\", \"followers\", \"instrumentalness\", \"key\", \"liveness\", \n",
    "            \"mode\", \"speechiness\", \"tempo\", \"time_signature\", \"valence\"]"
   ]
  },
  {
   "cell_type": "code",
   "execution_count": 81,
   "metadata": {},
   "outputs": [],
   "source": [
    "#Next we define 80% of the dataframe for training and 20% of the dataframe for testing.\n",
    "training = dataframe.sample(frac = 0.8,random_state = 420)\n",
    "X_train = training[features]\n",
    "y_train = training['popularity']\n",
    "X_test = dataframe.drop(training.index)[features]"
   ]
  },
  {
   "cell_type": "code",
   "execution_count": 82,
   "metadata": {},
   "outputs": [],
   "source": [
    "#We add a validation dataset using train_test_split.\n",
    "X_train, X_valid, y_train, y_valid = train_test_split(X_train, y_train, test_size = 0.2, random_state = 420)"
   ]
  },
  {
   "cell_type": "markdown",
   "metadata": {},
   "source": [
    "## Logistic Regresssion "
   ]
  },
  {
   "cell_type": "code",
   "execution_count": 83,
   "metadata": {},
   "outputs": [
    {
     "name": "stdout",
     "output_type": "stream",
     "text": [
      "Accuracy: 0.7540134645261523\n",
      "AUC: 0.6931263757460231\n"
     ]
    },
    {
     "name": "stderr",
     "output_type": "stream",
     "text": [
      "C:\\ProgramData\\Anaconda3\\lib\\site-packages\\sklearn\\linear_model\\logistic.py:432: FutureWarning: Default solver will be changed to 'lbfgs' in 0.22. Specify a solver to silence this warning.\n",
      "  FutureWarning)\n"
     ]
    }
   ],
   "source": [
    "#Logistic Regression\n",
    "LR_Model = LogisticRegression()\n",
    "LR_Model.fit(X_train, y_train)\n",
    "LR_Predict = LR_Model.predict(X_valid)\n",
    "LR_Accuracy = accuracy_score(y_valid, LR_Predict)\n",
    "print(\"Accuracy: \" + str(LR_Accuracy))\n",
    "\n",
    "LR_AUC = roc_auc_score(y_valid, LR_Predict) \n",
    "print(\"AUC: \" + str(LR_AUC))"
   ]
  },
  {
   "cell_type": "markdown",
   "metadata": {},
   "source": [
    "## RandomForestClassifier"
   ]
  },
  {
   "cell_type": "code",
   "execution_count": 84,
   "metadata": {},
   "outputs": [
    {
     "name": "stdout",
     "output_type": "stream",
     "text": [
      "Accuracy: 0.8187467633350596\n",
      "AUC: 0.798310527151837\n"
     ]
    },
    {
     "name": "stderr",
     "output_type": "stream",
     "text": [
      "C:\\ProgramData\\Anaconda3\\lib\\site-packages\\sklearn\\ensemble\\forest.py:245: FutureWarning: The default value of n_estimators will change from 10 in version 0.20 to 100 in 0.22.\n",
      "  \"10 in version 0.20 to 100 in 0.22.\", FutureWarning)\n"
     ]
    }
   ],
   "source": [
    "RFC_Model = RandomForestClassifier()\n",
    "RFC_Model.fit(X_train, y_train)\n",
    "RFC_Predict = RFC_Model.predict(X_valid)\n",
    "RFC_Accuracy = accuracy_score(y_valid, RFC_Predict)\n",
    "print(\"Accuracy: \" + str(RFC_Accuracy))\n",
    "\n",
    "RFC_AUC = roc_auc_score(y_valid, RFC_Predict) \n",
    "print(\"AUC: \" + str(RFC_AUC))"
   ]
  },
  {
   "cell_type": "markdown",
   "metadata": {},
   "source": [
    "## K-Nearest Neighbors Classifier"
   ]
  },
  {
   "cell_type": "code",
   "execution_count": 86,
   "metadata": {},
   "outputs": [
    {
     "name": "stdout",
     "output_type": "stream",
     "text": [
      "Accuracy: 0.815639564992232\n",
      "AUC: 0.7988619601969728\n"
     ]
    }
   ],
   "source": [
    "KNN_Model = KNeighborsClassifier()\n",
    "KNN_Model.fit(X_train, y_train)\n",
    "KNN_Predict = KNN_Model.predict(X_valid)\n",
    "KNN_Accuracy = accuracy_score(y_valid, KNN_Predict)\n",
    "print(\"Accuracy: \" + str(KNN_Accuracy))\n",
    "\n",
    "KNN_AUC = roc_auc_score(y_valid, KNN_Predict) \n",
    "print(\"AUC: \" + str(KNN_AUC))"
   ]
  },
  {
   "cell_type": "markdown",
   "metadata": {},
   "source": [
    "## Decision Tree Classifier"
   ]
  },
  {
   "cell_type": "code",
   "execution_count": 87,
   "metadata": {},
   "outputs": [
    {
     "name": "stdout",
     "output_type": "stream",
     "text": [
      "Accuracy: 0.7679958570688762\n",
      "AUC: 0.7581920711643634\n"
     ]
    }
   ],
   "source": [
    "DT_Model = DecisionTreeClassifier()\n",
    "DT_Model.fit(X_train, y_train)\n",
    "DT_Predict = DT_Model.predict(X_valid)\n",
    "DT_Accuracy = accuracy_score(y_valid, DT_Predict)\n",
    "print(\"Accuracy: \" + str(DT_Accuracy))\n",
    "\n",
    "DT_AUC = roc_auc_score(y_valid, DT_Predict) \n",
    "print(\"AUC: \" + str(DT_AUC))"
   ]
  },
  {
   "cell_type": "markdown",
   "metadata": {},
   "source": [
    "## Model Performance Summary"
   ]
  },
  {
   "cell_type": "code",
   "execution_count": 88,
   "metadata": {},
   "outputs": [],
   "source": [
    "model_performance_accuracy = pd.DataFrame({'Model': ['LogisticRegression', \n",
    "                                                      'RandomForestClassifier', \n",
    "                                                      'KNeighborsClassifier',\n",
    "                                                      'DecisionTreeClassifier',\n",
    "                                                      ],\n",
    "                                            'Accuracy': [LR_Accuracy,\n",
    "                                                         RFC_Accuracy,\n",
    "                                                         KNN_Accuracy,\n",
    "                                                         DT_Accuracy]})\n",
    "\n",
    "model_performance_AUC = pd.DataFrame({'Model': ['LogisticRegression', \n",
    "                                                      'RandomForestClassifier', \n",
    "                                                      'KNeighborsClassifier',\n",
    "                                                      'DecisionTreeClassifier'],\n",
    "                                            'AUC': [LR_AUC,\n",
    "                                                         RFC_AUC,\n",
    "                                                         KNN_AUC,\n",
    "                                                         DT_AUC]})"
   ]
  },
  {
   "cell_type": "code",
   "execution_count": 89,
   "metadata": {},
   "outputs": [
    {
     "data": {
      "text/html": [
       "<div>\n",
       "<style scoped>\n",
       "    .dataframe tbody tr th:only-of-type {\n",
       "        vertical-align: middle;\n",
       "    }\n",
       "\n",
       "    .dataframe tbody tr th {\n",
       "        vertical-align: top;\n",
       "    }\n",
       "\n",
       "    .dataframe thead th {\n",
       "        text-align: right;\n",
       "    }\n",
       "</style>\n",
       "<table border=\"1\" class=\"dataframe\">\n",
       "  <thead>\n",
       "    <tr style=\"text-align: right;\">\n",
       "      <th></th>\n",
       "      <th>Model</th>\n",
       "      <th>Accuracy</th>\n",
       "    </tr>\n",
       "  </thead>\n",
       "  <tbody>\n",
       "    <tr>\n",
       "      <th>1</th>\n",
       "      <td>RandomForestClassifier</td>\n",
       "      <td>0.818747</td>\n",
       "    </tr>\n",
       "    <tr>\n",
       "      <th>2</th>\n",
       "      <td>KNeighborsClassifier</td>\n",
       "      <td>0.815640</td>\n",
       "    </tr>\n",
       "    <tr>\n",
       "      <th>3</th>\n",
       "      <td>DecisionTreeClassifier</td>\n",
       "      <td>0.767996</td>\n",
       "    </tr>\n",
       "    <tr>\n",
       "      <th>0</th>\n",
       "      <td>LogisticRegression</td>\n",
       "      <td>0.754013</td>\n",
       "    </tr>\n",
       "  </tbody>\n",
       "</table>\n",
       "</div>"
      ],
      "text/plain": [
       "                    Model  Accuracy\n",
       "1  RandomForestClassifier  0.818747\n",
       "2    KNeighborsClassifier  0.815640\n",
       "3  DecisionTreeClassifier  0.767996\n",
       "0      LogisticRegression  0.754013"
      ]
     },
     "execution_count": 89,
     "metadata": {},
     "output_type": "execute_result"
    }
   ],
   "source": [
    "model_performance_accuracy.sort_values(by = \"Accuracy\", ascending = False)\n"
   ]
  },
  {
   "cell_type": "code",
   "execution_count": 90,
   "metadata": {},
   "outputs": [
    {
     "data": {
      "text/html": [
       "<div>\n",
       "<style scoped>\n",
       "    .dataframe tbody tr th:only-of-type {\n",
       "        vertical-align: middle;\n",
       "    }\n",
       "\n",
       "    .dataframe tbody tr th {\n",
       "        vertical-align: top;\n",
       "    }\n",
       "\n",
       "    .dataframe thead th {\n",
       "        text-align: right;\n",
       "    }\n",
       "</style>\n",
       "<table border=\"1\" class=\"dataframe\">\n",
       "  <thead>\n",
       "    <tr style=\"text-align: right;\">\n",
       "      <th></th>\n",
       "      <th>Model</th>\n",
       "      <th>AUC</th>\n",
       "    </tr>\n",
       "  </thead>\n",
       "  <tbody>\n",
       "    <tr>\n",
       "      <th>2</th>\n",
       "      <td>KNeighborsClassifier</td>\n",
       "      <td>0.798862</td>\n",
       "    </tr>\n",
       "    <tr>\n",
       "      <th>1</th>\n",
       "      <td>RandomForestClassifier</td>\n",
       "      <td>0.798311</td>\n",
       "    </tr>\n",
       "    <tr>\n",
       "      <th>3</th>\n",
       "      <td>DecisionTreeClassifier</td>\n",
       "      <td>0.758192</td>\n",
       "    </tr>\n",
       "    <tr>\n",
       "      <th>0</th>\n",
       "      <td>LogisticRegression</td>\n",
       "      <td>0.693126</td>\n",
       "    </tr>\n",
       "  </tbody>\n",
       "</table>\n",
       "</div>"
      ],
      "text/plain": [
       "                    Model       AUC\n",
       "2    KNeighborsClassifier  0.798862\n",
       "1  RandomForestClassifier  0.798311\n",
       "3  DecisionTreeClassifier  0.758192\n",
       "0      LogisticRegression  0.693126"
      ]
     },
     "execution_count": 90,
     "metadata": {},
     "output_type": "execute_result"
    }
   ],
   "source": [
    "model_performance_AUC.sort_values(by = \"AUC\", ascending = False)"
   ]
  },
  {
   "cell_type": "code",
   "execution_count": null,
   "metadata": {},
   "outputs": [],
   "source": []
  }
 ],
 "metadata": {
  "kernelspec": {
   "display_name": "Python 3",
   "language": "python",
   "name": "python3"
  },
  "language_info": {
   "codemirror_mode": {
    "name": "ipython",
    "version": 3
   },
   "file_extension": ".py",
   "mimetype": "text/x-python",
   "name": "python",
   "nbconvert_exporter": "python",
   "pygments_lexer": "ipython3",
   "version": "3.7.4"
  }
 },
 "nbformat": 4,
 "nbformat_minor": 2
}
