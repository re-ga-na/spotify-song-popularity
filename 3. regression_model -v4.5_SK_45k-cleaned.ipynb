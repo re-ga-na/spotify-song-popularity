{
 "cells": [
  {
   "cell_type": "code",
   "execution_count": 2,
   "metadata": {},
   "outputs": [],
   "source": [
    "import matplotlib.pyplot as plt\n",
    "import pandas as pd\n",
    "import numpy as np\n",
    "import seaborn as sns\n",
    "import time\n",
    "import seaborn as sns\n",
    "import numpy as np\n",
    "from scipy.stats import norm\n",
    "from sklearn.preprocessing import StandardScaler\n",
    "from scipy import stats\n",
    "import statsmodels.formula.api as sm\n",
    "import statsmodels.regression.linear_model as lm\n",
    "import sys\n",
    "sys.path.append('C:\\\\Users\\\\Irisi\\\\spotify-song-popularity')\n",
    "import exp\n",
    "\n",
    "\n",
    "#to perform the train test split of the data, the train test split function is imported from sklearn\n",
    "from sklearn.model_selection import train_test_split\n",
    "#the given problem is a classificaton problem. Hence linear regression is used for ML algorithm\n",
    "from sklearn.linear_model import LinearRegression"
   ]
  },
  {
   "cell_type": "code",
   "execution_count": 6,
   "metadata": {},
   "outputs": [
    {
     "data": {
      "text/plain": [
       "Index(['0', 'Artist', 'Track', 'Unnamed: 0', 'acousticness', 'danceability',\n",
       "       'duration_ms', 'energy', 'followers', 'instrumentalness', 'key',\n",
       "       'liveness', 'loudness', 'mode', 'popularity', 'speechiness', 'tempo',\n",
       "       'time_signature', 'valence'],\n",
       "      dtype='object')"
      ]
     },
     "execution_count": 6,
     "metadata": {},
     "output_type": "execute_result"
    }
   ],
   "source": [
    "# Read the file\n",
    "file = \"Resources/features/features_45k.csv\"\n",
    "tds1 = pd.read_csv(file)\n",
    "tds1.columns"
   ]
  },
  {
   "cell_type": "code",
   "execution_count": 7,
   "metadata": {},
   "outputs": [
    {
     "data": {
      "text/html": [
       "<div>\n",
       "<style scoped>\n",
       "    .dataframe tbody tr th:only-of-type {\n",
       "        vertical-align: middle;\n",
       "    }\n",
       "\n",
       "    .dataframe tbody tr th {\n",
       "        vertical-align: top;\n",
       "    }\n",
       "\n",
       "    .dataframe thead th {\n",
       "        text-align: right;\n",
       "    }\n",
       "</style>\n",
       "<table border=\"1\" class=\"dataframe\">\n",
       "  <thead>\n",
       "    <tr style=\"text-align: right;\">\n",
       "      <th></th>\n",
       "      <th>Artist</th>\n",
       "      <th>Track</th>\n",
       "      <th>followers</th>\n",
       "      <th>instrumentalness</th>\n",
       "      <th>popularity</th>\n",
       "      <th>acousticness</th>\n",
       "      <th>danceability</th>\n",
       "      <th>duration_ms</th>\n",
       "      <th>energy</th>\n",
       "      <th>key</th>\n",
       "      <th>liveness</th>\n",
       "      <th>loudness</th>\n",
       "      <th>mode</th>\n",
       "      <th>speechiness</th>\n",
       "      <th>tempo</th>\n",
       "      <th>time_signature</th>\n",
       "      <th>valence</th>\n",
       "    </tr>\n",
       "  </thead>\n",
       "  <tbody>\n",
       "    <tr>\n",
       "      <td>0</td>\n",
       "      <td>Lionel Richie</td>\n",
       "      <td>Tonight Will Be Alright</td>\n",
       "      <td>1627956</td>\n",
       "      <td>0.014100</td>\n",
       "      <td>38</td>\n",
       "      <td>0.05910</td>\n",
       "      <td>0.646</td>\n",
       "      <td>307413</td>\n",
       "      <td>0.840</td>\n",
       "      <td>8</td>\n",
       "      <td>0.0516</td>\n",
       "      <td>-8.213</td>\n",
       "      <td>1</td>\n",
       "      <td>0.0283</td>\n",
       "      <td>125.187</td>\n",
       "      <td>4</td>\n",
       "      <td>0.716</td>\n",
       "    </tr>\n",
       "    <tr>\n",
       "      <td>1</td>\n",
       "      <td>Course Of Nature</td>\n",
       "      <td>The Window</td>\n",
       "      <td>10469</td>\n",
       "      <td>0.000035</td>\n",
       "      <td>11</td>\n",
       "      <td>0.00119</td>\n",
       "      <td>0.496</td>\n",
       "      <td>191160</td>\n",
       "      <td>0.928</td>\n",
       "      <td>1</td>\n",
       "      <td>0.0988</td>\n",
       "      <td>-2.367</td>\n",
       "      <td>0</td>\n",
       "      <td>0.0469</td>\n",
       "      <td>144.932</td>\n",
       "      <td>4</td>\n",
       "      <td>0.561</td>\n",
       "    </tr>\n",
       "    <tr>\n",
       "      <td>2</td>\n",
       "      <td>Mariah Carey</td>\n",
       "      <td>Inseparable</td>\n",
       "      <td>5505368</td>\n",
       "      <td>0.000000</td>\n",
       "      <td>31</td>\n",
       "      <td>0.09090</td>\n",
       "      <td>0.586</td>\n",
       "      <td>213720</td>\n",
       "      <td>0.692</td>\n",
       "      <td>8</td>\n",
       "      <td>0.0567</td>\n",
       "      <td>-5.143</td>\n",
       "      <td>1</td>\n",
       "      <td>0.1770</td>\n",
       "      <td>158.041</td>\n",
       "      <td>4</td>\n",
       "      <td>0.457</td>\n",
       "    </tr>\n",
       "    <tr>\n",
       "      <td>3</td>\n",
       "      <td>Extra Virgin</td>\n",
       "      <td>One Night</td>\n",
       "      <td>880039</td>\n",
       "      <td>0.002050</td>\n",
       "      <td>0</td>\n",
       "      <td>0.00361</td>\n",
       "      <td>0.643</td>\n",
       "      <td>210667</td>\n",
       "      <td>0.896</td>\n",
       "      <td>0</td>\n",
       "      <td>0.9010</td>\n",
       "      <td>-6.662</td>\n",
       "      <td>1</td>\n",
       "      <td>0.0359</td>\n",
       "      <td>130.011</td>\n",
       "      <td>4</td>\n",
       "      <td>0.338</td>\n",
       "    </tr>\n",
       "    <tr>\n",
       "      <td>4</td>\n",
       "      <td>Joe and Will Ask?</td>\n",
       "      <td>Claymore</td>\n",
       "      <td>13</td>\n",
       "      <td>0.776000</td>\n",
       "      <td>2</td>\n",
       "      <td>0.00328</td>\n",
       "      <td>0.699</td>\n",
       "      <td>119053</td>\n",
       "      <td>0.974</td>\n",
       "      <td>9</td>\n",
       "      <td>0.2900</td>\n",
       "      <td>-5.576</td>\n",
       "      <td>0</td>\n",
       "      <td>0.1500</td>\n",
       "      <td>125.934</td>\n",
       "      <td>4</td>\n",
       "      <td>0.443</td>\n",
       "    </tr>\n",
       "  </tbody>\n",
       "</table>\n",
       "</div>"
      ],
      "text/plain": [
       "              Artist                    Track  followers  instrumentalness  \\\n",
       "0      Lionel Richie  Tonight Will Be Alright    1627956          0.014100   \n",
       "1   Course Of Nature               The Window      10469          0.000035   \n",
       "2       Mariah Carey              Inseparable    5505368          0.000000   \n",
       "3       Extra Virgin                One Night     880039          0.002050   \n",
       "4  Joe and Will Ask?                 Claymore         13          0.776000   \n",
       "\n",
       "   popularity  acousticness  danceability  duration_ms  energy  key  liveness  \\\n",
       "0          38       0.05910         0.646       307413   0.840    8    0.0516   \n",
       "1          11       0.00119         0.496       191160   0.928    1    0.0988   \n",
       "2          31       0.09090         0.586       213720   0.692    8    0.0567   \n",
       "3           0       0.00361         0.643       210667   0.896    0    0.9010   \n",
       "4           2       0.00328         0.699       119053   0.974    9    0.2900   \n",
       "\n",
       "   loudness  mode  speechiness    tempo  time_signature  valence  \n",
       "0    -8.213     1       0.0283  125.187               4    0.716  \n",
       "1    -2.367     0       0.0469  144.932               4    0.561  \n",
       "2    -5.143     1       0.1770  158.041               4    0.457  \n",
       "3    -6.662     1       0.0359  130.011               4    0.338  \n",
       "4    -5.576     0       0.1500  125.934               4    0.443  "
      ]
     },
     "execution_count": 7,
     "metadata": {},
     "output_type": "execute_result"
    }
   ],
   "source": [
    "# keep only relevant columns\n",
    "tds1 = tds1[['Artist', 'Track', 'followers','instrumentalness','popularity','acousticness', 'danceability', 'duration_ms', 'energy', 'key', 'liveness', 'loudness', 'mode',\n",
    "       'speechiness', 'tempo', 'time_signature', 'valence']]\n",
    "tds1.head()"
   ]
  },
  {
   "cell_type": "code",
   "execution_count": 8,
   "metadata": {},
   "outputs": [
    {
     "data": {
      "text/plain": [
       "(45157, 17)"
      ]
     },
     "execution_count": 8,
     "metadata": {},
     "output_type": "execute_result"
    }
   ],
   "source": [
    "#tds1 = tds1.head(5000)\n",
    "tds1.shape"
   ]
  },
  {
   "cell_type": "markdown",
   "metadata": {},
   "source": [
    "## Closer Look at Target Variable"
   ]
  },
  {
   "cell_type": "code",
   "execution_count": 11,
   "metadata": {
    "scrolled": false
   },
   "outputs": [
    {
     "data": {
      "image/png": "[encoded data removed]",
      "text/plain": [
       "<Figure size 432x288 with 1 Axes>"
      ]
     },
     "metadata": {
      "needs_background": "light"
     },
     "output_type": "display_data"
    },
    {
     "data": {
      "text/plain": [
       "<Figure size 432x288 with 0 Axes>"
      ]
     },
     "metadata": {},
     "output_type": "display_data"
    }
   ],
   "source": [
    "#histogram \n",
    "sns.distplot(tds1['popularity'], fit=norm);\n",
    "fig = plt.figure()\n",
    "#res = stats.probplot(tds1['popularity'], plot=plt)\n",
    "plt.savefig('Images/Regression/Histogram Popularity.png')"
   ]
  },
  {
   "cell_type": "code",
   "execution_count": 12,
   "metadata": {
    "scrolled": true
   },
   "outputs": [
    {
     "data": {
      "image/png": "[encoded data removed]",
      "text/plain": [
       "<Figure size 432x288 with 1 Axes>"
      ]
     },
     "metadata": {
      "needs_background": "light"
     },
     "output_type": "display_data"
    }
   ],
   "source": [
    "# Normal Probability Plot\n",
    "fig = plt.figure()\n",
    "res = stats.probplot(tds1['popularity'], plot=plt)\n",
    "plt.savefig('Images/Regression/Normal Probability Plot.png')"
   ]
  },
  {
   "cell_type": "code",
   "execution_count": 49,
   "metadata": {},
   "outputs": [
    {
     "data": {
      "image/png": "[encoded data removed]",
      "text/plain": [
       "<Figure size 432x288 with 1 Axes>"
      ]
     },
     "metadata": {
      "needs_background": "light"
     },
     "output_type": "display_data"
    }
   ],
   "source": [
    "# create an autocorrelation plot\n",
    "from pandas.plotting import autocorrelation_plot\n",
    "series = tds1['popularity']\n",
    "autocorrelation_plot(series)\n",
    "pyplot.show()\n",
    "plt.savefig('Images/Regression/autocorrelation plot.png')"
   ]
  },
  {
   "cell_type": "code",
   "execution_count": 63,
   "metadata": {},
   "outputs": [
    {
     "data": {
      "image/png": "[encoded data removed]",
      "text/plain": [
       "<Figure size 432x288 with 1 Axes>"
      ]
     },
     "execution_count": 63,
     "metadata": {},
     "output_type": "execute_result"
    },
    {
     "data": {
      "image/png": "[encoded data removed]",
      "text/plain": [
       "<Figure size 432x288 with 1 Axes>"
      ]
     },
     "metadata": {
      "needs_background": "light"
     },
     "output_type": "display_data"
    },
    {
     "data": {
      "image/png": "[encoded data removed]",
      "text/plain": [
       "<Figure size 432x288 with 1 Axes>"
      ]
     },
     "metadata": {
      "needs_background": "light"
     },
     "output_type": "display_data"
    }
   ],
   "source": [
    "#applying log transformation by replacing zeros with ones\n",
    "tds2 = tds1\n",
    "#tds2 = tds2.loc[dataframe3['popularity'] != 0]\n",
    "tds2.loc[tds2['popularity'] == 0, 'popularity'] = 1\n",
    "#tds2['popularity'].value_counts(0)\n",
    "#transformed histogram and normal probability plot\n",
    "y_lg = np.log(tds2['popularity'])\n",
    "sns.distplot(y_lg, fit=norm);\n",
    "fig = plt.figure()\n",
    "res = stats.probplot(y_lg, plot=plt)\n",
    "fig"
   ]
  },
  {
   "cell_type": "markdown",
   "metadata": {},
   "source": [
    "# Linear Regression"
   ]
  },
  {
   "cell_type": "markdown",
   "metadata": {},
   "source": [
    "## Define Datasets "
   ]
  },
  {
   "cell_type": "code",
   "execution_count": 5,
   "metadata": {},
   "outputs": [
    {
     "data": {
      "text/html": [
       "<div>\n",
       "<style scoped>\n",
       "    .dataframe tbody tr th:only-of-type {\n",
       "        vertical-align: middle;\n",
       "    }\n",
       "\n",
       "    .dataframe tbody tr th {\n",
       "        vertical-align: top;\n",
       "    }\n",
       "\n",
       "    .dataframe thead th {\n",
       "        text-align: right;\n",
       "    }\n",
       "</style>\n",
       "<table border=\"1\" class=\"dataframe\">\n",
       "  <thead>\n",
       "    <tr style=\"text-align: right;\">\n",
       "      <th></th>\n",
       "      <th>followers</th>\n",
       "      <th>instrumentalness</th>\n",
       "      <th>acousticness</th>\n",
       "      <th>danceability</th>\n",
       "      <th>duration_ms</th>\n",
       "      <th>energy</th>\n",
       "      <th>key</th>\n",
       "      <th>liveness</th>\n",
       "      <th>loudness</th>\n",
       "      <th>mode</th>\n",
       "      <th>speechiness</th>\n",
       "      <th>tempo</th>\n",
       "      <th>time_signature</th>\n",
       "      <th>valence</th>\n",
       "    </tr>\n",
       "  </thead>\n",
       "  <tbody>\n",
       "    <tr>\n",
       "      <th>0</th>\n",
       "      <td>1627956</td>\n",
       "      <td>0.014100</td>\n",
       "      <td>0.05910</td>\n",
       "      <td>0.646</td>\n",
       "      <td>307413</td>\n",
       "      <td>0.840</td>\n",
       "      <td>8</td>\n",
       "      <td>0.0516</td>\n",
       "      <td>-8.213</td>\n",
       "      <td>1</td>\n",
       "      <td>0.0283</td>\n",
       "      <td>125.187</td>\n",
       "      <td>4</td>\n",
       "      <td>0.716</td>\n",
       "    </tr>\n",
       "    <tr>\n",
       "      <th>1</th>\n",
       "      <td>10469</td>\n",
       "      <td>0.000035</td>\n",
       "      <td>0.00119</td>\n",
       "      <td>0.496</td>\n",
       "      <td>191160</td>\n",
       "      <td>0.928</td>\n",
       "      <td>1</td>\n",
       "      <td>0.0988</td>\n",
       "      <td>-2.367</td>\n",
       "      <td>0</td>\n",
       "      <td>0.0469</td>\n",
       "      <td>144.932</td>\n",
       "      <td>4</td>\n",
       "      <td>0.561</td>\n",
       "    </tr>\n",
       "    <tr>\n",
       "      <th>2</th>\n",
       "      <td>5505368</td>\n",
       "      <td>0.000000</td>\n",
       "      <td>0.09090</td>\n",
       "      <td>0.586</td>\n",
       "      <td>213720</td>\n",
       "      <td>0.692</td>\n",
       "      <td>8</td>\n",
       "      <td>0.0567</td>\n",
       "      <td>-5.143</td>\n",
       "      <td>1</td>\n",
       "      <td>0.1770</td>\n",
       "      <td>158.041</td>\n",
       "      <td>4</td>\n",
       "      <td>0.457</td>\n",
       "    </tr>\n",
       "    <tr>\n",
       "      <th>3</th>\n",
       "      <td>880039</td>\n",
       "      <td>0.002050</td>\n",
       "      <td>0.00361</td>\n",
       "      <td>0.643</td>\n",
       "      <td>210667</td>\n",
       "      <td>0.896</td>\n",
       "      <td>0</td>\n",
       "      <td>0.9010</td>\n",
       "      <td>-6.662</td>\n",
       "      <td>1</td>\n",
       "      <td>0.0359</td>\n",
       "      <td>130.011</td>\n",
       "      <td>4</td>\n",
       "      <td>0.338</td>\n",
       "    </tr>\n",
       "    <tr>\n",
       "      <th>4</th>\n",
       "      <td>13</td>\n",
       "      <td>0.776000</td>\n",
       "      <td>0.00328</td>\n",
       "      <td>0.699</td>\n",
       "      <td>119053</td>\n",
       "      <td>0.974</td>\n",
       "      <td>9</td>\n",
       "      <td>0.2900</td>\n",
       "      <td>-5.576</td>\n",
       "      <td>0</td>\n",
       "      <td>0.1500</td>\n",
       "      <td>125.934</td>\n",
       "      <td>4</td>\n",
       "      <td>0.443</td>\n",
       "    </tr>\n",
       "  </tbody>\n",
       "</table>\n",
       "</div>"
      ],
      "text/plain": [
       "   followers  instrumentalness  acousticness  danceability  duration_ms  \\\n",
       "0    1627956          0.014100       0.05910         0.646       307413   \n",
       "1      10469          0.000035       0.00119         0.496       191160   \n",
       "2    5505368          0.000000       0.09090         0.586       213720   \n",
       "3     880039          0.002050       0.00361         0.643       210667   \n",
       "4         13          0.776000       0.00328         0.699       119053   \n",
       "\n",
       "   energy  key  liveness  loudness  mode  speechiness    tempo  \\\n",
       "0   0.840    8    0.0516    -8.213     1       0.0283  125.187   \n",
       "1   0.928    1    0.0988    -2.367     0       0.0469  144.932   \n",
       "2   0.692    8    0.0567    -5.143     1       0.1770  158.041   \n",
       "3   0.896    0    0.9010    -6.662     1       0.0359  130.011   \n",
       "4   0.974    9    0.2900    -5.576     0       0.1500  125.934   \n",
       "\n",
       "   time_signature  valence  \n",
       "0               4    0.716  \n",
       "1               4    0.561  \n",
       "2               4    0.457  \n",
       "3               4    0.338  \n",
       "4               4    0.443  "
      ]
     },
     "execution_count": 5,
     "metadata": {},
     "output_type": "execute_result"
    }
   ],
   "source": [
    "#Combined Dataset\n",
    "dfcombine = tds1\n",
    "#dfcombine = dfcombine.reset_index(inplace=True, drop=True)\n",
    "\n",
    "#Target Dataset\n",
    "dfy = pd.DataFrame(tds1[\"popularity\"])\n",
    "\n",
    "#all the independant variables/predictors are named as dfx\n",
    "dfx = dfcombine.drop(columns=['Artist', 'Track','popularity'])\n",
    "dfx.head()"
   ]
  },
  {
   "cell_type": "code",
   "execution_count": 6,
   "metadata": {},
   "outputs": [
    {
     "data": {
      "text/html": [
       "<div>\n",
       "<style scoped>\n",
       "    .dataframe tbody tr th:only-of-type {\n",
       "        vertical-align: middle;\n",
       "    }\n",
       "\n",
       "    .dataframe tbody tr th {\n",
       "        vertical-align: top;\n",
       "    }\n",
       "\n",
       "    .dataframe thead th {\n",
       "        text-align: right;\n",
       "    }\n",
       "</style>\n",
       "<table border=\"1\" class=\"dataframe\">\n",
       "  <thead>\n",
       "    <tr style=\"text-align: right;\">\n",
       "      <th></th>\n",
       "      <th>popularity</th>\n",
       "    </tr>\n",
       "  </thead>\n",
       "  <tbody>\n",
       "    <tr>\n",
       "      <th>0</th>\n",
       "      <td>38</td>\n",
       "    </tr>\n",
       "    <tr>\n",
       "      <th>1</th>\n",
       "      <td>11</td>\n",
       "    </tr>\n",
       "    <tr>\n",
       "      <th>2</th>\n",
       "      <td>31</td>\n",
       "    </tr>\n",
       "    <tr>\n",
       "      <th>3</th>\n",
       "      <td>0</td>\n",
       "    </tr>\n",
       "    <tr>\n",
       "      <th>4</th>\n",
       "      <td>2</td>\n",
       "    </tr>\n",
       "  </tbody>\n",
       "</table>\n",
       "</div>"
      ],
      "text/plain": [
       "   popularity\n",
       "0          38\n",
       "1          11\n",
       "2          31\n",
       "3           0\n",
       "4           2"
      ]
     },
     "execution_count": 6,
     "metadata": {},
     "output_type": "execute_result"
    }
   ],
   "source": [
    "dfy.head()"
   ]
  },
  {
   "cell_type": "code",
   "execution_count": 7,
   "metadata": {},
   "outputs": [],
   "source": [
    "#trying to get rid of >ValueError: Input contains NaN, infinity or a value too large for dtype('float64').\n",
    "np.where(dfx.values >= np.finfo(np.float64).max)\n",
    "np.isnan(dfx.values.any())\n",
    "dfx.replace([np.inf, -np.inf], np.nan, inplace=True)"
   ]
  },
  {
   "cell_type": "code",
   "execution_count": 8,
   "metadata": {},
   "outputs": [],
   "source": [
    "#trying to get rid of >ValueError: Input contains NaN, infinity or a value too large for dtype('float64').\n",
    "np.where(dfy.values >= np.finfo(np.float64).max)\n",
    "np.isnan(dfy.values.any())\n",
    "dfy.replace([np.inf, -np.inf], np.nan, inplace=True)"
   ]
  },
  {
   "cell_type": "markdown",
   "metadata": {},
   "source": [
    "## Train Set  - Linear Regression "
   ]
  },
  {
   "cell_type": "code",
   "execution_count": 9,
   "metadata": {},
   "outputs": [
    {
     "data": {
      "text/plain": [
       "(45157, 1)"
      ]
     },
     "execution_count": 9,
     "metadata": {},
     "output_type": "execute_result"
    }
   ],
   "source": [
    "dfx.reset_index(inplace=True, drop=True)\n",
    "dfy.reset_index(inplace=True, drop=True)\n",
    "dfy.shape"
   ]
  },
  {
   "cell_type": "code",
   "execution_count": 10,
   "metadata": {},
   "outputs": [],
   "source": [
    "#to perform the train test split of the data, the train test split function is imported from sklearn\n",
    "from sklearn.model_selection import train_test_split\n",
    "#the percentage of the split is taken as 30%. SO the percentage of training is 70%\n",
    "X_train, X_test, y_train, y_test = train_test_split(dfx, dfy, test_size=0.3, random_state=42)"
   ]
  },
  {
   "cell_type": "code",
   "execution_count": 11,
   "metadata": {},
   "outputs": [
    {
     "data": {
      "text/plain": [
       "LinearRegression(copy_X=True, fit_intercept=True, n_jobs=None, normalize=False)"
      ]
     },
     "execution_count": 11,
     "metadata": {},
     "output_type": "execute_result"
    }
   ],
   "source": [
    "# linear regression \n",
    "from sklearn.linear_model import LinearRegression\n",
    "model = LinearRegression()\n",
    "model.fit(X_train, y_train)"
   ]
  },
  {
   "cell_type": "code",
   "execution_count": 12,
   "metadata": {},
   "outputs": [
    {
     "data": {
      "text/plain": [
       "0.22164320209621935"
      ]
     },
     "execution_count": 12,
     "metadata": {},
     "output_type": "execute_result"
    }
   ],
   "source": [
    "#the target is predicted for the test dataset\n",
    "predictions = model.predict(X_test)\n",
    "#the accuracy of the prediction is found to be.... \n",
    "model.score(X_test,y_test)"
   ]
  },
  {
   "cell_type": "code",
   "execution_count": 13,
   "metadata": {},
   "outputs": [
    {
     "data": {
      "image/png": "[encoded data removed]",
      "text/plain": [
       "<Figure size 432x288 with 1 Axes>"
      ]
     },
     "metadata": {
      "needs_background": "light"
     },
     "output_type": "display_data"
    }
   ],
   "source": [
    "from sklearn.metrics import accuracy_score\n",
    "predictions = model.predict(X_test)\n",
    "# Plot Residuals\n",
    "plt.scatter(predictions, predictions - y_test)\n",
    "plt.hlines(y=0, xmin=predictions.min(), xmax=predictions.max())\n",
    "plt.show()"
   ]
  },
  {
   "cell_type": "code",
   "execution_count": 15,
   "metadata": {},
   "outputs": [
    {
     "data": {
      "text/plain": [
       "<matplotlib.axes._subplots.AxesSubplot at 0xf829ff1668>"
      ]
     },
     "execution_count": 15,
     "metadata": {},
     "output_type": "execute_result"
    },
    {
     "data": {
      "image/png": "[encoded data removed]",
      "text/plain": [
       "<Figure size 432x288 with 1 Axes>"
      ]
     },
     "metadata": {
      "needs_background": "light"
     },
     "output_type": "display_data"
    }
   ],
   "source": [
    "error = y_test - predictions\n",
    "#the error is calculated for the above test predictions and a distribution plot is plotted.\n",
    "sns.distplot(error)"
   ]
  },
  {
   "cell_type": "code",
   "execution_count": 16,
   "metadata": {},
   "outputs": [
    {
     "data": {
      "image/png": "[encoded data removed]",
      "text/plain": [
       "<Figure size 432x288 with 1 Axes>"
      ]
     },
     "metadata": {
      "needs_background": "light"
     },
     "output_type": "display_data"
    }
   ],
   "source": [
    "fig = plt.figure()\n",
    "res = stats.probplot(error['popularity'], plot=plt)"
   ]
  },
  {
   "cell_type": "markdown",
   "metadata": {},
   "source": [
    "## Regression With Scaler "
   ]
  },
  {
   "cell_type": "code",
   "execution_count": 106,
   "metadata": {},
   "outputs": [],
   "source": [
    "from sklearn.preprocessing import StandardScaler\n",
    "# Create a StandardScater model and fit it to the training data\n",
    "X_scaler = StandardScaler().fit(X_train)"
   ]
  },
  {
   "cell_type": "code",
   "execution_count": 107,
   "metadata": {},
   "outputs": [],
   "source": [
    "X_train_scaled = X_scaler.transform(X_train)\n",
    "X_test_scaled = X_scaler.transform(X_test)"
   ]
  },
  {
   "cell_type": "code",
   "execution_count": 108,
   "metadata": {},
   "outputs": [
    {
     "data": {
      "text/plain": [
       "LinearRegression(copy_X=True, fit_intercept=True, n_jobs=None, normalize=False)"
      ]
     },
     "execution_count": 108,
     "metadata": {},
     "output_type": "execute_result"
    }
   ],
   "source": [
    "model.fit(X_train_scaled, y_train)"
   ]
  },
  {
   "cell_type": "code",
   "execution_count": 109,
   "metadata": {},
   "outputs": [
    {
     "data": {
      "text/plain": [
       "0.221643202096097"
      ]
     },
     "execution_count": 109,
     "metadata": {},
     "output_type": "execute_result"
    }
   ],
   "source": [
    "#the target is predicted for the test dataset\n",
    "predictions = model.predict(X_test_scaled)\n",
    "#the accuracy of the prediction is found to be.... \n",
    "model.score(X_test_scaled,y_test)"
   ]
  },
  {
   "cell_type": "markdown",
   "metadata": {},
   "source": [
    "## OLS Regression  "
   ]
  },
  {
   "cell_type": "code",
   "execution_count": 22,
   "metadata": {},
   "outputs": [
    {
     "data": {
      "text/html": [
       "<div>\n",
       "<style scoped>\n",
       "    .dataframe tbody tr th:only-of-type {\n",
       "        vertical-align: middle;\n",
       "    }\n",
       "\n",
       "    .dataframe tbody tr th {\n",
       "        vertical-align: top;\n",
       "    }\n",
       "\n",
       "    .dataframe thead th {\n",
       "        text-align: right;\n",
       "    }\n",
       "</style>\n",
       "<table border=\"1\" class=\"dataframe\">\n",
       "  <thead>\n",
       "    <tr style=\"text-align: right;\">\n",
       "      <th></th>\n",
       "      <th>ones</th>\n",
       "      <th>followers</th>\n",
       "      <th>instrumentalness</th>\n",
       "      <th>acousticness</th>\n",
       "      <th>danceability</th>\n",
       "      <th>duration_ms</th>\n",
       "      <th>energy</th>\n",
       "      <th>key</th>\n",
       "      <th>liveness</th>\n",
       "      <th>loudness</th>\n",
       "      <th>mode</th>\n",
       "      <th>speechiness</th>\n",
       "      <th>tempo</th>\n",
       "      <th>time_signature</th>\n",
       "      <th>valence</th>\n",
       "    </tr>\n",
       "  </thead>\n",
       "  <tbody>\n",
       "    <tr>\n",
       "      <th>0</th>\n",
       "      <td>1</td>\n",
       "      <td>1627956</td>\n",
       "      <td>0.014100</td>\n",
       "      <td>0.05910</td>\n",
       "      <td>0.646</td>\n",
       "      <td>307413</td>\n",
       "      <td>0.840</td>\n",
       "      <td>8</td>\n",
       "      <td>0.0516</td>\n",
       "      <td>-8.213</td>\n",
       "      <td>1</td>\n",
       "      <td>0.0283</td>\n",
       "      <td>125.187</td>\n",
       "      <td>4</td>\n",
       "      <td>0.716</td>\n",
       "    </tr>\n",
       "    <tr>\n",
       "      <th>1</th>\n",
       "      <td>1</td>\n",
       "      <td>10469</td>\n",
       "      <td>0.000035</td>\n",
       "      <td>0.00119</td>\n",
       "      <td>0.496</td>\n",
       "      <td>191160</td>\n",
       "      <td>0.928</td>\n",
       "      <td>1</td>\n",
       "      <td>0.0988</td>\n",
       "      <td>-2.367</td>\n",
       "      <td>0</td>\n",
       "      <td>0.0469</td>\n",
       "      <td>144.932</td>\n",
       "      <td>4</td>\n",
       "      <td>0.561</td>\n",
       "    </tr>\n",
       "    <tr>\n",
       "      <th>2</th>\n",
       "      <td>1</td>\n",
       "      <td>5505368</td>\n",
       "      <td>0.000000</td>\n",
       "      <td>0.09090</td>\n",
       "      <td>0.586</td>\n",
       "      <td>213720</td>\n",
       "      <td>0.692</td>\n",
       "      <td>8</td>\n",
       "      <td>0.0567</td>\n",
       "      <td>-5.143</td>\n",
       "      <td>1</td>\n",
       "      <td>0.1770</td>\n",
       "      <td>158.041</td>\n",
       "      <td>4</td>\n",
       "      <td>0.457</td>\n",
       "    </tr>\n",
       "    <tr>\n",
       "      <th>3</th>\n",
       "      <td>1</td>\n",
       "      <td>880039</td>\n",
       "      <td>0.002050</td>\n",
       "      <td>0.00361</td>\n",
       "      <td>0.643</td>\n",
       "      <td>210667</td>\n",
       "      <td>0.896</td>\n",
       "      <td>0</td>\n",
       "      <td>0.9010</td>\n",
       "      <td>-6.662</td>\n",
       "      <td>1</td>\n",
       "      <td>0.0359</td>\n",
       "      <td>130.011</td>\n",
       "      <td>4</td>\n",
       "      <td>0.338</td>\n",
       "    </tr>\n",
       "    <tr>\n",
       "      <th>4</th>\n",
       "      <td>1</td>\n",
       "      <td>13</td>\n",
       "      <td>0.776000</td>\n",
       "      <td>0.00328</td>\n",
       "      <td>0.699</td>\n",
       "      <td>119053</td>\n",
       "      <td>0.974</td>\n",
       "      <td>9</td>\n",
       "      <td>0.2900</td>\n",
       "      <td>-5.576</td>\n",
       "      <td>0</td>\n",
       "      <td>0.1500</td>\n",
       "      <td>125.934</td>\n",
       "      <td>4</td>\n",
       "      <td>0.443</td>\n",
       "    </tr>\n",
       "  </tbody>\n",
       "</table>\n",
       "</div>"
      ],
      "text/plain": [
       "   ones  followers  instrumentalness  acousticness  danceability  duration_ms  \\\n",
       "0     1    1627956          0.014100       0.05910         0.646       307413   \n",
       "1     1      10469          0.000035       0.00119         0.496       191160   \n",
       "2     1    5505368          0.000000       0.09090         0.586       213720   \n",
       "3     1     880039          0.002050       0.00361         0.643       210667   \n",
       "4     1         13          0.776000       0.00328         0.699       119053   \n",
       "\n",
       "   energy  key  liveness  loudness  mode  speechiness    tempo  \\\n",
       "0   0.840    8    0.0516    -8.213     1       0.0283  125.187   \n",
       "1   0.928    1    0.0988    -2.367     0       0.0469  144.932   \n",
       "2   0.692    8    0.0567    -5.143     1       0.1770  158.041   \n",
       "3   0.896    0    0.9010    -6.662     1       0.0359  130.011   \n",
       "4   0.974    9    0.2900    -5.576     0       0.1500  125.934   \n",
       "\n",
       "   time_signature  valence  \n",
       "0               4    0.716  \n",
       "1               4    0.561  \n",
       "2               4    0.457  \n",
       "3               4    0.338  \n",
       "4               4    0.443  "
      ]
     },
     "execution_count": 22,
     "metadata": {},
     "output_type": "execute_result"
    }
   ],
   "source": [
    "oness = np.ones((len(dfx),1),dtype = int)\n",
    "dfone = pd.DataFrame(oness, columns = ['ones'])\n",
    "dfxnew = dfone.join(dfx)\n",
    "dfxnew.head()\n"
   ]
  },
  {
   "cell_type": "code",
   "execution_count": 23,
   "metadata": {},
   "outputs": [
    {
     "name": "stdout",
     "output_type": "stream",
     "text": [
      "(45157, 1)\n",
      "(45157, 15)\n"
     ]
    }
   ],
   "source": [
    "dfxnew.reset_index(inplace=True, drop=True)\n",
    "dfy.reset_index(inplace=True, drop=True)\n",
    "print(dfy.shape)\n",
    "print(dfxnew.shape)"
   ]
  },
  {
   "cell_type": "code",
   "execution_count": 24,
   "metadata": {},
   "outputs": [],
   "source": [
    "import statsmodels.formula.api as sm\n",
    "import statsmodels.regression.linear_model as lm"
   ]
  },
  {
   "cell_type": "code",
   "execution_count": 25,
   "metadata": {},
   "outputs": [
    {
     "data": {
      "text/html": [
       "<table class=\"simpletable\">\n",
       "<caption>OLS Regression Results</caption>\n",
       "<tr>\n",
       "  <th>Dep. Variable:</th>       <td>popularity</td>    <th>  R-squared:         </th>  <td>   0.224</td>  \n",
       "</tr>\n",
       "<tr>\n",
       "  <th>Model:</th>                   <td>OLS</td>       <th>  Adj. R-squared:    </th>  <td>   0.223</td>  \n",
       "</tr>\n",
       "<tr>\n",
       "  <th>Method:</th>             <td>Least Squares</td>  <th>  F-statistic:       </th>  <td>   928.4</td>  \n",
       "</tr>\n",
       "<tr>\n",
       "  <th>Date:</th>             <td>Fri, 17 Apr 2020</td> <th>  Prob (F-statistic):</th>   <td>  0.00</td>   \n",
       "</tr>\n",
       "<tr>\n",
       "  <th>Time:</th>                 <td>00:11:52</td>     <th>  Log-Likelihood:    </th> <td>-2.0319e+05</td>\n",
       "</tr>\n",
       "<tr>\n",
       "  <th>No. Observations:</th>      <td> 45157</td>      <th>  AIC:               </th>  <td>4.064e+05</td> \n",
       "</tr>\n",
       "<tr>\n",
       "  <th>Df Residuals:</th>          <td> 45142</td>      <th>  BIC:               </th>  <td>4.065e+05</td> \n",
       "</tr>\n",
       "<tr>\n",
       "  <th>Df Model:</th>              <td>    14</td>      <th>                     </th>      <td> </td>     \n",
       "</tr>\n",
       "<tr>\n",
       "  <th>Covariance Type:</th>      <td>nonrobust</td>    <th>                     </th>      <td> </td>     \n",
       "</tr>\n",
       "</table>\n",
       "<table class=\"simpletable\">\n",
       "<tr>\n",
       "          <td></td>            <th>coef</th>     <th>std err</th>      <th>t</th>      <th>P>|t|</th>  <th>[0.025</th>    <th>0.975]</th>  \n",
       "</tr>\n",
       "<tr>\n",
       "  <th>ones</th>             <td>   31.0190</td> <td>    1.551</td> <td>   20.003</td> <td> 0.000</td> <td>   27.980</td> <td>   34.058</td>\n",
       "</tr>\n",
       "<tr>\n",
       "  <th>followers</th>        <td> 1.517e-06</td> <td> 2.01e-08</td> <td>   75.537</td> <td> 0.000</td> <td> 1.48e-06</td> <td> 1.56e-06</td>\n",
       "</tr>\n",
       "<tr>\n",
       "  <th>instrumentalness</th> <td>  -20.2453</td> <td>    0.416</td> <td>  -48.611</td> <td> 0.000</td> <td>  -21.062</td> <td>  -19.429</td>\n",
       "</tr>\n",
       "<tr>\n",
       "  <th>acousticness</th>     <td>   -1.2114</td> <td>    0.478</td> <td>   -2.536</td> <td> 0.011</td> <td>   -2.148</td> <td>   -0.275</td>\n",
       "</tr>\n",
       "<tr>\n",
       "  <th>danceability</th>     <td>   16.4977</td> <td>    0.742</td> <td>   22.248</td> <td> 0.000</td> <td>   15.044</td> <td>   17.951</td>\n",
       "</tr>\n",
       "<tr>\n",
       "  <th>duration_ms</th>      <td>-1.004e-05</td> <td> 1.27e-06</td> <td>   -7.888</td> <td> 0.000</td> <td>-1.25e-05</td> <td>-7.54e-06</td>\n",
       "</tr>\n",
       "<tr>\n",
       "  <th>energy</th>           <td>   -5.0893</td> <td>    0.862</td> <td>   -5.904</td> <td> 0.000</td> <td>   -6.779</td> <td>   -3.400</td>\n",
       "</tr>\n",
       "<tr>\n",
       "  <th>key</th>              <td>   -0.0478</td> <td>    0.029</td> <td>   -1.648</td> <td> 0.099</td> <td>   -0.105</td> <td>    0.009</td>\n",
       "</tr>\n",
       "<tr>\n",
       "  <th>liveness</th>         <td>  -10.3430</td> <td>    0.653</td> <td>  -15.847</td> <td> 0.000</td> <td>  -11.622</td> <td>   -9.064</td>\n",
       "</tr>\n",
       "<tr>\n",
       "  <th>loudness</th>         <td>    0.2994</td> <td>    0.040</td> <td>    7.419</td> <td> 0.000</td> <td>    0.220</td> <td>    0.379</td>\n",
       "</tr>\n",
       "<tr>\n",
       "  <th>mode</th>             <td>    0.2108</td> <td>    0.220</td> <td>    0.959</td> <td> 0.338</td> <td>   -0.220</td> <td>    0.642</td>\n",
       "</tr>\n",
       "<tr>\n",
       "  <th>speechiness</th>      <td>  -18.5304</td> <td>    1.045</td> <td>  -17.732</td> <td> 0.000</td> <td>  -20.579</td> <td>  -16.482</td>\n",
       "</tr>\n",
       "<tr>\n",
       "  <th>tempo</th>            <td>   -0.0056</td> <td>    0.004</td> <td>   -1.518</td> <td> 0.129</td> <td>   -0.013</td> <td>    0.002</td>\n",
       "</tr>\n",
       "<tr>\n",
       "  <th>time_signature</th>   <td>    3.0681</td> <td>    0.290</td> <td>   10.583</td> <td> 0.000</td> <td>    2.500</td> <td>    3.636</td>\n",
       "</tr>\n",
       "<tr>\n",
       "  <th>valence</th>          <td>   -1.8805</td> <td>    0.495</td> <td>   -3.796</td> <td> 0.000</td> <td>   -2.851</td> <td>   -0.910</td>\n",
       "</tr>\n",
       "</table>\n",
       "<table class=\"simpletable\">\n",
       "<tr>\n",
       "  <th>Omnibus:</th>       <td>6423.014</td> <th>  Durbin-Watson:     </th> <td>   0.937</td>\n",
       "</tr>\n",
       "<tr>\n",
       "  <th>Prob(Omnibus):</th>  <td> 0.000</td>  <th>  Jarque-Bera (JB):  </th> <td>1922.388</td>\n",
       "</tr>\n",
       "<tr>\n",
       "  <th>Skew:</th>           <td>-0.236</td>  <th>  Prob(JB):          </th> <td>    0.00</td>\n",
       "</tr>\n",
       "<tr>\n",
       "  <th>Kurtosis:</th>       <td> 2.107</td>  <th>  Cond. No.          </th> <td>9.03e+07</td>\n",
       "</tr>\n",
       "</table><br/><br/>Warnings:<br/>[1] Standard Errors assume that the covariance matrix of the errors is correctly specified.<br/>[2] The condition number is large, 9.03e+07. This might indicate that there are<br/>strong multicollinearity or other numerical problems."
      ],
      "text/plain": [
       "<class 'statsmodels.iolib.summary.Summary'>\n",
       "\"\"\"\n",
       "                            OLS Regression Results                            \n",
       "==============================================================================\n",
       "Dep. Variable:             popularity   R-squared:                       0.224\n",
       "Model:                            OLS   Adj. R-squared:                  0.223\n",
       "Method:                 Least Squares   F-statistic:                     928.4\n",
       "Date:                Fri, 17 Apr 2020   Prob (F-statistic):               0.00\n",
       "Time:                        00:11:52   Log-Likelihood:            -2.0319e+05\n",
       "No. Observations:               45157   AIC:                         4.064e+05\n",
       "Df Residuals:                   45142   BIC:                         4.065e+05\n",
       "Df Model:                          14                                         \n",
       "Covariance Type:            nonrobust                                         \n",
       "====================================================================================\n",
       "                       coef    std err          t      P>|t|      [0.025      0.975]\n",
       "------------------------------------------------------------------------------------\n",
       "ones                31.0190      1.551     20.003      0.000      27.980      34.058\n",
       "followers         1.517e-06   2.01e-08     75.537      0.000    1.48e-06    1.56e-06\n",
       "instrumentalness   -20.2453      0.416    -48.611      0.000     -21.062     -19.429\n",
       "acousticness        -1.2114      0.478     -2.536      0.011      -2.148      -0.275\n",
       "danceability        16.4977      0.742     22.248      0.000      15.044      17.951\n",
       "duration_ms      -1.004e-05   1.27e-06     -7.888      0.000   -1.25e-05   -7.54e-06\n",
       "energy              -5.0893      0.862     -5.904      0.000      -6.779      -3.400\n",
       "key                 -0.0478      0.029     -1.648      0.099      -0.105       0.009\n",
       "liveness           -10.3430      0.653    -15.847      0.000     -11.622      -9.064\n",
       "loudness             0.2994      0.040      7.419      0.000       0.220       0.379\n",
       "mode                 0.2108      0.220      0.959      0.338      -0.220       0.642\n",
       "speechiness        -18.5304      1.045    -17.732      0.000     -20.579     -16.482\n",
       "tempo               -0.0056      0.004     -1.518      0.129      -0.013       0.002\n",
       "time_signature       3.0681      0.290     10.583      0.000       2.500       3.636\n",
       "valence             -1.8805      0.495     -3.796      0.000      -2.851      -0.910\n",
       "==============================================================================\n",
       "Omnibus:                     6423.014   Durbin-Watson:                   0.937\n",
       "Prob(Omnibus):                  0.000   Jarque-Bera (JB):             1922.388\n",
       "Skew:                          -0.236   Prob(JB):                         0.00\n",
       "Kurtosis:                       2.107   Cond. No.                     9.03e+07\n",
       "==============================================================================\n",
       "\n",
       "Warnings:\n",
       "[1] Standard Errors assume that the covariance matrix of the errors is correctly specified.\n",
       "[2] The condition number is large, 9.03e+07. This might indicate that there are\n",
       "strong multicollinearity or other numerical problems.\n",
       "\"\"\""
      ]
     },
     "execution_count": 25,
     "metadata": {},
     "output_type": "execute_result"
    }
   ],
   "source": [
    "#OLS Regression - ,\n",
    "lir_ols = lm.OLS(endog = dfy, exog = dfxnew).fit()\n",
    "lir_ols.summary()"
   ]
  },
  {
   "cell_type": "markdown",
   "metadata": {},
   "source": [
    "## RMSE Model with Plot"
   ]
  },
  {
   "cell_type": "code",
   "execution_count": 19,
   "metadata": {},
   "outputs": [],
   "source": [
    "from sklearn.model_selection import cross_val_score, train_test_split\n",
    "from sklearn.preprocessing import StandardScaler\n",
    "from sklearn.linear_model import LinearRegression, RidgeCV, LassoCV, ElasticNetCV\n",
    "from sklearn.metrics import mean_squared_error, make_scorer\n",
    "\n",
    "# Define error measure for official scoring : RMSE\n",
    "scorer = make_scorer(mean_squared_error, greater_is_better = False)\n",
    "\n",
    "def rmse_cv_train(model):\n",
    "    rmse= np.sqrt(-cross_val_score(model, X_train, y_train, scoring = scorer, cv = 10))\n",
    "    return(rmse)\n",
    "\n",
    "def rmse_cv_test(model):\n",
    "    rmse= np.sqrt(-cross_val_score(model, X_test, y_test, scoring = scorer, cv = 10))\n",
    "    return(rmse)"
   ]
  },
  {
   "cell_type": "code",
   "execution_count": 20,
   "metadata": {},
   "outputs": [
    {
     "name": "stdout",
     "output_type": "stream",
     "text": [
      "RMSE on Training set : 21.80797025735142\n",
      "RMSE on Test set : 21.734659162421977\n"
     ]
    },
    {
     "data": {
      "image/png": "[encoded data removed]",
      "text/plain": [
       "<Figure size 432x288 with 1 Axes>"
      ]
     },
     "metadata": {
      "needs_background": "light"
     },
     "output_type": "display_data"
    },
    {
     "data": {
      "image/png": "[encoded data removed]",
      "text/plain": [
       "<Figure size 432x288 with 1 Axes>"
      ]
     },
     "metadata": {
      "needs_background": "light"
     },
     "output_type": "display_data"
    }
   ],
   "source": [
    "# Linear Regression\n",
    "lr = LinearRegression()\n",
    "lr.fit(X_train, y_train)\n",
    "\n",
    "# Look at predictions on training and validation set\n",
    "print(\"RMSE on Training set :\", rmse_cv_train(lr).mean())\n",
    "print(\"RMSE on Test set :\", rmse_cv_test(lr).mean())\n",
    "y_train_pred = lr.predict(X_train)\n",
    "y_test_pred = lr.predict(X_test)\n",
    "\n",
    "# Plot residuals\n",
    "plt.scatter(y_train_pred, y_train_pred - y_train, c = \"blue\", marker = \"s\", label = \"Training data\")\n",
    "plt.scatter(y_test_pred, y_test_pred - y_test, c = \"lightgreen\", marker = \"s\", label = \"Validation data\")\n",
    "plt.title(\"Linear regression\")\n",
    "plt.xlabel(\"Predicted values\")\n",
    "plt.ylabel(\"Residuals\")\n",
    "plt.legend(loc = \"upper left\")\n",
    "plt.hlines(y = 0, xmin = 10.5, xmax = 13.5, color = \"red\")\n",
    "plt.show()\n",
    "\n",
    "# Plot predictions\n",
    "plt.scatter(y_train_pred, y_train, c = \"blue\", marker = \"s\", label = \"Training data\")\n",
    "plt.scatter(y_test_pred, y_test, c = \"lightgreen\", marker = \"s\", label = \"Validation data\")\n",
    "plt.title(\"Linear regression\")\n",
    "plt.xlabel(\"Predicted values\")\n",
    "plt.ylabel(\"Real values\")\n",
    "plt.legend(loc = \"upper left\")\n",
    "plt.plot([10.5, 13.5], [10.5, 13.5], c = \"red\")\n",
    "plt.show()"
   ]
  },
  {
   "cell_type": "markdown",
   "metadata": {},
   "source": [
    "# Classification Models "
   ]
  },
  {
   "cell_type": "code",
   "execution_count": 124,
   "metadata": {},
   "outputs": [],
   "source": [
    "from sklearn.linear_model import LogisticRegression\n",
    "from sklearn.ensemble import RandomForestClassifier\n",
    "from sklearn.neighbors import KNeighborsClassifier\n",
    "from sklearn.tree import DecisionTreeClassifier\n",
    "from sklearn.svm import SVC, LinearSVC\n",
    "from xgboost import XGBClassifier\n",
    "\n",
    "from sklearn.metrics import make_scorer, accuracy_score, roc_auc_score \n",
    "from sklearn.model_selection import GridSearchCV\n",
    "from sklearn.model_selection import train_test_split"
   ]
  },
  {
   "cell_type": "markdown",
   "metadata": {},
   "source": [
    "##  Dataframe & Feature Set-up "
   ]
  },
  {
   "cell_type": "code",
   "execution_count": 125,
   "metadata": {},
   "outputs": [
    {
     "data": {
      "text/plain": [
       "(45157, 18)"
      ]
     },
     "execution_count": 125,
     "metadata": {},
     "output_type": "execute_result"
    }
   ],
   "source": [
    "dataframe = tds1\n",
    "dataframe.shape\n"
   ]
  },
  {
   "cell_type": "code",
   "execution_count": 126,
   "metadata": {},
   "outputs": [
    {
     "data": {
      "text/plain": [
       "Text(0.5, 1.0, 'Popularity Distribution')"
      ]
     },
     "execution_count": 126,
     "metadata": {},
     "output_type": "execute_result"
    },
    {
     "data": {
      "image/png": "[encoded data removed]",
      "text/plain": [
       "<Figure size 432x288 with 1 Axes>"
      ]
     },
     "metadata": {},
     "output_type": "display_data"
    }
   ],
   "source": [
    "sns.distplot(dataframe['popularity']).set_title('Popularity Distribution')"
   ]
  },
  {
   "cell_type": "code",
   "execution_count": 127,
   "metadata": {},
   "outputs": [
    {
     "data": {
      "text/html": [
       "<div>\n",
       "<style scoped>\n",
       "    .dataframe tbody tr th:only-of-type {\n",
       "        vertical-align: middle;\n",
       "    }\n",
       "\n",
       "    .dataframe tbody tr th {\n",
       "        vertical-align: top;\n",
       "    }\n",
       "\n",
       "    .dataframe thead th {\n",
       "        text-align: right;\n",
       "    }\n",
       "</style>\n",
       "<table border=\"1\" class=\"dataframe\">\n",
       "  <thead>\n",
       "    <tr style=\"text-align: right;\">\n",
       "      <th></th>\n",
       "      <th>followers</th>\n",
       "      <th>instrumentalness</th>\n",
       "      <th>popularity</th>\n",
       "      <th>acousticness</th>\n",
       "      <th>danceability</th>\n",
       "      <th>duration_ms</th>\n",
       "      <th>energy</th>\n",
       "      <th>key</th>\n",
       "      <th>liveness</th>\n",
       "      <th>loudness</th>\n",
       "      <th>mode</th>\n",
       "      <th>speechiness</th>\n",
       "      <th>tempo</th>\n",
       "      <th>time_signature</th>\n",
       "      <th>valence</th>\n",
       "      <th>log_popularity</th>\n",
       "    </tr>\n",
       "  </thead>\n",
       "  <tbody>\n",
       "    <tr>\n",
       "      <th>count</th>\n",
       "      <td>4.515700e+04</td>\n",
       "      <td>45157.000000</td>\n",
       "      <td>45157.000000</td>\n",
       "      <td>45157.000000</td>\n",
       "      <td>45157.000000</td>\n",
       "      <td>4.515700e+04</td>\n",
       "      <td>45157.000000</td>\n",
       "      <td>45157.000000</td>\n",
       "      <td>45157.000000</td>\n",
       "      <td>45157.000000</td>\n",
       "      <td>45157.000000</td>\n",
       "      <td>45157.000000</td>\n",
       "      <td>45157.000000</td>\n",
       "      <td>45157.000000</td>\n",
       "      <td>45157.000000</td>\n",
       "      <td>4.515700e+04</td>\n",
       "    </tr>\n",
       "    <tr>\n",
       "      <th>mean</th>\n",
       "      <td>1.890777e+06</td>\n",
       "      <td>0.124477</td>\n",
       "      <td>39.472994</td>\n",
       "      <td>0.278239</td>\n",
       "      <td>0.593009</td>\n",
       "      <td>2.310003e+05</td>\n",
       "      <td>0.631839</td>\n",
       "      <td>5.276015</td>\n",
       "      <td>0.190949</td>\n",
       "      <td>-8.223496</td>\n",
       "      <td>0.648094</td>\n",
       "      <td>0.090158</td>\n",
       "      <td>120.917113</td>\n",
       "      <td>3.930841</td>\n",
       "      <td>0.516775</td>\n",
       "      <td>-inf</td>\n",
       "    </tr>\n",
       "    <tr>\n",
       "      <th>std</th>\n",
       "      <td>5.217369e+06</td>\n",
       "      <td>0.274807</td>\n",
       "      <td>24.712035</td>\n",
       "      <td>0.307571</td>\n",
       "      <td>0.171259</td>\n",
       "      <td>8.312010e+04</td>\n",
       "      <td>0.232142</td>\n",
       "      <td>3.581349</td>\n",
       "      <td>0.163793</td>\n",
       "      <td>4.300239</td>\n",
       "      <td>0.477570</td>\n",
       "      <td>0.102903</td>\n",
       "      <td>29.012747</td>\n",
       "      <td>0.363697</td>\n",
       "      <td>0.255033</td>\n",
       "      <td>NaN</td>\n",
       "    </tr>\n",
       "    <tr>\n",
       "      <th>min</th>\n",
       "      <td>0.000000e+00</td>\n",
       "      <td>0.000000</td>\n",
       "      <td>0.000000</td>\n",
       "      <td>0.000000</td>\n",
       "      <td>0.000000</td>\n",
       "      <td>5.627000e+03</td>\n",
       "      <td>0.000020</td>\n",
       "      <td>0.000000</td>\n",
       "      <td>0.000000</td>\n",
       "      <td>-54.909000</td>\n",
       "      <td>0.000000</td>\n",
       "      <td>0.000000</td>\n",
       "      <td>0.000000</td>\n",
       "      <td>0.000000</td>\n",
       "      <td>0.000000</td>\n",
       "      <td>-inf</td>\n",
       "    </tr>\n",
       "    <tr>\n",
       "      <th>25%</th>\n",
       "      <td>1.646100e+04</td>\n",
       "      <td>0.000000</td>\n",
       "      <td>17.000000</td>\n",
       "      <td>0.019000</td>\n",
       "      <td>0.482000</td>\n",
       "      <td>1.870670e+05</td>\n",
       "      <td>0.475000</td>\n",
       "      <td>2.000000</td>\n",
       "      <td>0.093100</td>\n",
       "      <td>-10.197000</td>\n",
       "      <td>0.000000</td>\n",
       "      <td>0.035400</td>\n",
       "      <td>98.257000</td>\n",
       "      <td>4.000000</td>\n",
       "      <td>0.313000</td>\n",
       "      <td>2.833213e+00</td>\n",
       "    </tr>\n",
       "    <tr>\n",
       "      <th>50%</th>\n",
       "      <td>1.751950e+05</td>\n",
       "      <td>0.000060</td>\n",
       "      <td>43.000000</td>\n",
       "      <td>0.141000</td>\n",
       "      <td>0.606000</td>\n",
       "      <td>2.191200e+05</td>\n",
       "      <td>0.662000</td>\n",
       "      <td>5.000000</td>\n",
       "      <td>0.124000</td>\n",
       "      <td>-7.256000</td>\n",
       "      <td>1.000000</td>\n",
       "      <td>0.049200</td>\n",
       "      <td>120.014000</td>\n",
       "      <td>4.000000</td>\n",
       "      <td>0.515000</td>\n",
       "      <td>3.761200e+00</td>\n",
       "    </tr>\n",
       "    <tr>\n",
       "      <th>75%</th>\n",
       "      <td>1.075210e+06</td>\n",
       "      <td>0.021200</td>\n",
       "      <td>60.000000</td>\n",
       "      <td>0.490000</td>\n",
       "      <td>0.720000</td>\n",
       "      <td>2.594130e+05</td>\n",
       "      <td>0.822000</td>\n",
       "      <td>8.000000</td>\n",
       "      <td>0.240000</td>\n",
       "      <td>-5.261000</td>\n",
       "      <td>1.000000</td>\n",
       "      <td>0.093700</td>\n",
       "      <td>138.841000</td>\n",
       "      <td>4.000000</td>\n",
       "      <td>0.725000</td>\n",
       "      <td>4.094345e+00</td>\n",
       "    </tr>\n",
       "    <tr>\n",
       "      <th>max</th>\n",
       "      <td>6.237875e+07</td>\n",
       "      <td>0.999000</td>\n",
       "      <td>98.000000</td>\n",
       "      <td>0.996000</td>\n",
       "      <td>0.988000</td>\n",
       "      <td>2.752254e+06</td>\n",
       "      <td>1.000000</td>\n",
       "      <td>11.000000</td>\n",
       "      <td>0.998000</td>\n",
       "      <td>4.405000</td>\n",
       "      <td>1.000000</td>\n",
       "      <td>0.963000</td>\n",
       "      <td>245.941000</td>\n",
       "      <td>5.000000</td>\n",
       "      <td>0.998000</td>\n",
       "      <td>4.584967e+00</td>\n",
       "    </tr>\n",
       "  </tbody>\n",
       "</table>\n",
       "</div>"
      ],
      "text/plain": [
       "          followers  instrumentalness    popularity  acousticness  \\\n",
       "count  4.515700e+04      45157.000000  45157.000000  45157.000000   \n",
       "mean   1.890777e+06          0.124477     39.472994      0.278239   \n",
       "std    5.217369e+06          0.274807     24.712035      0.307571   \n",
       "min    0.000000e+00          0.000000      0.000000      0.000000   \n",
       "25%    1.646100e+04          0.000000     17.000000      0.019000   \n",
       "50%    1.751950e+05          0.000060     43.000000      0.141000   \n",
       "75%    1.075210e+06          0.021200     60.000000      0.490000   \n",
       "max    6.237875e+07          0.999000     98.000000      0.996000   \n",
       "\n",
       "       danceability   duration_ms        energy           key      liveness  \\\n",
       "count  45157.000000  4.515700e+04  45157.000000  45157.000000  45157.000000   \n",
       "mean       0.593009  2.310003e+05      0.631839      5.276015      0.190949   \n",
       "std        0.171259  8.312010e+04      0.232142      3.581349      0.163793   \n",
       "min        0.000000  5.627000e+03      0.000020      0.000000      0.000000   \n",
       "25%        0.482000  1.870670e+05      0.475000      2.000000      0.093100   \n",
       "50%        0.606000  2.191200e+05      0.662000      5.000000      0.124000   \n",
       "75%        0.720000  2.594130e+05      0.822000      8.000000      0.240000   \n",
       "max        0.988000  2.752254e+06      1.000000     11.000000      0.998000   \n",
       "\n",
       "           loudness          mode   speechiness         tempo  time_signature  \\\n",
       "count  45157.000000  45157.000000  45157.000000  45157.000000    45157.000000   \n",
       "mean      -8.223496      0.648094      0.090158    120.917113        3.930841   \n",
       "std        4.300239      0.477570      0.102903     29.012747        0.363697   \n",
       "min      -54.909000      0.000000      0.000000      0.000000        0.000000   \n",
       "25%      -10.197000      0.000000      0.035400     98.257000        4.000000   \n",
       "50%       -7.256000      1.000000      0.049200    120.014000        4.000000   \n",
       "75%       -5.261000      1.000000      0.093700    138.841000        4.000000   \n",
       "max        4.405000      1.000000      0.963000    245.941000        5.000000   \n",
       "\n",
       "            valence  log_popularity  \n",
       "count  45157.000000    4.515700e+04  \n",
       "mean       0.516775            -inf  \n",
       "std        0.255033             NaN  \n",
       "min        0.000000            -inf  \n",
       "25%        0.313000    2.833213e+00  \n",
       "50%        0.515000    3.761200e+00  \n",
       "75%        0.725000    4.094345e+00  \n",
       "max        0.998000    4.584967e+00  "
      ]
     },
     "execution_count": 127,
     "metadata": {},
     "output_type": "execute_result"
    }
   ],
   "source": [
    "#dataframe.loc[dataframe['popularity'] == 0]\n",
    "dataframe.describe()"
   ]
  },
  {
   "cell_type": "code",
   "execution_count": 128,
   "metadata": {},
   "outputs": [
    {
     "name": "stderr",
     "output_type": "stream",
     "text": [
      "'c' argument looks like a single numeric RGB or RGBA sequence, which should be avoided as value-mapping will have precedence in case its length matches with 'x' & 'y'.  Please use a 2-D array with a single row if you really want to specify the same RGB or RGBA value for all points.\n"
     ]
    },
    {
     "data": {
      "image/png": "[encoded data removed]",
      "text/plain": [
       "<Figure size 432x288 with 1 Axes>"
      ]
     },
     "metadata": {},
     "output_type": "display_data"
    }
   ],
   "source": [
    "import seaborn as sns\n",
    "\n",
    "sns.set(style=\"whitegrid\")\n",
    "\n",
    "tips = sns.load_dataset(\"tips\")\n",
    "\n",
    "ax = sns.boxenplot(x=dataframe['popularity'])"
   ]
  },
  {
   "cell_type": "code",
   "execution_count": 129,
   "metadata": {},
   "outputs": [],
   "source": [
    "#Convert popularity to binary varible. \n",
    "#we will define above 20 as \"popular\" since that's the border of the top 25% of songs and encode that as 1,\n",
    "#and below 75 as \"not popular\" and encode that as 0.\n",
    "\n",
    "dataframe.loc[dataframe['popularity'] < 60, 'popularity'] = 0 \n",
    "dataframe.loc[dataframe['popularity'] >= 60, 'popularity'] = 1\n",
    "#dataframe.loc[dataframe['popularity'] == 0]\n"
   ]
  },
  {
   "cell_type": "code",
   "execution_count": 130,
   "metadata": {},
   "outputs": [
    {
     "data": {
      "text/plain": [
       "0    33443\n",
       "1    11714\n",
       "Name: popularity, dtype: int64"
      ]
     },
     "execution_count": 130,
     "metadata": {},
     "output_type": "execute_result"
    }
   ],
   "source": [
    "dataframe['popularity'].value_counts()"
   ]
  },
  {
   "cell_type": "code",
   "execution_count": 131,
   "metadata": {},
   "outputs": [],
   "source": [
    "features = [\"danceability\", \"energy\", \"followers\", \"key\", \"liveness\" ,'instrumentalness', \n",
    "            \"mode\", \"speechiness\", \"tempo\", \"time_signature\", \"valence\"]"
   ]
  },
  {
   "cell_type": "code",
   "execution_count": 132,
   "metadata": {},
   "outputs": [],
   "source": [
    "#Next we define 80% of the dataframe for training and 20% of the dataframe for testing.\n",
    "training = dataframe.sample(frac = 0.8,random_state = 420)\n",
    "X_train = training[features]\n",
    "y_train = training['popularity']\n",
    "X_test = dataframe.drop(training.index)[features]"
   ]
  },
  {
   "cell_type": "code",
   "execution_count": 133,
   "metadata": {},
   "outputs": [],
   "source": [
    "#We add a validation dataset using train_test_split.\n",
    "X_train, X_valid, y_train, y_valid = train_test_split(X_train, y_train, test_size = 0.2, random_state = 420)"
   ]
  },
  {
   "cell_type": "markdown",
   "metadata": {},
   "source": [
    "## Logistic Regresssion "
   ]
  },
  {
   "cell_type": "code",
   "execution_count": 134,
   "metadata": {},
   "outputs": [
    {
     "name": "stderr",
     "output_type": "stream",
     "text": [
      "C:\\ProgramData\\Anaconda3\\lib\\site-packages\\sklearn\\linear_model\\logistic.py:432: FutureWarning: Default solver will be changed to 'lbfgs' in 0.22. Specify a solver to silence this warning.\n",
      "  FutureWarning)\n"
     ]
    },
    {
     "name": "stdout",
     "output_type": "stream",
     "text": [
      "Accuracy: 0.7890949349570994\n",
      "AUC: 0.6235751545208452\n"
     ]
    }
   ],
   "source": [
    "#Logistic Regression\n",
    "LR_Model = LogisticRegression()\n",
    "LR_Model.fit(X_train, y_train)\n",
    "LR_Predict = LR_Model.predict(X_valid)\n",
    "LR_Accuracy = accuracy_score(y_valid, LR_Predict)\n",
    "print(\"Accuracy: \" + str(LR_Accuracy))\n",
    "\n",
    "LR_AUC = roc_auc_score(y_valid, LR_Predict) \n",
    "print(\"AUC: \" + str(LR_AUC))"
   ]
  },
  {
   "cell_type": "markdown",
   "metadata": {},
   "source": [
    "## RandomForestClassifier"
   ]
  },
  {
   "cell_type": "code",
   "execution_count": 135,
   "metadata": {},
   "outputs": [
    {
     "name": "stderr",
     "output_type": "stream",
     "text": [
      "C:\\ProgramData\\Anaconda3\\lib\\site-packages\\sklearn\\ensemble\\forest.py:245: FutureWarning: The default value of n_estimators will change from 10 in version 0.20 to 100 in 0.22.\n",
      "  \"10 in version 0.20 to 100 in 0.22.\", FutureWarning)\n"
     ]
    },
    {
     "name": "stdout",
     "output_type": "stream",
     "text": [
      "Accuracy: 0.9108773872128425\n",
      "AUC: 0.8722260486686635\n"
     ]
    }
   ],
   "source": [
    "RFC_Model = RandomForestClassifier()\n",
    "RFC_Model.fit(X_train, y_train)\n",
    "RFC_Predict = RFC_Model.predict(X_valid)\n",
    "RFC_Accuracy = accuracy_score(y_valid, RFC_Predict)\n",
    "print(\"Accuracy: \" + str(RFC_Accuracy))\n",
    "\n",
    "RFC_AUC = roc_auc_score(y_valid, RFC_Predict) \n",
    "print(\"AUC: \" + str(RFC_AUC))"
   ]
  },
  {
   "cell_type": "markdown",
   "metadata": {},
   "source": [
    "## K-Nearest Neighbors Classifier"
   ]
  },
  {
   "cell_type": "code",
   "execution_count": 136,
   "metadata": {},
   "outputs": [
    {
     "name": "stdout",
     "output_type": "stream",
     "text": [
      "Accuracy: 0.8295045668419596\n",
      "AUC: 0.771022999233199\n"
     ]
    }
   ],
   "source": [
    "KNN_Model = KNeighborsClassifier()\n",
    "KNN_Model.fit(X_train, y_train)\n",
    "KNN_Predict = KNN_Model.predict(X_valid)\n",
    "KNN_Accuracy = accuracy_score(y_valid, KNN_Predict)\n",
    "print(\"Accuracy: \" + str(KNN_Accuracy))\n",
    "\n",
    "KNN_AUC = roc_auc_score(y_valid, KNN_Predict) \n",
    "print(\"AUC: \" + str(KNN_AUC))"
   ]
  },
  {
   "cell_type": "markdown",
   "metadata": {},
   "source": [
    "## Decision Tree Classifier"
   ]
  },
  {
   "cell_type": "code",
   "execution_count": 137,
   "metadata": {},
   "outputs": [
    {
     "name": "stdout",
     "output_type": "stream",
     "text": [
      "Accuracy: 0.8819540548021035\n",
      "AUC: 0.8628865622493687\n"
     ]
    }
   ],
   "source": [
    "DT_Model = DecisionTreeClassifier()\n",
    "DT_Model.fit(X_train, y_train)\n",
    "DT_Predict = DT_Model.predict(X_valid)\n",
    "DT_Accuracy = accuracy_score(y_valid, DT_Predict)\n",
    "print(\"Accuracy: \" + str(DT_Accuracy))\n",
    "\n",
    "DT_AUC = roc_auc_score(y_valid, DT_Predict) \n",
    "print(\"AUC: \" + str(DT_AUC))"
   ]
  },
  {
   "cell_type": "markdown",
   "metadata": {},
   "source": [
    "## Model Performance Summary"
   ]
  },
  {
   "cell_type": "code",
   "execution_count": 138,
   "metadata": {},
   "outputs": [],
   "source": [
    "model_performance_accuracy = pd.DataFrame({'Model': ['LogisticRegression', \n",
    "                                                      'RandomForestClassifier', \n",
    "                                                      'KNeighborsClassifier',\n",
    "                                                      'DecisionTreeClassifier',\n",
    "                                                      ],\n",
    "                                            'Accuracy': [LR_Accuracy,\n",
    "                                                         RFC_Accuracy,\n",
    "                                                         KNN_Accuracy,\n",
    "                                                         DT_Accuracy]})\n",
    "\n",
    "model_performance_AUC = pd.DataFrame({'Model': ['LogisticRegression', \n",
    "                                                      'RandomForestClassifier', \n",
    "                                                      'KNeighborsClassifier',\n",
    "                                                      'DecisionTreeClassifier'],\n",
    "                                            'AUC': [LR_AUC,\n",
    "                                                         RFC_AUC,\n",
    "                                                         KNN_AUC,\n",
    "                                                         DT_AUC]})"
   ]
  },
  {
   "cell_type": "code",
   "execution_count": 139,
   "metadata": {},
   "outputs": [
    {
     "data": {
      "text/html": [
       "<div>\n",
       "<style scoped>\n",
       "    .dataframe tbody tr th:only-of-type {\n",
       "        vertical-align: middle;\n",
       "    }\n",
       "\n",
       "    .dataframe tbody tr th {\n",
       "        vertical-align: top;\n",
       "    }\n",
       "\n",
       "    .dataframe thead th {\n",
       "        text-align: right;\n",
       "    }\n",
       "</style>\n",
       "<table border=\"1\" class=\"dataframe\">\n",
       "  <thead>\n",
       "    <tr style=\"text-align: right;\">\n",
       "      <th></th>\n",
       "      <th>Model</th>\n",
       "      <th>Accuracy</th>\n",
       "    </tr>\n",
       "  </thead>\n",
       "  <tbody>\n",
       "    <tr>\n",
       "      <th>0</th>\n",
       "      <td>LogisticRegression</td>\n",
       "      <td>0.789095</td>\n",
       "    </tr>\n",
       "    <tr>\n",
       "      <th>1</th>\n",
       "      <td>RandomForestClassifier</td>\n",
       "      <td>0.910877</td>\n",
       "    </tr>\n",
       "    <tr>\n",
       "      <th>2</th>\n",
       "      <td>KNeighborsClassifier</td>\n",
       "      <td>0.829505</td>\n",
       "    </tr>\n",
       "    <tr>\n",
       "      <th>3</th>\n",
       "      <td>DecisionTreeClassifier</td>\n",
       "      <td>0.881954</td>\n",
       "    </tr>\n",
       "  </tbody>\n",
       "</table>\n",
       "</div>"
      ],
      "text/plain": [
       "                    Model  Accuracy\n",
       "0      LogisticRegression  0.789095\n",
       "1  RandomForestClassifier  0.910877\n",
       "2    KNeighborsClassifier  0.829505\n",
       "3  DecisionTreeClassifier  0.881954"
      ]
     },
     "execution_count": 139,
     "metadata": {},
     "output_type": "execute_result"
    }
   ],
   "source": [
    "model_performance_accuracy\n"
   ]
  },
  {
   "cell_type": "code",
   "execution_count": 89,
   "metadata": {},
   "outputs": [
    {
     "data": {
      "text/html": [
       "<div>\n",
       "<style scoped>\n",
       "    .dataframe tbody tr th:only-of-type {\n",
       "        vertical-align: middle;\n",
       "    }\n",
       "\n",
       "    .dataframe tbody tr th {\n",
       "        vertical-align: top;\n",
       "    }\n",
       "\n",
       "    .dataframe thead th {\n",
       "        text-align: right;\n",
       "    }\n",
       "</style>\n",
       "<table border=\"1\" class=\"dataframe\">\n",
       "  <thead>\n",
       "    <tr style=\"text-align: right;\">\n",
       "      <th></th>\n",
       "      <th>Model</th>\n",
       "      <th>AUC</th>\n",
       "    </tr>\n",
       "  </thead>\n",
       "  <tbody>\n",
       "    <tr>\n",
       "      <th>0</th>\n",
       "      <td>LogisticRegression</td>\n",
       "      <td>0.623575</td>\n",
       "    </tr>\n",
       "    <tr>\n",
       "      <th>1</th>\n",
       "      <td>RandomForestClassifier</td>\n",
       "      <td>0.873438</td>\n",
       "    </tr>\n",
       "    <tr>\n",
       "      <th>2</th>\n",
       "      <td>KNeighborsClassifier</td>\n",
       "      <td>0.770755</td>\n",
       "    </tr>\n",
       "    <tr>\n",
       "      <th>3</th>\n",
       "      <td>DecisionTreeClassifier</td>\n",
       "      <td>0.870944</td>\n",
       "    </tr>\n",
       "  </tbody>\n",
       "</table>\n",
       "</div>"
      ],
      "text/plain": [
       "                    Model       AUC\n",
       "0      LogisticRegression  0.623575\n",
       "1  RandomForestClassifier  0.873438\n",
       "2    KNeighborsClassifier  0.770755\n",
       "3  DecisionTreeClassifier  0.870944"
      ]
     },
     "execution_count": 89,
     "metadata": {},
     "output_type": "execute_result"
    }
   ],
   "source": [
    "model_performance_AUC"
   ]
  },
  {
   "cell_type": "markdown",
   "metadata": {},
   "source": [
    "# Revise LR Assumptions"
   ]
  },
  {
   "cell_type": "code",
   "execution_count": 3,
   "metadata": {},
   "outputs": [
    {
     "data": {
      "text/html": [
       "<div>\n",
       "<style scoped>\n",
       "    .dataframe tbody tr th:only-of-type {\n",
       "        vertical-align: middle;\n",
       "    }\n",
       "\n",
       "    .dataframe tbody tr th {\n",
       "        vertical-align: top;\n",
       "    }\n",
       "\n",
       "    .dataframe thead th {\n",
       "        text-align: right;\n",
       "    }\n",
       "</style>\n",
       "<table border=\"1\" class=\"dataframe\">\n",
       "  <thead>\n",
       "    <tr style=\"text-align: right;\">\n",
       "      <th></th>\n",
       "      <th>Artist</th>\n",
       "      <th>Track</th>\n",
       "      <th>followers</th>\n",
       "      <th>popularity</th>\n",
       "      <th>acousticness</th>\n",
       "      <th>danceability</th>\n",
       "      <th>duration_ms</th>\n",
       "      <th>energy</th>\n",
       "      <th>instrumentalness</th>\n",
       "      <th>key</th>\n",
       "      <th>liveness</th>\n",
       "      <th>loudness</th>\n",
       "      <th>mode</th>\n",
       "      <th>speechiness</th>\n",
       "      <th>tempo</th>\n",
       "      <th>time_signature</th>\n",
       "      <th>valence</th>\n",
       "    </tr>\n",
       "  </thead>\n",
       "  <tbody>\n",
       "    <tr>\n",
       "      <th>0</th>\n",
       "      <td>Lionel Richie</td>\n",
       "      <td>Tonight Will Be Alright</td>\n",
       "      <td>1627956</td>\n",
       "      <td>38</td>\n",
       "      <td>0.05910</td>\n",
       "      <td>0.646</td>\n",
       "      <td>307413</td>\n",
       "      <td>0.840</td>\n",
       "      <td>0.014100</td>\n",
       "      <td>8</td>\n",
       "      <td>0.0516</td>\n",
       "      <td>-8.213</td>\n",
       "      <td>1</td>\n",
       "      <td>0.0283</td>\n",
       "      <td>125.187</td>\n",
       "      <td>4</td>\n",
       "      <td>0.716</td>\n",
       "    </tr>\n",
       "    <tr>\n",
       "      <th>1</th>\n",
       "      <td>Course Of Nature</td>\n",
       "      <td>The Window</td>\n",
       "      <td>10469</td>\n",
       "      <td>11</td>\n",
       "      <td>0.00119</td>\n",
       "      <td>0.496</td>\n",
       "      <td>191160</td>\n",
       "      <td>0.928</td>\n",
       "      <td>0.000035</td>\n",
       "      <td>1</td>\n",
       "      <td>0.0988</td>\n",
       "      <td>-2.367</td>\n",
       "      <td>0</td>\n",
       "      <td>0.0469</td>\n",
       "      <td>144.932</td>\n",
       "      <td>4</td>\n",
       "      <td>0.561</td>\n",
       "    </tr>\n",
       "    <tr>\n",
       "      <th>2</th>\n",
       "      <td>Mariah Carey</td>\n",
       "      <td>Inseparable</td>\n",
       "      <td>5505368</td>\n",
       "      <td>31</td>\n",
       "      <td>0.09090</td>\n",
       "      <td>0.586</td>\n",
       "      <td>213720</td>\n",
       "      <td>0.692</td>\n",
       "      <td>0.000000</td>\n",
       "      <td>8</td>\n",
       "      <td>0.0567</td>\n",
       "      <td>-5.143</td>\n",
       "      <td>1</td>\n",
       "      <td>0.1770</td>\n",
       "      <td>158.041</td>\n",
       "      <td>4</td>\n",
       "      <td>0.457</td>\n",
       "    </tr>\n",
       "    <tr>\n",
       "      <th>3</th>\n",
       "      <td>Extra Virgin</td>\n",
       "      <td>One Night</td>\n",
       "      <td>880039</td>\n",
       "      <td>0</td>\n",
       "      <td>0.00361</td>\n",
       "      <td>0.643</td>\n",
       "      <td>210667</td>\n",
       "      <td>0.896</td>\n",
       "      <td>0.002050</td>\n",
       "      <td>0</td>\n",
       "      <td>0.9010</td>\n",
       "      <td>-6.662</td>\n",
       "      <td>1</td>\n",
       "      <td>0.0359</td>\n",
       "      <td>130.011</td>\n",
       "      <td>4</td>\n",
       "      <td>0.338</td>\n",
       "    </tr>\n",
       "    <tr>\n",
       "      <th>4</th>\n",
       "      <td>Joe and Will Ask?</td>\n",
       "      <td>Claymore</td>\n",
       "      <td>13</td>\n",
       "      <td>2</td>\n",
       "      <td>0.00328</td>\n",
       "      <td>0.699</td>\n",
       "      <td>119053</td>\n",
       "      <td>0.974</td>\n",
       "      <td>0.776000</td>\n",
       "      <td>9</td>\n",
       "      <td>0.2900</td>\n",
       "      <td>-5.576</td>\n",
       "      <td>0</td>\n",
       "      <td>0.1500</td>\n",
       "      <td>125.934</td>\n",
       "      <td>4</td>\n",
       "      <td>0.443</td>\n",
       "    </tr>\n",
       "  </tbody>\n",
       "</table>\n",
       "</div>"
      ],
      "text/plain": [
       "              Artist                    Track  followers  popularity  \\\n",
       "0      Lionel Richie  Tonight Will Be Alright    1627956          38   \n",
       "1   Course Of Nature               The Window      10469          11   \n",
       "2       Mariah Carey              Inseparable    5505368          31   \n",
       "3       Extra Virgin                One Night     880039           0   \n",
       "4  Joe and Will Ask?                 Claymore         13           2   \n",
       "\n",
       "   acousticness  danceability  duration_ms  energy  instrumentalness  key  \\\n",
       "0       0.05910         0.646       307413   0.840          0.014100    8   \n",
       "1       0.00119         0.496       191160   0.928          0.000035    1   \n",
       "2       0.09090         0.586       213720   0.692          0.000000    8   \n",
       "3       0.00361         0.643       210667   0.896          0.002050    0   \n",
       "4       0.00328         0.699       119053   0.974          0.776000    9   \n",
       "\n",
       "   liveness  loudness  mode  speechiness    tempo  time_signature  valence  \n",
       "0    0.0516    -8.213     1       0.0283  125.187               4    0.716  \n",
       "1    0.0988    -2.367     0       0.0469  144.932               4    0.561  \n",
       "2    0.0567    -5.143     1       0.1770  158.041               4    0.457  \n",
       "3    0.9010    -6.662     1       0.0359  130.011               4    0.338  \n",
       "4    0.2900    -5.576     0       0.1500  125.934               4    0.443  "
      ]
     },
     "execution_count": 3,
     "metadata": {},
     "output_type": "execute_result"
    }
   ],
   "source": [
    "file = \"features_45k.csv\"\n",
    "tds = pd.read_csv(file)\n",
    "tds = tds[['Artist', 'Track', 'followers','popularity','acousticness', 'danceability', 'duration_ms', 'energy',\n",
    "       'instrumentalness', 'key', 'liveness', 'loudness', 'mode',\n",
    "       'speechiness', 'tempo', 'time_signature', 'valence']]\n",
    "tds.head()"
   ]
  },
  {
   "cell_type": "code",
   "execution_count": 5,
   "metadata": {},
   "outputs": [],
   "source": [
    "#dataframe2 = tds\n",
    "#dataframe.loc[dataframe['popularity'] < 53, 'popularity'] = 0 \n",
    "#dataframe.loc[dataframe['popularity'] >= 53, 'popularity'] = 1\n",
    "#dataframe2.loc[dataframe2['popularity'] == 5]"
   ]
  },
  {
   "cell_type": "code",
   "execution_count": 6,
   "metadata": {},
   "outputs": [],
   "source": [
    "#print(dataframe2.shape)\n",
    "#dataframe2.head()"
   ]
  },
  {
   "cell_type": "code",
   "execution_count": 7,
   "metadata": {},
   "outputs": [
    {
     "name": "stdout",
     "output_type": "stream",
     "text": [
      "(45157, 17)\n"
     ]
    }
   ],
   "source": [
    "dataframe3= tds\n",
    "print(dataframe3.shape)\n"
   ]
  },
  {
   "cell_type": "code",
   "execution_count": 22,
   "metadata": {},
   "outputs": [],
   "source": [
    "#remove popularity values 0 to (15) to improve distribution shape\n",
    "dataframe3 = dataframe3.loc[dataframe3['popularity'] != 0]\n",
    "#dataframe3 = dataframe3.loc[dataframe3['popularity'] != 1]\n",
    "#dataframe3 = dataframe3.loc[dataframe3['popularity'] != 2]\n",
    "#dataframe3 = dataframe3.loc[dataframe3['popularity'] != 3]\n",
    "#dataframe3 = dataframe3.loc[dataframe3['popularity'] != 4]\n",
    "#dataframe3 = dataframe3.loc[dataframe3['popularity'] != 5]\n",
    "#dataframe3 = dataframe3.loc[dataframe3['popularity'] != 6]\n",
    "#dataframe3 = dataframe3.loc[dataframe3['popularity'] != 7]\n",
    "#dataframe3 = dataframe3.loc[dataframe3['popularity'] != 8]\n",
    "#dataframe3 = dataframe3.loc[dataframe3['popularity'] != 9]\n",
    "#dataframe3 = dataframe3.loc[dataframe3['popularity'] != 10]\n",
    "#dataframe3 = dataframe3.loc[dataframe3['popularity'] != 11]\n",
    "#dataframe3 = dataframe3.loc[dataframe3['popularity'] != 12]\n",
    "#dataframe3 = dataframe3.loc[dataframe3['popularity'] != 13]\n",
    "#dataframe3 = dataframe3.loc[dataframe3['popularity'] != 14]\n",
    "#dataframe3 = dataframe3.loc[dataframe3['popularity'] != 15]"
   ]
  },
  {
   "cell_type": "code",
   "execution_count": 23,
   "metadata": {},
   "outputs": [
    {
     "data": {
      "text/plain": [
       "(42194, 17)"
      ]
     },
     "execution_count": 23,
     "metadata": {},
     "output_type": "execute_result"
    }
   ],
   "source": [
    "dataframe3.shape"
   ]
  },
  {
   "cell_type": "code",
   "execution_count": 24,
   "metadata": {},
   "outputs": [
    {
     "data": {
      "text/plain": [
       "Text(0.5, 1.0, 'Popularity Distribution')"
      ]
     },
     "execution_count": 24,
     "metadata": {},
     "output_type": "execute_result"
    },
    {
     "data": {
      "image/png": "[encoded data removed]",
      "text/plain": [
       "<Figure size 432x288 with 1 Axes>"
      ]
     },
     "metadata": {
      "needs_background": "light"
     },
     "output_type": "display_data"
    }
   ],
   "source": [
    "sns.distplot(dataframe3['popularity']).set_title('Popularity Distribution')"
   ]
  },
  {
   "cell_type": "code",
   "execution_count": 25,
   "metadata": {},
   "outputs": [
    {
     "data": {
      "text/html": [
       "<div>\n",
       "<style scoped>\n",
       "    .dataframe tbody tr th:only-of-type {\n",
       "        vertical-align: middle;\n",
       "    }\n",
       "\n",
       "    .dataframe tbody tr th {\n",
       "        vertical-align: top;\n",
       "    }\n",
       "\n",
       "    .dataframe thead th {\n",
       "        text-align: right;\n",
       "    }\n",
       "</style>\n",
       "<table border=\"1\" class=\"dataframe\">\n",
       "  <thead>\n",
       "    <tr style=\"text-align: right;\">\n",
       "      <th></th>\n",
       "      <th>followers</th>\n",
       "      <th>popularity</th>\n",
       "      <th>acousticness</th>\n",
       "      <th>danceability</th>\n",
       "      <th>duration_ms</th>\n",
       "      <th>energy</th>\n",
       "      <th>instrumentalness</th>\n",
       "      <th>key</th>\n",
       "      <th>liveness</th>\n",
       "      <th>loudness</th>\n",
       "      <th>mode</th>\n",
       "      <th>speechiness</th>\n",
       "      <th>tempo</th>\n",
       "      <th>time_signature</th>\n",
       "      <th>valence</th>\n",
       "    </tr>\n",
       "  </thead>\n",
       "  <tbody>\n",
       "    <tr>\n",
       "      <th>count</th>\n",
       "      <td>4.219400e+04</td>\n",
       "      <td>42194.000000</td>\n",
       "      <td>42194.000000</td>\n",
       "      <td>42194.000000</td>\n",
       "      <td>4.219400e+04</td>\n",
       "      <td>42194.000000</td>\n",
       "      <td>42194.000000</td>\n",
       "      <td>42194.000000</td>\n",
       "      <td>42194.000000</td>\n",
       "      <td>42194.000000</td>\n",
       "      <td>42194.000000</td>\n",
       "      <td>42194.000000</td>\n",
       "      <td>42194.000000</td>\n",
       "      <td>42194.000000</td>\n",
       "      <td>42194.000000</td>\n",
       "    </tr>\n",
       "    <tr>\n",
       "      <th>mean</th>\n",
       "      <td>2.015558e+06</td>\n",
       "      <td>42.244916</td>\n",
       "      <td>0.275112</td>\n",
       "      <td>0.596551</td>\n",
       "      <td>2.300662e+05</td>\n",
       "      <td>0.634686</td>\n",
       "      <td>0.111635</td>\n",
       "      <td>5.277504</td>\n",
       "      <td>0.190116</td>\n",
       "      <td>-8.093289</td>\n",
       "      <td>0.646537</td>\n",
       "      <td>0.089997</td>\n",
       "      <td>120.990545</td>\n",
       "      <td>3.936128</td>\n",
       "      <td>0.519519</td>\n",
       "    </tr>\n",
       "    <tr>\n",
       "      <th>std</th>\n",
       "      <td>5.374865e+06</td>\n",
       "      <td>23.161769</td>\n",
       "      <td>0.303652</td>\n",
       "      <td>0.169123</td>\n",
       "      <td>7.869451e+04</td>\n",
       "      <td>0.229529</td>\n",
       "      <td>0.261451</td>\n",
       "      <td>3.581295</td>\n",
       "      <td>0.162520</td>\n",
       "      <td>4.191140</td>\n",
       "      <td>0.478050</td>\n",
       "      <td>0.100872</td>\n",
       "      <td>28.893410</td>\n",
       "      <td>0.346879</td>\n",
       "      <td>0.253422</td>\n",
       "    </tr>\n",
       "    <tr>\n",
       "      <th>min</th>\n",
       "      <td>0.000000e+00</td>\n",
       "      <td>1.000000</td>\n",
       "      <td>0.000000</td>\n",
       "      <td>0.000000</td>\n",
       "      <td>3.034700e+04</td>\n",
       "      <td>0.000020</td>\n",
       "      <td>0.000000</td>\n",
       "      <td>0.000000</td>\n",
       "      <td>0.009990</td>\n",
       "      <td>-40.040000</td>\n",
       "      <td>0.000000</td>\n",
       "      <td>0.000000</td>\n",
       "      <td>0.000000</td>\n",
       "      <td>0.000000</td>\n",
       "      <td>0.000000</td>\n",
       "    </tr>\n",
       "    <tr>\n",
       "      <th>25%</th>\n",
       "      <td>2.402800e+04</td>\n",
       "      <td>23.000000</td>\n",
       "      <td>0.020200</td>\n",
       "      <td>0.486000</td>\n",
       "      <td>1.878210e+05</td>\n",
       "      <td>0.480000</td>\n",
       "      <td>0.000000</td>\n",
       "      <td>2.000000</td>\n",
       "      <td>0.093300</td>\n",
       "      <td>-10.027000</td>\n",
       "      <td>0.000000</td>\n",
       "      <td>0.035400</td>\n",
       "      <td>98.307500</td>\n",
       "      <td>4.000000</td>\n",
       "      <td>0.317000</td>\n",
       "    </tr>\n",
       "    <tr>\n",
       "      <th>50%</th>\n",
       "      <td>2.174960e+05</td>\n",
       "      <td>46.000000</td>\n",
       "      <td>0.141000</td>\n",
       "      <td>0.609000</td>\n",
       "      <td>2.189200e+05</td>\n",
       "      <td>0.664000</td>\n",
       "      <td>0.000044</td>\n",
       "      <td>5.000000</td>\n",
       "      <td>0.124000</td>\n",
       "      <td>-7.147000</td>\n",
       "      <td>1.000000</td>\n",
       "      <td>0.049200</td>\n",
       "      <td>120.004000</td>\n",
       "      <td>4.000000</td>\n",
       "      <td>0.518000</td>\n",
       "    </tr>\n",
       "    <tr>\n",
       "      <th>75%</th>\n",
       "      <td>1.242686e+06</td>\n",
       "      <td>61.000000</td>\n",
       "      <td>0.481000</td>\n",
       "      <td>0.721000</td>\n",
       "      <td>2.581600e+05</td>\n",
       "      <td>0.822000</td>\n",
       "      <td>0.013200</td>\n",
       "      <td>8.000000</td>\n",
       "      <td>0.239000</td>\n",
       "      <td>-5.199000</td>\n",
       "      <td>1.000000</td>\n",
       "      <td>0.094600</td>\n",
       "      <td>139.016750</td>\n",
       "      <td>4.000000</td>\n",
       "      <td>0.727000</td>\n",
       "    </tr>\n",
       "    <tr>\n",
       "      <th>max</th>\n",
       "      <td>6.237875e+07</td>\n",
       "      <td>98.000000</td>\n",
       "      <td>0.996000</td>\n",
       "      <td>0.988000</td>\n",
       "      <td>2.752254e+06</td>\n",
       "      <td>1.000000</td>\n",
       "      <td>0.999000</td>\n",
       "      <td>11.000000</td>\n",
       "      <td>0.998000</td>\n",
       "      <td>4.405000</td>\n",
       "      <td>1.000000</td>\n",
       "      <td>0.961000</td>\n",
       "      <td>245.941000</td>\n",
       "      <td>5.000000</td>\n",
       "      <td>0.998000</td>\n",
       "    </tr>\n",
       "  </tbody>\n",
       "</table>\n",
       "</div>"
      ],
      "text/plain": [
       "          followers    popularity  acousticness  danceability   duration_ms  \\\n",
       "count  4.219400e+04  42194.000000  42194.000000  42194.000000  4.219400e+04   \n",
       "mean   2.015558e+06     42.244916      0.275112      0.596551  2.300662e+05   \n",
       "std    5.374865e+06     23.161769      0.303652      0.169123  7.869451e+04   \n",
       "min    0.000000e+00      1.000000      0.000000      0.000000  3.034700e+04   \n",
       "25%    2.402800e+04     23.000000      0.020200      0.486000  1.878210e+05   \n",
       "50%    2.174960e+05     46.000000      0.141000      0.609000  2.189200e+05   \n",
       "75%    1.242686e+06     61.000000      0.481000      0.721000  2.581600e+05   \n",
       "max    6.237875e+07     98.000000      0.996000      0.988000  2.752254e+06   \n",
       "\n",
       "             energy  instrumentalness           key      liveness  \\\n",
       "count  42194.000000      42194.000000  42194.000000  42194.000000   \n",
       "mean       0.634686          0.111635      5.277504      0.190116   \n",
       "std        0.229529          0.261451      3.581295      0.162520   \n",
       "min        0.000020          0.000000      0.000000      0.009990   \n",
       "25%        0.480000          0.000000      2.000000      0.093300   \n",
       "50%        0.664000          0.000044      5.000000      0.124000   \n",
       "75%        0.822000          0.013200      8.000000      0.239000   \n",
       "max        1.000000          0.999000     11.000000      0.998000   \n",
       "\n",
       "           loudness          mode   speechiness         tempo  time_signature  \\\n",
       "count  42194.000000  42194.000000  42194.000000  42194.000000    42194.000000   \n",
       "mean      -8.093289      0.646537      0.089997    120.990545        3.936128   \n",
       "std        4.191140      0.478050      0.100872     28.893410        0.346879   \n",
       "min      -40.040000      0.000000      0.000000      0.000000        0.000000   \n",
       "25%      -10.027000      0.000000      0.035400     98.307500        4.000000   \n",
       "50%       -7.147000      1.000000      0.049200    120.004000        4.000000   \n",
       "75%       -5.199000      1.000000      0.094600    139.016750        4.000000   \n",
       "max        4.405000      1.000000      0.961000    245.941000        5.000000   \n",
       "\n",
       "            valence  \n",
       "count  42194.000000  \n",
       "mean       0.519519  \n",
       "std        0.253422  \n",
       "min        0.000000  \n",
       "25%        0.317000  \n",
       "50%        0.518000  \n",
       "75%        0.727000  \n",
       "max        0.998000  "
      ]
     },
     "execution_count": 25,
     "metadata": {},
     "output_type": "execute_result"
    }
   ],
   "source": [
    "dataframe3.describe()"
   ]
  },
  {
   "cell_type": "code",
   "execution_count": 26,
   "metadata": {},
   "outputs": [
    {
     "data": {
      "text/html": [
       "<div>\n",
       "<style scoped>\n",
       "    .dataframe tbody tr th:only-of-type {\n",
       "        vertical-align: middle;\n",
       "    }\n",
       "\n",
       "    .dataframe tbody tr th {\n",
       "        vertical-align: top;\n",
       "    }\n",
       "\n",
       "    .dataframe thead th {\n",
       "        text-align: right;\n",
       "    }\n",
       "</style>\n",
       "<table border=\"1\" class=\"dataframe\">\n",
       "  <thead>\n",
       "    <tr style=\"text-align: right;\">\n",
       "      <th></th>\n",
       "      <th>followers</th>\n",
       "      <th>acousticness</th>\n",
       "      <th>danceability</th>\n",
       "      <th>duration_ms</th>\n",
       "      <th>energy</th>\n",
       "      <th>instrumentalness</th>\n",
       "      <th>key</th>\n",
       "      <th>liveness</th>\n",
       "      <th>loudness</th>\n",
       "      <th>mode</th>\n",
       "      <th>speechiness</th>\n",
       "      <th>tempo</th>\n",
       "      <th>time_signature</th>\n",
       "      <th>valence</th>\n",
       "    </tr>\n",
       "  </thead>\n",
       "  <tbody>\n",
       "    <tr>\n",
       "      <th>0</th>\n",
       "      <td>1627956</td>\n",
       "      <td>0.05910</td>\n",
       "      <td>0.646</td>\n",
       "      <td>307413</td>\n",
       "      <td>0.840</td>\n",
       "      <td>0.014100</td>\n",
       "      <td>8</td>\n",
       "      <td>0.0516</td>\n",
       "      <td>-8.213</td>\n",
       "      <td>1</td>\n",
       "      <td>0.0283</td>\n",
       "      <td>125.187</td>\n",
       "      <td>4</td>\n",
       "      <td>0.716</td>\n",
       "    </tr>\n",
       "    <tr>\n",
       "      <th>1</th>\n",
       "      <td>10469</td>\n",
       "      <td>0.00119</td>\n",
       "      <td>0.496</td>\n",
       "      <td>191160</td>\n",
       "      <td>0.928</td>\n",
       "      <td>0.000035</td>\n",
       "      <td>1</td>\n",
       "      <td>0.0988</td>\n",
       "      <td>-2.367</td>\n",
       "      <td>0</td>\n",
       "      <td>0.0469</td>\n",
       "      <td>144.932</td>\n",
       "      <td>4</td>\n",
       "      <td>0.561</td>\n",
       "    </tr>\n",
       "    <tr>\n",
       "      <th>2</th>\n",
       "      <td>5505368</td>\n",
       "      <td>0.09090</td>\n",
       "      <td>0.586</td>\n",
       "      <td>213720</td>\n",
       "      <td>0.692</td>\n",
       "      <td>0.000000</td>\n",
       "      <td>8</td>\n",
       "      <td>0.0567</td>\n",
       "      <td>-5.143</td>\n",
       "      <td>1</td>\n",
       "      <td>0.1770</td>\n",
       "      <td>158.041</td>\n",
       "      <td>4</td>\n",
       "      <td>0.457</td>\n",
       "    </tr>\n",
       "    <tr>\n",
       "      <th>4</th>\n",
       "      <td>13</td>\n",
       "      <td>0.00328</td>\n",
       "      <td>0.699</td>\n",
       "      <td>119053</td>\n",
       "      <td>0.974</td>\n",
       "      <td>0.776000</td>\n",
       "      <td>9</td>\n",
       "      <td>0.2900</td>\n",
       "      <td>-5.576</td>\n",
       "      <td>0</td>\n",
       "      <td>0.1500</td>\n",
       "      <td>125.934</td>\n",
       "      <td>4</td>\n",
       "      <td>0.443</td>\n",
       "    </tr>\n",
       "    <tr>\n",
       "      <th>5</th>\n",
       "      <td>238795</td>\n",
       "      <td>0.00407</td>\n",
       "      <td>0.338</td>\n",
       "      <td>238600</td>\n",
       "      <td>0.938</td>\n",
       "      <td>0.000000</td>\n",
       "      <td>9</td>\n",
       "      <td>0.3230</td>\n",
       "      <td>-4.001</td>\n",
       "      <td>1</td>\n",
       "      <td>0.1030</td>\n",
       "      <td>177.984</td>\n",
       "      <td>4</td>\n",
       "      <td>0.311</td>\n",
       "    </tr>\n",
       "  </tbody>\n",
       "</table>\n",
       "</div>"
      ],
      "text/plain": [
       "   followers  acousticness  danceability  duration_ms  energy  \\\n",
       "0    1627956       0.05910         0.646       307413   0.840   \n",
       "1      10469       0.00119         0.496       191160   0.928   \n",
       "2    5505368       0.09090         0.586       213720   0.692   \n",
       "4         13       0.00328         0.699       119053   0.974   \n",
       "5     238795       0.00407         0.338       238600   0.938   \n",
       "\n",
       "   instrumentalness  key  liveness  loudness  mode  speechiness    tempo  \\\n",
       "0          0.014100    8    0.0516    -8.213     1       0.0283  125.187   \n",
       "1          0.000035    1    0.0988    -2.367     0       0.0469  144.932   \n",
       "2          0.000000    8    0.0567    -5.143     1       0.1770  158.041   \n",
       "4          0.776000    9    0.2900    -5.576     0       0.1500  125.934   \n",
       "5          0.000000    9    0.3230    -4.001     1       0.1030  177.984   \n",
       "\n",
       "   time_signature  valence  \n",
       "0               4    0.716  \n",
       "1               4    0.561  \n",
       "2               4    0.457  \n",
       "4               4    0.443  \n",
       "5               4    0.311  "
      ]
     },
     "execution_count": 26,
     "metadata": {},
     "output_type": "execute_result"
    }
   ],
   "source": [
    "#Combined Dataset\n",
    "dfcombine = dataframe3\n",
    "#dfcombine = dfcombine.reset_index(inplace=True, drop=True)\n",
    "#Target Dataset\n",
    "dfy = pd.DataFrame(dataframe3[\"popularity\"])\n",
    "#all the independant variables/predictors are named as dfx\n",
    "dfx = dfcombine.drop(columns=['Artist', 'Track','popularity'])\n",
    "dfx.head()"
   ]
  },
  {
   "cell_type": "code",
   "execution_count": 27,
   "metadata": {},
   "outputs": [
    {
     "data": {
      "text/html": [
       "<div>\n",
       "<style scoped>\n",
       "    .dataframe tbody tr th:only-of-type {\n",
       "        vertical-align: middle;\n",
       "    }\n",
       "\n",
       "    .dataframe tbody tr th {\n",
       "        vertical-align: top;\n",
       "    }\n",
       "\n",
       "    .dataframe thead th {\n",
       "        text-align: right;\n",
       "    }\n",
       "</style>\n",
       "<table border=\"1\" class=\"dataframe\">\n",
       "  <thead>\n",
       "    <tr style=\"text-align: right;\">\n",
       "      <th></th>\n",
       "      <th>popularity</th>\n",
       "    </tr>\n",
       "  </thead>\n",
       "  <tbody>\n",
       "    <tr>\n",
       "      <th>0</th>\n",
       "      <td>38</td>\n",
       "    </tr>\n",
       "    <tr>\n",
       "      <th>1</th>\n",
       "      <td>11</td>\n",
       "    </tr>\n",
       "    <tr>\n",
       "      <th>2</th>\n",
       "      <td>31</td>\n",
       "    </tr>\n",
       "    <tr>\n",
       "      <th>4</th>\n",
       "      <td>2</td>\n",
       "    </tr>\n",
       "    <tr>\n",
       "      <th>5</th>\n",
       "      <td>6</td>\n",
       "    </tr>\n",
       "  </tbody>\n",
       "</table>\n",
       "</div>"
      ],
      "text/plain": [
       "   popularity\n",
       "0          38\n",
       "1          11\n",
       "2          31\n",
       "4           2\n",
       "5           6"
      ]
     },
     "execution_count": 27,
     "metadata": {},
     "output_type": "execute_result"
    }
   ],
   "source": [
    "dfy.head()"
   ]
  },
  {
   "cell_type": "code",
   "execution_count": 28,
   "metadata": {},
   "outputs": [],
   "source": [
    "dfx.reset_index(inplace=True, drop=True)\n",
    "dfy.reset_index(inplace=True, drop=True)\n"
   ]
  },
  {
   "cell_type": "code",
   "execution_count": 29,
   "metadata": {},
   "outputs": [],
   "source": [
    "#to perform the train test split of the data, the train test split function is imported from sklearn\n",
    "from sklearn.model_selection import train_test_split\n",
    "#the percentage of the split is taken as 30%. SO the percentage of training is 70%\n",
    "X_train, X_test, y_train, y_test = train_test_split(dfx, dfy, test_size=0.3, random_state=42)"
   ]
  },
  {
   "cell_type": "code",
   "execution_count": 30,
   "metadata": {},
   "outputs": [
    {
     "data": {
      "text/plain": [
       "LinearRegression(copy_X=True, fit_intercept=True, n_jobs=None, normalize=False)"
      ]
     },
     "execution_count": 30,
     "metadata": {},
     "output_type": "execute_result"
    }
   ],
   "source": [
    "# linear regression \n",
    "from sklearn.linear_model import LinearRegression\n",
    "linR = LinearRegression()\n",
    "linR.fit(X_train, y_train)"
   ]
  },
  {
   "cell_type": "code",
   "execution_count": 31,
   "metadata": {},
   "outputs": [
    {
     "data": {
      "text/plain": [
       "0.2043070007547283"
      ]
     },
     "execution_count": 31,
     "metadata": {},
     "output_type": "execute_result"
    }
   ],
   "source": [
    "#the target is predicted for the test dataset\n",
    "predictions = linR.predict(X_test)\n",
    "#the accuracy of the prediction is found to be.... \n",
    "linR.score(X_test,y_test)"
   ]
  },
  {
   "cell_type": "code",
   "execution_count": 32,
   "metadata": {},
   "outputs": [
    {
     "data": {
      "text/plain": [
       "<matplotlib.axes._subplots.AxesSubplot at 0xddefcb9e48>"
      ]
     },
     "execution_count": 32,
     "metadata": {},
     "output_type": "execute_result"
    },
    {
     "data": {
      "image/png": "[encoded data removed]",
      "text/plain": [
       "<Figure size 432x288 with 1 Axes>"
      ]
     },
     "metadata": {
      "needs_background": "light"
     },
     "output_type": "display_data"
    }
   ],
   "source": [
    "error = y_test - predictions\n",
    "#the error is calculated for the above test predictions and a distribution plot is plotted.\n",
    "sns.distplot(error)"
   ]
  },
  {
   "cell_type": "code",
   "execution_count": 33,
   "metadata": {},
   "outputs": [
    {
     "data": {
      "text/plain": [
       "<matplotlib.axes._subplots.AxesSubplot at 0xddeec43a20>"
      ]
     },
     "execution_count": 33,
     "metadata": {},
     "output_type": "execute_result"
    },
    {
     "data": {
      "image/png": "[encoded data removed]",
      "text/plain": [
       "<Figure size 432x288 with 2 Axes>"
      ]
     },
     "metadata": {
      "needs_background": "light"
     },
     "output_type": "display_data"
    }
   ],
   "source": [
    "#BoxCox Transformation \n",
    "\n",
    "# import modules\n",
    "import numpy as np\n",
    "from scipy import stats\n",
    "from sklearn.model_selection import train_test_split\n",
    "\n",
    "# plotting modules\n",
    "import seaborn as sns\n",
    "import matplotlib.pyplot as plt\n",
    "\n",
    "# generate non-normal data\n",
    "original_data = dfy['popularity']\n",
    "\n",
    "# split into testing & training data\n",
    "train,test = train_test_split(original_data, shuffle=False)\n",
    "\n",
    "# transform training data & save lambda value\n",
    "train_data,fitted_lambda = stats.boxcox(train)\n",
    "\n",
    "# use lambda value to transform test data\n",
    "test_data = stats.boxcox(test, fitted_lambda)\n",
    "\n",
    "# (optional) plot train & test\n",
    "fig, ax=plt.subplots(1,2)\n",
    "sns.distplot(train_data, ax=ax[0])\n",
    "sns.distplot(test_data, ax=ax[1])"
   ]
  },
  {
   "cell_type": "code",
   "execution_count": 34,
   "metadata": {},
   "outputs": [
    {
     "data": {
      "text/plain": [
       "Text(0.5, 0, 'Popularity')"
      ]
     },
     "execution_count": 34,
     "metadata": {},
     "output_type": "execute_result"
    },
    {
     "data": {
      "image/png": "[encoded data removed]",
      "text/plain": [
       "<Figure size 576x360 with 1 Axes>"
      ]
     },
     "metadata": {
      "needs_background": "light"
     },
     "output_type": "display_data"
    },
    {
     "data": {
      "image/png": "[encoded data removed]",
      "text/plain": [
       "<Figure size 576x360 with 1 Axes>"
      ]
     },
     "metadata": {
      "needs_background": "light"
     },
     "output_type": "display_data"
    }
   ],
   "source": [
    "dfy['log_popularity'] = np.log(dfy['popularity'])\n",
    "\n",
    "dfy.hist('log_popularity',figsize=(8,5))\n",
    "plt.title('Number of Songs vs log(Populaty)')\n",
    "plt.ylabel('Number of Songs')\n",
    "plt.xlabel(\"log(Popularity)\")\n",
    "\n",
    "\n",
    "dfy.hist('popularity',figsize=(8,5))\n",
    "plt.title('Number of Songs vs Popularity')\n",
    "plt.ylabel('Number of Songs')\n",
    "plt.xlabel(\"Popularity\")\n"
   ]
  },
  {
   "cell_type": "code",
   "execution_count": 37,
   "metadata": {},
   "outputs": [
    {
     "data": {
      "text/plain": [
       "(42194, 1)"
      ]
     },
     "execution_count": 37,
     "metadata": {},
     "output_type": "execute_result"
    }
   ],
   "source": [
    "dfy_l = pd.DataFrame(dfy['log_popularity'])\n",
    "dfy_l.shape"
   ]
  },
  {
   "cell_type": "code",
   "execution_count": 38,
   "metadata": {},
   "outputs": [
    {
     "data": {
      "text/plain": [
       "(42194, 14)"
      ]
     },
     "execution_count": 38,
     "metadata": {},
     "output_type": "execute_result"
    }
   ],
   "source": [
    "dfx.shape"
   ]
  },
  {
   "cell_type": "code",
   "execution_count": 66,
   "metadata": {},
   "outputs": [
    {
     "data": {
      "text/plain": [
       "LinearRegression(copy_X=True, fit_intercept=True, n_jobs=None, normalize=False)"
      ]
     },
     "execution_count": 66,
     "metadata": {},
     "output_type": "execute_result"
    }
   ],
   "source": [
    "X_train, X_test, y_train_l, y_test_l = train_test_split(dfx, dfy_l, test_size=0.3, random_state=42)\n",
    "linR2 = LinearRegression()\n",
    "linR2.fit(X_train, y_train_l)"
   ]
  },
  {
   "cell_type": "code",
   "execution_count": 67,
   "metadata": {},
   "outputs": [
    {
     "data": {
      "text/plain": [
       "0.13281158672062576"
      ]
     },
     "execution_count": 67,
     "metadata": {},
     "output_type": "execute_result"
    }
   ],
   "source": [
    "predictions2 = linR2.predict(X_test)\n",
    "#the accuracy of the prediction is found to be.... \n",
    "linR2.score(X_test,y_test_l)\n"
   ]
  },
  {
   "cell_type": "code",
   "execution_count": 69,
   "metadata": {},
   "outputs": [
    {
     "data": {
      "image/png": "[encoded data removed]",
      "text/plain": [
       "<Figure size 432x288 with 1 Axes>"
      ]
     },
     "metadata": {
      "needs_background": "light"
     },
     "output_type": "display_data"
    }
   ],
   "source": [
    "from sklearn.metrics import accuracy_score\n",
    "predictions2 = linR2.predict(X_test)\n",
    "# Plot Residuals\n",
    "plt.scatter(predictions2, predictions2 - y_test_l)\n",
    "plt.hlines(y=0, xmin=predictions2.min(), xmax=predictions2.max())\n",
    "plt.show()"
   ]
  },
  {
   "cell_type": "code",
   "execution_count": 70,
   "metadata": {},
   "outputs": [
    {
     "data": {
      "text/plain": [
       "<matplotlib.axes._subplots.AxesSubplot at 0xddf4019d30>"
      ]
     },
     "execution_count": 70,
     "metadata": {},
     "output_type": "execute_result"
    },
    {
     "data": {
      "image/png": "[encoded data removed]",
      "text/plain": [
       "<Figure size 432x288 with 1 Axes>"
      ]
     },
     "metadata": {
      "needs_background": "light"
     },
     "output_type": "display_data"
    }
   ],
   "source": [
    "error2 = y_test_l - predictions2\n",
    "#the error is calculated for the above test predictions and a distribution plot is plotted.\n",
    "sns.distplot(error2)\n"
   ]
  },
  {
   "cell_type": "code",
   "execution_count": 74,
   "metadata": {},
   "outputs": [
    {
     "data": {
      "image/png": "[encoded data removed]",
      "text/plain": [
       "<Figure size 432x288 with 1 Axes>"
      ]
     },
     "metadata": {
      "needs_background": "light"
     },
     "output_type": "display_data"
    }
   ],
   "source": [
    "fig = plt.figure()\n",
    "res = stats.probplot(error2['log_popularity'], plot=plt)"
   ]
  },
  {
   "cell_type": "code",
   "execution_count": null,
   "metadata": {},
   "outputs": [],
   "source": []
  },
  {
   "cell_type": "code",
   "execution_count": null,
   "metadata": {},
   "outputs": [],
   "source": []
  },
  {
   "cell_type": "markdown",
   "metadata": {},
   "source": [
    "## Once More Run - with fewer variables"
   ]
  },
  {
   "cell_type": "code",
   "execution_count": 21,
   "metadata": {
    "scrolled": true
   },
   "outputs": [
    {
     "ename": "NameError",
     "evalue": "name 'dfxnew' is not defined",
     "output_type": "error",
     "traceback": [
      "\u001b[1;31m---------------------------------------------------------------------------\u001b[0m",
      "\u001b[1;31mNameError\u001b[0m                                 Traceback (most recent call last)",
      "\u001b[1;32m<ipython-input-21-71e23fa42899>\u001b[0m in \u001b[0;36m<module>\u001b[1;34m\u001b[0m\n\u001b[1;32m----> 1\u001b[1;33m \u001b[0mdfx2\u001b[0m \u001b[1;33m=\u001b[0m \u001b[0mdfxnew\u001b[0m\u001b[1;33m.\u001b[0m\u001b[0mdrop\u001b[0m\u001b[1;33m(\u001b[0m\u001b[1;33m[\u001b[0m\u001b[1;34m'time_signature'\u001b[0m\u001b[1;33m,\u001b[0m\u001b[1;34m'key'\u001b[0m\u001b[1;33m,\u001b[0m\u001b[1;34m'mode'\u001b[0m\u001b[1;33m]\u001b[0m\u001b[1;33m,\u001b[0m \u001b[0maxis\u001b[0m \u001b[1;33m=\u001b[0m \u001b[1;36m1\u001b[0m\u001b[1;33m)\u001b[0m\u001b[1;33m\u001b[0m\u001b[1;33m\u001b[0m\u001b[0m\n\u001b[0m\u001b[0;32m      2\u001b[0m \u001b[0mdfx2\u001b[0m\u001b[1;33m.\u001b[0m\u001b[0mhead\u001b[0m\u001b[1;33m(\u001b[0m\u001b[1;33m)\u001b[0m\u001b[1;33m\u001b[0m\u001b[1;33m\u001b[0m\u001b[0m\n",
      "\u001b[1;31mNameError\u001b[0m: name 'dfxnew' is not defined"
     ]
    }
   ],
   "source": [
    "dfx2 = dfxnew.drop(['time_signature','key','mode'], axis = 1)\n",
    "dfx2.head()"
   ]
  },
  {
   "cell_type": "code",
   "execution_count": 117,
   "metadata": {
    "scrolled": true
   },
   "outputs": [
    {
     "data": {
      "text/html": [
       "<table class=\"simpletable\">\n",
       "<caption>OLS Regression Results</caption>\n",
       "<tr>\n",
       "  <th>Dep. Variable:</th>       <td>popularity</td>    <th>  R-squared:         </th>  <td>   0.222</td>  \n",
       "</tr>\n",
       "<tr>\n",
       "  <th>Model:</th>                   <td>OLS</td>       <th>  Adj. R-squared:    </th>  <td>   0.221</td>  \n",
       "</tr>\n",
       "<tr>\n",
       "  <th>Method:</th>             <td>Least Squares</td>  <th>  F-statistic:       </th>  <td>   1168.</td>  \n",
       "</tr>\n",
       "<tr>\n",
       "  <th>Date:</th>             <td>Thu, 16 Apr 2020</td> <th>  Prob (F-statistic):</th>   <td>  0.00</td>   \n",
       "</tr>\n",
       "<tr>\n",
       "  <th>Time:</th>                 <td>21:31:30</td>     <th>  Log-Likelihood:    </th> <td>-2.0325e+05</td>\n",
       "</tr>\n",
       "<tr>\n",
       "  <th>No. Observations:</th>      <td> 45157</td>      <th>  AIC:               </th>  <td>4.065e+05</td> \n",
       "</tr>\n",
       "<tr>\n",
       "  <th>Df Residuals:</th>          <td> 45145</td>      <th>  BIC:               </th>  <td>4.066e+05</td> \n",
       "</tr>\n",
       "<tr>\n",
       "  <th>Df Model:</th>              <td>    11</td>      <th>                     </th>      <td> </td>     \n",
       "</tr>\n",
       "<tr>\n",
       "  <th>Covariance Type:</th>      <td>nonrobust</td>    <th>                     </th>      <td> </td>     \n",
       "</tr>\n",
       "</table>\n",
       "<table class=\"simpletable\">\n",
       "<tr>\n",
       "          <td></td>            <th>coef</th>     <th>std err</th>      <th>t</th>      <th>P>|t|</th>  <th>[0.025</th>    <th>0.975]</th>  \n",
       "</tr>\n",
       "<tr>\n",
       "  <th>ones</th>             <td>   42.0510</td> <td>    1.116</td> <td>   37.667</td> <td> 0.000</td> <td>   39.863</td> <td>   44.239</td>\n",
       "</tr>\n",
       "<tr>\n",
       "  <th>followers</th>        <td> 1.518e-06</td> <td> 2.01e-08</td> <td>   75.527</td> <td> 0.000</td> <td> 1.48e-06</td> <td> 1.56e-06</td>\n",
       "</tr>\n",
       "<tr>\n",
       "  <th>instrumentalness</th> <td>  -20.3337</td> <td>    0.416</td> <td>  -48.833</td> <td> 0.000</td> <td>  -21.150</td> <td>  -19.518</td>\n",
       "</tr>\n",
       "<tr>\n",
       "  <th>acousticness</th>     <td>   -1.4501</td> <td>    0.478</td> <td>   -3.036</td> <td> 0.002</td> <td>   -2.386</td> <td>   -0.514</td>\n",
       "</tr>\n",
       "<tr>\n",
       "  <th>danceability</th>     <td>   17.4306</td> <td>    0.734</td> <td>   23.749</td> <td> 0.000</td> <td>   15.992</td> <td>   18.869</td>\n",
       "</tr>\n",
       "<tr>\n",
       "  <th>duration_ms</th>      <td>-9.855e-06</td> <td> 1.27e-06</td> <td>   -7.743</td> <td> 0.000</td> <td>-1.23e-05</td> <td>-7.36e-06</td>\n",
       "</tr>\n",
       "<tr>\n",
       "  <th>energy</th>           <td>   -4.6271</td> <td>    0.862</td> <td>   -5.371</td> <td> 0.000</td> <td>   -6.316</td> <td>   -2.938</td>\n",
       "</tr>\n",
       "<tr>\n",
       "  <th>liveness</th>         <td>  -10.3804</td> <td>    0.653</td> <td>  -15.888</td> <td> 0.000</td> <td>  -11.661</td> <td>   -9.100</td>\n",
       "</tr>\n",
       "<tr>\n",
       "  <th>loudness</th>         <td>    0.2962</td> <td>    0.040</td> <td>    7.332</td> <td> 0.000</td> <td>    0.217</td> <td>    0.375</td>\n",
       "</tr>\n",
       "<tr>\n",
       "  <th>speechiness</th>      <td>  -18.7001</td> <td>    1.044</td> <td>  -17.916</td> <td> 0.000</td> <td>  -20.746</td> <td>  -16.654</td>\n",
       "</tr>\n",
       "<tr>\n",
       "  <th>tempo</th>            <td>   -0.0050</td> <td>    0.004</td> <td>   -1.359</td> <td> 0.174</td> <td>   -0.012</td> <td>    0.002</td>\n",
       "</tr>\n",
       "<tr>\n",
       "  <th>valence</th>          <td>   -1.8290</td> <td>    0.496</td> <td>   -3.689</td> <td> 0.000</td> <td>   -2.801</td> <td>   -0.857</td>\n",
       "</tr>\n",
       "</table>\n",
       "<table class=\"simpletable\">\n",
       "<tr>\n",
       "  <th>Omnibus:</th>       <td>6604.818</td> <th>  Durbin-Watson:     </th> <td>   0.932</td>\n",
       "</tr>\n",
       "<tr>\n",
       "  <th>Prob(Omnibus):</th>  <td> 0.000</td>  <th>  Jarque-Bera (JB):  </th> <td>1942.747</td>\n",
       "</tr>\n",
       "<tr>\n",
       "  <th>Skew:</th>           <td>-0.236</td>  <th>  Prob(JB):          </th> <td>    0.00</td>\n",
       "</tr>\n",
       "<tr>\n",
       "  <th>Kurtosis:</th>       <td> 2.100</td>  <th>  Cond. No.          </th> <td>7.65e+07</td>\n",
       "</tr>\n",
       "</table><br/><br/>Warnings:<br/>[1] Standard Errors assume that the covariance matrix of the errors is correctly specified.<br/>[2] The condition number is large, 7.65e+07. This might indicate that there are<br/>strong multicollinearity or other numerical problems."
      ],
      "text/plain": [
       "<class 'statsmodels.iolib.summary.Summary'>\n",
       "\"\"\"\n",
       "                            OLS Regression Results                            \n",
       "==============================================================================\n",
       "Dep. Variable:             popularity   R-squared:                       0.222\n",
       "Model:                            OLS   Adj. R-squared:                  0.221\n",
       "Method:                 Least Squares   F-statistic:                     1168.\n",
       "Date:                Thu, 16 Apr 2020   Prob (F-statistic):               0.00\n",
       "Time:                        21:31:30   Log-Likelihood:            -2.0325e+05\n",
       "No. Observations:               45157   AIC:                         4.065e+05\n",
       "Df Residuals:                   45145   BIC:                         4.066e+05\n",
       "Df Model:                          11                                         \n",
       "Covariance Type:            nonrobust                                         \n",
       "====================================================================================\n",
       "                       coef    std err          t      P>|t|      [0.025      0.975]\n",
       "------------------------------------------------------------------------------------\n",
       "ones                42.0510      1.116     37.667      0.000      39.863      44.239\n",
       "followers         1.518e-06   2.01e-08     75.527      0.000    1.48e-06    1.56e-06\n",
       "instrumentalness   -20.3337      0.416    -48.833      0.000     -21.150     -19.518\n",
       "acousticness        -1.4501      0.478     -3.036      0.002      -2.386      -0.514\n",
       "danceability        17.4306      0.734     23.749      0.000      15.992      18.869\n",
       "duration_ms      -9.855e-06   1.27e-06     -7.743      0.000   -1.23e-05   -7.36e-06\n",
       "energy              -4.6271      0.862     -5.371      0.000      -6.316      -2.938\n",
       "liveness           -10.3804      0.653    -15.888      0.000     -11.661      -9.100\n",
       "loudness             0.2962      0.040      7.332      0.000       0.217       0.375\n",
       "speechiness        -18.7001      1.044    -17.916      0.000     -20.746     -16.654\n",
       "tempo               -0.0050      0.004     -1.359      0.174      -0.012       0.002\n",
       "valence             -1.8290      0.496     -3.689      0.000      -2.801      -0.857\n",
       "==============================================================================\n",
       "Omnibus:                     6604.818   Durbin-Watson:                   0.932\n",
       "Prob(Omnibus):                  0.000   Jarque-Bera (JB):             1942.747\n",
       "Skew:                          -0.236   Prob(JB):                         0.00\n",
       "Kurtosis:                       2.100   Cond. No.                     7.65e+07\n",
       "==============================================================================\n",
       "\n",
       "Warnings:\n",
       "[1] Standard Errors assume that the covariance matrix of the errors is correctly specified.\n",
       "[2] The condition number is large, 7.65e+07. This might indicate that there are\n",
       "strong multicollinearity or other numerical problems.\n",
       "\"\"\""
      ]
     },
     "execution_count": 117,
     "metadata": {},
     "output_type": "execute_result"
    }
   ],
   "source": [
    "#OLS Regression\n",
    "lir_ols = lm.OLS(endog = dfy, exog = dfx2).fit()\n",
    "lir_ols.summary()"
   ]
  },
  {
   "cell_type": "code",
   "execution_count": 17,
   "metadata": {},
   "outputs": [
    {
     "ename": "NameError",
     "evalue": "name 'dfx2' is not defined",
     "output_type": "error",
     "traceback": [
      "\u001b[1;31m---------------------------------------------------------------------------\u001b[0m",
      "\u001b[1;31mNameError\u001b[0m                                 Traceback (most recent call last)",
      "\u001b[1;32m<ipython-input-17-397e17ea04dc>\u001b[0m in \u001b[0;36m<module>\u001b[1;34m\u001b[0m\n\u001b[0;32m      1\u001b[0m \u001b[1;31m#the percentage of the split is taken as 30%. SO the percentage of training is 70%\u001b[0m\u001b[1;33m\u001b[0m\u001b[1;33m\u001b[0m\u001b[1;33m\u001b[0m\u001b[0m\n\u001b[1;32m----> 2\u001b[1;33m \u001b[0mX_train2\u001b[0m\u001b[1;33m,\u001b[0m \u001b[0mX_test2\u001b[0m\u001b[1;33m,\u001b[0m \u001b[0my_train2\u001b[0m\u001b[1;33m,\u001b[0m \u001b[0my_test2\u001b[0m \u001b[1;33m=\u001b[0m \u001b[0mtrain_test_split\u001b[0m\u001b[1;33m(\u001b[0m\u001b[0mdfx2\u001b[0m\u001b[1;33m,\u001b[0m \u001b[0mdfy\u001b[0m\u001b[1;33m,\u001b[0m \u001b[0mtest_size\u001b[0m\u001b[1;33m=\u001b[0m\u001b[1;36m0.3\u001b[0m\u001b[1;33m,\u001b[0m \u001b[0mrandom_state\u001b[0m\u001b[1;33m=\u001b[0m\u001b[1;36m42\u001b[0m\u001b[1;33m)\u001b[0m\u001b[1;33m\u001b[0m\u001b[1;33m\u001b[0m\u001b[0m\n\u001b[0m\u001b[0;32m      3\u001b[0m \u001b[0mlinR2\u001b[0m \u001b[1;33m=\u001b[0m \u001b[0mLinearRegression\u001b[0m\u001b[1;33m(\u001b[0m\u001b[1;33m)\u001b[0m\u001b[1;33m\u001b[0m\u001b[1;33m\u001b[0m\u001b[0m\n\u001b[0;32m      4\u001b[0m \u001b[0mlinR2\u001b[0m\u001b[1;33m.\u001b[0m\u001b[0mfit\u001b[0m\u001b[1;33m(\u001b[0m\u001b[0mX_train2\u001b[0m\u001b[1;33m,\u001b[0m \u001b[0my_train2\u001b[0m\u001b[1;33m)\u001b[0m\u001b[1;33m\u001b[0m\u001b[1;33m\u001b[0m\u001b[0m\n\u001b[0;32m      5\u001b[0m \u001b[1;31m#the target is predicted for the test dataset\u001b[0m\u001b[1;33m\u001b[0m\u001b[1;33m\u001b[0m\u001b[1;33m\u001b[0m\u001b[0m\n",
      "\u001b[1;31mNameError\u001b[0m: name 'dfx2' is not defined"
     ]
    }
   ],
   "source": [
    "#the percentage of the split is taken as 30%. SO the percentage of training is 70%\n",
    "X_train2, X_test2, y_train2, y_test2 = train_test_split(dfx2, dfy, test_size=0.3, random_state=42)\n",
    "linR2 = LinearRegression()\n",
    "linR2.fit(X_train2, y_train2)\n",
    "#the target is predicted for the test dataset\n",
    "predictions = linR2.predict(X_test2)\n",
    "#the accuracy of the prediction is found to be.... \n",
    "linR2.score(X_test2,y_test2)"
   ]
  },
  {
   "cell_type": "code",
   "execution_count": 119,
   "metadata": {
    "scrolled": true
   },
   "outputs": [
    {
     "data": {
      "text/plain": [
       "0.21900177702209822"
      ]
     },
     "execution_count": 119,
     "metadata": {},
     "output_type": "execute_result"
    }
   ],
   "source": []
  }
 ],
 "metadata": {
  "kernelspec": {
   "display_name": "Python 3",
   "language": "python",
   "name": "python3"
  },
  "language_info": {
   "codemirror_mode": {
    "name": "ipython",
    "version": 3
   },
   "file_extension": ".py",
   "mimetype": "text/x-python",
   "name": "python",
   "nbconvert_exporter": "python",
   "pygments_lexer": "ipython3",
   "version": "3.7.4"
  }
 },
 "nbformat": 4,
 "nbformat_minor": 2
}
