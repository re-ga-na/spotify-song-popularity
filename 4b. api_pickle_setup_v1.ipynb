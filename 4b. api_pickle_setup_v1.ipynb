{
 "cells": [
  {
   "cell_type": "code",
   "execution_count": 1,
   "metadata": {},
   "outputs": [],
   "source": [
    "import spotipy\n",
    "from spotipy.oauth2 import SpotifyClientCredentials\n",
    "import pandas as pd\n"
   ]
  },
  {
   "cell_type": "markdown",
   "metadata": {},
   "source": [
    "# Pickle Load\n"
   ]
  },
  {
   "cell_type": "code",
   "execution_count": 3,
   "metadata": {},
   "outputs": [
    {
     "data": {
      "text/plain": [
       "LinearRegression(copy_X=True, fit_intercept=True, n_jobs=None, normalize=False)"
      ]
     },
     "execution_count": 3,
     "metadata": {},
     "output_type": "execute_result"
    }
   ],
   "source": [
    "# Import pickle Package\n",
    "import pickle\n",
    "\n",
    "pkl_filename = \"Resources/pickle/Pickle_45_Model.pkl\"  \n",
    "# Load the Model back from file\n",
    "with open(pkl_filename, 'rb') as file:  \n",
    "    Pickled_LR_Model = pickle.load(file)\n",
    "Pickled_LR_Model"
   ]
  },
  {
   "cell_type": "code",
   "execution_count": 4,
   "metadata": {},
   "outputs": [
    {
     "data": {
      "text/plain": [
       "RandomForestClassifier(bootstrap=True, ccp_alpha=0.0, class_weight=None,\n",
       "                       criterion='gini', max_depth=None, max_features='auto',\n",
       "                       max_leaf_nodes=None, max_samples=None,\n",
       "                       min_impurity_decrease=0.0, min_impurity_split=None,\n",
       "                       min_samples_leaf=1, min_samples_split=2,\n",
       "                       min_weight_fraction_leaf=0.0, n_estimators=100,\n",
       "                       n_jobs=None, oob_score=False, random_state=None,\n",
       "                       verbose=0, warm_start=False)"
      ]
     },
     "execution_count": 4,
     "metadata": {},
     "output_type": "execute_result"
    }
   ],
   "source": [
    "\n",
    "pkl_filename2 = \"Resources/pickle/pickle_45_Model2.pkl\"  \n",
    "# Load the Model back from file\n",
    "with open(pkl_filename2, 'rb') as file2:  \n",
    "    Pickled_Model2 = pickle.load(file2)\n",
    "Pickled_Model2\n"
   ]
  },
  {
   "cell_type": "markdown",
   "metadata": {},
   "source": [
    "# API Call \n"
   ]
  },
  {
   "cell_type": "code",
   "execution_count": 5,
   "metadata": {},
   "outputs": [],
   "source": [
    "#set up API authonatication\n",
    "client_id = \"5028c957611248149d8c04007258f254\"\n",
    "client_secret = \"aa56a507cb944f488f8835062a94115c\"\n",
    "client_credentials_manager = SpotifyClientCredentials(client_id=client_id, client_secret=client_secret)\n",
    "sp = spotipy.Spotify(client_credentials_manager=client_credentials_manager)"
   ]
  },
  {
   "cell_type": "code",
   "execution_count": 6,
   "metadata": {},
   "outputs": [],
   "source": [
    "#create link to input button for Artist and Track\n",
    "Artist=\"Lionel Richie\"\n",
    "Track=\"Tonight Will Be Alright\"\n"
   ]
  },
  {
   "cell_type": "code",
   "execution_count": 7,
   "metadata": {},
   "outputs": [
    {
     "data": {
      "text/html": [
       "<div>\n",
       "<style scoped>\n",
       "    .dataframe tbody tr th:only-of-type {\n",
       "        vertical-align: middle;\n",
       "    }\n",
       "\n",
       "    .dataframe tbody tr th {\n",
       "        vertical-align: top;\n",
       "    }\n",
       "\n",
       "    .dataframe thead th {\n",
       "        text-align: right;\n",
       "    }\n",
       "</style>\n",
       "<table border=\"1\" class=\"dataframe\">\n",
       "  <thead>\n",
       "    <tr style=\"text-align: right;\">\n",
       "      <th></th>\n",
       "      <th>0</th>\n",
       "      <th>Artist</th>\n",
       "      <th>Track</th>\n",
       "      <th>Unnamed: 0</th>\n",
       "      <th>acousticness</th>\n",
       "      <th>danceability</th>\n",
       "      <th>duration_ms</th>\n",
       "      <th>energy</th>\n",
       "      <th>followers</th>\n",
       "      <th>instrumentalness</th>\n",
       "      <th>key</th>\n",
       "      <th>liveness</th>\n",
       "      <th>loudness</th>\n",
       "      <th>mode</th>\n",
       "      <th>popularity</th>\n",
       "      <th>speechiness</th>\n",
       "      <th>tempo</th>\n",
       "      <th>time_signature</th>\n",
       "      <th>valence</th>\n",
       "    </tr>\n",
       "  </thead>\n",
       "  <tbody>\n",
       "  </tbody>\n",
       "</table>\n",
       "</div>"
      ],
      "text/plain": [
       "Empty DataFrame\n",
       "Columns: [0, Artist, Track, Unnamed: 0, acousticness, danceability, duration_ms, energy, followers, instrumentalness, key, liveness, loudness, mode, popularity, speechiness, tempo, time_signature, valence]\n",
       "Index: []"
      ]
     },
     "execution_count": 7,
     "metadata": {},
     "output_type": "execute_result"
    }
   ],
   "source": [
    "features = ['0', 'Artist', 'Track', 'Unnamed: 0', 'acousticness', 'danceability',\n",
    "       'duration_ms', 'energy', 'followers', 'instrumentalness', 'key',\n",
    "       'liveness', 'loudness', 'mode', 'popularity', 'speechiness', 'tempo',\n",
    "       'time_signature', 'valence']\n",
    "features = pd.DataFrame(columns = features)\n",
    "features.head()"
   ]
  },
  {
   "cell_type": "code",
   "execution_count": 8,
   "metadata": {},
   "outputs": [
    {
     "name": "stdout",
     "output_type": "stream",
     "text": [
      "Lionel Richie,Tonight Will Be Alright\n",
      "2Jr12fpsMdIM6weoUDMf9u\n"
     ]
    }
   ],
   "source": [
    "try: \n",
    "        artistname= Artist\n",
    "        search_str =  Track\n",
    "        print(artistname+ \",\"+ search_str )\n",
    "        result= sp.search(search_str+\":\"+artistname,type=\"track,artist\")\n",
    "        print(result[\"tracks\"][\"items\"][0][\"id\"])\n",
    "        \n",
    "        track_id = result[\"tracks\"][\"items\"][0][\"id\"]\n",
    "        artist_id = result['tracks']['items'][0][\"album\"]['artists'][0]['id']\n",
    "        \n",
    "        features_i = sp.audio_features(track_id)\n",
    "        features_i = pd.DataFrame(features_i)\n",
    "        \n",
    "        #features[\"genres\"] = sp.artist(artist_id)['genres']\n",
    "        features_i[\"followers\"] = sp.artist(artist_id)['followers']['total']\n",
    "        features_i[\"tempo\"] = sp.audio_analysis(track_id)['track']['tempo']\n",
    "        features_i[\"popularity\"] = sp.track(track_id)[\"popularity\"]\n",
    "        features_i[\"Artist\"] = artistname\n",
    "        features_i[\"Track\"] = search_str\n",
    "        features = features.append(features_i)\n",
    "        \n",
    "except: \n",
    "        print ('data not found')"
   ]
  },
  {
   "cell_type": "code",
   "execution_count": 9,
   "metadata": {},
   "outputs": [],
   "source": [
    "features = features[['Artist', 'Track', 'followers','instrumentalness','popularity','acousticness', 'danceability', 'duration_ms', 'energy', 'key', 'liveness', 'loudness', 'mode',\n",
    "       'speechiness', 'tempo', 'time_signature', 'valence']]"
   ]
  },
  {
   "cell_type": "code",
   "execution_count": 10,
   "metadata": {},
   "outputs": [
    {
     "data": {
      "text/html": [
       "<div>\n",
       "<style scoped>\n",
       "    .dataframe tbody tr th:only-of-type {\n",
       "        vertical-align: middle;\n",
       "    }\n",
       "\n",
       "    .dataframe tbody tr th {\n",
       "        vertical-align: top;\n",
       "    }\n",
       "\n",
       "    .dataframe thead th {\n",
       "        text-align: right;\n",
       "    }\n",
       "</style>\n",
       "<table border=\"1\" class=\"dataframe\">\n",
       "  <thead>\n",
       "    <tr style=\"text-align: right;\">\n",
       "      <th></th>\n",
       "      <th>Artist</th>\n",
       "      <th>Track</th>\n",
       "      <th>followers</th>\n",
       "      <th>instrumentalness</th>\n",
       "      <th>popularity</th>\n",
       "      <th>acousticness</th>\n",
       "      <th>danceability</th>\n",
       "      <th>duration_ms</th>\n",
       "      <th>energy</th>\n",
       "      <th>key</th>\n",
       "      <th>liveness</th>\n",
       "      <th>loudness</th>\n",
       "      <th>mode</th>\n",
       "      <th>speechiness</th>\n",
       "      <th>tempo</th>\n",
       "      <th>time_signature</th>\n",
       "      <th>valence</th>\n",
       "    </tr>\n",
       "  </thead>\n",
       "  <tbody>\n",
       "    <tr>\n",
       "      <th>0</th>\n",
       "      <td>Lionel Richie</td>\n",
       "      <td>Tonight Will Be Alright</td>\n",
       "      <td>1647784</td>\n",
       "      <td>0.0141</td>\n",
       "      <td>39</td>\n",
       "      <td>0.0591</td>\n",
       "      <td>0.646</td>\n",
       "      <td>307413</td>\n",
       "      <td>0.84</td>\n",
       "      <td>8</td>\n",
       "      <td>0.0516</td>\n",
       "      <td>-8.213</td>\n",
       "      <td>1</td>\n",
       "      <td>0.0283</td>\n",
       "      <td>125.188</td>\n",
       "      <td>4</td>\n",
       "      <td>0.716</td>\n",
       "    </tr>\n",
       "  </tbody>\n",
       "</table>\n",
       "</div>"
      ],
      "text/plain": [
       "          Artist                    Track followers  instrumentalness  \\\n",
       "0  Lionel Richie  Tonight Will Be Alright   1647784            0.0141   \n",
       "\n",
       "  popularity  acousticness  danceability duration_ms  energy key  liveness  \\\n",
       "0         39        0.0591         0.646      307413    0.84   8    0.0516   \n",
       "\n",
       "   loudness mode  speechiness    tempo time_signature  valence  \n",
       "0    -8.213    1       0.0283  125.188              4    0.716  "
      ]
     },
     "execution_count": 10,
     "metadata": {},
     "output_type": "execute_result"
    }
   ],
   "source": [
    "features\n"
   ]
  },
  {
   "cell_type": "code",
   "execution_count": 11,
   "metadata": {},
   "outputs": [],
   "source": [
    "features_x = features[['followers','instrumentalness','acousticness', 'danceability', 'duration_ms', 'energy', 'key', 'liveness', 'loudness', 'mode',\n",
    "       'speechiness', 'tempo', 'time_signature', 'valence']]"
   ]
  },
  {
   "cell_type": "code",
   "execution_count": 12,
   "metadata": {},
   "outputs": [
    {
     "name": "stdout",
     "output_type": "stream",
     "text": [
      "(1, 14)\n"
     ]
    }
   ],
   "source": [
    "print(features_x.shape)"
   ]
  },
  {
   "cell_type": "markdown",
   "metadata": {},
   "source": [
    "# API Predict A - Linear Regression \n"
   ]
  },
  {
   "cell_type": "code",
   "execution_count": 13,
   "metadata": {},
   "outputs": [
    {
     "data": {
      "text/plain": [
       "array([[43.27381286]])"
      ]
     },
     "execution_count": 13,
     "metadata": {},
     "output_type": "execute_result"
    }
   ],
   "source": [
    "# Predict the Labels using the reloaded Model\n",
    "Y_predict2 = Pickled_LR_Model.predict(features_x)  \n",
    "Y_predict2"
   ]
  },
  {
   "cell_type": "code",
   "execution_count": 14,
   "metadata": {},
   "outputs": [
    {
     "name": "stdout",
     "output_type": "stream",
     "text": [
      "0    39\n",
      "Name: popularity, dtype: object\n"
     ]
    }
   ],
   "source": [
    "features_y = features[['popularity']]\n",
    "print(features_y['popularity'])\n"
   ]
  },
  {
   "cell_type": "code",
   "execution_count": 15,
   "metadata": {},
   "outputs": [
    {
     "name": "stdout",
     "output_type": "stream",
     "text": [
      "Spotify song poularity: 0    39\n",
      "Name: popularity, dtype: object\n",
      "Model predicted popularity: [[43.27381286]]\n"
     ]
    }
   ],
   "source": [
    "print(f\"Spotify song poularity: {features['popularity']}\") \n",
    "print(f\"Model predicted popularity: {Y_predict2}\")       "
   ]
  },
  {
   "cell_type": "markdown",
   "metadata": {},
   "source": [
    "# API Predict B - Random Forest  \n"
   ]
  },
  {
   "cell_type": "code",
   "execution_count": 16,
   "metadata": {},
   "outputs": [],
   "source": [
    "from sklearn.ensemble import RandomForestClassifier\n",
    "from sklearn.metrics import make_scorer, accuracy_score, roc_auc_score \n",
    "from sklearn.model_selection import GridSearchCV\n",
    "from sklearn.model_selection import train_test_split"
   ]
  },
  {
   "cell_type": "code",
   "execution_count": 17,
   "metadata": {},
   "outputs": [
    {
     "data": {
      "text/plain": [
       "array([0], dtype=int64)"
      ]
     },
     "execution_count": 17,
     "metadata": {},
     "output_type": "execute_result"
    }
   ],
   "source": [
    "#song_prediction_popular(1) or not_popular(0)\n",
    "Y_predict3 = Pickled_Model2.predict(features_x)  \n",
    "Y_predict3"
   ]
  },
  {
   "cell_type": "markdown",
   "metadata": {},
   "source": [
    "# Pickle Accuracy Confirmations  - Only for checking "
   ]
  },
  {
   "cell_type": "code",
   "execution_count": 18,
   "metadata": {},
   "outputs": [],
   "source": [
    "# Model 2 - pickle accuracy check \n",
    "file4 = \"Resources/test_csvs/X_valid.csv\"\n",
    "X_valid = pd.read_csv(file4)\n",
    "file5 = \"Resources/test_csvs/y_valid.csv\"\n",
    "y_valid = pd.read_csv(file5)"
   ]
  },
  {
   "cell_type": "code",
   "execution_count": 19,
   "metadata": {},
   "outputs": [
    {
     "name": "stdout",
     "output_type": "stream",
     "text": [
      "Accuracy: 0.9186271796291171\n",
      "AUC: 0.8841972844239776\n"
     ]
    }
   ],
   "source": [
    "RFC_Model2 = Pickled_Model2\n",
    "#RFC_Model2.fit(X_train, y_train)\n",
    "RFC_Predict2 = RFC_Model2.predict(X_valid)\n",
    "RFC_Accuracy2 = accuracy_score(y_valid, RFC_Predict2)\n",
    "print(\"Accuracy: \" + str(RFC_Accuracy2))\n",
    "RFC_AUC2 = roc_auc_score(y_valid, RFC_Predict2) \n",
    "print(\"AUC: \" + str(RFC_AUC2))"
   ]
  },
  {
   "cell_type": "code",
   "execution_count": 20,
   "metadata": {},
   "outputs": [],
   "source": [
    "# Model 1 - pickle accuracy check\n",
    "file6 = \"Resources/test_csvs/X_test.csv\"\n",
    "X_test = pd.read_csv(file6)\n",
    "file7 = \"Resources/test_csvs/y_test.csv\"\n",
    "y_test = pd.read_csv(file7)"
   ]
  },
  {
   "cell_type": "code",
   "execution_count": 21,
   "metadata": {},
   "outputs": [
    {
     "name": "stdout",
     "output_type": "stream",
     "text": [
      "Test score: 0.22 \n"
     ]
    },
    {
     "data": {
      "text/plain": [
       "array([[40.86042781],\n",
       "       [36.20730164],\n",
       "       [44.66136192],\n",
       "       ...,\n",
       "       [24.99936195],\n",
       "       [53.1435068 ],\n",
       "       [37.83834929]])"
      ]
     },
     "execution_count": 21,
     "metadata": {},
     "output_type": "execute_result"
    }
   ],
   "source": [
    "# Use the Reloaded Model to \n",
    "# Calculate the accuracy score and predict target values\n",
    "# Calculate the Score \n",
    "score = Pickled_LR_Model.score(X_test, y_test)  \n",
    "# Print the Score\n",
    "print(\"Test score: {0:.2f} \".format(score))  \n",
    "# Predict the Labels using the reloaded Model\n",
    "Y_predict = Pickled_LR_Model.predict(X_test)  \n",
    "Y_predict"
   ]
  },
  {
   "cell_type": "code",
   "execution_count": null,
   "metadata": {},
   "outputs": [],
   "source": []
  },
  {
   "cell_type": "code",
   "execution_count": null,
   "metadata": {},
   "outputs": [],
   "source": []
  }
 ],
 "metadata": {
  "kernelspec": {
   "display_name": "Python 3",
   "language": "python",
   "name": "python3"
  },
  "language_info": {
   "codemirror_mode": {
    "name": "ipython",
    "version": 3
   },
   "file_extension": ".py",
   "mimetype": "text/x-python",
   "name": "python",
   "nbconvert_exporter": "python",
   "pygments_lexer": "ipython3",
   "version": "3.7.4"
  }
 },
 "nbformat": 4,
 "nbformat_minor": 2
}
