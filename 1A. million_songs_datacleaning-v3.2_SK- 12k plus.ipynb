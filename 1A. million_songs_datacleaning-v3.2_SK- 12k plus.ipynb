{
 "cells": [
  {
   "cell_type": "code",
   "execution_count": 2,
   "metadata": {},
   "outputs": [],
   "source": [
    "import pandas as pd\n",
    "import requests\n",
    "import sys\n",
    "from spotipy.oauth2 import SpotifyClientCredentials\n",
    "import spotipy\n",
    "import pprint\n",
    "import spotipy\n",
    "from spotipy.oauth2 import SpotifyClientCredentials"
   ]
  },
  {
   "cell_type": "code",
   "execution_count": 17,
   "metadata": {},
   "outputs": [
    {
     "data": {
      "text/plain": [
       "(12064, 17)"
      ]
     },
     "execution_count": 17,
     "metadata": {},
     "output_type": "execute_result"
    }
   ],
   "source": [
    "features = pd.read_csv(\"features_15k.csv\")\n",
    "features.shape"
   ]
  },
  {
   "cell_type": "code",
   "execution_count": 33,
   "metadata": {},
   "outputs": [
    {
     "data": {
      "text/html": [
       "<div>\n",
       "<style scoped>\n",
       "    .dataframe tbody tr th:only-of-type {\n",
       "        vertical-align: middle;\n",
       "    }\n",
       "\n",
       "    .dataframe tbody tr th {\n",
       "        vertical-align: top;\n",
       "    }\n",
       "\n",
       "    .dataframe thead th {\n",
       "        text-align: right;\n",
       "    }\n",
       "</style>\n",
       "<table border=\"1\" class=\"dataframe\">\n",
       "  <thead>\n",
       "    <tr style=\"text-align: right;\">\n",
       "      <th></th>\n",
       "      <th>Artist</th>\n",
       "      <th>Track</th>\n",
       "      <th>acousticness</th>\n",
       "      <th>danceability</th>\n",
       "      <th>duration_ms</th>\n",
       "      <th>energy</th>\n",
       "      <th>followers</th>\n",
       "      <th>instrumentalness</th>\n",
       "      <th>key</th>\n",
       "      <th>liveness</th>\n",
       "      <th>loudness</th>\n",
       "      <th>mode</th>\n",
       "      <th>popularity</th>\n",
       "      <th>speechiness</th>\n",
       "      <th>tempo</th>\n",
       "      <th>time_signature</th>\n",
       "      <th>valence</th>\n",
       "    </tr>\n",
       "  </thead>\n",
       "  <tbody>\n",
       "    <tr>\n",
       "      <th>0</th>\n",
       "      <td>Lionel Richie</td>\n",
       "      <td>Tonight Will Be Alright</td>\n",
       "      <td>0.0591</td>\n",
       "      <td>0.646</td>\n",
       "      <td>307413</td>\n",
       "      <td>0.84</td>\n",
       "      <td>1627956</td>\n",
       "      <td>0.0141</td>\n",
       "      <td>8</td>\n",
       "      <td>0.0516</td>\n",
       "      <td>-8.213</td>\n",
       "      <td>1</td>\n",
       "      <td>38</td>\n",
       "      <td>0.0283</td>\n",
       "      <td>125.187</td>\n",
       "      <td>4</td>\n",
       "      <td>0.716</td>\n",
       "    </tr>\n",
       "  </tbody>\n",
       "</table>\n",
       "</div>"
      ],
      "text/plain": [
       "          Artist                    Track  acousticness  danceability  \\\n",
       "0  Lionel Richie  Tonight Will Be Alright        0.0591         0.646   \n",
       "\n",
       "   duration_ms  energy  followers  instrumentalness  key  liveness  loudness  \\\n",
       "0       307413    0.84    1627956            0.0141    8    0.0516    -8.213   \n",
       "\n",
       "   mode  popularity  speechiness    tempo  time_signature  valence  \n",
       "0     1          38       0.0283  125.187               4    0.716  "
      ]
     },
     "execution_count": 33,
     "metadata": {},
     "output_type": "execute_result"
    }
   ],
   "source": [
    "#del df['ID1']\n",
    "features = features.head(1)\n",
    "features"
   ]
  },
  {
   "cell_type": "code",
   "execution_count": 24,
   "metadata": {},
   "outputs": [],
   "source": [
    "#setting up link to spotify api w spotipy\n",
    "client_id = \"5028c957611248149d8c04007258f254\"\n",
    "client_secret = \"aa56a507cb944f488f8835062a94115c\"\n",
    "\n",
    "client_credentials_manager = SpotifyClientCredentials(client_id=client_id, client_secret=client_secret)\n",
    "sp = spotipy.Spotify(client_credentials_manager=client_credentials_manager)"
   ]
  },
  {
   "cell_type": "markdown",
   "metadata": {},
   "source": [
    "# Add Songs from Spotify 21k "
   ]
  },
  {
   "cell_type": "code",
   "execution_count": 19,
   "metadata": {},
   "outputs": [
    {
     "data": {
      "text/plain": [
       "(20829, 7)"
      ]
     },
     "execution_count": 19,
     "metadata": {},
     "output_type": "execute_result"
    }
   ],
   "source": [
    "df = pd.read_csv(\"spotify_dataset_21k.csv\")\n",
    "df.shape"
   ]
  },
  {
   "cell_type": "code",
   "execution_count": 32,
   "metadata": {},
   "outputs": [
    {
     "data": {
      "text/plain": [
       "(1000, 7)"
      ]
     },
     "execution_count": 32,
     "metadata": {},
     "output_type": "execute_result"
    }
   ],
   "source": [
    "df_batch1 = df.iloc[3000:5000]\n",
    "df_batch1.shape"
   ]
  },
  {
   "cell_type": "code",
   "execution_count": 25,
   "metadata": {},
   "outputs": [
    {
     "name": "stdout",
     "output_type": "stream",
     "text": [
      "Green Day,Boulevard of Broken Dreams\n",
      "5GorCbAP4aL0EJ16frG2hd\n"
     ]
    },
    {
     "name": "stderr",
     "output_type": "stream",
     "text": [
      "C:\\ProgramData\\Anaconda3\\lib\\site-packages\\pandas\\core\\frame.py:6692: FutureWarning: Sorting because non-concatenation axis is not aligned. A future version\n",
      "of pandas will change to not sort by default.\n",
      "\n",
      "To accept the future behavior, pass 'sort=False'.\n",
      "\n",
      "To retain the current behavior and silence the warning, pass 'sort=True'.\n",
      "\n",
      "  sort=sort)\n"
     ]
    },
    {
     "name": "stdout",
     "output_type": "stream",
     "text": [
      "Linkin Park,In The End\n",
      "7KSjlzDJvwAG0utAYE9Vvg\n",
      "The White Stripes,Seven Nation Army\n",
      "7i6r9KotUPQg3ozKKgEPIN\n",
      "Red Hot Chili Peppers,By The Way\n",
      "3ZOEytgrvLwQaqXreDs2Jx\n",
      "Nickelback,How You Remind Me\n",
      "0gmbgwZ8iqyMPmXefof8Yf\n",
      "Evanescence,Bring Me To Life\n",
      "0COqiPhxzoWICwFCS4eZcp\n",
      "Papa Roach,Last Resort\n",
      "5W8YXBz9MTIDyrpYaCg2Ky\n",
      "Jet,Are You Gonna Be My Girl\n",
      "305WCRhhS10XUcH6AEwZk6\n",
      "The Killers,Mr. Brightside\n",
      "5TRDH5F5LmcyDaOStUo0TV\n",
      "Kings of Leon,Sex on Fire\n",
      "0ntQJM78wzOLVeCUAW7Y45\n"
     ]
    }
   ],
   "source": [
    "# iterate over the dataframe row by row\n",
    "for index_label, row in df_batch1.iterrows():\n",
    "   # For each row update the 'Bonus' value to it's double  \n",
    "\n",
    "    try: \n",
    "        artistname= row['Artist']\n",
    "        search_str =  row['Track']\n",
    "        print(artistname+ \",\"+ search_str )\n",
    "        result= sp.search(search_str+\":\"+artistname,type=\"track,artist\")\n",
    "        print(result[\"tracks\"][\"items\"][0][\"id\"])\n",
    "        \n",
    "        track_id = result[\"tracks\"][\"items\"][0][\"id\"]\n",
    "        artist_id = result['tracks']['items'][0][\"album\"]['artists'][0]['id']\n",
    "        \n",
    "        features_i = sp.audio_features(track_id)\n",
    "        features_i = pd.DataFrame(features_i)\n",
    "        \n",
    "        #features[\"genres\"] = sp.artist(artist_id)['genres']\n",
    "        features_i[\"followers\"] = sp.artist(artist_id)['followers']['total']\n",
    "        features_i[\"tempo\"] = sp.audio_analysis(track_id)['track']['tempo']\n",
    "        features_i[\"popularity\"] = sp.track(track_id)[\"popularity\"]\n",
    "        features_i[\"Artist\"] = artistname\n",
    "        features_i[\"Track\"] = search_str\n",
    "        features = features.append(features_i)\n",
    "        \n",
    "    except: \n",
    "        print ('data not found')"
   ]
  },
  {
   "cell_type": "code",
   "execution_count": 29,
   "metadata": {},
   "outputs": [
    {
     "data": {
      "text/plain": [
       "(12074, 17)"
      ]
     },
     "execution_count": 29,
     "metadata": {},
     "output_type": "execute_result"
    }
   ],
   "source": [
    "features.shape"
   ]
  },
  {
   "cell_type": "code",
   "execution_count": 28,
   "metadata": {},
   "outputs": [
    {
     "data": {
      "text/html": [
       "<div>\n",
       "<style scoped>\n",
       "    .dataframe tbody tr th:only-of-type {\n",
       "        vertical-align: middle;\n",
       "    }\n",
       "\n",
       "    .dataframe tbody tr th {\n",
       "        vertical-align: top;\n",
       "    }\n",
       "\n",
       "    .dataframe thead th {\n",
       "        text-align: right;\n",
       "    }\n",
       "</style>\n",
       "<table border=\"1\" class=\"dataframe\">\n",
       "  <thead>\n",
       "    <tr style=\"text-align: right;\">\n",
       "      <th></th>\n",
       "      <th>Artist</th>\n",
       "      <th>Track</th>\n",
       "      <th>acousticness</th>\n",
       "      <th>danceability</th>\n",
       "      <th>duration_ms</th>\n",
       "      <th>energy</th>\n",
       "      <th>followers</th>\n",
       "      <th>instrumentalness</th>\n",
       "      <th>key</th>\n",
       "      <th>liveness</th>\n",
       "      <th>loudness</th>\n",
       "      <th>mode</th>\n",
       "      <th>popularity</th>\n",
       "      <th>speechiness</th>\n",
       "      <th>tempo</th>\n",
       "      <th>time_signature</th>\n",
       "      <th>valence</th>\n",
       "    </tr>\n",
       "  </thead>\n",
       "  <tbody>\n",
       "    <tr>\n",
       "      <th>0</th>\n",
       "      <td>Evanescence</td>\n",
       "      <td>Bring Me To Life</td>\n",
       "      <td>0.007210</td>\n",
       "      <td>0.331</td>\n",
       "      <td>235893</td>\n",
       "      <td>0.943</td>\n",
       "      <td>2602493</td>\n",
       "      <td>0.000002</td>\n",
       "      <td>4</td>\n",
       "      <td>0.2420</td>\n",
       "      <td>-3.188</td>\n",
       "      <td>0</td>\n",
       "      <td>79</td>\n",
       "      <td>0.0698</td>\n",
       "      <td>94.612</td>\n",
       "      <td>4</td>\n",
       "      <td>0.296</td>\n",
       "    </tr>\n",
       "    <tr>\n",
       "      <th>0</th>\n",
       "      <td>Papa Roach</td>\n",
       "      <td>Last Resort</td>\n",
       "      <td>0.000481</td>\n",
       "      <td>0.589</td>\n",
       "      <td>199907</td>\n",
       "      <td>0.890</td>\n",
       "      <td>3153738</td>\n",
       "      <td>0.000820</td>\n",
       "      <td>4</td>\n",
       "      <td>0.2010</td>\n",
       "      <td>-3.719</td>\n",
       "      <td>0</td>\n",
       "      <td>79</td>\n",
       "      <td>0.0603</td>\n",
       "      <td>90.598</td>\n",
       "      <td>4</td>\n",
       "      <td>0.692</td>\n",
       "    </tr>\n",
       "    <tr>\n",
       "      <th>0</th>\n",
       "      <td>Jet</td>\n",
       "      <td>Are You Gonna Be My Girl</td>\n",
       "      <td>0.001480</td>\n",
       "      <td>0.613</td>\n",
       "      <td>213800</td>\n",
       "      <td>0.953</td>\n",
       "      <td>399500</td>\n",
       "      <td>0.000582</td>\n",
       "      <td>2</td>\n",
       "      <td>0.1520</td>\n",
       "      <td>-3.435</td>\n",
       "      <td>1</td>\n",
       "      <td>75</td>\n",
       "      <td>0.0855</td>\n",
       "      <td>105.046</td>\n",
       "      <td>4</td>\n",
       "      <td>0.537</td>\n",
       "    </tr>\n",
       "    <tr>\n",
       "      <th>0</th>\n",
       "      <td>The Killers</td>\n",
       "      <td>Mr. Brightside</td>\n",
       "      <td>0.000767</td>\n",
       "      <td>0.778</td>\n",
       "      <td>426187</td>\n",
       "      <td>0.854</td>\n",
       "      <td>5274818</td>\n",
       "      <td>0.907000</td>\n",
       "      <td>1</td>\n",
       "      <td>0.0585</td>\n",
       "      <td>-5.378</td>\n",
       "      <td>1</td>\n",
       "      <td>18</td>\n",
       "      <td>0.0651</td>\n",
       "      <td>131.996</td>\n",
       "      <td>4</td>\n",
       "      <td>0.956</td>\n",
       "    </tr>\n",
       "    <tr>\n",
       "      <th>0</th>\n",
       "      <td>Kings of Leon</td>\n",
       "      <td>Sex on Fire</td>\n",
       "      <td>0.001720</td>\n",
       "      <td>0.542</td>\n",
       "      <td>203347</td>\n",
       "      <td>0.905</td>\n",
       "      <td>4213747</td>\n",
       "      <td>0.010400</td>\n",
       "      <td>9</td>\n",
       "      <td>0.1360</td>\n",
       "      <td>-5.653</td>\n",
       "      <td>1</td>\n",
       "      <td>79</td>\n",
       "      <td>0.0540</td>\n",
       "      <td>153.398</td>\n",
       "      <td>4</td>\n",
       "      <td>0.374</td>\n",
       "    </tr>\n",
       "  </tbody>\n",
       "</table>\n",
       "</div>"
      ],
      "text/plain": [
       "          Artist                     Track  acousticness  danceability  \\\n",
       "0    Evanescence          Bring Me To Life      0.007210         0.331   \n",
       "0     Papa Roach               Last Resort      0.000481         0.589   \n",
       "0            Jet  Are You Gonna Be My Girl      0.001480         0.613   \n",
       "0    The Killers            Mr. Brightside      0.000767         0.778   \n",
       "0  Kings of Leon               Sex on Fire      0.001720         0.542   \n",
       "\n",
       "   duration_ms  energy  followers  instrumentalness  key  liveness  loudness  \\\n",
       "0       235893   0.943    2602493          0.000002    4    0.2420    -3.188   \n",
       "0       199907   0.890    3153738          0.000820    4    0.2010    -3.719   \n",
       "0       213800   0.953     399500          0.000582    2    0.1520    -3.435   \n",
       "0       426187   0.854    5274818          0.907000    1    0.0585    -5.378   \n",
       "0       203347   0.905    4213747          0.010400    9    0.1360    -5.653   \n",
       "\n",
       "   mode  popularity  speechiness    tempo  time_signature  valence  \n",
       "0     0          79       0.0698   94.612               4    0.296  \n",
       "0     0          79       0.0603   90.598               4    0.692  \n",
       "0     1          75       0.0855  105.046               4    0.537  \n",
       "0     1          18       0.0651  131.996               4    0.956  \n",
       "0     1          79       0.0540  153.398               4    0.374  "
      ]
     },
     "execution_count": 28,
     "metadata": {},
     "output_type": "execute_result"
    }
   ],
   "source": [
    "features = features.drop(columns=['analysis_url', 'id', 'track_href', 'type', 'uri'])\n",
    "features.tail()"
   ]
  },
  {
   "cell_type": "code",
   "execution_count": 51,
   "metadata": {},
   "outputs": [],
   "source": [
    "featues_13k = features\n",
    "featues_13k.to_csv (r'C:\\Users\\Suhaib Kiani\\Desktop\\featues_10k.csv', index = False, header=True)"
   ]
  },
  {
   "cell_type": "markdown",
   "metadata": {},
   "source": [
    "## Dataset Batches Join/Append"
   ]
  },
  {
   "cell_type": "code",
   "execution_count": null,
   "metadata": {},
   "outputs": [],
   "source": []
  }
 ],
 "metadata": {
  "kernelspec": {
   "display_name": "Python 3",
   "language": "python",
   "name": "python3"
  },
  "language_info": {
   "codemirror_mode": {
    "name": "ipython",
    "version": 3
   },
   "file_extension": ".py",
   "mimetype": "text/x-python",
   "name": "python",
   "nbconvert_exporter": "python",
   "pygments_lexer": "ipython3",
   "version": "3.7.3"
  }
 },
 "nbformat": 4,
 "nbformat_minor": 2
}
