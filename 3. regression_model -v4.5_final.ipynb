{
 "cells": [
  {
   "cell_type": "code",
   "execution_count": 1,
   "metadata": {},
   "outputs": [],
   "source": [
    "import matplotlib.pyplot as plt\n",
    "import pandas as pd\n",
    "import numpy as np\n",
    "import seaborn as sns\n",
    "import time\n",
    "import seaborn as sns\n",
    "import numpy as np\n",
    "from scipy.stats import norm\n",
    "from sklearn.preprocessing import StandardScaler\n",
    "from scipy import stats\n",
    "import statsmodels.formula.api as sm\n",
    "import statsmodels.regression.linear_model as lm\n",
    "import sys\n",
    "sys.path.append('C:\\\\Users\\\\suhaibkiani\\\\desktop\\\\Final_project')\n",
    "import exp\n",
    "import numpy as np\n",
    "from scipy import stats\n",
    "from sklearn.model_selection import train_test_split\n",
    "\n",
    "# plotting modules\n",
    "import seaborn as sns\n",
    "import matplotlib.pyplot as plt\n",
    "\n",
    "\n",
    "#to perform the train test split of the data, the train test split function is imported from sklearn\n",
    "from sklearn.model_selection import train_test_split\n",
    "#the given problem is a classificaton problem. Hence linear regression is used for ML algorithm\n",
    "from sklearn.linear_model import LinearRegression"
   ]
  },
  {
   "cell_type": "code",
   "execution_count": 2,
   "metadata": {},
   "outputs": [
    {
     "data": {
      "text/html": [
       "<div>\n",
       "<style scoped>\n",
       "    .dataframe tbody tr th:only-of-type {\n",
       "        vertical-align: middle;\n",
       "    }\n",
       "\n",
       "    .dataframe tbody tr th {\n",
       "        vertical-align: top;\n",
       "    }\n",
       "\n",
       "    .dataframe thead th {\n",
       "        text-align: right;\n",
       "    }\n",
       "</style>\n",
       "<table border=\"1\" class=\"dataframe\">\n",
       "  <thead>\n",
       "    <tr style=\"text-align: right;\">\n",
       "      <th></th>\n",
       "      <th>Artist</th>\n",
       "      <th>Track</th>\n",
       "      <th>followers</th>\n",
       "      <th>instrumentalness</th>\n",
       "      <th>popularity</th>\n",
       "      <th>acousticness</th>\n",
       "      <th>danceability</th>\n",
       "      <th>duration_ms</th>\n",
       "      <th>energy</th>\n",
       "      <th>key</th>\n",
       "      <th>liveness</th>\n",
       "      <th>loudness</th>\n",
       "      <th>mode</th>\n",
       "      <th>speechiness</th>\n",
       "      <th>tempo</th>\n",
       "      <th>time_signature</th>\n",
       "      <th>valence</th>\n",
       "    </tr>\n",
       "  </thead>\n",
       "  <tbody>\n",
       "    <tr>\n",
       "      <th>0</th>\n",
       "      <td>Lionel Richie</td>\n",
       "      <td>Tonight Will Be Alright</td>\n",
       "      <td>1627956</td>\n",
       "      <td>0.014100</td>\n",
       "      <td>38</td>\n",
       "      <td>0.05910</td>\n",
       "      <td>0.646</td>\n",
       "      <td>307413</td>\n",
       "      <td>0.840</td>\n",
       "      <td>8</td>\n",
       "      <td>0.0516</td>\n",
       "      <td>-8.213</td>\n",
       "      <td>1</td>\n",
       "      <td>0.0283</td>\n",
       "      <td>125.187</td>\n",
       "      <td>4</td>\n",
       "      <td>0.716</td>\n",
       "    </tr>\n",
       "    <tr>\n",
       "      <th>1</th>\n",
       "      <td>Course Of Nature</td>\n",
       "      <td>The Window</td>\n",
       "      <td>10469</td>\n",
       "      <td>0.000035</td>\n",
       "      <td>11</td>\n",
       "      <td>0.00119</td>\n",
       "      <td>0.496</td>\n",
       "      <td>191160</td>\n",
       "      <td>0.928</td>\n",
       "      <td>1</td>\n",
       "      <td>0.0988</td>\n",
       "      <td>-2.367</td>\n",
       "      <td>0</td>\n",
       "      <td>0.0469</td>\n",
       "      <td>144.932</td>\n",
       "      <td>4</td>\n",
       "      <td>0.561</td>\n",
       "    </tr>\n",
       "    <tr>\n",
       "      <th>2</th>\n",
       "      <td>Mariah Carey</td>\n",
       "      <td>Inseparable</td>\n",
       "      <td>5505368</td>\n",
       "      <td>0.000000</td>\n",
       "      <td>31</td>\n",
       "      <td>0.09090</td>\n",
       "      <td>0.586</td>\n",
       "      <td>213720</td>\n",
       "      <td>0.692</td>\n",
       "      <td>8</td>\n",
       "      <td>0.0567</td>\n",
       "      <td>-5.143</td>\n",
       "      <td>1</td>\n",
       "      <td>0.1770</td>\n",
       "      <td>158.041</td>\n",
       "      <td>4</td>\n",
       "      <td>0.457</td>\n",
       "    </tr>\n",
       "    <tr>\n",
       "      <th>3</th>\n",
       "      <td>Extra Virgin</td>\n",
       "      <td>One Night</td>\n",
       "      <td>880039</td>\n",
       "      <td>0.002050</td>\n",
       "      <td>0</td>\n",
       "      <td>0.00361</td>\n",
       "      <td>0.643</td>\n",
       "      <td>210667</td>\n",
       "      <td>0.896</td>\n",
       "      <td>0</td>\n",
       "      <td>0.9010</td>\n",
       "      <td>-6.662</td>\n",
       "      <td>1</td>\n",
       "      <td>0.0359</td>\n",
       "      <td>130.011</td>\n",
       "      <td>4</td>\n",
       "      <td>0.338</td>\n",
       "    </tr>\n",
       "    <tr>\n",
       "      <th>4</th>\n",
       "      <td>Joe and Will Ask?</td>\n",
       "      <td>Claymore</td>\n",
       "      <td>13</td>\n",
       "      <td>0.776000</td>\n",
       "      <td>2</td>\n",
       "      <td>0.00328</td>\n",
       "      <td>0.699</td>\n",
       "      <td>119053</td>\n",
       "      <td>0.974</td>\n",
       "      <td>9</td>\n",
       "      <td>0.2900</td>\n",
       "      <td>-5.576</td>\n",
       "      <td>0</td>\n",
       "      <td>0.1500</td>\n",
       "      <td>125.934</td>\n",
       "      <td>4</td>\n",
       "      <td>0.443</td>\n",
       "    </tr>\n",
       "  </tbody>\n",
       "</table>\n",
       "</div>"
      ],
      "text/plain": [
       "              Artist                    Track  followers  instrumentalness  \\\n",
       "0      Lionel Richie  Tonight Will Be Alright    1627956          0.014100   \n",
       "1   Course Of Nature               The Window      10469          0.000035   \n",
       "2       Mariah Carey              Inseparable    5505368          0.000000   \n",
       "3       Extra Virgin                One Night     880039          0.002050   \n",
       "4  Joe and Will Ask?                 Claymore         13          0.776000   \n",
       "\n",
       "   popularity  acousticness  danceability  duration_ms  energy  key  liveness  \\\n",
       "0          38       0.05910         0.646       307413   0.840    8    0.0516   \n",
       "1          11       0.00119         0.496       191160   0.928    1    0.0988   \n",
       "2          31       0.09090         0.586       213720   0.692    8    0.0567   \n",
       "3           0       0.00361         0.643       210667   0.896    0    0.9010   \n",
       "4           2       0.00328         0.699       119053   0.974    9    0.2900   \n",
       "\n",
       "   loudness  mode  speechiness    tempo  time_signature  valence  \n",
       "0    -8.213     1       0.0283  125.187               4    0.716  \n",
       "1    -2.367     0       0.0469  144.932               4    0.561  \n",
       "2    -5.143     1       0.1770  158.041               4    0.457  \n",
       "3    -6.662     1       0.0359  130.011               4    0.338  \n",
       "4    -5.576     0       0.1500  125.934               4    0.443  "
      ]
     },
     "execution_count": 2,
     "metadata": {},
     "output_type": "execute_result"
    }
   ],
   "source": [
    "file = \"features_45k.csv\"\n",
    "tds1 = pd.read_csv(file)\n",
    "tds1 = tds1[['Artist', 'Track', 'followers','instrumentalness','popularity','acousticness', 'danceability', 'duration_ms', 'energy', 'key', 'liveness', 'loudness', 'mode',\n",
    "       'speechiness', 'tempo', 'time_signature', 'valence']]\n",
    "tds1.head()"
   ]
  },
  {
   "cell_type": "code",
   "execution_count": null,
   "metadata": {},
   "outputs": [],
   "source": []
  },
  {
   "cell_type": "code",
   "execution_count": 3,
   "metadata": {},
   "outputs": [
    {
     "data": {
      "text/plain": [
       "(45157, 17)"
      ]
     },
     "execution_count": 3,
     "metadata": {},
     "output_type": "execute_result"
    }
   ],
   "source": [
    "#tds1 = tds1.head(5000)\n",
    "tds1.shape"
   ]
  },
  {
   "cell_type": "markdown",
   "metadata": {},
   "source": [
    "## Closer Look at Target Variable"
   ]
  },
  {
   "cell_type": "code",
   "execution_count": 4,
   "metadata": {
    "scrolled": true
   },
   "outputs": [
    {
     "data": {
      "image/png": "[encoded data removed]",
      "text/plain": [
       "<Figure size 432x288 with 1 Axes>"
      ]
     },
     "metadata": {
      "needs_background": "light"
     },
     "output_type": "display_data"
    },
    {
     "data": {
      "text/plain": [
       "<Figure size 432x288 with 0 Axes>"
      ]
     },
     "metadata": {},
     "output_type": "display_data"
    }
   ],
   "source": [
    "#histogram \n",
    "sns.distplot(tds1['popularity'], fit=norm);\n",
    "fig = plt.figure()\n",
    "#res = stats.probplot(tds1['popularity'], plot=plt)"
   ]
  },
  {
   "cell_type": "code",
   "execution_count": 5,
   "metadata": {},
   "outputs": [
    {
     "data": {
      "text/plain": [
       "popularity          1.000000\n",
       "followers           0.364913\n",
       "instrumentalness   -0.287497\n",
       "danceability        0.183657\n",
       "loudness            0.156119\n",
       "liveness           -0.091539\n",
       "time_signature      0.086742\n",
       "acousticness       -0.079486\n",
       "valence             0.079228\n",
       "duration_ms        -0.052718\n",
       "energy              0.038633\n",
       "speechiness        -0.037488\n",
       "tempo              -0.017572\n",
       "key                -0.006985\n",
       "mode               -0.000819\n",
       "Name: popularity, dtype: float64"
      ]
     },
     "execution_count": 5,
     "metadata": {},
     "output_type": "execute_result"
    },
    {
     "data": {
      "image/png": "[encoded data removed]",
      "text/plain": [
       "<Figure size 864x720 with 2 Axes>"
      ]
     },
     "metadata": {
      "needs_background": "light"
     },
     "output_type": "display_data"
    }
   ],
   "source": [
    "# Key Features & Correlation Matrix \n",
    "exp.plot_correlations(tds1, 'popularity', limit=17, annot=True)"
   ]
  },
  {
   "cell_type": "code",
   "execution_count": 6,
   "metadata": {},
   "outputs": [
    {
     "data": {
      "image/png": "[encoded data removed]",
      "text/plain": [
       "<Figure size 432x288 with 1 Axes>"
      ]
     },
     "metadata": {
      "needs_background": "light"
     },
     "output_type": "display_data"
    }
   ],
   "source": [
    "#normal probability plot\n",
    "fig = plt.figure()\n",
    "res = stats.probplot(tds1['popularity'], plot=plt)"
   ]
  },
  {
   "cell_type": "code",
   "execution_count": 7,
   "metadata": {},
   "outputs": [
    {
     "data": {
      "text/plain": [
       "<matplotlib.axes._subplots.AxesSubplot at 0x421b784f28>"
      ]
     },
     "execution_count": 7,
     "metadata": {},
     "output_type": "execute_result"
    },
    {
     "data": {
      "image/png": "[encoded data removed]",
      "text/plain": [
       "<Figure size 432x288 with 1 Axes>"
      ]
     },
     "metadata": {
      "needs_background": "light"
     },
     "output_type": "display_data"
    }
   ],
   "source": [
    "# create an autocorrelation plot\n",
    "from pandas.plotting import autocorrelation_plot\n",
    "series = tds1['popularity']\n",
    "autocorrelation_plot(series)\n",
    "#pyplot.show()"
   ]
  },
  {
   "cell_type": "code",
   "execution_count": 8,
   "metadata": {},
   "outputs": [
    {
     "data": {
      "image/png": "[encoded data removed]",
      "text/plain": [
       "<Figure size 432x288 with 1 Axes>"
      ]
     },
     "execution_count": 8,
     "metadata": {},
     "output_type": "execute_result"
    },
    {
     "data": {
      "image/png": "[encoded data removed]",
      "text/plain": [
       "<Figure size 432x288 with 1 Axes>"
      ]
     },
     "metadata": {
      "needs_background": "light"
     },
     "output_type": "display_data"
    },
    {
     "data": {
      "image/png": "[encoded data removed]",
      "text/plain": [
       "<Figure size 432x288 with 1 Axes>"
      ]
     },
     "metadata": {
      "needs_background": "light"
     },
     "output_type": "display_data"
    }
   ],
   "source": [
    "#applying log transformation by replacing zeros with ones\n",
    "tds2 = tds1\n",
    "#tds2 = tds2.loc[dataframe3['popularity'] != 0]\n",
    "tds2.loc[tds2['popularity'] == 0, 'popularity'] = 1\n",
    "#tds2['popularity'].value_counts(0)\n",
    "#transformed histogram and normal probability plot\n",
    "y_lg = np.log(tds2['popularity'])\n",
    "sns.distplot(y_lg, fit=norm);\n",
    "fig = plt.figure()\n",
    "res = stats.probplot(y_lg, plot=plt)\n",
    "fig"
   ]
  },
  {
   "cell_type": "markdown",
   "metadata": {},
   "source": [
    "# Linear Regression"
   ]
  },
  {
   "cell_type": "markdown",
   "metadata": {},
   "source": [
    "## Define Datasets "
   ]
  },
  {
   "cell_type": "code",
   "execution_count": 9,
   "metadata": {},
   "outputs": [
    {
     "data": {
      "text/html": [
       "<div>\n",
       "<style scoped>\n",
       "    .dataframe tbody tr th:only-of-type {\n",
       "        vertical-align: middle;\n",
       "    }\n",
       "\n",
       "    .dataframe tbody tr th {\n",
       "        vertical-align: top;\n",
       "    }\n",
       "\n",
       "    .dataframe thead th {\n",
       "        text-align: right;\n",
       "    }\n",
       "</style>\n",
       "<table border=\"1\" class=\"dataframe\">\n",
       "  <thead>\n",
       "    <tr style=\"text-align: right;\">\n",
       "      <th></th>\n",
       "      <th>followers</th>\n",
       "      <th>instrumentalness</th>\n",
       "      <th>acousticness</th>\n",
       "      <th>danceability</th>\n",
       "      <th>duration_ms</th>\n",
       "      <th>energy</th>\n",
       "      <th>key</th>\n",
       "      <th>liveness</th>\n",
       "      <th>loudness</th>\n",
       "      <th>mode</th>\n",
       "      <th>speechiness</th>\n",
       "      <th>tempo</th>\n",
       "      <th>time_signature</th>\n",
       "      <th>valence</th>\n",
       "    </tr>\n",
       "  </thead>\n",
       "  <tbody>\n",
       "    <tr>\n",
       "      <th>0</th>\n",
       "      <td>1627956</td>\n",
       "      <td>0.014100</td>\n",
       "      <td>0.05910</td>\n",
       "      <td>0.646</td>\n",
       "      <td>307413</td>\n",
       "      <td>0.840</td>\n",
       "      <td>8</td>\n",
       "      <td>0.0516</td>\n",
       "      <td>-8.213</td>\n",
       "      <td>1</td>\n",
       "      <td>0.0283</td>\n",
       "      <td>125.187</td>\n",
       "      <td>4</td>\n",
       "      <td>0.716</td>\n",
       "    </tr>\n",
       "    <tr>\n",
       "      <th>1</th>\n",
       "      <td>10469</td>\n",
       "      <td>0.000035</td>\n",
       "      <td>0.00119</td>\n",
       "      <td>0.496</td>\n",
       "      <td>191160</td>\n",
       "      <td>0.928</td>\n",
       "      <td>1</td>\n",
       "      <td>0.0988</td>\n",
       "      <td>-2.367</td>\n",
       "      <td>0</td>\n",
       "      <td>0.0469</td>\n",
       "      <td>144.932</td>\n",
       "      <td>4</td>\n",
       "      <td>0.561</td>\n",
       "    </tr>\n",
       "    <tr>\n",
       "      <th>2</th>\n",
       "      <td>5505368</td>\n",
       "      <td>0.000000</td>\n",
       "      <td>0.09090</td>\n",
       "      <td>0.586</td>\n",
       "      <td>213720</td>\n",
       "      <td>0.692</td>\n",
       "      <td>8</td>\n",
       "      <td>0.0567</td>\n",
       "      <td>-5.143</td>\n",
       "      <td>1</td>\n",
       "      <td>0.1770</td>\n",
       "      <td>158.041</td>\n",
       "      <td>4</td>\n",
       "      <td>0.457</td>\n",
       "    </tr>\n",
       "    <tr>\n",
       "      <th>3</th>\n",
       "      <td>880039</td>\n",
       "      <td>0.002050</td>\n",
       "      <td>0.00361</td>\n",
       "      <td>0.643</td>\n",
       "      <td>210667</td>\n",
       "      <td>0.896</td>\n",
       "      <td>0</td>\n",
       "      <td>0.9010</td>\n",
       "      <td>-6.662</td>\n",
       "      <td>1</td>\n",
       "      <td>0.0359</td>\n",
       "      <td>130.011</td>\n",
       "      <td>4</td>\n",
       "      <td>0.338</td>\n",
       "    </tr>\n",
       "    <tr>\n",
       "      <th>4</th>\n",
       "      <td>13</td>\n",
       "      <td>0.776000</td>\n",
       "      <td>0.00328</td>\n",
       "      <td>0.699</td>\n",
       "      <td>119053</td>\n",
       "      <td>0.974</td>\n",
       "      <td>9</td>\n",
       "      <td>0.2900</td>\n",
       "      <td>-5.576</td>\n",
       "      <td>0</td>\n",
       "      <td>0.1500</td>\n",
       "      <td>125.934</td>\n",
       "      <td>4</td>\n",
       "      <td>0.443</td>\n",
       "    </tr>\n",
       "  </tbody>\n",
       "</table>\n",
       "</div>"
      ],
      "text/plain": [
       "   followers  instrumentalness  acousticness  danceability  duration_ms  \\\n",
       "0    1627956          0.014100       0.05910         0.646       307413   \n",
       "1      10469          0.000035       0.00119         0.496       191160   \n",
       "2    5505368          0.000000       0.09090         0.586       213720   \n",
       "3     880039          0.002050       0.00361         0.643       210667   \n",
       "4         13          0.776000       0.00328         0.699       119053   \n",
       "\n",
       "   energy  key  liveness  loudness  mode  speechiness    tempo  \\\n",
       "0   0.840    8    0.0516    -8.213     1       0.0283  125.187   \n",
       "1   0.928    1    0.0988    -2.367     0       0.0469  144.932   \n",
       "2   0.692    8    0.0567    -5.143     1       0.1770  158.041   \n",
       "3   0.896    0    0.9010    -6.662     1       0.0359  130.011   \n",
       "4   0.974    9    0.2900    -5.576     0       0.1500  125.934   \n",
       "\n",
       "   time_signature  valence  \n",
       "0               4    0.716  \n",
       "1               4    0.561  \n",
       "2               4    0.457  \n",
       "3               4    0.338  \n",
       "4               4    0.443  "
      ]
     },
     "execution_count": 9,
     "metadata": {},
     "output_type": "execute_result"
    }
   ],
   "source": [
    "#Combined Dataset\n",
    "dfcombine = tds1\n",
    "#dfcombine = dfcombine.reset_index(inplace=True, drop=True)\n",
    "\n",
    "#Target Dataset\n",
    "dfy = pd.DataFrame(tds1[\"popularity\"])\n",
    "\n",
    "#all the independant variables/predictors are named as dfx\n",
    "dfx = dfcombine.drop(columns=['Artist', 'Track','popularity'])\n",
    "dfx.head()"
   ]
  },
  {
   "cell_type": "code",
   "execution_count": 10,
   "metadata": {},
   "outputs": [
    {
     "data": {
      "text/html": [
       "<div>\n",
       "<style scoped>\n",
       "    .dataframe tbody tr th:only-of-type {\n",
       "        vertical-align: middle;\n",
       "    }\n",
       "\n",
       "    .dataframe tbody tr th {\n",
       "        vertical-align: top;\n",
       "    }\n",
       "\n",
       "    .dataframe thead th {\n",
       "        text-align: right;\n",
       "    }\n",
       "</style>\n",
       "<table border=\"1\" class=\"dataframe\">\n",
       "  <thead>\n",
       "    <tr style=\"text-align: right;\">\n",
       "      <th></th>\n",
       "      <th>popularity</th>\n",
       "    </tr>\n",
       "  </thead>\n",
       "  <tbody>\n",
       "    <tr>\n",
       "      <th>0</th>\n",
       "      <td>38</td>\n",
       "    </tr>\n",
       "    <tr>\n",
       "      <th>1</th>\n",
       "      <td>11</td>\n",
       "    </tr>\n",
       "    <tr>\n",
       "      <th>2</th>\n",
       "      <td>31</td>\n",
       "    </tr>\n",
       "    <tr>\n",
       "      <th>3</th>\n",
       "      <td>1</td>\n",
       "    </tr>\n",
       "    <tr>\n",
       "      <th>4</th>\n",
       "      <td>2</td>\n",
       "    </tr>\n",
       "  </tbody>\n",
       "</table>\n",
       "</div>"
      ],
      "text/plain": [
       "   popularity\n",
       "0          38\n",
       "1          11\n",
       "2          31\n",
       "3           1\n",
       "4           2"
      ]
     },
     "execution_count": 10,
     "metadata": {},
     "output_type": "execute_result"
    }
   ],
   "source": [
    "dfy.head()"
   ]
  },
  {
   "cell_type": "code",
   "execution_count": 11,
   "metadata": {},
   "outputs": [],
   "source": [
    "#trying to get rid of >ValueError: Input contains NaN, infinity or a value too large for dtype('float64').\n",
    "np.where(dfx.values >= np.finfo(np.float64).max)\n",
    "np.isnan(dfx.values.any())\n",
    "dfx.replace([np.inf, -np.inf], np.nan, inplace=True)"
   ]
  },
  {
   "cell_type": "code",
   "execution_count": 12,
   "metadata": {},
   "outputs": [],
   "source": [
    "#trying to get rid of >ValueError: Input contains NaN, infinity or a value too large for dtype('float64').\n",
    "np.where(dfy.values >= np.finfo(np.float64).max)\n",
    "np.isnan(dfy.values.any())\n",
    "dfy.replace([np.inf, -np.inf], np.nan, inplace=True)"
   ]
  },
  {
   "cell_type": "markdown",
   "metadata": {},
   "source": [
    "## Train Set  - Linear Regression "
   ]
  },
  {
   "cell_type": "code",
   "execution_count": 13,
   "metadata": {},
   "outputs": [
    {
     "data": {
      "text/plain": [
       "(45157, 1)"
      ]
     },
     "execution_count": 13,
     "metadata": {},
     "output_type": "execute_result"
    }
   ],
   "source": [
    "dfx.reset_index(inplace=True, drop=True)\n",
    "dfy.reset_index(inplace=True, drop=True)\n",
    "dfy.shape"
   ]
  },
  {
   "cell_type": "code",
   "execution_count": 14,
   "metadata": {},
   "outputs": [],
   "source": [
    "#to perform the train test split of the data, the train test split function is imported from sklearn\n",
    "from sklearn.model_selection import train_test_split\n",
    "#the percentage of the split is taken as 30%. SO the percentage of training is 70%\n",
    "X_train, X_test, y_train, y_test = train_test_split(dfx, dfy, test_size=0.3, random_state=42)"
   ]
  },
  {
   "cell_type": "code",
   "execution_count": 15,
   "metadata": {},
   "outputs": [
    {
     "data": {
      "text/plain": [
       "LinearRegression(copy_X=True, fit_intercept=True, n_jobs=None, normalize=False)"
      ]
     },
     "execution_count": 15,
     "metadata": {},
     "output_type": "execute_result"
    }
   ],
   "source": [
    "# linear regression \n",
    "from sklearn.linear_model import LinearRegression\n",
    "model = LinearRegression()\n",
    "model.fit(X_train, y_train)"
   ]
  },
  {
   "cell_type": "code",
   "execution_count": 16,
   "metadata": {},
   "outputs": [
    {
     "data": {
      "text/plain": [
       "0.2218272043217525"
      ]
     },
     "execution_count": 16,
     "metadata": {},
     "output_type": "execute_result"
    }
   ],
   "source": [
    "#the target is predicted for the test dataset\n",
    "predictions = model.predict(X_test)\n",
    "#the accuracy of the prediction is found to be.... \n",
    "model.score(X_test,y_test)"
   ]
  },
  {
   "cell_type": "code",
   "execution_count": 17,
   "metadata": {},
   "outputs": [
    {
     "data": {
      "image/png": "[encoded data removed]",
      "text/plain": [
       "<Figure size 432x288 with 1 Axes>"
      ]
     },
     "metadata": {
      "needs_background": "light"
     },
     "output_type": "display_data"
    }
   ],
   "source": [
    "from sklearn.metrics import accuracy_score\n",
    "predictions = model.predict(X_test)\n",
    "# Plot Residuals\n",
    "plt.scatter(predictions, predictions - y_test)\n",
    "plt.hlines(y=0, xmin=predictions.min(), xmax=predictions.max())\n",
    "plt.show()"
   ]
  },
  {
   "cell_type": "code",
   "execution_count": 18,
   "metadata": {},
   "outputs": [
    {
     "data": {
      "text/plain": [
       "<matplotlib.axes._subplots.AxesSubplot at 0x421b96cf60>"
      ]
     },
     "execution_count": 18,
     "metadata": {},
     "output_type": "execute_result"
    },
    {
     "data": {
      "image/png": "[encoded data removed]",
      "text/plain": [
       "<Figure size 432x288 with 1 Axes>"
      ]
     },
     "metadata": {
      "needs_background": "light"
     },
     "output_type": "display_data"
    }
   ],
   "source": [
    "error = y_test - predictions\n",
    "#the error is calculated for the above test predictions and a distribution plot is plotted.\n",
    "sns.distplot(error)"
   ]
  },
  {
   "cell_type": "code",
   "execution_count": 19,
   "metadata": {},
   "outputs": [
    {
     "data": {
      "image/png": "[encoded data removed]",
      "text/plain": [
       "<Figure size 432x288 with 1 Axes>"
      ]
     },
     "metadata": {
      "needs_background": "light"
     },
     "output_type": "display_data"
    }
   ],
   "source": [
    "fig = plt.figure()\n",
    "res = stats.probplot(error['popularity'], plot=plt)"
   ]
  },
  {
   "cell_type": "markdown",
   "metadata": {},
   "source": [
    "## Regression With Scaler "
   ]
  },
  {
   "cell_type": "code",
   "execution_count": 20,
   "metadata": {},
   "outputs": [],
   "source": [
    "from sklearn.preprocessing import StandardScaler\n",
    "# Create a StandardScater model and fit it to the training data\n",
    "X_scaler = StandardScaler().fit(X_train)"
   ]
  },
  {
   "cell_type": "code",
   "execution_count": 21,
   "metadata": {},
   "outputs": [],
   "source": [
    "X_train_scaled = X_scaler.transform(X_train)\n",
    "X_test_scaled = X_scaler.transform(X_test)"
   ]
  },
  {
   "cell_type": "code",
   "execution_count": 22,
   "metadata": {},
   "outputs": [
    {
     "data": {
      "text/plain": [
       "LinearRegression(copy_X=True, fit_intercept=True, n_jobs=None, normalize=False)"
      ]
     },
     "execution_count": 22,
     "metadata": {},
     "output_type": "execute_result"
    }
   ],
   "source": [
    "model.fit(X_train_scaled, y_train)"
   ]
  },
  {
   "cell_type": "code",
   "execution_count": 23,
   "metadata": {},
   "outputs": [
    {
     "data": {
      "text/plain": [
       "0.22182720432194314"
      ]
     },
     "execution_count": 23,
     "metadata": {},
     "output_type": "execute_result"
    }
   ],
   "source": [
    "#the target is predicted for the test dataset\n",
    "predictions = model.predict(X_test_scaled)\n",
    "#the accuracy of the prediction is found to be.... \n",
    "model.score(X_test_scaled,y_test)"
   ]
  },
  {
   "cell_type": "markdown",
   "metadata": {},
   "source": [
    "## OLS Regression  "
   ]
  },
  {
   "cell_type": "code",
   "execution_count": 24,
   "metadata": {},
   "outputs": [
    {
     "data": {
      "text/html": [
       "<div>\n",
       "<style scoped>\n",
       "    .dataframe tbody tr th:only-of-type {\n",
       "        vertical-align: middle;\n",
       "    }\n",
       "\n",
       "    .dataframe tbody tr th {\n",
       "        vertical-align: top;\n",
       "    }\n",
       "\n",
       "    .dataframe thead th {\n",
       "        text-align: right;\n",
       "    }\n",
       "</style>\n",
       "<table border=\"1\" class=\"dataframe\">\n",
       "  <thead>\n",
       "    <tr style=\"text-align: right;\">\n",
       "      <th></th>\n",
       "      <th>ones</th>\n",
       "      <th>followers</th>\n",
       "      <th>instrumentalness</th>\n",
       "      <th>acousticness</th>\n",
       "      <th>danceability</th>\n",
       "      <th>duration_ms</th>\n",
       "      <th>energy</th>\n",
       "      <th>key</th>\n",
       "      <th>liveness</th>\n",
       "      <th>loudness</th>\n",
       "      <th>mode</th>\n",
       "      <th>speechiness</th>\n",
       "      <th>tempo</th>\n",
       "      <th>time_signature</th>\n",
       "      <th>valence</th>\n",
       "    </tr>\n",
       "  </thead>\n",
       "  <tbody>\n",
       "    <tr>\n",
       "      <th>0</th>\n",
       "      <td>1</td>\n",
       "      <td>1627956</td>\n",
       "      <td>0.014100</td>\n",
       "      <td>0.05910</td>\n",
       "      <td>0.646</td>\n",
       "      <td>307413</td>\n",
       "      <td>0.840</td>\n",
       "      <td>8</td>\n",
       "      <td>0.0516</td>\n",
       "      <td>-8.213</td>\n",
       "      <td>1</td>\n",
       "      <td>0.0283</td>\n",
       "      <td>125.187</td>\n",
       "      <td>4</td>\n",
       "      <td>0.716</td>\n",
       "    </tr>\n",
       "    <tr>\n",
       "      <th>1</th>\n",
       "      <td>1</td>\n",
       "      <td>10469</td>\n",
       "      <td>0.000035</td>\n",
       "      <td>0.00119</td>\n",
       "      <td>0.496</td>\n",
       "      <td>191160</td>\n",
       "      <td>0.928</td>\n",
       "      <td>1</td>\n",
       "      <td>0.0988</td>\n",
       "      <td>-2.367</td>\n",
       "      <td>0</td>\n",
       "      <td>0.0469</td>\n",
       "      <td>144.932</td>\n",
       "      <td>4</td>\n",
       "      <td>0.561</td>\n",
       "    </tr>\n",
       "    <tr>\n",
       "      <th>2</th>\n",
       "      <td>1</td>\n",
       "      <td>5505368</td>\n",
       "      <td>0.000000</td>\n",
       "      <td>0.09090</td>\n",
       "      <td>0.586</td>\n",
       "      <td>213720</td>\n",
       "      <td>0.692</td>\n",
       "      <td>8</td>\n",
       "      <td>0.0567</td>\n",
       "      <td>-5.143</td>\n",
       "      <td>1</td>\n",
       "      <td>0.1770</td>\n",
       "      <td>158.041</td>\n",
       "      <td>4</td>\n",
       "      <td>0.457</td>\n",
       "    </tr>\n",
       "    <tr>\n",
       "      <th>3</th>\n",
       "      <td>1</td>\n",
       "      <td>880039</td>\n",
       "      <td>0.002050</td>\n",
       "      <td>0.00361</td>\n",
       "      <td>0.643</td>\n",
       "      <td>210667</td>\n",
       "      <td>0.896</td>\n",
       "      <td>0</td>\n",
       "      <td>0.9010</td>\n",
       "      <td>-6.662</td>\n",
       "      <td>1</td>\n",
       "      <td>0.0359</td>\n",
       "      <td>130.011</td>\n",
       "      <td>4</td>\n",
       "      <td>0.338</td>\n",
       "    </tr>\n",
       "    <tr>\n",
       "      <th>4</th>\n",
       "      <td>1</td>\n",
       "      <td>13</td>\n",
       "      <td>0.776000</td>\n",
       "      <td>0.00328</td>\n",
       "      <td>0.699</td>\n",
       "      <td>119053</td>\n",
       "      <td>0.974</td>\n",
       "      <td>9</td>\n",
       "      <td>0.2900</td>\n",
       "      <td>-5.576</td>\n",
       "      <td>0</td>\n",
       "      <td>0.1500</td>\n",
       "      <td>125.934</td>\n",
       "      <td>4</td>\n",
       "      <td>0.443</td>\n",
       "    </tr>\n",
       "  </tbody>\n",
       "</table>\n",
       "</div>"
      ],
      "text/plain": [
       "   ones  followers  instrumentalness  acousticness  danceability  duration_ms  \\\n",
       "0     1    1627956          0.014100       0.05910         0.646       307413   \n",
       "1     1      10469          0.000035       0.00119         0.496       191160   \n",
       "2     1    5505368          0.000000       0.09090         0.586       213720   \n",
       "3     1     880039          0.002050       0.00361         0.643       210667   \n",
       "4     1         13          0.776000       0.00328         0.699       119053   \n",
       "\n",
       "   energy  key  liveness  loudness  mode  speechiness    tempo  \\\n",
       "0   0.840    8    0.0516    -8.213     1       0.0283  125.187   \n",
       "1   0.928    1    0.0988    -2.367     0       0.0469  144.932   \n",
       "2   0.692    8    0.0567    -5.143     1       0.1770  158.041   \n",
       "3   0.896    0    0.9010    -6.662     1       0.0359  130.011   \n",
       "4   0.974    9    0.2900    -5.576     0       0.1500  125.934   \n",
       "\n",
       "   time_signature  valence  \n",
       "0               4    0.716  \n",
       "1               4    0.561  \n",
       "2               4    0.457  \n",
       "3               4    0.338  \n",
       "4               4    0.443  "
      ]
     },
     "execution_count": 24,
     "metadata": {},
     "output_type": "execute_result"
    }
   ],
   "source": [
    "oness = np.ones((len(dfx),1),dtype = int)\n",
    "dfone = pd.DataFrame(oness, columns = ['ones'])\n",
    "dfxnew = dfone.join(dfx)\n",
    "dfxnew.head()\n"
   ]
  },
  {
   "cell_type": "code",
   "execution_count": 25,
   "metadata": {},
   "outputs": [
    {
     "name": "stdout",
     "output_type": "stream",
     "text": [
      "(45157, 1)\n",
      "(45157, 15)\n"
     ]
    }
   ],
   "source": [
    "dfxnew.reset_index(inplace=True, drop=True)\n",
    "dfy.reset_index(inplace=True, drop=True)\n",
    "print(dfy.shape)\n",
    "print(dfxnew.shape)"
   ]
  },
  {
   "cell_type": "code",
   "execution_count": 26,
   "metadata": {},
   "outputs": [],
   "source": [
    "import statsmodels.formula.api as sm\n",
    "import statsmodels.regression.linear_model as lm"
   ]
  },
  {
   "cell_type": "code",
   "execution_count": 27,
   "metadata": {},
   "outputs": [
    {
     "data": {
      "text/html": [
       "<table class=\"simpletable\">\n",
       "<caption>OLS Regression Results</caption>\n",
       "<tr>\n",
       "  <th>Dep. Variable:</th>       <td>popularity</td>    <th>  R-squared:         </th>  <td>   0.224</td>  \n",
       "</tr>\n",
       "<tr>\n",
       "  <th>Model:</th>                   <td>OLS</td>       <th>  Adj. R-squared:    </th>  <td>   0.223</td>  \n",
       "</tr>\n",
       "<tr>\n",
       "  <th>Method:</th>             <td>Least Squares</td>  <th>  F-statistic:       </th>  <td>   929.2</td>  \n",
       "</tr>\n",
       "<tr>\n",
       "  <th>Date:</th>             <td>Mon, 27 Apr 2020</td> <th>  Prob (F-statistic):</th>   <td>  0.00</td>   \n",
       "</tr>\n",
       "<tr>\n",
       "  <th>Time:</th>                 <td>00:38:50</td>     <th>  Log-Likelihood:    </th> <td>-2.0300e+05</td>\n",
       "</tr>\n",
       "<tr>\n",
       "  <th>No. Observations:</th>      <td> 45157</td>      <th>  AIC:               </th>  <td>4.060e+05</td> \n",
       "</tr>\n",
       "<tr>\n",
       "  <th>Df Residuals:</th>          <td> 45142</td>      <th>  BIC:               </th>  <td>4.062e+05</td> \n",
       "</tr>\n",
       "<tr>\n",
       "  <th>Df Model:</th>              <td>    14</td>      <th>                     </th>      <td> </td>     \n",
       "</tr>\n",
       "<tr>\n",
       "  <th>Covariance Type:</th>      <td>nonrobust</td>    <th>                     </th>      <td> </td>     \n",
       "</tr>\n",
       "</table>\n",
       "<table class=\"simpletable\">\n",
       "<tr>\n",
       "          <td></td>            <th>coef</th>     <th>std err</th>      <th>t</th>      <th>P>|t|</th>  <th>[0.025</th>    <th>0.975]</th>  \n",
       "</tr>\n",
       "<tr>\n",
       "  <th>ones</th>             <td>   31.1328</td> <td>    1.544</td> <td>   20.163</td> <td> 0.000</td> <td>   28.106</td> <td>   34.159</td>\n",
       "</tr>\n",
       "<tr>\n",
       "  <th>followers</th>        <td> 1.514e-06</td> <td>    2e-08</td> <td>   75.721</td> <td> 0.000</td> <td> 1.47e-06</td> <td> 1.55e-06</td>\n",
       "</tr>\n",
       "<tr>\n",
       "  <th>instrumentalness</th> <td>  -20.1146</td> <td>    0.415</td> <td>  -48.505</td> <td> 0.000</td> <td>  -20.927</td> <td>  -19.302</td>\n",
       "</tr>\n",
       "<tr>\n",
       "  <th>acousticness</th>     <td>   -1.2289</td> <td>    0.476</td> <td>   -2.584</td> <td> 0.010</td> <td>   -2.161</td> <td>   -0.297</td>\n",
       "</tr>\n",
       "<tr>\n",
       "  <th>danceability</th>     <td>   16.4253</td> <td>    0.738</td> <td>   22.246</td> <td> 0.000</td> <td>   14.978</td> <td>   17.873</td>\n",
       "</tr>\n",
       "<tr>\n",
       "  <th>duration_ms</th>      <td>-9.952e-06</td> <td> 1.27e-06</td> <td>   -7.856</td> <td> 0.000</td> <td>-1.24e-05</td> <td>-7.47e-06</td>\n",
       "</tr>\n",
       "<tr>\n",
       "  <th>energy</th>           <td>   -5.0722</td> <td>    0.858</td> <td>   -5.910</td> <td> 0.000</td> <td>   -6.754</td> <td>   -3.390</td>\n",
       "</tr>\n",
       "<tr>\n",
       "  <th>key</th>              <td>   -0.0477</td> <td>    0.029</td> <td>   -1.653</td> <td> 0.098</td> <td>   -0.104</td> <td>    0.009</td>\n",
       "</tr>\n",
       "<tr>\n",
       "  <th>liveness</th>         <td>  -10.3203</td> <td>    0.650</td> <td>  -15.880</td> <td> 0.000</td> <td>  -11.594</td> <td>   -9.047</td>\n",
       "</tr>\n",
       "<tr>\n",
       "  <th>loudness</th>         <td>    0.2953</td> <td>    0.040</td> <td>    7.347</td> <td> 0.000</td> <td>    0.216</td> <td>    0.374</td>\n",
       "</tr>\n",
       "<tr>\n",
       "  <th>mode</th>             <td>    0.2173</td> <td>    0.219</td> <td>    0.992</td> <td> 0.321</td> <td>   -0.212</td> <td>    0.646</td>\n",
       "</tr>\n",
       "<tr>\n",
       "  <th>speechiness</th>      <td>  -18.4529</td> <td>    1.041</td> <td>  -17.734</td> <td> 0.000</td> <td>  -20.492</td> <td>  -16.413</td>\n",
       "</tr>\n",
       "<tr>\n",
       "  <th>tempo</th>            <td>   -0.0056</td> <td>    0.004</td> <td>   -1.547</td> <td> 0.122</td> <td>   -0.013</td> <td>    0.002</td>\n",
       "</tr>\n",
       "<tr>\n",
       "  <th>time_signature</th>   <td>    3.0441</td> <td>    0.289</td> <td>   10.545</td> <td> 0.000</td> <td>    2.478</td> <td>    3.610</td>\n",
       "</tr>\n",
       "<tr>\n",
       "  <th>valence</th>          <td>   -1.8562</td> <td>    0.493</td> <td>   -3.763</td> <td> 0.000</td> <td>   -2.823</td> <td>   -0.889</td>\n",
       "</tr>\n",
       "</table>\n",
       "<table class=\"simpletable\">\n",
       "<tr>\n",
       "  <th>Omnibus:</th>       <td>6658.753</td> <th>  Durbin-Watson:     </th> <td>   0.937</td>\n",
       "</tr>\n",
       "<tr>\n",
       "  <th>Prob(Omnibus):</th>  <td> 0.000</td>  <th>  Jarque-Bera (JB):  </th> <td>1923.328</td>\n",
       "</tr>\n",
       "<tr>\n",
       "  <th>Skew:</th>           <td>-0.228</td>  <th>  Prob(JB):          </th> <td>    0.00</td>\n",
       "</tr>\n",
       "<tr>\n",
       "  <th>Kurtosis:</th>       <td> 2.098</td>  <th>  Cond. No.          </th> <td>9.03e+07</td>\n",
       "</tr>\n",
       "</table><br/><br/>Warnings:<br/>[1] Standard Errors assume that the covariance matrix of the errors is correctly specified.<br/>[2] The condition number is large, 9.03e+07. This might indicate that there are<br/>strong multicollinearity or other numerical problems."
      ],
      "text/plain": [
       "<class 'statsmodels.iolib.summary.Summary'>\n",
       "\"\"\"\n",
       "                            OLS Regression Results                            \n",
       "==============================================================================\n",
       "Dep. Variable:             popularity   R-squared:                       0.224\n",
       "Model:                            OLS   Adj. R-squared:                  0.223\n",
       "Method:                 Least Squares   F-statistic:                     929.2\n",
       "Date:                Mon, 27 Apr 2020   Prob (F-statistic):               0.00\n",
       "Time:                        00:38:50   Log-Likelihood:            -2.0300e+05\n",
       "No. Observations:               45157   AIC:                         4.060e+05\n",
       "Df Residuals:                   45142   BIC:                         4.062e+05\n",
       "Df Model:                          14                                         \n",
       "Covariance Type:            nonrobust                                         \n",
       "====================================================================================\n",
       "                       coef    std err          t      P>|t|      [0.025      0.975]\n",
       "------------------------------------------------------------------------------------\n",
       "ones                31.1328      1.544     20.163      0.000      28.106      34.159\n",
       "followers         1.514e-06      2e-08     75.721      0.000    1.47e-06    1.55e-06\n",
       "instrumentalness   -20.1146      0.415    -48.505      0.000     -20.927     -19.302\n",
       "acousticness        -1.2289      0.476     -2.584      0.010      -2.161      -0.297\n",
       "danceability        16.4253      0.738     22.246      0.000      14.978      17.873\n",
       "duration_ms      -9.952e-06   1.27e-06     -7.856      0.000   -1.24e-05   -7.47e-06\n",
       "energy              -5.0722      0.858     -5.910      0.000      -6.754      -3.390\n",
       "key                 -0.0477      0.029     -1.653      0.098      -0.104       0.009\n",
       "liveness           -10.3203      0.650    -15.880      0.000     -11.594      -9.047\n",
       "loudness             0.2953      0.040      7.347      0.000       0.216       0.374\n",
       "mode                 0.2173      0.219      0.992      0.321      -0.212       0.646\n",
       "speechiness        -18.4529      1.041    -17.734      0.000     -20.492     -16.413\n",
       "tempo               -0.0056      0.004     -1.547      0.122      -0.013       0.002\n",
       "time_signature       3.0441      0.289     10.545      0.000       2.478       3.610\n",
       "valence             -1.8562      0.493     -3.763      0.000      -2.823      -0.889\n",
       "==============================================================================\n",
       "Omnibus:                     6658.753   Durbin-Watson:                   0.937\n",
       "Prob(Omnibus):                  0.000   Jarque-Bera (JB):             1923.328\n",
       "Skew:                          -0.228   Prob(JB):                         0.00\n",
       "Kurtosis:                       2.098   Cond. No.                     9.03e+07\n",
       "==============================================================================\n",
       "\n",
       "Warnings:\n",
       "[1] Standard Errors assume that the covariance matrix of the errors is correctly specified.\n",
       "[2] The condition number is large, 9.03e+07. This might indicate that there are\n",
       "strong multicollinearity or other numerical problems.\n",
       "\"\"\""
      ]
     },
     "execution_count": 27,
     "metadata": {},
     "output_type": "execute_result"
    }
   ],
   "source": [
    "#OLS Regression - ,\n",
    "lir_ols = lm.OLS(endog = dfy, exog = dfxnew).fit()\n",
    "lir_ols.summary()"
   ]
  },
  {
   "cell_type": "markdown",
   "metadata": {},
   "source": [
    "## RMSE Model with Plot"
   ]
  },
  {
   "cell_type": "code",
   "execution_count": 28,
   "metadata": {},
   "outputs": [],
   "source": [
    "from sklearn.model_selection import cross_val_score, train_test_split\n",
    "from sklearn.preprocessing import StandardScaler\n",
    "from sklearn.linear_model import LinearRegression, RidgeCV, LassoCV, ElasticNetCV\n",
    "from sklearn.metrics import mean_squared_error, make_scorer\n",
    "\n",
    "# Define error measure for official scoring : RMSE\n",
    "scorer = make_scorer(mean_squared_error, greater_is_better = False)\n",
    "\n",
    "def rmse_cv_train(model):\n",
    "    rmse= np.sqrt(-cross_val_score(model, X_train, y_train, scoring = scorer, cv = 10))\n",
    "    return(rmse)\n",
    "\n",
    "def rmse_cv_test(model):\n",
    "    rmse= np.sqrt(-cross_val_score(model, X_test, y_test, scoring = scorer, cv = 10))\n",
    "    return(rmse)"
   ]
  },
  {
   "cell_type": "code",
   "execution_count": 29,
   "metadata": {},
   "outputs": [
    {
     "name": "stdout",
     "output_type": "stream",
     "text": [
      "RMSE on Training set : 21.715741914282336\n",
      "RMSE on Test set : 21.637987126138604\n"
     ]
    },
    {
     "data": {
      "image/png": "[encoded data removed]",
      "text/plain": [
       "<Figure size 432x288 with 1 Axes>"
      ]
     },
     "metadata": {
      "needs_background": "light"
     },
     "output_type": "display_data"
    },
    {
     "data": {
      "image/png": "[encoded data removed]",
      "text/plain": [
       "<Figure size 432x288 with 1 Axes>"
      ]
     },
     "metadata": {
      "needs_background": "light"
     },
     "output_type": "display_data"
    }
   ],
   "source": [
    "# Linear Regression\n",
    "lr = LinearRegression()\n",
    "lr.fit(X_train, y_train)\n",
    "\n",
    "# Look at predictions on training and validation set\n",
    "print(\"RMSE on Training set :\", rmse_cv_train(lr).mean())\n",
    "print(\"RMSE on Test set :\", rmse_cv_test(lr).mean())\n",
    "y_train_pred = lr.predict(X_train)\n",
    "y_test_pred = lr.predict(X_test)\n",
    "\n",
    "# Plot residuals\n",
    "plt.scatter(y_train_pred, y_train_pred - y_train, c = \"blue\", marker = \"s\", label = \"Training data\")\n",
    "plt.scatter(y_test_pred, y_test_pred - y_test, c = \"lightgreen\", marker = \"s\", label = \"Validation data\")\n",
    "plt.title(\"Linear regression\")\n",
    "plt.xlabel(\"Predicted values\")\n",
    "plt.ylabel(\"Residuals\")\n",
    "plt.legend(loc = \"upper left\")\n",
    "plt.hlines(y = 0, xmin = 10.5, xmax = 13.5, color = \"red\")\n",
    "plt.show()\n",
    "\n",
    "# Plot predictions\n",
    "plt.scatter(y_train_pred, y_train, c = \"blue\", marker = \"s\", label = \"Training data\")\n",
    "plt.scatter(y_test_pred, y_test, c = \"lightgreen\", marker = \"s\", label = \"Validation data\")\n",
    "plt.title(\"Linear regression\")\n",
    "plt.xlabel(\"Predicted values\")\n",
    "plt.ylabel(\"Real values\")\n",
    "plt.legend(loc = \"upper left\")\n",
    "plt.plot([10.5, 13.5], [10.5, 13.5], c = \"red\")\n",
    "plt.show()"
   ]
  },
  {
   "cell_type": "markdown",
   "metadata": {},
   "source": [
    "# Classification Models "
   ]
  },
  {
   "cell_type": "code",
   "execution_count": 30,
   "metadata": {},
   "outputs": [],
   "source": [
    "from sklearn.linear_model import LogisticRegression\n",
    "from sklearn.ensemble import RandomForestClassifier\n",
    "from sklearn.neighbors import KNeighborsClassifier\n",
    "from sklearn.tree import DecisionTreeClassifier\n",
    "from sklearn.svm import SVC, LinearSVC\n",
    "from xgboost import XGBClassifier\n",
    "\n",
    "from sklearn.metrics import make_scorer, accuracy_score, roc_auc_score \n",
    "from sklearn.model_selection import GridSearchCV\n",
    "from sklearn.model_selection import train_test_split"
   ]
  },
  {
   "cell_type": "markdown",
   "metadata": {},
   "source": [
    "##  Dataframe & Feature Set-up "
   ]
  },
  {
   "cell_type": "code",
   "execution_count": 31,
   "metadata": {},
   "outputs": [
    {
     "data": {
      "text/plain": [
       "(45157, 17)"
      ]
     },
     "execution_count": 31,
     "metadata": {},
     "output_type": "execute_result"
    }
   ],
   "source": [
    "dataframe = tds1\n",
    "dataframe.shape\n"
   ]
  },
  {
   "cell_type": "code",
   "execution_count": 32,
   "metadata": {},
   "outputs": [
    {
     "data": {
      "text/plain": [
       "Text(0.5, 1.0, 'Popularity Distribution')"
      ]
     },
     "execution_count": 32,
     "metadata": {},
     "output_type": "execute_result"
    },
    {
     "data": {
      "image/png": "[encoded data removed]",
      "text/plain": [
       "<Figure size 432x288 with 1 Axes>"
      ]
     },
     "metadata": {
      "needs_background": "light"
     },
     "output_type": "display_data"
    }
   ],
   "source": [
    "sns.distplot(dataframe['popularity']).set_title('Popularity Distribution')"
   ]
  },
  {
   "cell_type": "code",
   "execution_count": 33,
   "metadata": {},
   "outputs": [
    {
     "data": {
      "text/html": [
       "<div>\n",
       "<style scoped>\n",
       "    .dataframe tbody tr th:only-of-type {\n",
       "        vertical-align: middle;\n",
       "    }\n",
       "\n",
       "    .dataframe tbody tr th {\n",
       "        vertical-align: top;\n",
       "    }\n",
       "\n",
       "    .dataframe thead th {\n",
       "        text-align: right;\n",
       "    }\n",
       "</style>\n",
       "<table border=\"1\" class=\"dataframe\">\n",
       "  <thead>\n",
       "    <tr style=\"text-align: right;\">\n",
       "      <th></th>\n",
       "      <th>followers</th>\n",
       "      <th>instrumentalness</th>\n",
       "      <th>popularity</th>\n",
       "      <th>acousticness</th>\n",
       "      <th>danceability</th>\n",
       "      <th>duration_ms</th>\n",
       "      <th>energy</th>\n",
       "      <th>key</th>\n",
       "      <th>liveness</th>\n",
       "      <th>loudness</th>\n",
       "      <th>mode</th>\n",
       "      <th>speechiness</th>\n",
       "      <th>tempo</th>\n",
       "      <th>time_signature</th>\n",
       "      <th>valence</th>\n",
       "    </tr>\n",
       "  </thead>\n",
       "  <tbody>\n",
       "    <tr>\n",
       "      <th>count</th>\n",
       "      <td>4.515700e+04</td>\n",
       "      <td>45157.000000</td>\n",
       "      <td>45157.000000</td>\n",
       "      <td>45157.000000</td>\n",
       "      <td>45157.000000</td>\n",
       "      <td>4.515700e+04</td>\n",
       "      <td>45157.000000</td>\n",
       "      <td>45157.000000</td>\n",
       "      <td>45157.000000</td>\n",
       "      <td>45157.000000</td>\n",
       "      <td>45157.000000</td>\n",
       "      <td>45157.000000</td>\n",
       "      <td>45157.000000</td>\n",
       "      <td>45157.000000</td>\n",
       "      <td>45157.000000</td>\n",
       "    </tr>\n",
       "    <tr>\n",
       "      <th>mean</th>\n",
       "      <td>1.890777e+06</td>\n",
       "      <td>0.124477</td>\n",
       "      <td>39.538610</td>\n",
       "      <td>0.278239</td>\n",
       "      <td>0.593009</td>\n",
       "      <td>2.310003e+05</td>\n",
       "      <td>0.631839</td>\n",
       "      <td>5.276015</td>\n",
       "      <td>0.190949</td>\n",
       "      <td>-8.223496</td>\n",
       "      <td>0.648094</td>\n",
       "      <td>0.090158</td>\n",
       "      <td>120.917113</td>\n",
       "      <td>3.930841</td>\n",
       "      <td>0.516775</td>\n",
       "    </tr>\n",
       "    <tr>\n",
       "      <th>std</th>\n",
       "      <td>5.217369e+06</td>\n",
       "      <td>0.274807</td>\n",
       "      <td>24.608246</td>\n",
       "      <td>0.307571</td>\n",
       "      <td>0.171259</td>\n",
       "      <td>8.312010e+04</td>\n",
       "      <td>0.232142</td>\n",
       "      <td>3.581349</td>\n",
       "      <td>0.163793</td>\n",
       "      <td>4.300239</td>\n",
       "      <td>0.477570</td>\n",
       "      <td>0.102903</td>\n",
       "      <td>29.012747</td>\n",
       "      <td>0.363697</td>\n",
       "      <td>0.255033</td>\n",
       "    </tr>\n",
       "    <tr>\n",
       "      <th>min</th>\n",
       "      <td>0.000000e+00</td>\n",
       "      <td>0.000000</td>\n",
       "      <td>1.000000</td>\n",
       "      <td>0.000000</td>\n",
       "      <td>0.000000</td>\n",
       "      <td>5.627000e+03</td>\n",
       "      <td>0.000020</td>\n",
       "      <td>0.000000</td>\n",
       "      <td>0.000000</td>\n",
       "      <td>-54.909000</td>\n",
       "      <td>0.000000</td>\n",
       "      <td>0.000000</td>\n",
       "      <td>0.000000</td>\n",
       "      <td>0.000000</td>\n",
       "      <td>0.000000</td>\n",
       "    </tr>\n",
       "    <tr>\n",
       "      <th>25%</th>\n",
       "      <td>1.646100e+04</td>\n",
       "      <td>0.000000</td>\n",
       "      <td>17.000000</td>\n",
       "      <td>0.019000</td>\n",
       "      <td>0.482000</td>\n",
       "      <td>1.870670e+05</td>\n",
       "      <td>0.475000</td>\n",
       "      <td>2.000000</td>\n",
       "      <td>0.093100</td>\n",
       "      <td>-10.197000</td>\n",
       "      <td>0.000000</td>\n",
       "      <td>0.035400</td>\n",
       "      <td>98.257000</td>\n",
       "      <td>4.000000</td>\n",
       "      <td>0.313000</td>\n",
       "    </tr>\n",
       "    <tr>\n",
       "      <th>50%</th>\n",
       "      <td>1.751950e+05</td>\n",
       "      <td>0.000060</td>\n",
       "      <td>43.000000</td>\n",
       "      <td>0.141000</td>\n",
       "      <td>0.606000</td>\n",
       "      <td>2.191200e+05</td>\n",
       "      <td>0.662000</td>\n",
       "      <td>5.000000</td>\n",
       "      <td>0.124000</td>\n",
       "      <td>-7.256000</td>\n",
       "      <td>1.000000</td>\n",
       "      <td>0.049200</td>\n",
       "      <td>120.014000</td>\n",
       "      <td>4.000000</td>\n",
       "      <td>0.515000</td>\n",
       "    </tr>\n",
       "    <tr>\n",
       "      <th>75%</th>\n",
       "      <td>1.075210e+06</td>\n",
       "      <td>0.021200</td>\n",
       "      <td>60.000000</td>\n",
       "      <td>0.490000</td>\n",
       "      <td>0.720000</td>\n",
       "      <td>2.594130e+05</td>\n",
       "      <td>0.822000</td>\n",
       "      <td>8.000000</td>\n",
       "      <td>0.240000</td>\n",
       "      <td>-5.261000</td>\n",
       "      <td>1.000000</td>\n",
       "      <td>0.093700</td>\n",
       "      <td>138.841000</td>\n",
       "      <td>4.000000</td>\n",
       "      <td>0.725000</td>\n",
       "    </tr>\n",
       "    <tr>\n",
       "      <th>max</th>\n",
       "      <td>6.237875e+07</td>\n",
       "      <td>0.999000</td>\n",
       "      <td>98.000000</td>\n",
       "      <td>0.996000</td>\n",
       "      <td>0.988000</td>\n",
       "      <td>2.752254e+06</td>\n",
       "      <td>1.000000</td>\n",
       "      <td>11.000000</td>\n",
       "      <td>0.998000</td>\n",
       "      <td>4.405000</td>\n",
       "      <td>1.000000</td>\n",
       "      <td>0.963000</td>\n",
       "      <td>245.941000</td>\n",
       "      <td>5.000000</td>\n",
       "      <td>0.998000</td>\n",
       "    </tr>\n",
       "  </tbody>\n",
       "</table>\n",
       "</div>"
      ],
      "text/plain": [
       "          followers  instrumentalness    popularity  acousticness  \\\n",
       "count  4.515700e+04      45157.000000  45157.000000  45157.000000   \n",
       "mean   1.890777e+06          0.124477     39.538610      0.278239   \n",
       "std    5.217369e+06          0.274807     24.608246      0.307571   \n",
       "min    0.000000e+00          0.000000      1.000000      0.000000   \n",
       "25%    1.646100e+04          0.000000     17.000000      0.019000   \n",
       "50%    1.751950e+05          0.000060     43.000000      0.141000   \n",
       "75%    1.075210e+06          0.021200     60.000000      0.490000   \n",
       "max    6.237875e+07          0.999000     98.000000      0.996000   \n",
       "\n",
       "       danceability   duration_ms        energy           key      liveness  \\\n",
       "count  45157.000000  4.515700e+04  45157.000000  45157.000000  45157.000000   \n",
       "mean       0.593009  2.310003e+05      0.631839      5.276015      0.190949   \n",
       "std        0.171259  8.312010e+04      0.232142      3.581349      0.163793   \n",
       "min        0.000000  5.627000e+03      0.000020      0.000000      0.000000   \n",
       "25%        0.482000  1.870670e+05      0.475000      2.000000      0.093100   \n",
       "50%        0.606000  2.191200e+05      0.662000      5.000000      0.124000   \n",
       "75%        0.720000  2.594130e+05      0.822000      8.000000      0.240000   \n",
       "max        0.988000  2.752254e+06      1.000000     11.000000      0.998000   \n",
       "\n",
       "           loudness          mode   speechiness         tempo  time_signature  \\\n",
       "count  45157.000000  45157.000000  45157.000000  45157.000000    45157.000000   \n",
       "mean      -8.223496      0.648094      0.090158    120.917113        3.930841   \n",
       "std        4.300239      0.477570      0.102903     29.012747        0.363697   \n",
       "min      -54.909000      0.000000      0.000000      0.000000        0.000000   \n",
       "25%      -10.197000      0.000000      0.035400     98.257000        4.000000   \n",
       "50%       -7.256000      1.000000      0.049200    120.014000        4.000000   \n",
       "75%       -5.261000      1.000000      0.093700    138.841000        4.000000   \n",
       "max        4.405000      1.000000      0.963000    245.941000        5.000000   \n",
       "\n",
       "            valence  \n",
       "count  45157.000000  \n",
       "mean       0.516775  \n",
       "std        0.255033  \n",
       "min        0.000000  \n",
       "25%        0.313000  \n",
       "50%        0.515000  \n",
       "75%        0.725000  \n",
       "max        0.998000  "
      ]
     },
     "execution_count": 33,
     "metadata": {},
     "output_type": "execute_result"
    }
   ],
   "source": [
    "#dataframe.loc[dataframe['popularity'] == 0]\n",
    "dataframe.describe()"
   ]
  },
  {
   "cell_type": "code",
   "execution_count": 34,
   "metadata": {},
   "outputs": [
    {
     "name": "stderr",
     "output_type": "stream",
     "text": [
      "'c' argument looks like a single numeric RGB or RGBA sequence, which should be avoided as value-mapping will have precedence in case its length matches with 'x' & 'y'.  Please use a 2-D array with a single row if you really want to specify the same RGB or RGBA value for all points.\n"
     ]
    },
    {
     "data": {
      "image/png": "[encoded data removed]",
      "text/plain": [
       "<Figure size 432x288 with 1 Axes>"
      ]
     },
     "metadata": {},
     "output_type": "display_data"
    }
   ],
   "source": [
    "\n",
    "\n",
    "sns.set(style=\"whitegrid\")\n",
    "\n",
    "tips = sns.load_dataset(\"tips\")\n",
    "\n",
    "ax = sns.boxenplot(x=dataframe['popularity'])"
   ]
  },
  {
   "cell_type": "code",
   "execution_count": 35,
   "metadata": {},
   "outputs": [],
   "source": [
    "#Convert popularity to binary varible. \n",
    "#we will define above 20 as \"popular\" since that's the border of the top 25% of songs and encode that as 1,\n",
    "#and below 75 as \"not popular\" and encode that as 0.\n",
    "\n",
    "dataframe.loc[dataframe['popularity'] < 60, 'popularity'] = 0 \n",
    "dataframe.loc[dataframe['popularity'] >= 60, 'popularity'] = 1\n",
    "#dataframe.loc[dataframe['popularity'] == 0]\n"
   ]
  },
  {
   "cell_type": "code",
   "execution_count": 36,
   "metadata": {},
   "outputs": [
    {
     "data": {
      "text/plain": [
       "0    33443\n",
       "1    11714\n",
       "Name: popularity, dtype: int64"
      ]
     },
     "execution_count": 36,
     "metadata": {},
     "output_type": "execute_result"
    }
   ],
   "source": [
    "dataframe['popularity'].value_counts()"
   ]
  },
  {
   "cell_type": "code",
   "execution_count": 37,
   "metadata": {},
   "outputs": [],
   "source": [
    "features = [\"danceability\", \"energy\", \"followers\", \"key\", \"liveness\" ,'instrumentalness', \n",
    "            \"mode\", \"speechiness\", \"tempo\", \"time_signature\", \"valence\"]"
   ]
  },
  {
   "cell_type": "code",
   "execution_count": 38,
   "metadata": {},
   "outputs": [],
   "source": [
    "#Next we define 80% of the dataframe for training and 20% of the dataframe for testing.\n",
    "training = dataframe.sample(frac = 0.8,random_state = 420)\n",
    "X_train = training[features]\n",
    "y_train = training['popularity']\n",
    "X_test = dataframe.drop(training.index)[features]"
   ]
  },
  {
   "cell_type": "code",
   "execution_count": 39,
   "metadata": {},
   "outputs": [],
   "source": [
    "#We add a validation dataset using train_test_split.\n",
    "X_train, X_valid, y_train, y_valid = train_test_split(X_train, y_train, test_size = 0.2, random_state = 420)"
   ]
  },
  {
   "cell_type": "markdown",
   "metadata": {},
   "source": [
    "## Logistic Regresssion "
   ]
  },
  {
   "cell_type": "code",
   "execution_count": 40,
   "metadata": {},
   "outputs": [
    {
     "name": "stderr",
     "output_type": "stream",
     "text": [
      "C:\\ProgramData\\Anaconda3\\lib\\site-packages\\sklearn\\linear_model\\logistic.py:432: FutureWarning: Default solver will be changed to 'lbfgs' in 0.22. Specify a solver to silence this warning.\n",
      "  FutureWarning)\n"
     ]
    },
    {
     "name": "stdout",
     "output_type": "stream",
     "text": [
      "Accuracy: 0.7890949349570994\n",
      "AUC: 0.6235751545208452\n"
     ]
    }
   ],
   "source": [
    "#Logistic Regression\n",
    "LR_Model = LogisticRegression()\n",
    "LR_Model.fit(X_train, y_train)\n",
    "LR_Predict = LR_Model.predict(X_valid)\n",
    "LR_Accuracy = accuracy_score(y_valid, LR_Predict)\n",
    "print(\"Accuracy: \" + str(LR_Accuracy))\n",
    "\n",
    "LR_AUC = roc_auc_score(y_valid, LR_Predict) \n",
    "print(\"AUC: \" + str(LR_AUC))"
   ]
  },
  {
   "cell_type": "markdown",
   "metadata": {},
   "source": [
    "## RandomForestClassifier"
   ]
  },
  {
   "cell_type": "code",
   "execution_count": 41,
   "metadata": {},
   "outputs": [
    {
     "name": "stderr",
     "output_type": "stream",
     "text": [
      "C:\\ProgramData\\Anaconda3\\lib\\site-packages\\sklearn\\ensemble\\forest.py:245: FutureWarning: The default value of n_estimators will change from 10 in version 0.20 to 100 in 0.22.\n",
      "  \"10 in version 0.20 to 100 in 0.22.\", FutureWarning)\n"
     ]
    },
    {
     "name": "stdout",
     "output_type": "stream",
     "text": [
      "Accuracy: 0.9112925546637144\n",
      "AUC: 0.8728557781431244\n"
     ]
    }
   ],
   "source": [
    "RFC_Model = RandomForestClassifier()\n",
    "RFC_Model.fit(X_train, y_train)\n",
    "RFC_Predict = RFC_Model.predict(X_valid)\n",
    "RFC_Accuracy = accuracy_score(y_valid, RFC_Predict)\n",
    "print(\"Accuracy: \" + str(RFC_Accuracy))\n",
    "\n",
    "RFC_AUC = roc_auc_score(y_valid, RFC_Predict) \n",
    "print(\"AUC: \" + str(RFC_AUC))"
   ]
  },
  {
   "cell_type": "markdown",
   "metadata": {},
   "source": [
    "## K-Nearest Neighbors Classifier"
   ]
  },
  {
   "cell_type": "code",
   "execution_count": 42,
   "metadata": {},
   "outputs": [
    {
     "name": "stdout",
     "output_type": "stream",
     "text": [
      "Accuracy: 0.8295045668419596\n",
      "AUC: 0.771022999233199\n"
     ]
    }
   ],
   "source": [
    "KNN_Model = KNeighborsClassifier()\n",
    "KNN_Model.fit(X_train, y_train)\n",
    "KNN_Predict = KNN_Model.predict(X_valid)\n",
    "KNN_Accuracy = accuracy_score(y_valid, KNN_Predict)\n",
    "print(\"Accuracy: \" + str(KNN_Accuracy))\n",
    "\n",
    "KNN_AUC = roc_auc_score(y_valid, KNN_Predict) \n",
    "print(\"AUC: \" + str(KNN_AUC))"
   ]
  },
  {
   "cell_type": "markdown",
   "metadata": {},
   "source": [
    "## Decision Tree Classifier"
   ]
  },
  {
   "cell_type": "code",
   "execution_count": 43,
   "metadata": {},
   "outputs": [
    {
     "name": "stdout",
     "output_type": "stream",
     "text": [
      "Accuracy: 0.8838915029061721\n",
      "AUC: 0.8671669017229814\n"
     ]
    }
   ],
   "source": [
    "DT_Model = DecisionTreeClassifier()\n",
    "DT_Model.fit(X_train, y_train)\n",
    "DT_Predict = DT_Model.predict(X_valid)\n",
    "DT_Accuracy = accuracy_score(y_valid, DT_Predict)\n",
    "print(\"Accuracy: \" + str(DT_Accuracy))\n",
    "\n",
    "DT_AUC = roc_auc_score(y_valid, DT_Predict) \n",
    "print(\"AUC: \" + str(DT_AUC))"
   ]
  },
  {
   "cell_type": "markdown",
   "metadata": {},
   "source": [
    "## Model Performance Summary"
   ]
  },
  {
   "cell_type": "code",
   "execution_count": 44,
   "metadata": {},
   "outputs": [],
   "source": [
    "model_performance_accuracy = pd.DataFrame({'Model': ['LogisticRegression', \n",
    "                                                      'RandomForestClassifier', \n",
    "                                                      'KNeighborsClassifier',\n",
    "                                                      'DecisionTreeClassifier',\n",
    "                                                      ],\n",
    "                                            'Accuracy': [LR_Accuracy,\n",
    "                                                         RFC_Accuracy,\n",
    "                                                         KNN_Accuracy,\n",
    "                                                         DT_Accuracy]})\n",
    "\n",
    "model_performance_AUC = pd.DataFrame({'Model': ['LogisticRegression', \n",
    "                                                      'RandomForestClassifier', \n",
    "                                                      'KNeighborsClassifier',\n",
    "                                                      'DecisionTreeClassifier'],\n",
    "                                            'AUC': [LR_AUC,\n",
    "                                                         RFC_AUC,\n",
    "                                                         KNN_AUC,\n",
    "                                                         DT_AUC]})"
   ]
  },
  {
   "cell_type": "code",
   "execution_count": 45,
   "metadata": {},
   "outputs": [
    {
     "data": {
      "text/html": [
       "<div>\n",
       "<style scoped>\n",
       "    .dataframe tbody tr th:only-of-type {\n",
       "        vertical-align: middle;\n",
       "    }\n",
       "\n",
       "    .dataframe tbody tr th {\n",
       "        vertical-align: top;\n",
       "    }\n",
       "\n",
       "    .dataframe thead th {\n",
       "        text-align: right;\n",
       "    }\n",
       "</style>\n",
       "<table border=\"1\" class=\"dataframe\">\n",
       "  <thead>\n",
       "    <tr style=\"text-align: right;\">\n",
       "      <th></th>\n",
       "      <th>Model</th>\n",
       "      <th>Accuracy</th>\n",
       "    </tr>\n",
       "  </thead>\n",
       "  <tbody>\n",
       "    <tr>\n",
       "      <th>0</th>\n",
       "      <td>LogisticRegression</td>\n",
       "      <td>0.789095</td>\n",
       "    </tr>\n",
       "    <tr>\n",
       "      <th>1</th>\n",
       "      <td>RandomForestClassifier</td>\n",
       "      <td>0.911293</td>\n",
       "    </tr>\n",
       "    <tr>\n",
       "      <th>2</th>\n",
       "      <td>KNeighborsClassifier</td>\n",
       "      <td>0.829505</td>\n",
       "    </tr>\n",
       "    <tr>\n",
       "      <th>3</th>\n",
       "      <td>DecisionTreeClassifier</td>\n",
       "      <td>0.883892</td>\n",
       "    </tr>\n",
       "  </tbody>\n",
       "</table>\n",
       "</div>"
      ],
      "text/plain": [
       "                    Model  Accuracy\n",
       "0      LogisticRegression  0.789095\n",
       "1  RandomForestClassifier  0.911293\n",
       "2    KNeighborsClassifier  0.829505\n",
       "3  DecisionTreeClassifier  0.883892"
      ]
     },
     "execution_count": 45,
     "metadata": {},
     "output_type": "execute_result"
    }
   ],
   "source": [
    "model_performance_accuracy\n"
   ]
  },
  {
   "cell_type": "code",
   "execution_count": 46,
   "metadata": {},
   "outputs": [
    {
     "data": {
      "text/html": [
       "<div>\n",
       "<style scoped>\n",
       "    .dataframe tbody tr th:only-of-type {\n",
       "        vertical-align: middle;\n",
       "    }\n",
       "\n",
       "    .dataframe tbody tr th {\n",
       "        vertical-align: top;\n",
       "    }\n",
       "\n",
       "    .dataframe thead th {\n",
       "        text-align: right;\n",
       "    }\n",
       "</style>\n",
       "<table border=\"1\" class=\"dataframe\">\n",
       "  <thead>\n",
       "    <tr style=\"text-align: right;\">\n",
       "      <th></th>\n",
       "      <th>Model</th>\n",
       "      <th>AUC</th>\n",
       "    </tr>\n",
       "  </thead>\n",
       "  <tbody>\n",
       "    <tr>\n",
       "      <th>0</th>\n",
       "      <td>LogisticRegression</td>\n",
       "      <td>0.623575</td>\n",
       "    </tr>\n",
       "    <tr>\n",
       "      <th>1</th>\n",
       "      <td>RandomForestClassifier</td>\n",
       "      <td>0.872856</td>\n",
       "    </tr>\n",
       "    <tr>\n",
       "      <th>2</th>\n",
       "      <td>KNeighborsClassifier</td>\n",
       "      <td>0.771023</td>\n",
       "    </tr>\n",
       "    <tr>\n",
       "      <th>3</th>\n",
       "      <td>DecisionTreeClassifier</td>\n",
       "      <td>0.867167</td>\n",
       "    </tr>\n",
       "  </tbody>\n",
       "</table>\n",
       "</div>"
      ],
      "text/plain": [
       "                    Model       AUC\n",
       "0      LogisticRegression  0.623575\n",
       "1  RandomForestClassifier  0.872856\n",
       "2    KNeighborsClassifier  0.771023\n",
       "3  DecisionTreeClassifier  0.867167"
      ]
     },
     "execution_count": 46,
     "metadata": {},
     "output_type": "execute_result"
    }
   ],
   "source": [
    "model_performance_AUC"
   ]
  },
  {
   "cell_type": "markdown",
   "metadata": {},
   "source": [
    "# Revisiting Linear Regression Assumptions"
   ]
  },
  {
   "cell_type": "markdown",
   "metadata": {},
   "source": [
    "## LR model dropping 0 & 1 Popularity "
   ]
  },
  {
   "cell_type": "code",
   "execution_count": 47,
   "metadata": {},
   "outputs": [
    {
     "data": {
      "text/html": [
       "<div>\n",
       "<style scoped>\n",
       "    .dataframe tbody tr th:only-of-type {\n",
       "        vertical-align: middle;\n",
       "    }\n",
       "\n",
       "    .dataframe tbody tr th {\n",
       "        vertical-align: top;\n",
       "    }\n",
       "\n",
       "    .dataframe thead th {\n",
       "        text-align: right;\n",
       "    }\n",
       "</style>\n",
       "<table border=\"1\" class=\"dataframe\">\n",
       "  <thead>\n",
       "    <tr style=\"text-align: right;\">\n",
       "      <th></th>\n",
       "      <th>Artist</th>\n",
       "      <th>Track</th>\n",
       "      <th>followers</th>\n",
       "      <th>popularity</th>\n",
       "      <th>acousticness</th>\n",
       "      <th>danceability</th>\n",
       "      <th>duration_ms</th>\n",
       "      <th>energy</th>\n",
       "      <th>instrumentalness</th>\n",
       "      <th>key</th>\n",
       "      <th>liveness</th>\n",
       "      <th>loudness</th>\n",
       "      <th>mode</th>\n",
       "      <th>speechiness</th>\n",
       "      <th>tempo</th>\n",
       "      <th>time_signature</th>\n",
       "      <th>valence</th>\n",
       "    </tr>\n",
       "  </thead>\n",
       "  <tbody>\n",
       "    <tr>\n",
       "      <th>0</th>\n",
       "      <td>Lionel Richie</td>\n",
       "      <td>Tonight Will Be Alright</td>\n",
       "      <td>1627956</td>\n",
       "      <td>38</td>\n",
       "      <td>0.05910</td>\n",
       "      <td>0.646</td>\n",
       "      <td>307413</td>\n",
       "      <td>0.840</td>\n",
       "      <td>0.014100</td>\n",
       "      <td>8</td>\n",
       "      <td>0.0516</td>\n",
       "      <td>-8.213</td>\n",
       "      <td>1</td>\n",
       "      <td>0.0283</td>\n",
       "      <td>125.187</td>\n",
       "      <td>4</td>\n",
       "      <td>0.716</td>\n",
       "    </tr>\n",
       "    <tr>\n",
       "      <th>1</th>\n",
       "      <td>Course Of Nature</td>\n",
       "      <td>The Window</td>\n",
       "      <td>10469</td>\n",
       "      <td>11</td>\n",
       "      <td>0.00119</td>\n",
       "      <td>0.496</td>\n",
       "      <td>191160</td>\n",
       "      <td>0.928</td>\n",
       "      <td>0.000035</td>\n",
       "      <td>1</td>\n",
       "      <td>0.0988</td>\n",
       "      <td>-2.367</td>\n",
       "      <td>0</td>\n",
       "      <td>0.0469</td>\n",
       "      <td>144.932</td>\n",
       "      <td>4</td>\n",
       "      <td>0.561</td>\n",
       "    </tr>\n",
       "    <tr>\n",
       "      <th>2</th>\n",
       "      <td>Mariah Carey</td>\n",
       "      <td>Inseparable</td>\n",
       "      <td>5505368</td>\n",
       "      <td>31</td>\n",
       "      <td>0.09090</td>\n",
       "      <td>0.586</td>\n",
       "      <td>213720</td>\n",
       "      <td>0.692</td>\n",
       "      <td>0.000000</td>\n",
       "      <td>8</td>\n",
       "      <td>0.0567</td>\n",
       "      <td>-5.143</td>\n",
       "      <td>1</td>\n",
       "      <td>0.1770</td>\n",
       "      <td>158.041</td>\n",
       "      <td>4</td>\n",
       "      <td>0.457</td>\n",
       "    </tr>\n",
       "    <tr>\n",
       "      <th>3</th>\n",
       "      <td>Extra Virgin</td>\n",
       "      <td>One Night</td>\n",
       "      <td>880039</td>\n",
       "      <td>0</td>\n",
       "      <td>0.00361</td>\n",
       "      <td>0.643</td>\n",
       "      <td>210667</td>\n",
       "      <td>0.896</td>\n",
       "      <td>0.002050</td>\n",
       "      <td>0</td>\n",
       "      <td>0.9010</td>\n",
       "      <td>-6.662</td>\n",
       "      <td>1</td>\n",
       "      <td>0.0359</td>\n",
       "      <td>130.011</td>\n",
       "      <td>4</td>\n",
       "      <td>0.338</td>\n",
       "    </tr>\n",
       "    <tr>\n",
       "      <th>4</th>\n",
       "      <td>Joe and Will Ask?</td>\n",
       "      <td>Claymore</td>\n",
       "      <td>13</td>\n",
       "      <td>2</td>\n",
       "      <td>0.00328</td>\n",
       "      <td>0.699</td>\n",
       "      <td>119053</td>\n",
       "      <td>0.974</td>\n",
       "      <td>0.776000</td>\n",
       "      <td>9</td>\n",
       "      <td>0.2900</td>\n",
       "      <td>-5.576</td>\n",
       "      <td>0</td>\n",
       "      <td>0.1500</td>\n",
       "      <td>125.934</td>\n",
       "      <td>4</td>\n",
       "      <td>0.443</td>\n",
       "    </tr>\n",
       "  </tbody>\n",
       "</table>\n",
       "</div>"
      ],
      "text/plain": [
       "              Artist                    Track  followers  popularity  \\\n",
       "0      Lionel Richie  Tonight Will Be Alright    1627956          38   \n",
       "1   Course Of Nature               The Window      10469          11   \n",
       "2       Mariah Carey              Inseparable    5505368          31   \n",
       "3       Extra Virgin                One Night     880039           0   \n",
       "4  Joe and Will Ask?                 Claymore         13           2   \n",
       "\n",
       "   acousticness  danceability  duration_ms  energy  instrumentalness  key  \\\n",
       "0       0.05910         0.646       307413   0.840          0.014100    8   \n",
       "1       0.00119         0.496       191160   0.928          0.000035    1   \n",
       "2       0.09090         0.586       213720   0.692          0.000000    8   \n",
       "3       0.00361         0.643       210667   0.896          0.002050    0   \n",
       "4       0.00328         0.699       119053   0.974          0.776000    9   \n",
       "\n",
       "   liveness  loudness  mode  speechiness    tempo  time_signature  valence  \n",
       "0    0.0516    -8.213     1       0.0283  125.187               4    0.716  \n",
       "1    0.0988    -2.367     0       0.0469  144.932               4    0.561  \n",
       "2    0.0567    -5.143     1       0.1770  158.041               4    0.457  \n",
       "3    0.9010    -6.662     1       0.0359  130.011               4    0.338  \n",
       "4    0.2900    -5.576     0       0.1500  125.934               4    0.443  "
      ]
     },
     "execution_count": 47,
     "metadata": {},
     "output_type": "execute_result"
    }
   ],
   "source": [
    "file = \"features_45k.csv\"\n",
    "tds = pd.read_csv(file)\n",
    "tds = tds[['Artist', 'Track', 'followers','popularity','acousticness', 'danceability', 'duration_ms', 'energy',\n",
    "       'instrumentalness', 'key', 'liveness', 'loudness', 'mode',\n",
    "       'speechiness', 'tempo', 'time_signature', 'valence']]\n",
    "tds.head()"
   ]
  },
  {
   "cell_type": "code",
   "execution_count": 48,
   "metadata": {},
   "outputs": [],
   "source": [
    "#dataframe2 = tds\n",
    "#dataframe.loc[dataframe['popularity'] < 53, 'popularity'] = 0 \n",
    "#dataframe.loc[dataframe['popularity'] >= 53, 'popularity'] = 1\n",
    "#dataframe2.loc[dataframe2['popularity'] == 5]"
   ]
  },
  {
   "cell_type": "code",
   "execution_count": 49,
   "metadata": {},
   "outputs": [],
   "source": [
    "#print(dataframe2.shape)\n",
    "#dataframe2.head()"
   ]
  },
  {
   "cell_type": "code",
   "execution_count": 50,
   "metadata": {},
   "outputs": [
    {
     "name": "stdout",
     "output_type": "stream",
     "text": [
      "(45157, 17)\n"
     ]
    }
   ],
   "source": [
    "dataframe3= tds\n",
    "print(dataframe3.shape)\n"
   ]
  },
  {
   "cell_type": "code",
   "execution_count": 51,
   "metadata": {},
   "outputs": [],
   "source": [
    "#remove popularity values 0 to (15) to improve distribution shape\n",
    "dataframe3 = dataframe3.loc[dataframe3['popularity'] != 0]\n",
    "dataframe3 = dataframe3.loc[dataframe3['popularity'] != 1]\n",
    "#dataframe3 = dataframe3.loc[dataframe3['popularity'] != 2]\n",
    "#dataframe3 = dataframe3.loc[dataframe3['popularity'] != 3]\n",
    "#dataframe3 = dataframe3.loc[dataframe3['popularity'] != 4]\n",
    "#dataframe3 = dataframe3.loc[dataframe3['popularity'] != 5]\n",
    "#dataframe3 = dataframe3.loc[dataframe3['popularity'] != 6]\n",
    "#dataframe3 = dataframe3.loc[dataframe3['popularity'] != 7]\n",
    "#dataframe3 = dataframe3.loc[dataframe3['popularity'] != 8]\n",
    "#dataframe3 = dataframe3.loc[dataframe3['popularity'] != 9]\n",
    "#dataframe3 = dataframe3.loc[dataframe3['popularity'] != 10]\n",
    "#dataframe3 = dataframe3.loc[dataframe3['popularity'] != 11]\n",
    "#dataframe3 = dataframe3.loc[dataframe3['popularity'] != 12]\n",
    "#dataframe3 = dataframe3.loc[dataframe3['popularity'] != 13]\n",
    "#dataframe3 = dataframe3.loc[dataframe3['popularity'] != 14]\n",
    "#dataframe3 = dataframe3.loc[dataframe3['popularity'] != 15]"
   ]
  },
  {
   "cell_type": "code",
   "execution_count": 52,
   "metadata": {},
   "outputs": [
    {
     "data": {
      "text/plain": [
       "(41043, 17)"
      ]
     },
     "execution_count": 52,
     "metadata": {},
     "output_type": "execute_result"
    }
   ],
   "source": [
    "dataframe3.shape"
   ]
  },
  {
   "cell_type": "code",
   "execution_count": 53,
   "metadata": {},
   "outputs": [
    {
     "data": {
      "text/plain": [
       "Text(0.5, 1.0, 'Popularity Distribution')"
      ]
     },
     "execution_count": 53,
     "metadata": {},
     "output_type": "execute_result"
    },
    {
     "data": {
      "image/png": "[encoded data removed]",
      "text/plain": [
       "<Figure size 432x288 with 1 Axes>"
      ]
     },
     "metadata": {},
     "output_type": "display_data"
    }
   ],
   "source": [
    "sns.distplot(dataframe3['popularity']).set_title('Popularity Distribution')"
   ]
  },
  {
   "cell_type": "code",
   "execution_count": 54,
   "metadata": {},
   "outputs": [
    {
     "data": {
      "text/html": [
       "<div>\n",
       "<style scoped>\n",
       "    .dataframe tbody tr th:only-of-type {\n",
       "        vertical-align: middle;\n",
       "    }\n",
       "\n",
       "    .dataframe tbody tr th {\n",
       "        vertical-align: top;\n",
       "    }\n",
       "\n",
       "    .dataframe thead th {\n",
       "        text-align: right;\n",
       "    }\n",
       "</style>\n",
       "<table border=\"1\" class=\"dataframe\">\n",
       "  <thead>\n",
       "    <tr style=\"text-align: right;\">\n",
       "      <th></th>\n",
       "      <th>followers</th>\n",
       "      <th>popularity</th>\n",
       "      <th>acousticness</th>\n",
       "      <th>danceability</th>\n",
       "      <th>duration_ms</th>\n",
       "      <th>energy</th>\n",
       "      <th>instrumentalness</th>\n",
       "      <th>key</th>\n",
       "      <th>liveness</th>\n",
       "      <th>loudness</th>\n",
       "      <th>mode</th>\n",
       "      <th>speechiness</th>\n",
       "      <th>tempo</th>\n",
       "      <th>time_signature</th>\n",
       "      <th>valence</th>\n",
       "    </tr>\n",
       "  </thead>\n",
       "  <tbody>\n",
       "    <tr>\n",
       "      <th>count</th>\n",
       "      <td>4.104300e+04</td>\n",
       "      <td>41043.000000</td>\n",
       "      <td>41043.000000</td>\n",
       "      <td>41043.000000</td>\n",
       "      <td>4.104300e+04</td>\n",
       "      <td>41043.000000</td>\n",
       "      <td>41043.000000</td>\n",
       "      <td>41043.000000</td>\n",
       "      <td>41043.000000</td>\n",
       "      <td>41043.000000</td>\n",
       "      <td>41043.000000</td>\n",
       "      <td>41043.000000</td>\n",
       "      <td>41043.000000</td>\n",
       "      <td>41043.000000</td>\n",
       "      <td>41043.000000</td>\n",
       "    </tr>\n",
       "    <tr>\n",
       "      <th>mean</th>\n",
       "      <td>2.069510e+06</td>\n",
       "      <td>43.401579</td>\n",
       "      <td>0.273918</td>\n",
       "      <td>0.598384</td>\n",
       "      <td>2.297365e+05</td>\n",
       "      <td>0.635192</td>\n",
       "      <td>0.107461</td>\n",
       "      <td>5.275808</td>\n",
       "      <td>0.189601</td>\n",
       "      <td>-8.059675</td>\n",
       "      <td>0.645689</td>\n",
       "      <td>0.090129</td>\n",
       "      <td>120.979321</td>\n",
       "      <td>3.938041</td>\n",
       "      <td>0.520558</td>\n",
       "    </tr>\n",
       "    <tr>\n",
       "      <th>std</th>\n",
       "      <td>5.439702e+06</td>\n",
       "      <td>22.415775</td>\n",
       "      <td>0.302257</td>\n",
       "      <td>0.168169</td>\n",
       "      <td>7.748861e+04</td>\n",
       "      <td>0.228514</td>\n",
       "      <td>0.256923</td>\n",
       "      <td>3.580630</td>\n",
       "      <td>0.161731</td>\n",
       "      <td>4.164529</td>\n",
       "      <td>0.478310</td>\n",
       "      <td>0.100800</td>\n",
       "      <td>28.865599</td>\n",
       "      <td>0.342392</td>\n",
       "      <td>0.252682</td>\n",
       "    </tr>\n",
       "    <tr>\n",
       "      <th>min</th>\n",
       "      <td>0.000000e+00</td>\n",
       "      <td>2.000000</td>\n",
       "      <td>0.000000</td>\n",
       "      <td>0.000000</td>\n",
       "      <td>3.034700e+04</td>\n",
       "      <td>0.000020</td>\n",
       "      <td>0.000000</td>\n",
       "      <td>0.000000</td>\n",
       "      <td>0.009990</td>\n",
       "      <td>-40.040000</td>\n",
       "      <td>0.000000</td>\n",
       "      <td>0.000000</td>\n",
       "      <td>0.000000</td>\n",
       "      <td>0.000000</td>\n",
       "      <td>0.000000</td>\n",
       "    </tr>\n",
       "    <tr>\n",
       "      <th>25%</th>\n",
       "      <td>2.821400e+04</td>\n",
       "      <td>25.000000</td>\n",
       "      <td>0.020600</td>\n",
       "      <td>0.489000</td>\n",
       "      <td>1.880485e+05</td>\n",
       "      <td>0.481000</td>\n",
       "      <td>0.000000</td>\n",
       "      <td>2.000000</td>\n",
       "      <td>0.093200</td>\n",
       "      <td>-9.977000</td>\n",
       "      <td>0.000000</td>\n",
       "      <td>0.035400</td>\n",
       "      <td>98.340000</td>\n",
       "      <td>4.000000</td>\n",
       "      <td>0.319000</td>\n",
       "    </tr>\n",
       "    <tr>\n",
       "      <th>50%</th>\n",
       "      <td>2.374410e+05</td>\n",
       "      <td>47.000000</td>\n",
       "      <td>0.140000</td>\n",
       "      <td>0.611000</td>\n",
       "      <td>2.188400e+05</td>\n",
       "      <td>0.664000</td>\n",
       "      <td>0.000040</td>\n",
       "      <td>5.000000</td>\n",
       "      <td>0.124000</td>\n",
       "      <td>-7.118000</td>\n",
       "      <td>1.000000</td>\n",
       "      <td>0.049300</td>\n",
       "      <td>120.003000</td>\n",
       "      <td>4.000000</td>\n",
       "      <td>0.519000</td>\n",
       "    </tr>\n",
       "    <tr>\n",
       "      <th>75%</th>\n",
       "      <td>1.345191e+06</td>\n",
       "      <td>62.000000</td>\n",
       "      <td>0.477000</td>\n",
       "      <td>0.723000</td>\n",
       "      <td>2.577600e+05</td>\n",
       "      <td>0.822000</td>\n",
       "      <td>0.011000</td>\n",
       "      <td>8.000000</td>\n",
       "      <td>0.238000</td>\n",
       "      <td>-5.186000</td>\n",
       "      <td>1.000000</td>\n",
       "      <td>0.095000</td>\n",
       "      <td>139.000000</td>\n",
       "      <td>4.000000</td>\n",
       "      <td>0.727000</td>\n",
       "    </tr>\n",
       "    <tr>\n",
       "      <th>max</th>\n",
       "      <td>6.237875e+07</td>\n",
       "      <td>98.000000</td>\n",
       "      <td>0.996000</td>\n",
       "      <td>0.988000</td>\n",
       "      <td>2.752254e+06</td>\n",
       "      <td>1.000000</td>\n",
       "      <td>0.999000</td>\n",
       "      <td>11.000000</td>\n",
       "      <td>0.998000</td>\n",
       "      <td>4.405000</td>\n",
       "      <td>1.000000</td>\n",
       "      <td>0.961000</td>\n",
       "      <td>242.318000</td>\n",
       "      <td>5.000000</td>\n",
       "      <td>0.998000</td>\n",
       "    </tr>\n",
       "  </tbody>\n",
       "</table>\n",
       "</div>"
      ],
      "text/plain": [
       "          followers    popularity  acousticness  danceability   duration_ms  \\\n",
       "count  4.104300e+04  41043.000000  41043.000000  41043.000000  4.104300e+04   \n",
       "mean   2.069510e+06     43.401579      0.273918      0.598384  2.297365e+05   \n",
       "std    5.439702e+06     22.415775      0.302257      0.168169  7.748861e+04   \n",
       "min    0.000000e+00      2.000000      0.000000      0.000000  3.034700e+04   \n",
       "25%    2.821400e+04     25.000000      0.020600      0.489000  1.880485e+05   \n",
       "50%    2.374410e+05     47.000000      0.140000      0.611000  2.188400e+05   \n",
       "75%    1.345191e+06     62.000000      0.477000      0.723000  2.577600e+05   \n",
       "max    6.237875e+07     98.000000      0.996000      0.988000  2.752254e+06   \n",
       "\n",
       "             energy  instrumentalness           key      liveness  \\\n",
       "count  41043.000000      41043.000000  41043.000000  41043.000000   \n",
       "mean       0.635192          0.107461      5.275808      0.189601   \n",
       "std        0.228514          0.256923      3.580630      0.161731   \n",
       "min        0.000020          0.000000      0.000000      0.009990   \n",
       "25%        0.481000          0.000000      2.000000      0.093200   \n",
       "50%        0.664000          0.000040      5.000000      0.124000   \n",
       "75%        0.822000          0.011000      8.000000      0.238000   \n",
       "max        1.000000          0.999000     11.000000      0.998000   \n",
       "\n",
       "           loudness          mode   speechiness         tempo  time_signature  \\\n",
       "count  41043.000000  41043.000000  41043.000000  41043.000000    41043.000000   \n",
       "mean      -8.059675      0.645689      0.090129    120.979321        3.938041   \n",
       "std        4.164529      0.478310      0.100800     28.865599        0.342392   \n",
       "min      -40.040000      0.000000      0.000000      0.000000        0.000000   \n",
       "25%       -9.977000      0.000000      0.035400     98.340000        4.000000   \n",
       "50%       -7.118000      1.000000      0.049300    120.003000        4.000000   \n",
       "75%       -5.186000      1.000000      0.095000    139.000000        4.000000   \n",
       "max        4.405000      1.000000      0.961000    242.318000        5.000000   \n",
       "\n",
       "            valence  \n",
       "count  41043.000000  \n",
       "mean       0.520558  \n",
       "std        0.252682  \n",
       "min        0.000000  \n",
       "25%        0.319000  \n",
       "50%        0.519000  \n",
       "75%        0.727000  \n",
       "max        0.998000  "
      ]
     },
     "execution_count": 54,
     "metadata": {},
     "output_type": "execute_result"
    }
   ],
   "source": [
    "dataframe3.describe()"
   ]
  },
  {
   "cell_type": "code",
   "execution_count": 55,
   "metadata": {},
   "outputs": [
    {
     "data": {
      "text/plain": [
       "(41043, 14)"
      ]
     },
     "execution_count": 55,
     "metadata": {},
     "output_type": "execute_result"
    }
   ],
   "source": [
    "#Combined Dataset\n",
    "dfcombine = dataframe3\n",
    "#dfcombine = dfcombine.reset_index(inplace=True, drop=True)\n",
    "#Target Dataset\n",
    "dfy = pd.DataFrame(dataframe3[\"popularity\"])\n",
    "#all the independant variables/predictors are named as dfx\n",
    "dfx = dfcombine.drop(columns=['Artist', 'Track','popularity'])\n",
    "dfx.shape"
   ]
  },
  {
   "cell_type": "code",
   "execution_count": 56,
   "metadata": {},
   "outputs": [
    {
     "data": {
      "text/html": [
       "<div>\n",
       "<style scoped>\n",
       "    .dataframe tbody tr th:only-of-type {\n",
       "        vertical-align: middle;\n",
       "    }\n",
       "\n",
       "    .dataframe tbody tr th {\n",
       "        vertical-align: top;\n",
       "    }\n",
       "\n",
       "    .dataframe thead th {\n",
       "        text-align: right;\n",
       "    }\n",
       "</style>\n",
       "<table border=\"1\" class=\"dataframe\">\n",
       "  <thead>\n",
       "    <tr style=\"text-align: right;\">\n",
       "      <th></th>\n",
       "      <th>popularity</th>\n",
       "    </tr>\n",
       "  </thead>\n",
       "  <tbody>\n",
       "    <tr>\n",
       "      <th>0</th>\n",
       "      <td>38</td>\n",
       "    </tr>\n",
       "    <tr>\n",
       "      <th>1</th>\n",
       "      <td>11</td>\n",
       "    </tr>\n",
       "    <tr>\n",
       "      <th>2</th>\n",
       "      <td>31</td>\n",
       "    </tr>\n",
       "    <tr>\n",
       "      <th>4</th>\n",
       "      <td>2</td>\n",
       "    </tr>\n",
       "    <tr>\n",
       "      <th>5</th>\n",
       "      <td>6</td>\n",
       "    </tr>\n",
       "  </tbody>\n",
       "</table>\n",
       "</div>"
      ],
      "text/plain": [
       "   popularity\n",
       "0          38\n",
       "1          11\n",
       "2          31\n",
       "4           2\n",
       "5           6"
      ]
     },
     "execution_count": 56,
     "metadata": {},
     "output_type": "execute_result"
    }
   ],
   "source": [
    "dfy.head()"
   ]
  },
  {
   "cell_type": "code",
   "execution_count": 57,
   "metadata": {},
   "outputs": [],
   "source": [
    "dfx.reset_index(inplace=True, drop=True)\n",
    "dfy.reset_index(inplace=True, drop=True)\n"
   ]
  },
  {
   "cell_type": "code",
   "execution_count": 58,
   "metadata": {},
   "outputs": [],
   "source": [
    "#to perform the train test split of the data, the train test split function is imported from sklearn\n",
    "from sklearn.model_selection import train_test_split\n",
    "#the percentage of the split is taken as 30%. SO the percentage of training is 70%\n",
    "X_train, X_test, y_train, y_test = train_test_split(dfx, dfy, test_size=0.3, random_state=42)"
   ]
  },
  {
   "cell_type": "code",
   "execution_count": 59,
   "metadata": {},
   "outputs": [
    {
     "data": {
      "text/plain": [
       "LinearRegression(copy_X=True, fit_intercept=True, n_jobs=None, normalize=False)"
      ]
     },
     "execution_count": 59,
     "metadata": {},
     "output_type": "execute_result"
    }
   ],
   "source": [
    "# linear regression \n",
    "from sklearn.linear_model import LinearRegression\n",
    "linR = LinearRegression()\n",
    "linR.fit(X_train, y_train)"
   ]
  },
  {
   "cell_type": "code",
   "execution_count": 60,
   "metadata": {},
   "outputs": [
    {
     "data": {
      "text/plain": [
       "0.20701449238740566"
      ]
     },
     "execution_count": 60,
     "metadata": {},
     "output_type": "execute_result"
    }
   ],
   "source": [
    "#the target is predicted for the test dataset\n",
    "predictions = linR.predict(X_test)\n",
    "#the accuracy of the prediction is found to be.... \n",
    "linR.score(X_test,y_test)"
   ]
  },
  {
   "cell_type": "markdown",
   "metadata": {},
   "source": [
    "## Applying Log Transformation  "
   ]
  },
  {
   "cell_type": "code",
   "execution_count": 61,
   "metadata": {},
   "outputs": [
    {
     "data": {
      "text/plain": [
       "<matplotlib.axes._subplots.AxesSubplot at 0x4224abc630>"
      ]
     },
     "execution_count": 61,
     "metadata": {},
     "output_type": "execute_result"
    },
    {
     "data": {
      "image/png": "[encoded data removed]",
      "text/plain": [
       "<Figure size 432x288 with 1 Axes>"
      ]
     },
     "metadata": {},
     "output_type": "display_data"
    }
   ],
   "source": [
    "error = y_test - predictions\n",
    "#the error is calculated for the above test predictions and a distribution plot is plotted.\n",
    "sns.distplot(error)"
   ]
  },
  {
   "cell_type": "code",
   "execution_count": 62,
   "metadata": {},
   "outputs": [
    {
     "data": {
      "text/plain": [
       "<matplotlib.axes._subplots.AxesSubplot at 0x421d913550>"
      ]
     },
     "execution_count": 62,
     "metadata": {},
     "output_type": "execute_result"
    },
    {
     "data": {
      "image/png": "[encoded data removed]",
      "text/plain": [
       "<Figure size 432x288 with 2 Axes>"
      ]
     },
     "metadata": {},
     "output_type": "display_data"
    }
   ],
   "source": [
    "#BoxCox Transformation \n",
    "\n",
    "\n",
    "\n",
    "# generate non-normal data\n",
    "original_data = dfy['popularity']\n",
    "\n",
    "# split into testing & training data\n",
    "train,test = train_test_split(original_data, shuffle=False)\n",
    "\n",
    "# transform training data & save lambda value\n",
    "train_data,fitted_lambda = stats.boxcox(train)\n",
    "\n",
    "# use lambda value to transform test data\n",
    "test_data = stats.boxcox(test, fitted_lambda)\n",
    "\n",
    "# (optional) plot train & test\n",
    "fig, ax=plt.subplots(1,2)\n",
    "sns.distplot(train_data, ax=ax[0])\n",
    "sns.distplot(test_data, ax=ax[1])"
   ]
  },
  {
   "cell_type": "code",
   "execution_count": 63,
   "metadata": {},
   "outputs": [
    {
     "data": {
      "text/plain": [
       "Text(0.5, 0, 'Popularity')"
      ]
     },
     "execution_count": 63,
     "metadata": {},
     "output_type": "execute_result"
    },
    {
     "data": {
      "image/png": "[encoded data removed]",
      "text/plain": [
       "<Figure size 576x360 with 1 Axes>"
      ]
     },
     "metadata": {},
     "output_type": "display_data"
    },
    {
     "data": {
      "image/png": "[encoded data removed]",
      "text/plain": [
       "<Figure size 576x360 with 1 Axes>"
      ]
     },
     "metadata": {},
     "output_type": "display_data"
    }
   ],
   "source": [
    "dfy['log_popularity'] = np.log(dfy['popularity'])\n",
    "\n",
    "dfy.hist('log_popularity',figsize=(8,5))\n",
    "plt.title('Number of Songs vs log(Populaty)')\n",
    "plt.ylabel('Number of Songs')\n",
    "plt.xlabel(\"log(Popularity)\")\n",
    "\n",
    "\n",
    "dfy.hist('popularity',figsize=(8,5))\n",
    "plt.title('Number of Songs vs Popularity')\n",
    "plt.ylabel('Number of Songs')\n",
    "plt.xlabel(\"Popularity\")\n"
   ]
  },
  {
   "cell_type": "code",
   "execution_count": 64,
   "metadata": {},
   "outputs": [
    {
     "data": {
      "text/plain": [
       "(41043, 1)"
      ]
     },
     "execution_count": 64,
     "metadata": {},
     "output_type": "execute_result"
    }
   ],
   "source": [
    "dfy_l = pd.DataFrame(dfy['log_popularity'])\n",
    "dfy_l.shape"
   ]
  },
  {
   "cell_type": "code",
   "execution_count": 65,
   "metadata": {},
   "outputs": [
    {
     "data": {
      "text/plain": [
       "(41043, 14)"
      ]
     },
     "execution_count": 65,
     "metadata": {},
     "output_type": "execute_result"
    }
   ],
   "source": [
    "dfx.shape"
   ]
  },
  {
   "cell_type": "code",
   "execution_count": 66,
   "metadata": {},
   "outputs": [
    {
     "data": {
      "text/plain": [
       "LinearRegression(copy_X=True, fit_intercept=True, n_jobs=None, normalize=False)"
      ]
     },
     "execution_count": 66,
     "metadata": {},
     "output_type": "execute_result"
    }
   ],
   "source": [
    "X_train, X_test, y_train_l, y_test_l = train_test_split(dfx, dfy_l, test_size=0.3, random_state=42)\n",
    "linR2 = LinearRegression()\n",
    "linR2.fit(X_train, y_train_l)"
   ]
  },
  {
   "cell_type": "code",
   "execution_count": 67,
   "metadata": {},
   "outputs": [
    {
     "data": {
      "text/plain": [
       "0.14535473882084615"
      ]
     },
     "execution_count": 67,
     "metadata": {},
     "output_type": "execute_result"
    }
   ],
   "source": [
    "predictions2 = linR2.predict(X_test)\n",
    "#the accuracy of the prediction is found to be.... \n",
    "linR2.score(X_test,y_test_l)\n"
   ]
  },
  {
   "cell_type": "code",
   "execution_count": 68,
   "metadata": {},
   "outputs": [
    {
     "data": {
      "image/png": "[encoded data removed]",
      "text/plain": [
       "<Figure size 432x288 with 1 Axes>"
      ]
     },
     "metadata": {},
     "output_type": "display_data"
    }
   ],
   "source": [
    "from sklearn.metrics import accuracy_score\n",
    "predictions2 = linR2.predict(X_test)\n",
    "# Plot Residuals\n",
    "plt.scatter(predictions2, predictions2 - y_test_l)\n",
    "plt.hlines(y=0, xmin=predictions2.min(), xmax=predictions2.max())\n",
    "plt.show()"
   ]
  },
  {
   "cell_type": "code",
   "execution_count": 69,
   "metadata": {},
   "outputs": [
    {
     "data": {
      "text/plain": [
       "<matplotlib.axes._subplots.AxesSubplot at 0x421dacdb38>"
      ]
     },
     "execution_count": 69,
     "metadata": {},
     "output_type": "execute_result"
    },
    {
     "data": {
      "image/png": "[encoded data removed]",
      "text/plain": [
       "<Figure size 432x288 with 1 Axes>"
      ]
     },
     "metadata": {},
     "output_type": "display_data"
    }
   ],
   "source": [
    "error2 = y_test_l - predictions2\n",
    "#the error is calculated for the above test predictions and a distribution plot is plotted.\n",
    "sns.distplot(error2)\n"
   ]
  },
  {
   "cell_type": "code",
   "execution_count": 70,
   "metadata": {},
   "outputs": [
    {
     "data": {
      "image/png": "[encoded data removed]",
      "text/plain": [
       "<Figure size 432x288 with 1 Axes>"
      ]
     },
     "metadata": {},
     "output_type": "display_data"
    }
   ],
   "source": [
    "fig = plt.figure()\n",
    "res = stats.probplot(error2['log_popularity'], plot=plt)"
   ]
  },
  {
   "cell_type": "markdown",
   "metadata": {},
   "source": [
    "## Using Fewer Variables"
   ]
  },
  {
   "cell_type": "code",
   "execution_count": 71,
   "metadata": {
    "scrolled": true
   },
   "outputs": [
    {
     "data": {
      "text/html": [
       "<div>\n",
       "<style scoped>\n",
       "    .dataframe tbody tr th:only-of-type {\n",
       "        vertical-align: middle;\n",
       "    }\n",
       "\n",
       "    .dataframe tbody tr th {\n",
       "        vertical-align: top;\n",
       "    }\n",
       "\n",
       "    .dataframe thead th {\n",
       "        text-align: right;\n",
       "    }\n",
       "</style>\n",
       "<table border=\"1\" class=\"dataframe\">\n",
       "  <thead>\n",
       "    <tr style=\"text-align: right;\">\n",
       "      <th></th>\n",
       "      <th>followers</th>\n",
       "      <th>acousticness</th>\n",
       "      <th>danceability</th>\n",
       "      <th>energy</th>\n",
       "      <th>instrumentalness</th>\n",
       "      <th>liveness</th>\n",
       "      <th>loudness</th>\n",
       "      <th>time_signature</th>\n",
       "      <th>valence</th>\n",
       "    </tr>\n",
       "  </thead>\n",
       "  <tbody>\n",
       "    <tr>\n",
       "      <th>0</th>\n",
       "      <td>1627956</td>\n",
       "      <td>0.05910</td>\n",
       "      <td>0.646</td>\n",
       "      <td>0.840</td>\n",
       "      <td>0.014100</td>\n",
       "      <td>0.0516</td>\n",
       "      <td>-8.213</td>\n",
       "      <td>4</td>\n",
       "      <td>0.716</td>\n",
       "    </tr>\n",
       "    <tr>\n",
       "      <th>1</th>\n",
       "      <td>10469</td>\n",
       "      <td>0.00119</td>\n",
       "      <td>0.496</td>\n",
       "      <td>0.928</td>\n",
       "      <td>0.000035</td>\n",
       "      <td>0.0988</td>\n",
       "      <td>-2.367</td>\n",
       "      <td>4</td>\n",
       "      <td>0.561</td>\n",
       "    </tr>\n",
       "    <tr>\n",
       "      <th>2</th>\n",
       "      <td>5505368</td>\n",
       "      <td>0.09090</td>\n",
       "      <td>0.586</td>\n",
       "      <td>0.692</td>\n",
       "      <td>0.000000</td>\n",
       "      <td>0.0567</td>\n",
       "      <td>-5.143</td>\n",
       "      <td>4</td>\n",
       "      <td>0.457</td>\n",
       "    </tr>\n",
       "    <tr>\n",
       "      <th>3</th>\n",
       "      <td>13</td>\n",
       "      <td>0.00328</td>\n",
       "      <td>0.699</td>\n",
       "      <td>0.974</td>\n",
       "      <td>0.776000</td>\n",
       "      <td>0.2900</td>\n",
       "      <td>-5.576</td>\n",
       "      <td>4</td>\n",
       "      <td>0.443</td>\n",
       "    </tr>\n",
       "    <tr>\n",
       "      <th>4</th>\n",
       "      <td>238795</td>\n",
       "      <td>0.00407</td>\n",
       "      <td>0.338</td>\n",
       "      <td>0.938</td>\n",
       "      <td>0.000000</td>\n",
       "      <td>0.3230</td>\n",
       "      <td>-4.001</td>\n",
       "      <td>4</td>\n",
       "      <td>0.311</td>\n",
       "    </tr>\n",
       "  </tbody>\n",
       "</table>\n",
       "</div>"
      ],
      "text/plain": [
       "   followers  acousticness  danceability  energy  instrumentalness  liveness  \\\n",
       "0    1627956       0.05910         0.646   0.840          0.014100    0.0516   \n",
       "1      10469       0.00119         0.496   0.928          0.000035    0.0988   \n",
       "2    5505368       0.09090         0.586   0.692          0.000000    0.0567   \n",
       "3         13       0.00328         0.699   0.974          0.776000    0.2900   \n",
       "4     238795       0.00407         0.338   0.938          0.000000    0.3230   \n",
       "\n",
       "   loudness  time_signature  valence  \n",
       "0    -8.213               4    0.716  \n",
       "1    -2.367               4    0.561  \n",
       "2    -5.143               4    0.457  \n",
       "3    -5.576               4    0.443  \n",
       "4    -4.001               4    0.311  "
      ]
     },
     "execution_count": 71,
     "metadata": {},
     "output_type": "execute_result"
    }
   ],
   "source": [
    "dfx2 = dfx.drop(['tempo','speechiness','key','mode', 'duration_ms'], axis = 1)\n",
    "dfx2.head()"
   ]
  },
  {
   "cell_type": "code",
   "execution_count": 72,
   "metadata": {},
   "outputs": [
    {
     "data": {
      "text/plain": [
       "(41043, 2)"
      ]
     },
     "execution_count": 72,
     "metadata": {},
     "output_type": "execute_result"
    }
   ],
   "source": [
    "dfy.shape"
   ]
  },
  {
   "cell_type": "code",
   "execution_count": 73,
   "metadata": {},
   "outputs": [
    {
     "data": {
      "text/plain": [
       "(41043, 9)"
      ]
     },
     "execution_count": 73,
     "metadata": {},
     "output_type": "execute_result"
    }
   ],
   "source": [
    "#dfx2 = dfx2.loc[dfx2['popularity'] != 0]\n",
    "#dfx2 = dfx2.loc[dfx2['popularity'] != 1]\n",
    "dfx2.shape"
   ]
  },
  {
   "cell_type": "code",
   "execution_count": 74,
   "metadata": {},
   "outputs": [
    {
     "name": "stderr",
     "output_type": "stream",
     "text": [
      "C:\\ProgramData\\Anaconda3\\lib\\site-packages\\sklearn\\base.py:420: FutureWarning: The default value of multioutput (not exposed in score method) will change from 'variance_weighted' to 'uniform_average' in 0.23 to keep consistent with 'metrics.r2_score'. To specify the default value manually and avoid the warning, please either call 'metrics.r2_score' directly or make a custom scorer with 'metrics.make_scorer' (the built-in scorer 'r2' uses multioutput='uniform_average').\n",
      "  \"multioutput='uniform_average').\", FutureWarning)\n"
     ]
    },
    {
     "data": {
      "text/plain": [
       "0.19939539913564744"
      ]
     },
     "execution_count": 74,
     "metadata": {},
     "output_type": "execute_result"
    }
   ],
   "source": [
    "#the percentage of the split is taken as 30%. SO the percentage of training is 70%\n",
    "X_train2, X_test2, y_train2, y_test2 = train_test_split(dfx2, dfy, test_size=0.3, random_state=42)\n",
    "linR2 = LinearRegression()\n",
    "linR2.fit(X_train2, y_train2)\n",
    "#the target is predicted for the test dataset\n",
    "predictions = linR2.predict(X_test2)\n",
    "#the accuracy of the prediction is found to be.... \n",
    "linR2.score(X_test2,y_test2)"
   ]
  },
  {
   "cell_type": "markdown",
   "metadata": {},
   "source": [
    "## The EnD (for now) \n",
    "\n"
   ]
  },
  {
   "cell_type": "code",
   "execution_count": null,
   "metadata": {},
   "outputs": [],
   "source": []
  }
 ],
 "metadata": {
  "kernelspec": {
   "display_name": "Python 3",
   "language": "python",
   "name": "python3"
  },
  "language_info": {
   "codemirror_mode": {
    "name": "ipython",
    "version": 3
   },
   "file_extension": ".py",
   "mimetype": "text/x-python",
   "name": "python",
   "nbconvert_exporter": "python",
   "pygments_lexer": "ipython3",
   "version": "3.7.3"
  }
 },
 "nbformat": 4,
 "nbformat_minor": 2
}
